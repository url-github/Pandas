{
  "cells": [
    {
      "cell_type": "code",
      "source": [
        "# Dodaj szczegółowe wyjaśnienie bezpośrednio w kodzie każdej linijki kodu."
      ],
      "metadata": {
        "id": "9fjESSzL0rOC"
      },
      "execution_count": null,
      "outputs": []
    },
    {
      "cell_type": "code",
      "execution_count": null,
      "metadata": {
        "id": "foaMWyUAyh3F"
      },
      "outputs": [],
      "source": [
        "from numpy.random import randn  # Importuje funkcję randn z modułu numpy.random, która generuje losowe liczby zgodnie z rozkładem normalnym.\n",
        "import numpy as np  # Importuje bibliotekę NumPy, która jest używana do obliczeń numerycznych i operacji na macierzach.\n",
        "np.random.seed(123)  # Ustawia ziarno generatora liczb losowych na wartość 123, aby wyniki losowe były powtarzalne.\n",
        "\n",
        "import os  # Importuje moduł os, który pozwala na interakcję z systemem operacyjnym, np. zarządzanie plikami i ścieżkami.\n",
        "import matplotlib.pyplot as plt  # Importuje moduł pyplot z Matplotlib, który jest używany do tworzenia wykresów.\n",
        "\n",
        "import pandas as pd  # Importuje bibliotekę pandas, która jest używana do analizy i manipulacji danych w postaci tabelarycznej.\n",
        "\n",
        "plt.rc(\"figure\", figsize=(10, 6))\n",
        "# Ustawia globalny rozmiar wykresów na szerokość 10 i wysokość 6 cali.\n",
        "# Dzięki temu wszystkie wykresy generowane w tym skrypcie będą miały jednolity rozmiar.\n",
        "\n",
        "np.set_printoptions(precision=4)\n",
        "# Ustawia liczbę miejsc po przecinku w wyświetlaniu liczb w NumPy na 4.\n",
        "# Przydatne do czytelniejszego wyświetlania wyników obliczeń numerycznych.\n",
        "\n",
        "pd.options.display.max_columns = 10\n",
        "# Ustawia maksymalną liczbę kolumn wyświetlanych w podglądzie ramki danych (DataFrame) w Pandas na 10.\n",
        "# Dzięki temu użytkownik widzi więcej kolumn bez konieczności przewijania.\n",
        "\n",
        "pd.options.display.max_rows = 10\n",
        "# Ustawia maksymalną liczbę wierszy wyświetlanych w podglądzie ramki danych na 10.\n",
        "# Przydatne do ograniczenia ilości wyświetlanych danych w konsoli.\n",
        "\n",
        "pd.options.display.max_colwidth = 80\n",
        "# Ustawia maksymalną szerokość wyświetlania zawartości komórek na 80 znaków.\n",
        "# Jest to szczególnie przydatne dla kolumn zawierających długie ciągi tekstowe."
      ]
    },
    {
      "cell_type": "markdown",
      "source": [
        "#Analiza pliku JSON"
      ],
      "metadata": {
        "id": "ICxtZ42otd4x"
      }
    },
    {
      "cell_type": "code",
      "execution_count": null,
      "metadata": {
        "id": "r1qYuH-uyh3G"
      },
      "outputs": [],
      "source": [
        "path = \"/content/example.txt\""
      ]
    },
    {
      "cell_type": "code",
      "execution_count": null,
      "metadata": {
        "id": "CFf8kjBSyh3H"
      },
      "outputs": [],
      "source": [
        "# Dla każdej linii w pliku f, funkcja json.loads parsuje linię jako obiekt JSON i zamienia ją na strukturę\n",
        "# Pythonową (np. słownik dict lub listę).\n",
        "import json\n",
        "with open(path) as file:\n",
        "    records = [json.loads(l) for l in file]"
      ]
    },
    {
      "cell_type": "code",
      "execution_count": null,
      "metadata": {
        "colab": {
          "base_uri": "https://localhost:8080/"
        },
        "id": "TgufQFkTyh3H",
        "outputId": "d959ed8e-642d-4d7a-b5a7-56e2df43d8d6"
      },
      "outputs": [
        {
          "output_type": "execute_result",
          "data": {
            "text/plain": [
              "['America/New_York',\n",
              " 'America/Denver',\n",
              " 'America/New_York',\n",
              " 'America/Sao_Paulo',\n",
              " 'America/New_York',\n",
              " 'America/New_York',\n",
              " 'Europe/Warsaw',\n",
              " '',\n",
              " '',\n",
              " '']"
            ]
          },
          "metadata": {},
          "execution_count": 9
        }
      ],
      "source": [
        "time_zones = [rec[\"tz\"] for rec in records if \"tz\" in rec]\n",
        "time_zones[:10]"
      ]
    },
    {
      "cell_type": "code",
      "execution_count": null,
      "metadata": {
        "id": "g0-yGI-qyh3H"
      },
      "outputs": [],
      "source": [
        "def get_counts(sequence):\n",
        "    counts = {}\n",
        "    for x in sequence:\n",
        "        if x in counts:\n",
        "            counts[x] += 1\n",
        "        else:\n",
        "            counts[x] = 1\n",
        "    return counts"
      ]
    },
    {
      "cell_type": "code",
      "source": [
        "from collections import Counter\n",
        "\n",
        "def get_counts2(sequence):\n",
        "    return Counter(sequence)"
      ],
      "metadata": {
        "id": "5dJY5GJ496Yt"
      },
      "execution_count": null,
      "outputs": []
    },
    {
      "cell_type": "code",
      "source": [
        "get_counts2(time_zones)"
      ],
      "metadata": {
        "colab": {
          "base_uri": "https://localhost:8080/"
        },
        "id": "eRZO4pUnltK9",
        "outputId": "01cbcc11-362e-4a41-9e0d-c2b3fb22a1a8"
      },
      "execution_count": null,
      "outputs": [
        {
          "output_type": "execute_result",
          "data": {
            "text/plain": [
              "Counter({'America/New_York': 1251,\n",
              "         'America/Denver': 191,\n",
              "         'America/Sao_Paulo': 33,\n",
              "         'Europe/Warsaw': 16,\n",
              "         '': 521,\n",
              "         'America/Los_Angeles': 382,\n",
              "         'Asia/Hong_Kong': 10,\n",
              "         'Europe/Rome': 27,\n",
              "         'Africa/Ceuta': 2,\n",
              "         'Europe/Madrid': 35,\n",
              "         'Asia/Kuala_Lumpur': 3,\n",
              "         'Asia/Nicosia': 1,\n",
              "         'Europe/London': 74,\n",
              "         'Pacific/Honolulu': 36,\n",
              "         'America/Chicago': 400,\n",
              "         'Europe/Malta': 2,\n",
              "         'Europe/Lisbon': 8,\n",
              "         'Europe/Paris': 14,\n",
              "         'Europe/Copenhagen': 5,\n",
              "         'America/Mazatlan': 1,\n",
              "         'Europe/Dublin': 3,\n",
              "         'Europe/Brussels': 4,\n",
              "         'America/Vancouver': 12,\n",
              "         'Europe/Amsterdam': 22,\n",
              "         'Europe/Prague': 10,\n",
              "         'Europe/Stockholm': 14,\n",
              "         'America/Anchorage': 5,\n",
              "         'Asia/Bangkok': 6,\n",
              "         'Europe/Berlin': 28,\n",
              "         'America/Rainy_River': 25,\n",
              "         'Europe/Budapest': 5,\n",
              "         'Asia/Tokyo': 37,\n",
              "         'Europe/Vienna': 6,\n",
              "         'America/Phoenix': 20,\n",
              "         'Asia/Jerusalem': 3,\n",
              "         'Asia/Karachi': 3,\n",
              "         'America/Bogota': 3,\n",
              "         'America/Indianapolis': 20,\n",
              "         'America/Montreal': 9,\n",
              "         'Asia/Calcutta': 9,\n",
              "         'Europe/Skopje': 1,\n",
              "         'Asia/Beirut': 4,\n",
              "         'Australia/NSW': 6,\n",
              "         'Chile/Continental': 6,\n",
              "         'America/Halifax': 4,\n",
              "         'America/Edmonton': 6,\n",
              "         'Europe/Bratislava': 3,\n",
              "         'America/Recife': 2,\n",
              "         'Africa/Cairo': 3,\n",
              "         'Asia/Istanbul': 9,\n",
              "         'Asia/Novosibirsk': 1,\n",
              "         'Europe/Moscow': 10,\n",
              "         'Europe/Sofia': 1,\n",
              "         'Europe/Ljubljana': 1,\n",
              "         'America/Mexico_City': 15,\n",
              "         'Europe/Helsinki': 10,\n",
              "         'Europe/Bucharest': 4,\n",
              "         'Europe/Zurich': 4,\n",
              "         'America/Puerto_Rico': 10,\n",
              "         'America/Monterrey': 1,\n",
              "         'Europe/Athens': 6,\n",
              "         'America/Winnipeg': 4,\n",
              "         'Europe/Riga': 2,\n",
              "         'America/Argentina/Buenos_Aires': 1,\n",
              "         'Asia/Dubai': 4,\n",
              "         'Europe/Oslo': 10,\n",
              "         'Asia/Yekaterinburg': 1,\n",
              "         'Asia/Manila': 1,\n",
              "         'America/Caracas': 1,\n",
              "         'Asia/Riyadh': 1,\n",
              "         'America/Montevideo': 1,\n",
              "         'America/Argentina/Mendoza': 1,\n",
              "         'Asia/Seoul': 5,\n",
              "         'Europe/Uzhgorod': 1,\n",
              "         'Australia/Queensland': 1,\n",
              "         'Europe/Belgrade': 2,\n",
              "         'America/Costa_Rica': 1,\n",
              "         'America/Lima': 1,\n",
              "         'Asia/Pontianak': 1,\n",
              "         'America/Chihuahua': 2,\n",
              "         'Europe/Vilnius': 2,\n",
              "         'America/Managua': 3,\n",
              "         'Africa/Lusaka': 1,\n",
              "         'America/Guayaquil': 2,\n",
              "         'Asia/Harbin': 3,\n",
              "         'Asia/Amman': 2,\n",
              "         'Africa/Johannesburg': 1,\n",
              "         'America/St_Kitts': 1,\n",
              "         'Pacific/Auckland': 11,\n",
              "         'America/Santo_Domingo': 1,\n",
              "         'America/Argentina/Cordoba': 1,\n",
              "         'Asia/Kuching': 1,\n",
              "         'Europe/Volgograd': 1,\n",
              "         'America/La_Paz': 1,\n",
              "         'Africa/Casablanca': 1,\n",
              "         'Asia/Jakarta': 3,\n",
              "         'America/Tegucigalpa': 1})"
            ]
          },
          "metadata": {},
          "execution_count": 13
        }
      ]
    },
    {
      "cell_type": "code",
      "source": [
        "len(time_zones)"
      ],
      "metadata": {
        "colab": {
          "base_uri": "https://localhost:8080/"
        },
        "id": "W8e7wVPQmdi_",
        "outputId": "c1e669f2-2e91-4b9e-a36e-1b51854e0385"
      },
      "execution_count": null,
      "outputs": [
        {
          "output_type": "execute_result",
          "data": {
            "text/plain": [
              "3440"
            ]
          },
          "metadata": {},
          "execution_count": 14
        }
      ]
    },
    {
      "cell_type": "code",
      "source": [
        "counts = get_counts(time_zones)\n",
        "counts[\"Europe/Warsaw\"]"
      ],
      "metadata": {
        "colab": {
          "base_uri": "https://localhost:8080/"
        },
        "id": "1YYzOmBMmC7_",
        "outputId": "e3782840-832c-475a-d50e-58bf1bdb0043"
      },
      "execution_count": null,
      "outputs": [
        {
          "output_type": "execute_result",
          "data": {
            "text/plain": [
              "16"
            ]
          },
          "metadata": {},
          "execution_count": 15
        }
      ]
    },
    {
      "cell_type": "code",
      "execution_count": null,
      "metadata": {
        "colab": {
          "base_uri": "https://localhost:8080/"
        },
        "id": "pjG4QTjsyh3I",
        "outputId": "70d1b448-0fb2-44a0-ec97-27303be2d5bb"
      },
      "outputs": [
        {
          "output_type": "execute_result",
          "data": {
            "text/plain": [
              "1251"
            ]
          },
          "metadata": {},
          "execution_count": 16
        }
      ],
      "source": [
        "counts = get_counts(time_zones)\n",
        "counts[\"America/New_York\"]"
      ]
    },
    {
      "cell_type": "code",
      "execution_count": null,
      "metadata": {
        "id": "49hkShyoyh3I"
      },
      "outputs": [],
      "source": [
        "def top_counts(count_dict, n=10):\n",
        "    # Tworzymy listę par (licznik, klucz)\n",
        "    value_key_pairs = [(count, tz) for tz, count in count_dict.items()]\n",
        "    # value_key_pairs = [[count, tz] for tz, count in count_dict.items()]\n",
        "\n",
        "    # Sortujemy w odwrotnej kolejności\n",
        "    value_key_pairs.sort(reverse=True)\n",
        "\n",
        "    # Zwracamy n największych elementów\n",
        "    return value_key_pairs[:n]"
      ]
    },
    {
      "cell_type": "code",
      "execution_count": null,
      "metadata": {
        "colab": {
          "base_uri": "https://localhost:8080/"
        },
        "id": "mANJ6Z2Oyh3J",
        "outputId": "e25b00f3-6b3f-4106-d1be-94268bf82e98"
      },
      "outputs": [
        {
          "output_type": "execute_result",
          "data": {
            "text/plain": [
              "[(1251, 'America/New_York'),\n",
              " (521, ''),\n",
              " (400, 'America/Chicago'),\n",
              " (382, 'America/Los_Angeles'),\n",
              " (191, 'America/Denver'),\n",
              " (74, 'Europe/London'),\n",
              " (37, 'Asia/Tokyo'),\n",
              " (36, 'Pacific/Honolulu'),\n",
              " (35, 'Europe/Madrid'),\n",
              " (33, 'America/Sao_Paulo')]"
            ]
          },
          "metadata": {},
          "execution_count": 40
        }
      ],
      "source": [
        "top_counts(counts)"
      ]
    },
    {
      "cell_type": "code",
      "execution_count": null,
      "metadata": {
        "colab": {
          "base_uri": "https://localhost:8080/"
        },
        "id": "ULrXe7_lyh3J",
        "outputId": "238abeca-ec0e-4163-e545-7aae071dae57"
      },
      "outputs": [
        {
          "output_type": "execute_result",
          "data": {
            "text/plain": [
              "[('America/New_York', 1251),\n",
              " ('', 521),\n",
              " ('America/Chicago', 400),\n",
              " ('America/Los_Angeles', 382),\n",
              " ('America/Denver', 191),\n",
              " ('Europe/London', 74),\n",
              " ('Asia/Tokyo', 37),\n",
              " ('Pacific/Honolulu', 36),\n",
              " ('Europe/Madrid', 35),\n",
              " ('America/Sao_Paulo', 33)]"
            ]
          },
          "metadata": {},
          "execution_count": 18
        }
      ],
      "source": [
        "from collections import Counter\n",
        "counts = Counter(time_zones)\n",
        "counts.most_common(10)"
      ]
    },
    {
      "cell_type": "code",
      "execution_count": null,
      "metadata": {
        "id": "wEge-uInyh3J"
      },
      "outputs": [],
      "source": [
        "frame = pd.DataFrame(records)"
      ]
    },
    {
      "cell_type": "code",
      "execution_count": null,
      "metadata": {
        "colab": {
          "base_uri": "https://localhost:8080/",
          "height": 687
        },
        "id": "KS2zfjYEyh3J",
        "outputId": "c17d3e1b-fde8-4567-e0ea-086454497883"
      },
      "outputs": [
        {
          "output_type": "stream",
          "name": "stdout",
          "text": [
            "<class 'pandas.core.frame.DataFrame'>\n",
            "RangeIndex: 3560 entries, 0 to 3559\n",
            "Data columns (total 18 columns):\n",
            " #   Column       Non-Null Count  Dtype  \n",
            "---  ------       --------------  -----  \n",
            " 0   a            3440 non-null   object \n",
            " 1   c            2919 non-null   object \n",
            " 2   nk           3440 non-null   float64\n",
            " 3   tz           3440 non-null   object \n",
            " 4   gr           2919 non-null   object \n",
            " 5   g            3440 non-null   object \n",
            " 6   h            3440 non-null   object \n",
            " 7   l            3440 non-null   object \n",
            " 8   al           3094 non-null   object \n",
            " 9   hh           3440 non-null   object \n",
            " 10  r            3440 non-null   object \n",
            " 11  u            3440 non-null   object \n",
            " 12  t            3440 non-null   float64\n",
            " 13  hc           3440 non-null   float64\n",
            " 14  cy           2919 non-null   object \n",
            " 15  ll           2919 non-null   object \n",
            " 16  _heartbeat_  120 non-null    float64\n",
            " 17  kw           93 non-null     object \n",
            "dtypes: float64(4), object(14)\n",
            "memory usage: 500.8+ KB\n"
          ]
        },
        {
          "output_type": "execute_result",
          "data": {
            "text/plain": [
              "0     America/New_York\n",
              "1       America/Denver\n",
              "2     America/New_York\n",
              "3    America/Sao_Paulo\n",
              "4     America/New_York\n",
              "Name: tz, dtype: object"
            ],
            "text/html": [
              "<div>\n",
              "<style scoped>\n",
              "    .dataframe tbody tr th:only-of-type {\n",
              "        vertical-align: middle;\n",
              "    }\n",
              "\n",
              "    .dataframe tbody tr th {\n",
              "        vertical-align: top;\n",
              "    }\n",
              "\n",
              "    .dataframe thead th {\n",
              "        text-align: right;\n",
              "    }\n",
              "</style>\n",
              "<table border=\"1\" class=\"dataframe\">\n",
              "  <thead>\n",
              "    <tr style=\"text-align: right;\">\n",
              "      <th></th>\n",
              "      <th>tz</th>\n",
              "    </tr>\n",
              "  </thead>\n",
              "  <tbody>\n",
              "    <tr>\n",
              "      <th>0</th>\n",
              "      <td>America/New_York</td>\n",
              "    </tr>\n",
              "    <tr>\n",
              "      <th>1</th>\n",
              "      <td>America/Denver</td>\n",
              "    </tr>\n",
              "    <tr>\n",
              "      <th>2</th>\n",
              "      <td>America/New_York</td>\n",
              "    </tr>\n",
              "    <tr>\n",
              "      <th>3</th>\n",
              "      <td>America/Sao_Paulo</td>\n",
              "    </tr>\n",
              "    <tr>\n",
              "      <th>4</th>\n",
              "      <td>America/New_York</td>\n",
              "    </tr>\n",
              "  </tbody>\n",
              "</table>\n",
              "</div><br><label><b>dtype:</b> object</label>"
            ]
          },
          "metadata": {},
          "execution_count": 20
        }
      ],
      "source": [
        "frame.info()\n",
        "frame[\"tz\"].head()"
      ]
    },
    {
      "cell_type": "code",
      "execution_count": null,
      "metadata": {
        "colab": {
          "base_uri": "https://localhost:8080/",
          "height": 272
        },
        "id": "YXxEw1pxyh3J",
        "outputId": "b2f34898-8b51-49a5-9e5a-08f584ee6458"
      },
      "outputs": [
        {
          "output_type": "execute_result",
          "data": {
            "text/plain": [
              "tz\n",
              "America/New_York       1251\n",
              "                        521\n",
              "America/Chicago         400\n",
              "America/Los_Angeles     382\n",
              "America/Denver          191\n",
              "Name: count, dtype: int64"
            ],
            "text/html": [
              "<div>\n",
              "<style scoped>\n",
              "    .dataframe tbody tr th:only-of-type {\n",
              "        vertical-align: middle;\n",
              "    }\n",
              "\n",
              "    .dataframe tbody tr th {\n",
              "        vertical-align: top;\n",
              "    }\n",
              "\n",
              "    .dataframe thead th {\n",
              "        text-align: right;\n",
              "    }\n",
              "</style>\n",
              "<table border=\"1\" class=\"dataframe\">\n",
              "  <thead>\n",
              "    <tr style=\"text-align: right;\">\n",
              "      <th></th>\n",
              "      <th>count</th>\n",
              "    </tr>\n",
              "    <tr>\n",
              "      <th>tz</th>\n",
              "      <th></th>\n",
              "    </tr>\n",
              "  </thead>\n",
              "  <tbody>\n",
              "    <tr>\n",
              "      <th>America/New_York</th>\n",
              "      <td>1251</td>\n",
              "    </tr>\n",
              "    <tr>\n",
              "      <th></th>\n",
              "      <td>521</td>\n",
              "    </tr>\n",
              "    <tr>\n",
              "      <th>America/Chicago</th>\n",
              "      <td>400</td>\n",
              "    </tr>\n",
              "    <tr>\n",
              "      <th>America/Los_Angeles</th>\n",
              "      <td>382</td>\n",
              "    </tr>\n",
              "    <tr>\n",
              "      <th>America/Denver</th>\n",
              "      <td>191</td>\n",
              "    </tr>\n",
              "  </tbody>\n",
              "</table>\n",
              "</div><br><label><b>dtype:</b> int64</label>"
            ]
          },
          "metadata": {},
          "execution_count": 21
        }
      ],
      "source": [
        "tz_counts = frame[\"tz\"].value_counts()\n",
        "tz_counts.head()"
      ]
    },
    {
      "cell_type": "code",
      "execution_count": null,
      "metadata": {
        "colab": {
          "base_uri": "https://localhost:8080/",
          "height": 272
        },
        "id": "Dhg9aX6kyh3J",
        "outputId": "5ecb0c5d-f7db-48ff-b67b-0f8cf73cd503"
      },
      "outputs": [
        {
          "output_type": "execute_result",
          "data": {
            "text/plain": [
              "tz\n",
              "America/New_York       1251\n",
              "Nieznana                521\n",
              "America/Chicago         400\n",
              "America/Los_Angeles     382\n",
              "America/Denver          191\n",
              "Name: count, dtype: int64"
            ],
            "text/html": [
              "<div>\n",
              "<style scoped>\n",
              "    .dataframe tbody tr th:only-of-type {\n",
              "        vertical-align: middle;\n",
              "    }\n",
              "\n",
              "    .dataframe tbody tr th {\n",
              "        vertical-align: top;\n",
              "    }\n",
              "\n",
              "    .dataframe thead th {\n",
              "        text-align: right;\n",
              "    }\n",
              "</style>\n",
              "<table border=\"1\" class=\"dataframe\">\n",
              "  <thead>\n",
              "    <tr style=\"text-align: right;\">\n",
              "      <th></th>\n",
              "      <th>count</th>\n",
              "    </tr>\n",
              "    <tr>\n",
              "      <th>tz</th>\n",
              "      <th></th>\n",
              "    </tr>\n",
              "  </thead>\n",
              "  <tbody>\n",
              "    <tr>\n",
              "      <th>America/New_York</th>\n",
              "      <td>1251</td>\n",
              "    </tr>\n",
              "    <tr>\n",
              "      <th>Nieznana</th>\n",
              "      <td>521</td>\n",
              "    </tr>\n",
              "    <tr>\n",
              "      <th>America/Chicago</th>\n",
              "      <td>400</td>\n",
              "    </tr>\n",
              "    <tr>\n",
              "      <th>America/Los_Angeles</th>\n",
              "      <td>382</td>\n",
              "    </tr>\n",
              "    <tr>\n",
              "      <th>America/Denver</th>\n",
              "      <td>191</td>\n",
              "    </tr>\n",
              "  </tbody>\n",
              "</table>\n",
              "</div><br><label><b>dtype:</b> int64</label>"
            ]
          },
          "metadata": {},
          "execution_count": 22
        }
      ],
      "source": [
        "clean_tz = frame[\"tz\"].fillna(\"Brak danych\") # Aby zastąpić brakujące wartości (`NaN`) w kolumnie `tz` napisem `\"Brak danych\"`\n",
        "clean_tz[clean_tz == \"\"] = \"Nieznana\" # Tutaj zamieniasz wszystkie puste stringi na `\"Nieznana\"`.\n",
        "tz_counts = clean_tz.value_counts() # Metoda `value_counts()` zlicza wystąpienia każdej unikalnej wartości w `clean_tz`\n",
        "tz_counts.head()"
      ]
    },
    {
      "cell_type": "code",
      "execution_count": null,
      "metadata": {
        "colab": {
          "base_uri": "https://localhost:8080/",
          "height": 540
        },
        "id": "M9sAeWioyh3J",
        "outputId": "c5ad3b9e-8d3b-4f12-af44-c52ed1725882"
      },
      "outputs": [
        {
          "output_type": "execute_result",
          "data": {
            "text/plain": [
              "<Axes: ylabel='tz'>"
            ]
          },
          "metadata": {},
          "execution_count": 24
        },
        {
          "output_type": "display_data",
          "data": {
            "text/plain": [
              "<Figure size 1000x600 with 1 Axes>"
            ],
            "image/png": "[encoded data removed]"
          },
          "metadata": {}
        }
      ],
      "source": [
        "import seaborn as sns\n",
        "subset = tz_counts.head()\n",
        "sns.barplot(y=subset.index, x=subset.to_numpy())"
      ]
    },
    {
      "cell_type": "code",
      "source": [
        "frame.head(1)"
      ],
      "metadata": {
        "colab": {
          "base_uri": "https://localhost:8080/",
          "height": 127
        },
        "id": "K1SI-OySAY6s",
        "outputId": "9a659f3e-a1de-4cff-8685-bcbbbd0b363c"
      },
      "execution_count": null,
      "outputs": [
        {
          "output_type": "execute_result",
          "data": {
            "text/plain": [
              "                                                                                 a  \\\n",
              "0  Mozilla/5.0 (Windows NT 6.1; WOW64) AppleWebKit/535.11 (KHTML, like Gecko) C...   \n",
              "\n",
              "    c   nk                tz  gr  ...            hc       cy  \\\n",
              "0  US  1.0  America/New_York  MA  ...  1.331823e+09  Danvers   \n",
              "\n",
              "                        ll _heartbeat_   kw  \n",
              "0  [42.576698, -70.954903]         NaN  NaN  \n",
              "\n",
              "[1 rows x 18 columns]"
            ],
            "text/html": [
              "\n",
              "  <div id=\"df-3fde278c-2756-4308-baf0-e29241ce1e3c\" class=\"colab-df-container\">\n",
              "    <div>\n",
              "<style scoped>\n",
              "    .dataframe tbody tr th:only-of-type {\n",
              "        vertical-align: middle;\n",
              "    }\n",
              "\n",
              "    .dataframe tbody tr th {\n",
              "        vertical-align: top;\n",
              "    }\n",
              "\n",
              "    .dataframe thead th {\n",
              "        text-align: right;\n",
              "    }\n",
              "</style>\n",
              "<table border=\"1\" class=\"dataframe\">\n",
              "  <thead>\n",
              "    <tr style=\"text-align: right;\">\n",
              "      <th></th>\n",
              "      <th>a</th>\n",
              "      <th>c</th>\n",
              "      <th>nk</th>\n",
              "      <th>tz</th>\n",
              "      <th>gr</th>\n",
              "      <th>...</th>\n",
              "      <th>hc</th>\n",
              "      <th>cy</th>\n",
              "      <th>ll</th>\n",
              "      <th>_heartbeat_</th>\n",
              "      <th>kw</th>\n",
              "    </tr>\n",
              "  </thead>\n",
              "  <tbody>\n",
              "    <tr>\n",
              "      <th>0</th>\n",
              "      <td>Mozilla/5.0 (Windows NT 6.1; WOW64) AppleWebKit/535.11 (KHTML, like Gecko) C...</td>\n",
              "      <td>US</td>\n",
              "      <td>1.0</td>\n",
              "      <td>America/New_York</td>\n",
              "      <td>MA</td>\n",
              "      <td>...</td>\n",
              "      <td>1.331823e+09</td>\n",
              "      <td>Danvers</td>\n",
              "      <td>[42.576698, -70.954903]</td>\n",
              "      <td>NaN</td>\n",
              "      <td>NaN</td>\n",
              "    </tr>\n",
              "  </tbody>\n",
              "</table>\n",
              "<p>1 rows × 18 columns</p>\n",
              "</div>\n",
              "    <div class=\"colab-df-buttons\">\n",
              "\n",
              "  <div class=\"colab-df-container\">\n",
              "    <button class=\"colab-df-convert\" onclick=\"convertToInteractive('df-3fde278c-2756-4308-baf0-e29241ce1e3c')\"\n",
              "            title=\"Convert this dataframe to an interactive table.\"\n",
              "            style=\"display:none;\">\n",
              "\n",
              "  <svg xmlns=\"http://www.w3.org/2000/svg\" height=\"24px\" viewBox=\"0 -960 960 960\">\n",
              "    <path d=\"M120-120v-720h720v720H120Zm60-500h600v-160H180v160Zm220 220h160v-160H400v160Zm0 220h160v-160H400v160ZM180-400h160v-160H180v160Zm440 0h160v-160H620v160ZM180-180h160v-160H180v160Zm440 0h160v-160H620v160Z\"/>\n",
              "  </svg>\n",
              "    </button>\n",
              "\n",
              "  <style>\n",
              "    .colab-df-container {\n",
              "      display:flex;\n",
              "      gap: 12px;\n",
              "    }\n",
              "\n",
              "    .colab-df-convert {\n",
              "      background-color: #E8F0FE;\n",
              "      border: none;\n",
              "      border-radius: 50%;\n",
              "      cursor: pointer;\n",
              "      display: none;\n",
              "      fill: #1967D2;\n",
              "      height: 32px;\n",
              "      padding: 0 0 0 0;\n",
              "      width: 32px;\n",
              "    }\n",
              "\n",
              "    .colab-df-convert:hover {\n",
              "      background-color: #E2EBFA;\n",
              "      box-shadow: 0px 1px 2px rgba(60, 64, 67, 0.3), 0px 1px 3px 1px rgba(60, 64, 67, 0.15);\n",
              "      fill: #174EA6;\n",
              "    }\n",
              "\n",
              "    .colab-df-buttons div {\n",
              "      margin-bottom: 4px;\n",
              "    }\n",
              "\n",
              "    [theme=dark] .colab-df-convert {\n",
              "      background-color: #3B4455;\n",
              "      fill: #D2E3FC;\n",
              "    }\n",
              "\n",
              "    [theme=dark] .colab-df-convert:hover {\n",
              "      background-color: #434B5C;\n",
              "      box-shadow: 0px 1px 3px 1px rgba(0, 0, 0, 0.15);\n",
              "      filter: drop-shadow(0px 1px 2px rgba(0, 0, 0, 0.3));\n",
              "      fill: #FFFFFF;\n",
              "    }\n",
              "  </style>\n",
              "\n",
              "    <script>\n",
              "      const buttonEl =\n",
              "        document.querySelector('#df-3fde278c-2756-4308-baf0-e29241ce1e3c button.colab-df-convert');\n",
              "      buttonEl.style.display =\n",
              "        google.colab.kernel.accessAllowed ? 'block' : 'none';\n",
              "\n",
              "      async function convertToInteractive(key) {\n",
              "        const element = document.querySelector('#df-3fde278c-2756-4308-baf0-e29241ce1e3c');\n",
              "        const dataTable =\n",
              "          await google.colab.kernel.invokeFunction('convertToInteractive',\n",
              "                                                    [key], {});\n",
              "        if (!dataTable) return;\n",
              "\n",
              "        const docLinkHtml = 'Like what you see? Visit the ' +\n",
              "          '<a target=\"_blank\" href=https://colab.research.google.com/notebooks/data_table.ipynb>data table notebook</a>'\n",
              "          + ' to learn more about interactive tables.';\n",
              "        element.innerHTML = '';\n",
              "        dataTable['output_type'] = 'display_data';\n",
              "        await google.colab.output.renderOutput(dataTable, element);\n",
              "        const docLink = document.createElement('div');\n",
              "        docLink.innerHTML = docLinkHtml;\n",
              "        element.appendChild(docLink);\n",
              "      }\n",
              "    </script>\n",
              "  </div>\n",
              "\n",
              "\n",
              "    </div>\n",
              "  </div>\n"
            ],
            "application/vnd.google.colaboratory.intrinsic+json": {
              "type": "dataframe",
              "variable_name": "frame",
              "summary": "{\n  \"name\": \"frame\",\n  \"rows\": 3560,\n  \"fields\": [\n    {\n      \"column\": \"a\",\n      \"properties\": {\n        \"dtype\": \"category\",\n        \"num_unique_values\": 761,\n        \"samples\": [\n          \"Mozilla/5.0 (iPad; U; CPU iPhone OS 4_3_5 like Mac OS X; en_US) AppleWebKit (KHTML, like Gecko) Mobile [FBAN/FBForIPhone;FBAV/4.1;FBBV/4100.0;FBDV/iPad1,1;FBMD/iPad;FBSN/iPhone OS;FBSV/4.3.5;FBSS/1; FBCR/;FBID/tablet;FBLC/en_US;FBSF/1.0]\",\n          \"Mozilla/4.0 (compatible; MSIE 8.0; Windows NT 5.1; Trident/4.0; .NET CLR 1.0.3705; .NET CLR 1.1.4322; Media Center PC 4.0; IE0006_ver1;EN_US)\",\n          \"Mozilla/5.0 (Macintosh; U; PPC Mac OS X; en) AppleWebKit/417.9 (KHTML, like Gecko) Safari/417.8\"\n        ],\n        \"semantic_type\": \"\",\n        \"description\": \"\"\n      }\n    },\n    {\n      \"column\": \"c\",\n      \"properties\": {\n        \"dtype\": \"category\",\n        \"num_unique_values\": 71,\n        \"samples\": [\n          \"HU\",\n          \"US\",\n          \"VE\"\n        ],\n        \"semantic_type\": \"\",\n        \"description\": \"\"\n      }\n    },\n    {\n      \"column\": \"nk\",\n      \"properties\": {\n        \"dtype\": \"number\",\n        \"std\": 0.49857542007398475,\n        \"min\": 0.0,\n        \"max\": 1.0,\n        \"num_unique_values\": 2,\n        \"samples\": [\n          0.0,\n          1.0\n        ],\n        \"semantic_type\": \"\",\n        \"description\": \"\"\n      }\n    },\n    {\n      \"column\": \"tz\",\n      \"properties\": {\n        \"dtype\": \"category\",\n        \"num_unique_values\": 97,\n        \"samples\": [\n          \"Europe/Riga\",\n          \"Europe/Skopje\"\n        ],\n        \"semantic_type\": \"\",\n        \"description\": \"\"\n      }\n    },\n    {\n      \"column\": \"gr\",\n      \"properties\": {\n        \"dtype\": \"category\",\n        \"num_unique_values\": 173,\n        \"samples\": [\n          \"F9\",\n          \"15\"\n        ],\n        \"semantic_type\": \"\",\n        \"description\": \"\"\n      }\n    },\n    {\n      \"column\": \"g\",\n      \"properties\": {\n        \"dtype\": \"category\",\n        \"num_unique_values\": 737,\n        \"samples\": [\n          \"A4RjjT\",\n          \"b2UtUJ\"\n        ],\n        \"semantic_type\": \"\",\n        \"description\": \"\"\n      }\n    },\n    {\n      \"column\": \"h\",\n      \"properties\": {\n        \"dtype\": \"category\",\n        \"num_unique_values\": 757,\n        \"samples\": [\n          \"xwR7c3\",\n          \"FOgd0L\"\n        ],\n        \"semantic_type\": \"\",\n        \"description\": \"\"\n      }\n    },\n    {\n      \"column\": \"l\",\n      \"properties\": {\n        \"dtype\": \"category\",\n        \"num_unique_values\": 275,\n        \"samples\": [\n          \"swampcritter\",\n          \"latimes\"\n        ],\n        \"semantic_type\": \"\",\n        \"description\": \"\"\n      }\n    },\n    {\n      \"column\": \"al\",\n      \"properties\": {\n        \"dtype\": \"category\",\n        \"num_unique_values\": 172,\n        \"samples\": [\n          \"tr-TR,tr;q=0.9,en;q=0.8\",\n          \"en-US,en;q=0.8,fr-CA;q=0.6,fr;q=0.4\"\n        ],\n        \"semantic_type\": \"\",\n        \"description\": \"\"\n      }\n    },\n    {\n      \"column\": \"hh\",\n      \"properties\": {\n        \"dtype\": \"category\",\n        \"num_unique_values\": 21,\n        \"samples\": [\n          \"1.usa.gov\",\n          \"sfg.ly\"\n        ],\n        \"semantic_type\": \"\",\n        \"description\": \"\"\n      }\n    },\n    {\n      \"column\": \"r\",\n      \"properties\": {\n        \"dtype\": \"category\",\n        \"num_unique_values\": 957,\n        \"samples\": [\n          \"http://www.facebook.com/l.php?u=http%3A%2F%2F1.usa.gov%2FyQFB59&h=zAQHD456LAQHd6K10NqkwiytZYNE95VSpl6K-Y66f-Fp_rQ\",\n          \"http://www.facebook.com/l.php?u=http%3A%2F%2F1.usa.gov%2FzkpJBR&h=aAQFc8SD9AQHvEFomDRmS_5inTPRnz4Ae9g8SAS-ImvEf8w\"\n        ],\n        \"semantic_type\": \"\",\n        \"description\": \"\"\n      }\n    },\n    {\n      \"column\": \"u\",\n      \"properties\": {\n        \"dtype\": \"category\",\n        \"num_unique_values\": 736,\n        \"samples\": [\n          \"http://www.jsc.nasa.gov/Bios/htmlbios/bloomfie.html\",\n          \"http://apod.nasa.gov/apod/\"\n        ],\n        \"semantic_type\": \"\",\n        \"description\": \"\"\n      }\n    },\n    {\n      \"column\": \"t\",\n      \"properties\": {\n        \"dtype\": \"number\",\n        \"std\": 1020.4196434262446,\n        \"min\": 1331923247.0,\n        \"max\": 1331926849.0,\n        \"num_unique_values\": 2174,\n        \"samples\": [\n          1331923666.0,\n          1331925602.0\n        ],\n        \"semantic_type\": \"\",\n        \"description\": \"\"\n      }\n    },\n    {\n      \"column\": \"hc\",\n      \"properties\": {\n        \"dtype\": \"number\",\n        \"std\": 19028705.566238675,\n        \"min\": 1232540398.0,\n        \"max\": 1331926691.0,\n        \"num_unique_values\": 752,\n        \"samples\": [\n          1302501163.0,\n          1331570448.0\n        ],\n        \"semantic_type\": \"\",\n        \"description\": \"\"\n      }\n    },\n    {\n      \"column\": \"cy\",\n      \"properties\": {\n        \"dtype\": \"category\",\n        \"num_unique_values\": 1014,\n        \"samples\": [\n          \"Hoorn\",\n          \"Belgrade\"\n        ],\n        \"semantic_type\": \"\",\n        \"description\": \"\"\n      }\n    },\n    {\n      \"column\": \"ll\",\n      \"properties\": {\n        \"dtype\": \"object\",\n        \"semantic_type\": \"\",\n        \"description\": \"\"\n      }\n    },\n    {\n      \"column\": \"_heartbeat_\",\n      \"properties\": {\n        \"dtype\": \"number\",\n        \"std\": 1043.568304636825,\n        \"min\": 1331923261.0,\n        \"max\": 1331926831.0,\n        \"num_unique_values\": 120,\n        \"samples\": [\n          1331924581.0,\n          1331924671.0\n        ],\n        \"semantic_type\": \"\",\n        \"description\": \"\"\n      }\n    },\n    {\n      \"column\": \"kw\",\n      \"properties\": {\n        \"dtype\": \"category\",\n        \"num_unique_values\": 39,\n        \"samples\": [\n          \"YU55\",\n          \"JBPHHhostsRun\"\n        ],\n        \"semantic_type\": \"\",\n        \"description\": \"\"\n      }\n    }\n  ]\n}"
            }
          },
          "metadata": {},
          "execution_count": 27
        }
      ]
    },
    {
      "cell_type": "code",
      "source": [
        "frame[\"a\"][0]"
      ],
      "metadata": {
        "colab": {
          "base_uri": "https://localhost:8080/",
          "height": 35
        },
        "id": "8Glv-PkfzeB-",
        "outputId": "36373f7f-2263-46bb-a96f-41afda6a6894"
      },
      "execution_count": null,
      "outputs": [
        {
          "output_type": "execute_result",
          "data": {
            "text/plain": [
              "'Mozilla/5.0 (Windows NT 6.1; WOW64) AppleWebKit/535.11 (KHTML, like Gecko) Chrome/17.0.963.78 Safari/535.11'"
            ],
            "application/vnd.google.colaboratory.intrinsic+json": {
              "type": "string"
            }
          },
          "metadata": {},
          "execution_count": 29
        }
      ]
    },
    {
      "cell_type": "code",
      "execution_count": null,
      "metadata": {
        "colab": {
          "base_uri": "https://localhost:8080/",
          "height": 35
        },
        "id": "1WXA5IBVyh3J",
        "outputId": "09de5834-030d-4e11-f095-d665a8a7162c"
      },
      "outputs": [
        {
          "output_type": "execute_result",
          "data": {
            "text/plain": [
              "'Mozilla/5.0 (Windows NT 6.1; WOW64) AppleWebKit/53'"
            ],
            "application/vnd.google.colaboratory.intrinsic+json": {
              "type": "string"
            }
          },
          "metadata": {},
          "execution_count": 31
        }
      ],
      "source": [
        "frame[\"a\"][1]\n",
        "frame[\"a\"][50]\n",
        "frame[\"a\"][0][:50] # indeks wiersza ma 51, a następnie zwracasz pierwsze 50 znaków"
      ]
    },
    {
      "cell_type": "markdown",
      "source": [
        "Usuwa wiersze lub kolumny zawierające wartości NaN (braki danych) w DataFrame lub Series."
      ],
      "metadata": {
        "id": "puPH-1_9ZMlf"
      }
    },
    {
      "cell_type": "code",
      "source": [
        "len(frame)"
      ],
      "metadata": {
        "colab": {
          "base_uri": "https://localhost:8080/"
        },
        "id": "G74unRbeBR-T",
        "outputId": "e790d42b-a3f0-4c9a-c8d0-21557054d1d4"
      },
      "execution_count": null,
      "outputs": [
        {
          "output_type": "execute_result",
          "data": {
            "text/plain": [
              "3560"
            ]
          },
          "metadata": {},
          "execution_count": 32
        }
      ]
    },
    {
      "cell_type": "code",
      "execution_count": 59,
      "metadata": {
        "colab": {
          "base_uri": "https://localhost:8080/",
          "height": 241
        },
        "id": "DbvtDEAryh3J",
        "outputId": "373eafb8-bf9c-4176-a0f6-0595b6c75c2d"
      },
      "outputs": [
        {
          "output_type": "execute_result",
          "data": {
            "text/plain": [
              "0               Mozilla/5.0\n",
              "1    GoogleMaps/RochesterNY\n",
              "2               Mozilla/4.0\n",
              "3               Mozilla/5.0\n",
              "4               Mozilla/5.0\n",
              "dtype: object"
            ],
            "text/html": [
              "<div>\n",
              "<style scoped>\n",
              "    .dataframe tbody tr th:only-of-type {\n",
              "        vertical-align: middle;\n",
              "    }\n",
              "\n",
              "    .dataframe tbody tr th {\n",
              "        vertical-align: top;\n",
              "    }\n",
              "\n",
              "    .dataframe thead th {\n",
              "        text-align: right;\n",
              "    }\n",
              "</style>\n",
              "<table border=\"1\" class=\"dataframe\">\n",
              "  <thead>\n",
              "    <tr style=\"text-align: right;\">\n",
              "      <th></th>\n",
              "      <th>0</th>\n",
              "    </tr>\n",
              "  </thead>\n",
              "  <tbody>\n",
              "    <tr>\n",
              "      <th>0</th>\n",
              "      <td>Mozilla/5.0</td>\n",
              "    </tr>\n",
              "    <tr>\n",
              "      <th>1</th>\n",
              "      <td>GoogleMaps/RochesterNY</td>\n",
              "    </tr>\n",
              "    <tr>\n",
              "      <th>2</th>\n",
              "      <td>Mozilla/4.0</td>\n",
              "    </tr>\n",
              "    <tr>\n",
              "      <th>3</th>\n",
              "      <td>Mozilla/5.0</td>\n",
              "    </tr>\n",
              "    <tr>\n",
              "      <th>4</th>\n",
              "      <td>Mozilla/5.0</td>\n",
              "    </tr>\n",
              "  </tbody>\n",
              "</table>\n",
              "</div><br><label><b>dtype:</b> object</label>"
            ]
          },
          "metadata": {},
          "execution_count": 59
        }
      ],
      "source": [
        "results = pd.Series([x.split()[0] for x in frame[\"a\"].dropna()])\n",
        "results.head(5)"
      ]
    },
    {
      "cell_type": "code",
      "source": [
        "len(frame) - len(results) # Ilość wierszy NaN (braki danych)"
      ],
      "metadata": {
        "colab": {
          "base_uri": "https://localhost:8080/"
        },
        "id": "t3bCTSvcBUsV",
        "outputId": "444ff0b5-ba39-473f-db1c-2282165a5ee1"
      },
      "execution_count": null,
      "outputs": [
        {
          "output_type": "execute_result",
          "data": {
            "text/plain": [
              "120"
            ]
          },
          "metadata": {},
          "execution_count": 35
        }
      ]
    },
    {
      "cell_type": "code",
      "source": [
        "results.value_counts().head(8)"
      ],
      "metadata": {
        "colab": {
          "base_uri": "https://localhost:8080/",
          "height": 335
        },
        "id": "7sdSjJtG0rsM",
        "outputId": "c1749126-291f-47a1-8c0f-7763743c5021"
      },
      "execution_count": null,
      "outputs": [
        {
          "output_type": "execute_result",
          "data": {
            "text/plain": [
              "Mozilla/5.0                 2594\n",
              "Mozilla/4.0                  601\n",
              "GoogleMaps/RochesterNY       121\n",
              "Opera/9.80                    34\n",
              "TEST_INTERNET_AGENT           24\n",
              "GoogleProducer                21\n",
              "Mozilla/6.0                    5\n",
              "BlackBerry8520/5.0.0.681       4\n",
              "Name: count, dtype: int64"
            ],
            "text/html": [
              "<div>\n",
              "<style scoped>\n",
              "    .dataframe tbody tr th:only-of-type {\n",
              "        vertical-align: middle;\n",
              "    }\n",
              "\n",
              "    .dataframe tbody tr th {\n",
              "        vertical-align: top;\n",
              "    }\n",
              "\n",
              "    .dataframe thead th {\n",
              "        text-align: right;\n",
              "    }\n",
              "</style>\n",
              "<table border=\"1\" class=\"dataframe\">\n",
              "  <thead>\n",
              "    <tr style=\"text-align: right;\">\n",
              "      <th></th>\n",
              "      <th>count</th>\n",
              "    </tr>\n",
              "  </thead>\n",
              "  <tbody>\n",
              "    <tr>\n",
              "      <th>Mozilla/5.0</th>\n",
              "      <td>2594</td>\n",
              "    </tr>\n",
              "    <tr>\n",
              "      <th>Mozilla/4.0</th>\n",
              "      <td>601</td>\n",
              "    </tr>\n",
              "    <tr>\n",
              "      <th>GoogleMaps/RochesterNY</th>\n",
              "      <td>121</td>\n",
              "    </tr>\n",
              "    <tr>\n",
              "      <th>Opera/9.80</th>\n",
              "      <td>34</td>\n",
              "    </tr>\n",
              "    <tr>\n",
              "      <th>TEST_INTERNET_AGENT</th>\n",
              "      <td>24</td>\n",
              "    </tr>\n",
              "    <tr>\n",
              "      <th>GoogleProducer</th>\n",
              "      <td>21</td>\n",
              "    </tr>\n",
              "    <tr>\n",
              "      <th>Mozilla/6.0</th>\n",
              "      <td>5</td>\n",
              "    </tr>\n",
              "    <tr>\n",
              "      <th>BlackBerry8520/5.0.0.681</th>\n",
              "      <td>4</td>\n",
              "    </tr>\n",
              "  </tbody>\n",
              "</table>\n",
              "</div><br><label><b>dtype:</b> int64</label>"
            ]
          },
          "metadata": {},
          "execution_count": 36
        }
      ]
    },
    {
      "cell_type": "markdown",
      "source": [
        "- notna(): Kiedy chcesz zidentyfikować lub filtrować brakujące dane bez zmiany struktury oryginalnego obiektu.\n",
        "\n",
        "- dropna(): Kiedy chcesz usunąć brakujące dane z obiektu Pandas."
      ],
      "metadata": {
        "id": "6rBt0BtxCbct"
      }
    },
    {
      "cell_type": "code",
      "execution_count": 60,
      "metadata": {
        "id": "8SOAahdFyh3J"
      },
      "outputs": [],
      "source": [
        "cframe = frame[frame[\"a\"].notna()].copy()"
      ]
    },
    {
      "cell_type": "code",
      "source": [
        "print(len(frame), len(results))"
      ],
      "metadata": {
        "colab": {
          "base_uri": "https://localhost:8080/"
        },
        "id": "KqGlT1RFC0PA",
        "outputId": "5c31525b-739c-4a5b-8418-a8d9bcf496d7"
      },
      "execution_count": 61,
      "outputs": [
        {
          "output_type": "stream",
          "name": "stdout",
          "text": [
            "3560 3440\n"
          ]
        }
      ]
    },
    {
      "cell_type": "code",
      "source": [
        "len(cframe)"
      ],
      "metadata": {
        "colab": {
          "base_uri": "https://localhost:8080/"
        },
        "id": "IET9JQ1X5Z-R",
        "outputId": "f63a6204-ee6f-4611-ddce-a300e1f81f8c"
      },
      "execution_count": null,
      "outputs": [
        {
          "output_type": "execute_result",
          "data": {
            "text/plain": [
              "3440"
            ]
          },
          "metadata": {},
          "execution_count": 39
        }
      ]
    },
    {
      "cell_type": "code",
      "execution_count": 62,
      "metadata": {
        "id": "fZuzeUZDyh3J",
        "colab": {
          "base_uri": "https://localhost:8080/",
          "height": 241
        },
        "outputId": "7fdb93d8-6957-4710-f101-fd505358aeb0"
      },
      "outputs": [
        {
          "output_type": "execute_result",
          "data": {
            "text/plain": [
              "0        Windows\n",
              "1    Inny system\n",
              "2        Windows\n",
              "3    Inny system\n",
              "4        Windows\n",
              "Name: os, dtype: object"
            ],
            "text/html": [
              "<div>\n",
              "<style scoped>\n",
              "    .dataframe tbody tr th:only-of-type {\n",
              "        vertical-align: middle;\n",
              "    }\n",
              "\n",
              "    .dataframe tbody tr th {\n",
              "        vertical-align: top;\n",
              "    }\n",
              "\n",
              "    .dataframe thead th {\n",
              "        text-align: right;\n",
              "    }\n",
              "</style>\n",
              "<table border=\"1\" class=\"dataframe\">\n",
              "  <thead>\n",
              "    <tr style=\"text-align: right;\">\n",
              "      <th></th>\n",
              "      <th>os</th>\n",
              "    </tr>\n",
              "  </thead>\n",
              "  <tbody>\n",
              "    <tr>\n",
              "      <th>0</th>\n",
              "      <td>Windows</td>\n",
              "    </tr>\n",
              "    <tr>\n",
              "      <th>1</th>\n",
              "      <td>Inny system</td>\n",
              "    </tr>\n",
              "    <tr>\n",
              "      <th>2</th>\n",
              "      <td>Windows</td>\n",
              "    </tr>\n",
              "    <tr>\n",
              "      <th>3</th>\n",
              "      <td>Inny system</td>\n",
              "    </tr>\n",
              "    <tr>\n",
              "      <th>4</th>\n",
              "      <td>Windows</td>\n",
              "    </tr>\n",
              "  </tbody>\n",
              "</table>\n",
              "</div><br><label><b>dtype:</b> object</label>"
            ]
          },
          "metadata": {},
          "execution_count": 62
        }
      ],
      "source": [
        "cframe[\"os\"] = np.where(cframe[\"a\"].str.contains(\"Windows\"), \"Windows\", \"Inny system\")\n",
        "cframe[\"os\"].head(5)"
      ]
    },
    {
      "cell_type": "code",
      "execution_count": 63,
      "metadata": {
        "id": "GrCxOViUyh3K"
      },
      "outputs": [],
      "source": [
        "by_tz_os = cframe.groupby([\"tz\", \"os\"])"
      ]
    },
    {
      "cell_type": "markdown",
      "source": [
        "size() - to metoda, która zwraca liczbę elementów w każdej grupie.\n",
        "\n",
        "unstack() - to metoda, która przekształca serię w DataFrame, przesuwając jeden z poziomów indeksu (najczęściej drugi poziom) do kolumn."
      ],
      "metadata": {
        "id": "EUL4XknvD4EM"
      }
    },
    {
      "cell_type": "code",
      "execution_count": 64,
      "metadata": {
        "id": "klvedR8oyh3K",
        "colab": {
          "base_uri": "https://localhost:8080/",
          "height": 238
        },
        "outputId": "0016a42b-86bf-4df3-bd82-126cd378cea7"
      },
      "outputs": [
        {
          "output_type": "execute_result",
          "data": {
            "text/plain": [
              "os                   Inny system  Windows\n",
              "tz                                       \n",
              "                           245.0    276.0\n",
              "Africa/Cairo                 0.0      3.0\n",
              "Africa/Casablanca            0.0      1.0\n",
              "Africa/Ceuta                 0.0      2.0\n",
              "Africa/Johannesburg          0.0      1.0"
            ],
            "text/html": [
              "\n",
              "  <div id=\"df-c66bee73-3de3-47ca-b9ca-169f95d746f3\" class=\"colab-df-container\">\n",
              "    <div>\n",
              "<style scoped>\n",
              "    .dataframe tbody tr th:only-of-type {\n",
              "        vertical-align: middle;\n",
              "    }\n",
              "\n",
              "    .dataframe tbody tr th {\n",
              "        vertical-align: top;\n",
              "    }\n",
              "\n",
              "    .dataframe thead th {\n",
              "        text-align: right;\n",
              "    }\n",
              "</style>\n",
              "<table border=\"1\" class=\"dataframe\">\n",
              "  <thead>\n",
              "    <tr style=\"text-align: right;\">\n",
              "      <th>os</th>\n",
              "      <th>Inny system</th>\n",
              "      <th>Windows</th>\n",
              "    </tr>\n",
              "    <tr>\n",
              "      <th>tz</th>\n",
              "      <th></th>\n",
              "      <th></th>\n",
              "    </tr>\n",
              "  </thead>\n",
              "  <tbody>\n",
              "    <tr>\n",
              "      <th></th>\n",
              "      <td>245.0</td>\n",
              "      <td>276.0</td>\n",
              "    </tr>\n",
              "    <tr>\n",
              "      <th>Africa/Cairo</th>\n",
              "      <td>0.0</td>\n",
              "      <td>3.0</td>\n",
              "    </tr>\n",
              "    <tr>\n",
              "      <th>Africa/Casablanca</th>\n",
              "      <td>0.0</td>\n",
              "      <td>1.0</td>\n",
              "    </tr>\n",
              "    <tr>\n",
              "      <th>Africa/Ceuta</th>\n",
              "      <td>0.0</td>\n",
              "      <td>2.0</td>\n",
              "    </tr>\n",
              "    <tr>\n",
              "      <th>Africa/Johannesburg</th>\n",
              "      <td>0.0</td>\n",
              "      <td>1.0</td>\n",
              "    </tr>\n",
              "  </tbody>\n",
              "</table>\n",
              "</div>\n",
              "    <div class=\"colab-df-buttons\">\n",
              "\n",
              "  <div class=\"colab-df-container\">\n",
              "    <button class=\"colab-df-convert\" onclick=\"convertToInteractive('df-c66bee73-3de3-47ca-b9ca-169f95d746f3')\"\n",
              "            title=\"Convert this dataframe to an interactive table.\"\n",
              "            style=\"display:none;\">\n",
              "\n",
              "  <svg xmlns=\"http://www.w3.org/2000/svg\" height=\"24px\" viewBox=\"0 -960 960 960\">\n",
              "    <path d=\"M120-120v-720h720v720H120Zm60-500h600v-160H180v160Zm220 220h160v-160H400v160Zm0 220h160v-160H400v160ZM180-400h160v-160H180v160Zm440 0h160v-160H620v160ZM180-180h160v-160H180v160Zm440 0h160v-160H620v160Z\"/>\n",
              "  </svg>\n",
              "    </button>\n",
              "\n",
              "  <style>\n",
              "    .colab-df-container {\n",
              "      display:flex;\n",
              "      gap: 12px;\n",
              "    }\n",
              "\n",
              "    .colab-df-convert {\n",
              "      background-color: #E8F0FE;\n",
              "      border: none;\n",
              "      border-radius: 50%;\n",
              "      cursor: pointer;\n",
              "      display: none;\n",
              "      fill: #1967D2;\n",
              "      height: 32px;\n",
              "      padding: 0 0 0 0;\n",
              "      width: 32px;\n",
              "    }\n",
              "\n",
              "    .colab-df-convert:hover {\n",
              "      background-color: #E2EBFA;\n",
              "      box-shadow: 0px 1px 2px rgba(60, 64, 67, 0.3), 0px 1px 3px 1px rgba(60, 64, 67, 0.15);\n",
              "      fill: #174EA6;\n",
              "    }\n",
              "\n",
              "    .colab-df-buttons div {\n",
              "      margin-bottom: 4px;\n",
              "    }\n",
              "\n",
              "    [theme=dark] .colab-df-convert {\n",
              "      background-color: #3B4455;\n",
              "      fill: #D2E3FC;\n",
              "    }\n",
              "\n",
              "    [theme=dark] .colab-df-convert:hover {\n",
              "      background-color: #434B5C;\n",
              "      box-shadow: 0px 1px 3px 1px rgba(0, 0, 0, 0.15);\n",
              "      filter: drop-shadow(0px 1px 2px rgba(0, 0, 0, 0.3));\n",
              "      fill: #FFFFFF;\n",
              "    }\n",
              "  </style>\n",
              "\n",
              "    <script>\n",
              "      const buttonEl =\n",
              "        document.querySelector('#df-c66bee73-3de3-47ca-b9ca-169f95d746f3 button.colab-df-convert');\n",
              "      buttonEl.style.display =\n",
              "        google.colab.kernel.accessAllowed ? 'block' : 'none';\n",
              "\n",
              "      async function convertToInteractive(key) {\n",
              "        const element = document.querySelector('#df-c66bee73-3de3-47ca-b9ca-169f95d746f3');\n",
              "        const dataTable =\n",
              "          await google.colab.kernel.invokeFunction('convertToInteractive',\n",
              "                                                    [key], {});\n",
              "        if (!dataTable) return;\n",
              "\n",
              "        const docLinkHtml = 'Like what you see? Visit the ' +\n",
              "          '<a target=\"_blank\" href=https://colab.research.google.com/notebooks/data_table.ipynb>data table notebook</a>'\n",
              "          + ' to learn more about interactive tables.';\n",
              "        element.innerHTML = '';\n",
              "        dataTable['output_type'] = 'display_data';\n",
              "        await google.colab.output.renderOutput(dataTable, element);\n",
              "        const docLink = document.createElement('div');\n",
              "        docLink.innerHTML = docLinkHtml;\n",
              "        element.appendChild(docLink);\n",
              "      }\n",
              "    </script>\n",
              "  </div>\n",
              "\n",
              "\n",
              "<div id=\"df-6784a004-6bfc-4597-9f53-daa3e9c9c77a\">\n",
              "  <button class=\"colab-df-quickchart\" onclick=\"quickchart('df-6784a004-6bfc-4597-9f53-daa3e9c9c77a')\"\n",
              "            title=\"Suggest charts\"\n",
              "            style=\"display:none;\">\n",
              "\n",
              "<svg xmlns=\"http://www.w3.org/2000/svg\" height=\"24px\"viewBox=\"0 0 24 24\"\n",
              "     width=\"24px\">\n",
              "    <g>\n",
              "        <path d=\"M19 3H5c-1.1 0-2 .9-2 2v14c0 1.1.9 2 2 2h14c1.1 0 2-.9 2-2V5c0-1.1-.9-2-2-2zM9 17H7v-7h2v7zm4 0h-2V7h2v10zm4 0h-2v-4h2v4z\"/>\n",
              "    </g>\n",
              "</svg>\n",
              "  </button>\n",
              "\n",
              "<style>\n",
              "  .colab-df-quickchart {\n",
              "      --bg-color: #E8F0FE;\n",
              "      --fill-color: #1967D2;\n",
              "      --hover-bg-color: #E2EBFA;\n",
              "      --hover-fill-color: #174EA6;\n",
              "      --disabled-fill-color: #AAA;\n",
              "      --disabled-bg-color: #DDD;\n",
              "  }\n",
              "\n",
              "  [theme=dark] .colab-df-quickchart {\n",
              "      --bg-color: #3B4455;\n",
              "      --fill-color: #D2E3FC;\n",
              "      --hover-bg-color: #434B5C;\n",
              "      --hover-fill-color: #FFFFFF;\n",
              "      --disabled-bg-color: #3B4455;\n",
              "      --disabled-fill-color: #666;\n",
              "  }\n",
              "\n",
              "  .colab-df-quickchart {\n",
              "    background-color: var(--bg-color);\n",
              "    border: none;\n",
              "    border-radius: 50%;\n",
              "    cursor: pointer;\n",
              "    display: none;\n",
              "    fill: var(--fill-color);\n",
              "    height: 32px;\n",
              "    padding: 0;\n",
              "    width: 32px;\n",
              "  }\n",
              "\n",
              "  .colab-df-quickchart:hover {\n",
              "    background-color: var(--hover-bg-color);\n",
              "    box-shadow: 0 1px 2px rgba(60, 64, 67, 0.3), 0 1px 3px 1px rgba(60, 64, 67, 0.15);\n",
              "    fill: var(--button-hover-fill-color);\n",
              "  }\n",
              "\n",
              "  .colab-df-quickchart-complete:disabled,\n",
              "  .colab-df-quickchart-complete:disabled:hover {\n",
              "    background-color: var(--disabled-bg-color);\n",
              "    fill: var(--disabled-fill-color);\n",
              "    box-shadow: none;\n",
              "  }\n",
              "\n",
              "  .colab-df-spinner {\n",
              "    border: 2px solid var(--fill-color);\n",
              "    border-color: transparent;\n",
              "    border-bottom-color: var(--fill-color);\n",
              "    animation:\n",
              "      spin 1s steps(1) infinite;\n",
              "  }\n",
              "\n",
              "  @keyframes spin {\n",
              "    0% {\n",
              "      border-color: transparent;\n",
              "      border-bottom-color: var(--fill-color);\n",
              "      border-left-color: var(--fill-color);\n",
              "    }\n",
              "    20% {\n",
              "      border-color: transparent;\n",
              "      border-left-color: var(--fill-color);\n",
              "      border-top-color: var(--fill-color);\n",
              "    }\n",
              "    30% {\n",
              "      border-color: transparent;\n",
              "      border-left-color: var(--fill-color);\n",
              "      border-top-color: var(--fill-color);\n",
              "      border-right-color: var(--fill-color);\n",
              "    }\n",
              "    40% {\n",
              "      border-color: transparent;\n",
              "      border-right-color: var(--fill-color);\n",
              "      border-top-color: var(--fill-color);\n",
              "    }\n",
              "    60% {\n",
              "      border-color: transparent;\n",
              "      border-right-color: var(--fill-color);\n",
              "    }\n",
              "    80% {\n",
              "      border-color: transparent;\n",
              "      border-right-color: var(--fill-color);\n",
              "      border-bottom-color: var(--fill-color);\n",
              "    }\n",
              "    90% {\n",
              "      border-color: transparent;\n",
              "      border-bottom-color: var(--fill-color);\n",
              "    }\n",
              "  }\n",
              "</style>\n",
              "\n",
              "  <script>\n",
              "    async function quickchart(key) {\n",
              "      const quickchartButtonEl =\n",
              "        document.querySelector('#' + key + ' button');\n",
              "      quickchartButtonEl.disabled = true;  // To prevent multiple clicks.\n",
              "      quickchartButtonEl.classList.add('colab-df-spinner');\n",
              "      try {\n",
              "        const charts = await google.colab.kernel.invokeFunction(\n",
              "            'suggestCharts', [key], {});\n",
              "      } catch (error) {\n",
              "        console.error('Error during call to suggestCharts:', error);\n",
              "      }\n",
              "      quickchartButtonEl.classList.remove('colab-df-spinner');\n",
              "      quickchartButtonEl.classList.add('colab-df-quickchart-complete');\n",
              "    }\n",
              "    (() => {\n",
              "      let quickchartButtonEl =\n",
              "        document.querySelector('#df-6784a004-6bfc-4597-9f53-daa3e9c9c77a button');\n",
              "      quickchartButtonEl.style.display =\n",
              "        google.colab.kernel.accessAllowed ? 'block' : 'none';\n",
              "    })();\n",
              "  </script>\n",
              "</div>\n",
              "\n",
              "    </div>\n",
              "  </div>\n"
            ],
            "application/vnd.google.colaboratory.intrinsic+json": {
              "type": "dataframe",
              "variable_name": "agg_counts",
              "summary": "{\n  \"name\": \"agg_counts\",\n  \"rows\": 97,\n  \"fields\": [\n    {\n      \"column\": \"tz\",\n      \"properties\": {\n        \"dtype\": \"string\",\n        \"num_unique_values\": 97,\n        \"samples\": [\n          \"Australia/Queensland\",\n          \"Asia/Amman\",\n          \"Europe/Warsaw\"\n        ],\n        \"semantic_type\": \"\",\n        \"description\": \"\"\n      }\n    },\n    {\n      \"column\": \"Inny system\",\n      \"properties\": {\n        \"dtype\": \"number\",\n        \"std\": 46.876024616522216,\n        \"min\": 0.0,\n        \"max\": 339.0,\n        \"num_unique_values\": 20,\n        \"samples\": [\n          245.0,\n          12.0,\n          6.0\n        ],\n        \"semantic_type\": \"\",\n        \"description\": \"\"\n      }\n    },\n    {\n      \"column\": \"Windows\",\n      \"properties\": {\n        \"dtype\": \"number\",\n        \"std\": 102.63419469632035,\n        \"min\": 0.0,\n        \"max\": 912.0,\n        \"num_unique_values\": 24,\n        \"samples\": [\n          12.0,\n          7.0,\n          276.0\n        ],\n        \"semantic_type\": \"\",\n        \"description\": \"\"\n      }\n    }\n  ]\n}"
            }
          },
          "metadata": {},
          "execution_count": 64
        }
      ],
      "source": [
        "agg_counts = by_tz_os.size().unstack().fillna(0) # fillna zastępuje N/A na 0\n",
        "agg_counts.head()"
      ]
    },
    {
      "cell_type": "markdown",
      "source": [
        "- Metoda `argsort()` zwraca indeksy posortowanej wersji serii. Oznacza to, że zwróci tablicę indeksów, które wskazują, w jakiej kolejności elementy byłyby posortowane."
      ],
      "metadata": {
        "id": "KGwVMx1TRsoL"
      }
    },
    {
      "cell_type": "code",
      "execution_count": 65,
      "metadata": {
        "id": "rg88RDtxyh3K",
        "colab": {
          "base_uri": "https://localhost:8080/"
        },
        "outputId": "de1f8595-71f7-4732-ac97-81bcc06123b8"
      },
      "outputs": [
        {
          "output_type": "execute_result",
          "data": {
            "text/plain": [
              "array([24, 20, 21, 92, 87, 53, 54, 57, 26, 55])"
            ]
          },
          "metadata": {},
          "execution_count": 65
        }
      ],
      "source": [
        "indexer = agg_counts.sum(\"columns\").argsort()\n",
        "indexer.values[:10]"
      ]
    },
    {
      "cell_type": "markdown",
      "source": [
        "- Metoda `take()` służy do pobierania wierszy (lub kolumn) z DataFrame na podstawie podanych indeksów. W tym przypadku, `take(indexer-10:)` zwraca ostatnie 10 kolumn z DataFrame `agg_counts`, które mają największe sumy."
      ],
      "metadata": {
        "id": "g39euUzPSzH2"
      }
    },
    {
      "cell_type": "code",
      "execution_count": 66,
      "metadata": {
        "id": "h3RkqeEOyh3K",
        "colab": {
          "base_uri": "https://localhost:8080/",
          "height": 394
        },
        "outputId": "cd21d88d-b2c8-4a8b-f361-973d364445f6"
      },
      "outputs": [
        {
          "output_type": "execute_result",
          "data": {
            "text/plain": [
              "os                   Inny system  Windows\n",
              "tz                                       \n",
              "America/Sao_Paulo           13.0     20.0\n",
              "Europe/Madrid               16.0     19.0\n",
              "Pacific/Honolulu             0.0     36.0\n",
              "Asia/Tokyo                   2.0     35.0\n",
              "Europe/London               43.0     31.0\n",
              "America/Denver             132.0     59.0\n",
              "America/Los_Angeles        130.0    252.0\n",
              "America/Chicago            115.0    285.0\n",
              "                           245.0    276.0\n",
              "America/New_York           339.0    912.0"
            ],
            "text/html": [
              "\n",
              "  <div id=\"df-b3db0679-845b-4eb6-ad22-d42bea6ee51d\" class=\"colab-df-container\">\n",
              "    <div>\n",
              "<style scoped>\n",
              "    .dataframe tbody tr th:only-of-type {\n",
              "        vertical-align: middle;\n",
              "    }\n",
              "\n",
              "    .dataframe tbody tr th {\n",
              "        vertical-align: top;\n",
              "    }\n",
              "\n",
              "    .dataframe thead th {\n",
              "        text-align: right;\n",
              "    }\n",
              "</style>\n",
              "<table border=\"1\" class=\"dataframe\">\n",
              "  <thead>\n",
              "    <tr style=\"text-align: right;\">\n",
              "      <th>os</th>\n",
              "      <th>Inny system</th>\n",
              "      <th>Windows</th>\n",
              "    </tr>\n",
              "    <tr>\n",
              "      <th>tz</th>\n",
              "      <th></th>\n",
              "      <th></th>\n",
              "    </tr>\n",
              "  </thead>\n",
              "  <tbody>\n",
              "    <tr>\n",
              "      <th>America/Sao_Paulo</th>\n",
              "      <td>13.0</td>\n",
              "      <td>20.0</td>\n",
              "    </tr>\n",
              "    <tr>\n",
              "      <th>Europe/Madrid</th>\n",
              "      <td>16.0</td>\n",
              "      <td>19.0</td>\n",
              "    </tr>\n",
              "    <tr>\n",
              "      <th>Pacific/Honolulu</th>\n",
              "      <td>0.0</td>\n",
              "      <td>36.0</td>\n",
              "    </tr>\n",
              "    <tr>\n",
              "      <th>Asia/Tokyo</th>\n",
              "      <td>2.0</td>\n",
              "      <td>35.0</td>\n",
              "    </tr>\n",
              "    <tr>\n",
              "      <th>Europe/London</th>\n",
              "      <td>43.0</td>\n",
              "      <td>31.0</td>\n",
              "    </tr>\n",
              "    <tr>\n",
              "      <th>America/Denver</th>\n",
              "      <td>132.0</td>\n",
              "      <td>59.0</td>\n",
              "    </tr>\n",
              "    <tr>\n",
              "      <th>America/Los_Angeles</th>\n",
              "      <td>130.0</td>\n",
              "      <td>252.0</td>\n",
              "    </tr>\n",
              "    <tr>\n",
              "      <th>America/Chicago</th>\n",
              "      <td>115.0</td>\n",
              "      <td>285.0</td>\n",
              "    </tr>\n",
              "    <tr>\n",
              "      <th></th>\n",
              "      <td>245.0</td>\n",
              "      <td>276.0</td>\n",
              "    </tr>\n",
              "    <tr>\n",
              "      <th>America/New_York</th>\n",
              "      <td>339.0</td>\n",
              "      <td>912.0</td>\n",
              "    </tr>\n",
              "  </tbody>\n",
              "</table>\n",
              "</div>\n",
              "    <div class=\"colab-df-buttons\">\n",
              "\n",
              "  <div class=\"colab-df-container\">\n",
              "    <button class=\"colab-df-convert\" onclick=\"convertToInteractive('df-b3db0679-845b-4eb6-ad22-d42bea6ee51d')\"\n",
              "            title=\"Convert this dataframe to an interactive table.\"\n",
              "            style=\"display:none;\">\n",
              "\n",
              "  <svg xmlns=\"http://www.w3.org/2000/svg\" height=\"24px\" viewBox=\"0 -960 960 960\">\n",
              "    <path d=\"M120-120v-720h720v720H120Zm60-500h600v-160H180v160Zm220 220h160v-160H400v160Zm0 220h160v-160H400v160ZM180-400h160v-160H180v160Zm440 0h160v-160H620v160ZM180-180h160v-160H180v160Zm440 0h160v-160H620v160Z\"/>\n",
              "  </svg>\n",
              "    </button>\n",
              "\n",
              "  <style>\n",
              "    .colab-df-container {\n",
              "      display:flex;\n",
              "      gap: 12px;\n",
              "    }\n",
              "\n",
              "    .colab-df-convert {\n",
              "      background-color: #E8F0FE;\n",
              "      border: none;\n",
              "      border-radius: 50%;\n",
              "      cursor: pointer;\n",
              "      display: none;\n",
              "      fill: #1967D2;\n",
              "      height: 32px;\n",
              "      padding: 0 0 0 0;\n",
              "      width: 32px;\n",
              "    }\n",
              "\n",
              "    .colab-df-convert:hover {\n",
              "      background-color: #E2EBFA;\n",
              "      box-shadow: 0px 1px 2px rgba(60, 64, 67, 0.3), 0px 1px 3px 1px rgba(60, 64, 67, 0.15);\n",
              "      fill: #174EA6;\n",
              "    }\n",
              "\n",
              "    .colab-df-buttons div {\n",
              "      margin-bottom: 4px;\n",
              "    }\n",
              "\n",
              "    [theme=dark] .colab-df-convert {\n",
              "      background-color: #3B4455;\n",
              "      fill: #D2E3FC;\n",
              "    }\n",
              "\n",
              "    [theme=dark] .colab-df-convert:hover {\n",
              "      background-color: #434B5C;\n",
              "      box-shadow: 0px 1px 3px 1px rgba(0, 0, 0, 0.15);\n",
              "      filter: drop-shadow(0px 1px 2px rgba(0, 0, 0, 0.3));\n",
              "      fill: #FFFFFF;\n",
              "    }\n",
              "  </style>\n",
              "\n",
              "    <script>\n",
              "      const buttonEl =\n",
              "        document.querySelector('#df-b3db0679-845b-4eb6-ad22-d42bea6ee51d button.colab-df-convert');\n",
              "      buttonEl.style.display =\n",
              "        google.colab.kernel.accessAllowed ? 'block' : 'none';\n",
              "\n",
              "      async function convertToInteractive(key) {\n",
              "        const element = document.querySelector('#df-b3db0679-845b-4eb6-ad22-d42bea6ee51d');\n",
              "        const dataTable =\n",
              "          await google.colab.kernel.invokeFunction('convertToInteractive',\n",
              "                                                    [key], {});\n",
              "        if (!dataTable) return;\n",
              "\n",
              "        const docLinkHtml = 'Like what you see? Visit the ' +\n",
              "          '<a target=\"_blank\" href=https://colab.research.google.com/notebooks/data_table.ipynb>data table notebook</a>'\n",
              "          + ' to learn more about interactive tables.';\n",
              "        element.innerHTML = '';\n",
              "        dataTable['output_type'] = 'display_data';\n",
              "        await google.colab.output.renderOutput(dataTable, element);\n",
              "        const docLink = document.createElement('div');\n",
              "        docLink.innerHTML = docLinkHtml;\n",
              "        element.appendChild(docLink);\n",
              "      }\n",
              "    </script>\n",
              "  </div>\n",
              "\n",
              "\n",
              "<div id=\"df-175b7823-89de-4177-8c7f-21abe1166548\">\n",
              "  <button class=\"colab-df-quickchart\" onclick=\"quickchart('df-175b7823-89de-4177-8c7f-21abe1166548')\"\n",
              "            title=\"Suggest charts\"\n",
              "            style=\"display:none;\">\n",
              "\n",
              "<svg xmlns=\"http://www.w3.org/2000/svg\" height=\"24px\"viewBox=\"0 0 24 24\"\n",
              "     width=\"24px\">\n",
              "    <g>\n",
              "        <path d=\"M19 3H5c-1.1 0-2 .9-2 2v14c0 1.1.9 2 2 2h14c1.1 0 2-.9 2-2V5c0-1.1-.9-2-2-2zM9 17H7v-7h2v7zm4 0h-2V7h2v10zm4 0h-2v-4h2v4z\"/>\n",
              "    </g>\n",
              "</svg>\n",
              "  </button>\n",
              "\n",
              "<style>\n",
              "  .colab-df-quickchart {\n",
              "      --bg-color: #E8F0FE;\n",
              "      --fill-color: #1967D2;\n",
              "      --hover-bg-color: #E2EBFA;\n",
              "      --hover-fill-color: #174EA6;\n",
              "      --disabled-fill-color: #AAA;\n",
              "      --disabled-bg-color: #DDD;\n",
              "  }\n",
              "\n",
              "  [theme=dark] .colab-df-quickchart {\n",
              "      --bg-color: #3B4455;\n",
              "      --fill-color: #D2E3FC;\n",
              "      --hover-bg-color: #434B5C;\n",
              "      --hover-fill-color: #FFFFFF;\n",
              "      --disabled-bg-color: #3B4455;\n",
              "      --disabled-fill-color: #666;\n",
              "  }\n",
              "\n",
              "  .colab-df-quickchart {\n",
              "    background-color: var(--bg-color);\n",
              "    border: none;\n",
              "    border-radius: 50%;\n",
              "    cursor: pointer;\n",
              "    display: none;\n",
              "    fill: var(--fill-color);\n",
              "    height: 32px;\n",
              "    padding: 0;\n",
              "    width: 32px;\n",
              "  }\n",
              "\n",
              "  .colab-df-quickchart:hover {\n",
              "    background-color: var(--hover-bg-color);\n",
              "    box-shadow: 0 1px 2px rgba(60, 64, 67, 0.3), 0 1px 3px 1px rgba(60, 64, 67, 0.15);\n",
              "    fill: var(--button-hover-fill-color);\n",
              "  }\n",
              "\n",
              "  .colab-df-quickchart-complete:disabled,\n",
              "  .colab-df-quickchart-complete:disabled:hover {\n",
              "    background-color: var(--disabled-bg-color);\n",
              "    fill: var(--disabled-fill-color);\n",
              "    box-shadow: none;\n",
              "  }\n",
              "\n",
              "  .colab-df-spinner {\n",
              "    border: 2px solid var(--fill-color);\n",
              "    border-color: transparent;\n",
              "    border-bottom-color: var(--fill-color);\n",
              "    animation:\n",
              "      spin 1s steps(1) infinite;\n",
              "  }\n",
              "\n",
              "  @keyframes spin {\n",
              "    0% {\n",
              "      border-color: transparent;\n",
              "      border-bottom-color: var(--fill-color);\n",
              "      border-left-color: var(--fill-color);\n",
              "    }\n",
              "    20% {\n",
              "      border-color: transparent;\n",
              "      border-left-color: var(--fill-color);\n",
              "      border-top-color: var(--fill-color);\n",
              "    }\n",
              "    30% {\n",
              "      border-color: transparent;\n",
              "      border-left-color: var(--fill-color);\n",
              "      border-top-color: var(--fill-color);\n",
              "      border-right-color: var(--fill-color);\n",
              "    }\n",
              "    40% {\n",
              "      border-color: transparent;\n",
              "      border-right-color: var(--fill-color);\n",
              "      border-top-color: var(--fill-color);\n",
              "    }\n",
              "    60% {\n",
              "      border-color: transparent;\n",
              "      border-right-color: var(--fill-color);\n",
              "    }\n",
              "    80% {\n",
              "      border-color: transparent;\n",
              "      border-right-color: var(--fill-color);\n",
              "      border-bottom-color: var(--fill-color);\n",
              "    }\n",
              "    90% {\n",
              "      border-color: transparent;\n",
              "      border-bottom-color: var(--fill-color);\n",
              "    }\n",
              "  }\n",
              "</style>\n",
              "\n",
              "  <script>\n",
              "    async function quickchart(key) {\n",
              "      const quickchartButtonEl =\n",
              "        document.querySelector('#' + key + ' button');\n",
              "      quickchartButtonEl.disabled = true;  // To prevent multiple clicks.\n",
              "      quickchartButtonEl.classList.add('colab-df-spinner');\n",
              "      try {\n",
              "        const charts = await google.colab.kernel.invokeFunction(\n",
              "            'suggestCharts', [key], {});\n",
              "      } catch (error) {\n",
              "        console.error('Error during call to suggestCharts:', error);\n",
              "      }\n",
              "      quickchartButtonEl.classList.remove('colab-df-spinner');\n",
              "      quickchartButtonEl.classList.add('colab-df-quickchart-complete');\n",
              "    }\n",
              "    (() => {\n",
              "      let quickchartButtonEl =\n",
              "        document.querySelector('#df-175b7823-89de-4177-8c7f-21abe1166548 button');\n",
              "      quickchartButtonEl.style.display =\n",
              "        google.colab.kernel.accessAllowed ? 'block' : 'none';\n",
              "    })();\n",
              "  </script>\n",
              "</div>\n",
              "\n",
              "  <div id=\"id_c44ccf5f-95a7-45e5-82c4-b94f17a72c5d\">\n",
              "    <style>\n",
              "      .colab-df-generate {\n",
              "        background-color: #E8F0FE;\n",
              "        border: none;\n",
              "        border-radius: 50%;\n",
              "        cursor: pointer;\n",
              "        display: none;\n",
              "        fill: #1967D2;\n",
              "        height: 32px;\n",
              "        padding: 0 0 0 0;\n",
              "        width: 32px;\n",
              "      }\n",
              "\n",
              "      .colab-df-generate:hover {\n",
              "        background-color: #E2EBFA;\n",
              "        box-shadow: 0px 1px 2px rgba(60, 64, 67, 0.3), 0px 1px 3px 1px rgba(60, 64, 67, 0.15);\n",
              "        fill: #174EA6;\n",
              "      }\n",
              "\n",
              "      [theme=dark] .colab-df-generate {\n",
              "        background-color: #3B4455;\n",
              "        fill: #D2E3FC;\n",
              "      }\n",
              "\n",
              "      [theme=dark] .colab-df-generate:hover {\n",
              "        background-color: #434B5C;\n",
              "        box-shadow: 0px 1px 3px 1px rgba(0, 0, 0, 0.15);\n",
              "        filter: drop-shadow(0px 1px 2px rgba(0, 0, 0, 0.3));\n",
              "        fill: #FFFFFF;\n",
              "      }\n",
              "    </style>\n",
              "    <button class=\"colab-df-generate\" onclick=\"generateWithVariable('count_subset')\"\n",
              "            title=\"Generate code using this dataframe.\"\n",
              "            style=\"display:none;\">\n",
              "\n",
              "  <svg xmlns=\"http://www.w3.org/2000/svg\" height=\"24px\"viewBox=\"0 0 24 24\"\n",
              "       width=\"24px\">\n",
              "    <path d=\"M7,19H8.4L18.45,9,17,7.55,7,17.6ZM5,21V16.75L18.45,3.32a2,2,0,0,1,2.83,0l1.4,1.43a1.91,1.91,0,0,1,.58,1.4,1.91,1.91,0,0,1-.58,1.4L9.25,21ZM18.45,9,17,7.55Zm-12,3A5.31,5.31,0,0,0,4.9,8.1,5.31,5.31,0,0,0,1,6.5,5.31,5.31,0,0,0,4.9,4.9,5.31,5.31,0,0,0,6.5,1,5.31,5.31,0,0,0,8.1,4.9,5.31,5.31,0,0,0,12,6.5,5.46,5.46,0,0,0,6.5,12Z\"/>\n",
              "  </svg>\n",
              "    </button>\n",
              "    <script>\n",
              "      (() => {\n",
              "      const buttonEl =\n",
              "        document.querySelector('#id_c44ccf5f-95a7-45e5-82c4-b94f17a72c5d button.colab-df-generate');\n",
              "      buttonEl.style.display =\n",
              "        google.colab.kernel.accessAllowed ? 'block' : 'none';\n",
              "\n",
              "      buttonEl.onclick = () => {\n",
              "        google.colab.notebook.generateWithVariable('count_subset');\n",
              "      }\n",
              "      })();\n",
              "    </script>\n",
              "  </div>\n",
              "\n",
              "    </div>\n",
              "  </div>\n"
            ],
            "application/vnd.google.colaboratory.intrinsic+json": {
              "type": "dataframe",
              "variable_name": "count_subset",
              "summary": "{\n  \"name\": \"count_subset\",\n  \"rows\": 10,\n  \"fields\": [\n    {\n      \"column\": \"tz\",\n      \"properties\": {\n        \"dtype\": \"string\",\n        \"num_unique_values\": 10,\n        \"samples\": [\n          \"\",\n          \"Europe/Madrid\",\n          \"America/Denver\"\n        ],\n        \"semantic_type\": \"\",\n        \"description\": \"\"\n      }\n    },\n    {\n      \"column\": \"Inny system\",\n      \"properties\": {\n        \"dtype\": \"number\",\n        \"std\": 114.3340621939839,\n        \"min\": 0.0,\n        \"max\": 339.0,\n        \"num_unique_values\": 10,\n        \"samples\": [\n          245.0,\n          16.0,\n          132.0\n        ],\n        \"semantic_type\": \"\",\n        \"description\": \"\"\n      }\n    },\n    {\n      \"column\": \"Windows\",\n      \"properties\": {\n        \"dtype\": \"number\",\n        \"std\": 276.84943762108514,\n        \"min\": 19.0,\n        \"max\": 912.0,\n        \"num_unique_values\": 10,\n        \"samples\": [\n          276.0,\n          19.0,\n          59.0\n        ],\n        \"semantic_type\": \"\",\n        \"description\": \"\"\n      }\n    }\n  ]\n}"
            }
          },
          "metadata": {},
          "execution_count": 66
        }
      ],
      "source": [
        "count_subset = agg_counts.take(indexer[-10:])\n",
        "count_subset"
      ]
    },
    {
      "cell_type": "markdown",
      "source": [
        "- Metoda `nlargest()` zwraca n wierszy z największymi wartościami w określonej kolumnie lub kolumnach."
      ],
      "metadata": {
        "id": "Bq9h8bmeTSMf"
      }
    },
    {
      "cell_type": "code",
      "execution_count": 67,
      "metadata": {
        "id": "ncZV0-c2yh3K",
        "colab": {
          "base_uri": "https://localhost:8080/",
          "height": 429
        },
        "outputId": "8a43e4e6-c57b-4886-b50a-26be33f08f03"
      },
      "outputs": [
        {
          "output_type": "execute_result",
          "data": {
            "text/plain": [
              "tz\n",
              "America/New_York       1251.0\n",
              "                        521.0\n",
              "America/Chicago         400.0\n",
              "America/Los_Angeles     382.0\n",
              "America/Denver          191.0\n",
              "Europe/London            74.0\n",
              "Asia/Tokyo               37.0\n",
              "Pacific/Honolulu         36.0\n",
              "Europe/Madrid            35.0\n",
              "America/Sao_Paulo        33.0\n",
              "dtype: float64"
            ],
            "text/html": [
              "<div>\n",
              "<style scoped>\n",
              "    .dataframe tbody tr th:only-of-type {\n",
              "        vertical-align: middle;\n",
              "    }\n",
              "\n",
              "    .dataframe tbody tr th {\n",
              "        vertical-align: top;\n",
              "    }\n",
              "\n",
              "    .dataframe thead th {\n",
              "        text-align: right;\n",
              "    }\n",
              "</style>\n",
              "<table border=\"1\" class=\"dataframe\">\n",
              "  <thead>\n",
              "    <tr style=\"text-align: right;\">\n",
              "      <th></th>\n",
              "      <th>0</th>\n",
              "    </tr>\n",
              "    <tr>\n",
              "      <th>tz</th>\n",
              "      <th></th>\n",
              "    </tr>\n",
              "  </thead>\n",
              "  <tbody>\n",
              "    <tr>\n",
              "      <th>America/New_York</th>\n",
              "      <td>1251.0</td>\n",
              "    </tr>\n",
              "    <tr>\n",
              "      <th></th>\n",
              "      <td>521.0</td>\n",
              "    </tr>\n",
              "    <tr>\n",
              "      <th>America/Chicago</th>\n",
              "      <td>400.0</td>\n",
              "    </tr>\n",
              "    <tr>\n",
              "      <th>America/Los_Angeles</th>\n",
              "      <td>382.0</td>\n",
              "    </tr>\n",
              "    <tr>\n",
              "      <th>America/Denver</th>\n",
              "      <td>191.0</td>\n",
              "    </tr>\n",
              "    <tr>\n",
              "      <th>Europe/London</th>\n",
              "      <td>74.0</td>\n",
              "    </tr>\n",
              "    <tr>\n",
              "      <th>Asia/Tokyo</th>\n",
              "      <td>37.0</td>\n",
              "    </tr>\n",
              "    <tr>\n",
              "      <th>Pacific/Honolulu</th>\n",
              "      <td>36.0</td>\n",
              "    </tr>\n",
              "    <tr>\n",
              "      <th>Europe/Madrid</th>\n",
              "      <td>35.0</td>\n",
              "    </tr>\n",
              "    <tr>\n",
              "      <th>America/Sao_Paulo</th>\n",
              "      <td>33.0</td>\n",
              "    </tr>\n",
              "  </tbody>\n",
              "</table>\n",
              "</div><br><label><b>dtype:</b> float64</label>"
            ]
          },
          "metadata": {},
          "execution_count": 67
        }
      ],
      "source": [
        "agg_counts.sum(axis=\"columns\").nlargest(10)"
      ]
    },
    {
      "cell_type": "code",
      "execution_count": 52,
      "metadata": {
        "id": "4XoHxCKTyh3K",
        "colab": {
          "base_uri": "https://localhost:8080/",
          "height": 53
        },
        "outputId": "c769eaca-2163-4545-9198-ca4f8e7a1deb"
      },
      "outputs": [
        {
          "output_type": "execute_result",
          "data": {
            "text/plain": [
              "<Figure size 1000x600 with 0 Axes>"
            ]
          },
          "metadata": {},
          "execution_count": 52
        },
        {
          "output_type": "display_data",
          "data": {
            "text/plain": [
              "<Figure size 1000x600 with 0 Axes>"
            ]
          },
          "metadata": {}
        }
      ],
      "source": [
        "plt.figure()"
      ]
    },
    {
      "cell_type": "markdown",
      "source": [
        "- `stack()` przekształca kolumny DataFrame w wiersze, tworząc nowy poziom indeksu. Umożliwia to lepsze zarządzanie danymi, zwłaszcza gdy pracujesz z wieloma zmiennymi.\n",
        "\n",
        "- Metoda `reset_index()` w bibliotece Pandas jest używana do resetowania indeksu DataFrame do domyślnego indeksu numerycznego (0, 1, 2, …).\n"
      ],
      "metadata": {
        "id": "gc_MIgtVTzum"
      }
    },
    {
      "cell_type": "code",
      "execution_count": 68,
      "metadata": {
        "id": "qzS1Y8tuyh3K",
        "colab": {
          "base_uri": "https://localhost:8080/",
          "height": 560
        },
        "outputId": "9a06be41-3288-433e-deec-b146dabd48e9"
      },
      "outputs": [
        {
          "output_type": "execute_result",
          "data": {
            "text/plain": [
              "<matplotlib.legend.Legend at 0x7c935bbc6470>"
            ]
          },
          "metadata": {},
          "execution_count": 68
        },
        {
          "output_type": "display_data",
          "data": {
            "text/plain": [
              "<Figure size 1000x600 with 1 Axes>"
            ],
            "image/png": "[encoded data removed]"
          },
          "metadata": {}
        }
      ],
      "source": [
        "count_subset = count_subset.stack()\n",
        "count_subset.name = \"total\"\n",
        "count_subset = count_subset.reset_index()\n",
        "count_subset.head(10)\n",
        "gfg = sns.barplot(x=\"total\", y=\"tz\", hue=\"os\",  data=count_subset)\n",
        "gfg.set(xlabel =\"Liczba\", ylabel = \"Strefa czasowa\")\n",
        "plt.legend(title='System operacyjny')"
      ]
    },
    {
      "cell_type": "code",
      "source": [
        "count_subset.head(3)"
      ],
      "metadata": {
        "colab": {
          "base_uri": "https://localhost:8080/",
          "height": 143
        },
        "id": "Y9jEhqokbLYK",
        "outputId": "d02881a5-1322-4bc5-f01d-42a717b4bce0"
      },
      "execution_count": 69,
      "outputs": [
        {
          "output_type": "execute_result",
          "data": {
            "text/plain": [
              "                  tz           os  total\n",
              "0  America/Sao_Paulo  Inny system   13.0\n",
              "1  America/Sao_Paulo      Windows   20.0\n",
              "2      Europe/Madrid  Inny system   16.0"
            ],
            "text/html": [
              "\n",
              "  <div id=\"df-fb07541a-9bb1-458a-b3c5-125fd1de3e18\" class=\"colab-df-container\">\n",
              "    <div>\n",
              "<style scoped>\n",
              "    .dataframe tbody tr th:only-of-type {\n",
              "        vertical-align: middle;\n",
              "    }\n",
              "\n",
              "    .dataframe tbody tr th {\n",
              "        vertical-align: top;\n",
              "    }\n",
              "\n",
              "    .dataframe thead th {\n",
              "        text-align: right;\n",
              "    }\n",
              "</style>\n",
              "<table border=\"1\" class=\"dataframe\">\n",
              "  <thead>\n",
              "    <tr style=\"text-align: right;\">\n",
              "      <th></th>\n",
              "      <th>tz</th>\n",
              "      <th>os</th>\n",
              "      <th>total</th>\n",
              "    </tr>\n",
              "  </thead>\n",
              "  <tbody>\n",
              "    <tr>\n",
              "      <th>0</th>\n",
              "      <td>America/Sao_Paulo</td>\n",
              "      <td>Inny system</td>\n",
              "      <td>13.0</td>\n",
              "    </tr>\n",
              "    <tr>\n",
              "      <th>1</th>\n",
              "      <td>America/Sao_Paulo</td>\n",
              "      <td>Windows</td>\n",
              "      <td>20.0</td>\n",
              "    </tr>\n",
              "    <tr>\n",
              "      <th>2</th>\n",
              "      <td>Europe/Madrid</td>\n",
              "      <td>Inny system</td>\n",
              "      <td>16.0</td>\n",
              "    </tr>\n",
              "  </tbody>\n",
              "</table>\n",
              "</div>\n",
              "    <div class=\"colab-df-buttons\">\n",
              "\n",
              "  <div class=\"colab-df-container\">\n",
              "    <button class=\"colab-df-convert\" onclick=\"convertToInteractive('df-fb07541a-9bb1-458a-b3c5-125fd1de3e18')\"\n",
              "            title=\"Convert this dataframe to an interactive table.\"\n",
              "            style=\"display:none;\">\n",
              "\n",
              "  <svg xmlns=\"http://www.w3.org/2000/svg\" height=\"24px\" viewBox=\"0 -960 960 960\">\n",
              "    <path d=\"M120-120v-720h720v720H120Zm60-500h600v-160H180v160Zm220 220h160v-160H400v160Zm0 220h160v-160H400v160ZM180-400h160v-160H180v160Zm440 0h160v-160H620v160ZM180-180h160v-160H180v160Zm440 0h160v-160H620v160Z\"/>\n",
              "  </svg>\n",
              "    </button>\n",
              "\n",
              "  <style>\n",
              "    .colab-df-container {\n",
              "      display:flex;\n",
              "      gap: 12px;\n",
              "    }\n",
              "\n",
              "    .colab-df-convert {\n",
              "      background-color: #E8F0FE;\n",
              "      border: none;\n",
              "      border-radius: 50%;\n",
              "      cursor: pointer;\n",
              "      display: none;\n",
              "      fill: #1967D2;\n",
              "      height: 32px;\n",
              "      padding: 0 0 0 0;\n",
              "      width: 32px;\n",
              "    }\n",
              "\n",
              "    .colab-df-convert:hover {\n",
              "      background-color: #E2EBFA;\n",
              "      box-shadow: 0px 1px 2px rgba(60, 64, 67, 0.3), 0px 1px 3px 1px rgba(60, 64, 67, 0.15);\n",
              "      fill: #174EA6;\n",
              "    }\n",
              "\n",
              "    .colab-df-buttons div {\n",
              "      margin-bottom: 4px;\n",
              "    }\n",
              "\n",
              "    [theme=dark] .colab-df-convert {\n",
              "      background-color: #3B4455;\n",
              "      fill: #D2E3FC;\n",
              "    }\n",
              "\n",
              "    [theme=dark] .colab-df-convert:hover {\n",
              "      background-color: #434B5C;\n",
              "      box-shadow: 0px 1px 3px 1px rgba(0, 0, 0, 0.15);\n",
              "      filter: drop-shadow(0px 1px 2px rgba(0, 0, 0, 0.3));\n",
              "      fill: #FFFFFF;\n",
              "    }\n",
              "  </style>\n",
              "\n",
              "    <script>\n",
              "      const buttonEl =\n",
              "        document.querySelector('#df-fb07541a-9bb1-458a-b3c5-125fd1de3e18 button.colab-df-convert');\n",
              "      buttonEl.style.display =\n",
              "        google.colab.kernel.accessAllowed ? 'block' : 'none';\n",
              "\n",
              "      async function convertToInteractive(key) {\n",
              "        const element = document.querySelector('#df-fb07541a-9bb1-458a-b3c5-125fd1de3e18');\n",
              "        const dataTable =\n",
              "          await google.colab.kernel.invokeFunction('convertToInteractive',\n",
              "                                                    [key], {});\n",
              "        if (!dataTable) return;\n",
              "\n",
              "        const docLinkHtml = 'Like what you see? Visit the ' +\n",
              "          '<a target=\"_blank\" href=https://colab.research.google.com/notebooks/data_table.ipynb>data table notebook</a>'\n",
              "          + ' to learn more about interactive tables.';\n",
              "        element.innerHTML = '';\n",
              "        dataTable['output_type'] = 'display_data';\n",
              "        await google.colab.output.renderOutput(dataTable, element);\n",
              "        const docLink = document.createElement('div');\n",
              "        docLink.innerHTML = docLinkHtml;\n",
              "        element.appendChild(docLink);\n",
              "      }\n",
              "    </script>\n",
              "  </div>\n",
              "\n",
              "\n",
              "<div id=\"df-070f7690-c563-4272-8065-a0d043f77213\">\n",
              "  <button class=\"colab-df-quickchart\" onclick=\"quickchart('df-070f7690-c563-4272-8065-a0d043f77213')\"\n",
              "            title=\"Suggest charts\"\n",
              "            style=\"display:none;\">\n",
              "\n",
              "<svg xmlns=\"http://www.w3.org/2000/svg\" height=\"24px\"viewBox=\"0 0 24 24\"\n",
              "     width=\"24px\">\n",
              "    <g>\n",
              "        <path d=\"M19 3H5c-1.1 0-2 .9-2 2v14c0 1.1.9 2 2 2h14c1.1 0 2-.9 2-2V5c0-1.1-.9-2-2-2zM9 17H7v-7h2v7zm4 0h-2V7h2v10zm4 0h-2v-4h2v4z\"/>\n",
              "    </g>\n",
              "</svg>\n",
              "  </button>\n",
              "\n",
              "<style>\n",
              "  .colab-df-quickchart {\n",
              "      --bg-color: #E8F0FE;\n",
              "      --fill-color: #1967D2;\n",
              "      --hover-bg-color: #E2EBFA;\n",
              "      --hover-fill-color: #174EA6;\n",
              "      --disabled-fill-color: #AAA;\n",
              "      --disabled-bg-color: #DDD;\n",
              "  }\n",
              "\n",
              "  [theme=dark] .colab-df-quickchart {\n",
              "      --bg-color: #3B4455;\n",
              "      --fill-color: #D2E3FC;\n",
              "      --hover-bg-color: #434B5C;\n",
              "      --hover-fill-color: #FFFFFF;\n",
              "      --disabled-bg-color: #3B4455;\n",
              "      --disabled-fill-color: #666;\n",
              "  }\n",
              "\n",
              "  .colab-df-quickchart {\n",
              "    background-color: var(--bg-color);\n",
              "    border: none;\n",
              "    border-radius: 50%;\n",
              "    cursor: pointer;\n",
              "    display: none;\n",
              "    fill: var(--fill-color);\n",
              "    height: 32px;\n",
              "    padding: 0;\n",
              "    width: 32px;\n",
              "  }\n",
              "\n",
              "  .colab-df-quickchart:hover {\n",
              "    background-color: var(--hover-bg-color);\n",
              "    box-shadow: 0 1px 2px rgba(60, 64, 67, 0.3), 0 1px 3px 1px rgba(60, 64, 67, 0.15);\n",
              "    fill: var(--button-hover-fill-color);\n",
              "  }\n",
              "\n",
              "  .colab-df-quickchart-complete:disabled,\n",
              "  .colab-df-quickchart-complete:disabled:hover {\n",
              "    background-color: var(--disabled-bg-color);\n",
              "    fill: var(--disabled-fill-color);\n",
              "    box-shadow: none;\n",
              "  }\n",
              "\n",
              "  .colab-df-spinner {\n",
              "    border: 2px solid var(--fill-color);\n",
              "    border-color: transparent;\n",
              "    border-bottom-color: var(--fill-color);\n",
              "    animation:\n",
              "      spin 1s steps(1) infinite;\n",
              "  }\n",
              "\n",
              "  @keyframes spin {\n",
              "    0% {\n",
              "      border-color: transparent;\n",
              "      border-bottom-color: var(--fill-color);\n",
              "      border-left-color: var(--fill-color);\n",
              "    }\n",
              "    20% {\n",
              "      border-color: transparent;\n",
              "      border-left-color: var(--fill-color);\n",
              "      border-top-color: var(--fill-color);\n",
              "    }\n",
              "    30% {\n",
              "      border-color: transparent;\n",
              "      border-left-color: var(--fill-color);\n",
              "      border-top-color: var(--fill-color);\n",
              "      border-right-color: var(--fill-color);\n",
              "    }\n",
              "    40% {\n",
              "      border-color: transparent;\n",
              "      border-right-color: var(--fill-color);\n",
              "      border-top-color: var(--fill-color);\n",
              "    }\n",
              "    60% {\n",
              "      border-color: transparent;\n",
              "      border-right-color: var(--fill-color);\n",
              "    }\n",
              "    80% {\n",
              "      border-color: transparent;\n",
              "      border-right-color: var(--fill-color);\n",
              "      border-bottom-color: var(--fill-color);\n",
              "    }\n",
              "    90% {\n",
              "      border-color: transparent;\n",
              "      border-bottom-color: var(--fill-color);\n",
              "    }\n",
              "  }\n",
              "</style>\n",
              "\n",
              "  <script>\n",
              "    async function quickchart(key) {\n",
              "      const quickchartButtonEl =\n",
              "        document.querySelector('#' + key + ' button');\n",
              "      quickchartButtonEl.disabled = true;  // To prevent multiple clicks.\n",
              "      quickchartButtonEl.classList.add('colab-df-spinner');\n",
              "      try {\n",
              "        const charts = await google.colab.kernel.invokeFunction(\n",
              "            'suggestCharts', [key], {});\n",
              "      } catch (error) {\n",
              "        console.error('Error during call to suggestCharts:', error);\n",
              "      }\n",
              "      quickchartButtonEl.classList.remove('colab-df-spinner');\n",
              "      quickchartButtonEl.classList.add('colab-df-quickchart-complete');\n",
              "    }\n",
              "    (() => {\n",
              "      let quickchartButtonEl =\n",
              "        document.querySelector('#df-070f7690-c563-4272-8065-a0d043f77213 button');\n",
              "      quickchartButtonEl.style.display =\n",
              "        google.colab.kernel.accessAllowed ? 'block' : 'none';\n",
              "    })();\n",
              "  </script>\n",
              "</div>\n",
              "\n",
              "    </div>\n",
              "  </div>\n"
            ],
            "application/vnd.google.colaboratory.intrinsic+json": {
              "type": "dataframe",
              "variable_name": "count_subset",
              "summary": "{\n  \"name\": \"count_subset\",\n  \"rows\": 20,\n  \"fields\": [\n    {\n      \"column\": \"tz\",\n      \"properties\": {\n        \"dtype\": \"string\",\n        \"num_unique_values\": 10,\n        \"samples\": [\n          \"\",\n          \"Europe/Madrid\",\n          \"America/Denver\"\n        ],\n        \"semantic_type\": \"\",\n        \"description\": \"\"\n      }\n    },\n    {\n      \"column\": \"os\",\n      \"properties\": {\n        \"dtype\": \"category\",\n        \"num_unique_values\": 2,\n        \"samples\": [\n          \"Windows\",\n          \"Inny system\"\n        ],\n        \"semantic_type\": \"\",\n        \"description\": \"\"\n      }\n    },\n    {\n      \"column\": \"total\",\n      \"properties\": {\n        \"dtype\": \"number\",\n        \"std\": 211.1454973534401,\n        \"min\": 0.0,\n        \"max\": 912.0,\n        \"num_unique_values\": 20,\n        \"samples\": [\n          13.0,\n          276.0\n        ],\n        \"semantic_type\": \"\",\n        \"description\": \"\"\n      }\n    }\n  ]\n}"
            }
          },
          "metadata": {},
          "execution_count": 69
        }
      ]
    },
    {
      "cell_type": "code",
      "execution_count": 54,
      "metadata": {
        "id": "pdj_Es7wyh3K",
        "colab": {
          "base_uri": "https://localhost:8080/"
        },
        "outputId": "f799884d-5620-4eac-bdf5-8993a81c2784"
      },
      "outputs": [
        {
          "output_type": "stream",
          "name": "stderr",
          "text": [
            "<ipython-input-54-26a7a3900395>:5: DeprecationWarning: DataFrameGroupBy.apply operated on the grouping columns. This behavior is deprecated, and in a future version of pandas the grouping columns will be excluded from the operation. Either pass `include_groups=False` to exclude the groupings or explicitly select the grouping columns after groupby to silence this warning.\n",
            "  results = count_subset.groupby(\"tz\").apply(norm_total)\n"
          ]
        }
      ],
      "source": [
        "def norm_total(group):\n",
        "    group[\"normed_total\"] = group[\"total\"] / group[\"total\"].sum()\n",
        "    return group\n",
        "\n",
        "results = count_subset.groupby(\"tz\").apply(norm_total)"
      ]
    },
    {
      "cell_type": "code",
      "execution_count": 55,
      "metadata": {
        "id": "2AKtZYZsyh3K",
        "colab": {
          "base_uri": "https://localhost:8080/",
          "height": 560
        },
        "outputId": "6e53fbb9-cec2-4d06-a8ae-cde7ddc5a058"
      },
      "outputs": [
        {
          "output_type": "execute_result",
          "data": {
            "text/plain": [
              "<matplotlib.legend.Legend at 0x7c935b964250>"
            ]
          },
          "metadata": {},
          "execution_count": 55
        },
        {
          "output_type": "display_data",
          "data": {
            "text/plain": [
              "<Figure size 1000x600 with 1 Axes>"
            ],
            "image/png": "[encoded data removed]"
          },
          "metadata": {}
        }
      ],
      "source": [
        "gfg = sns.barplot(x=\"normed_total\", y=\"tz\", hue=\"os\",  data=results)\n",
        "gfg.set(xlabel =\"Udział\", ylabel = \"Strefa czasowa\")\n",
        "plt.legend(title='System operacyjny')"
      ]
    },
    {
      "cell_type": "markdown",
      "source": [
        "#Movielens"
      ],
      "metadata": {
        "id": "9sAqNFV3Uu5P"
      }
    },
    {
      "cell_type": "code",
      "execution_count": null,
      "metadata": {
        "id": "g9e9dpKzyh3K"
      },
      "outputs": [],
      "source": [
        "\n",
        "unames = [\"user_id\", \"gender\", \"age\", \"occupation\", \"zip\"]\n",
        "users = pd.read_table(\"dane/movielens/users.dat\", sep=\"::\",\n",
        "                      header=None, names=unames, engine=\"python\")\n",
        "\n",
        "rnames = [\"user_id\", \"movie_id\", \"rating\", \"timestamp\"]\n",
        "ratings = pd.read_table(\"dane/movielens/ratings.dat\", sep=\"::\",\n",
        "                        header=None, names=rnames, engine=\"python\")\n",
        "\n",
        "mnames = [\"movie_id\", \"title\", \"genres\"]\n",
        "movies = pd.read_table(\"dane/movielens/movies.dat\", sep=\"::\",\n",
        "                       header=None, names=mnames, engine=\"python\")"
      ]
    },
    {
      "cell_type": "code",
      "execution_count": null,
      "metadata": {
        "id": "E04LsSkHyh3K"
      },
      "outputs": [],
      "source": [
        "#! ipython id=c53d153be32f4a31af7adcc70ba414a6\n",
        "users.head(5)\n",
        "ratings.head(5)\n",
        "movies.head(5)\n",
        "ratings"
      ]
    },
    {
      "cell_type": "code",
      "execution_count": null,
      "metadata": {
        "id": "5J4LchUjyh3K"
      },
      "outputs": [],
      "source": [
        "#! ipython id=326328c171c349389adb61b8e687355e\n",
        "data = pd.merge(pd.merge(ratings, users), movies)\n",
        "data\n",
        "data.iloc[0]"
      ]
    },
    {
      "cell_type": "code",
      "execution_count": null,
      "metadata": {
        "id": "pS0C4yl3yh3K"
      },
      "outputs": [],
      "source": [
        "#! ipython id=e5129c0aac3a400f91f247cb27ae9c3f\n",
        "mean_ratings = data.pivot_table(\"rating\", index=\"title\",\n",
        "                                columns=\"gender\", aggfunc=\"mean\")\n",
        "mean_ratings.head(5)"
      ]
    },
    {
      "cell_type": "code",
      "execution_count": null,
      "metadata": {
        "id": "RWhEfP1Myh3L"
      },
      "outputs": [],
      "source": [
        "#! ipython id=3e174af9b5e342b38519d1b0ce2802a4\n",
        "ratings_by_title = data.groupby(\"title\").size()\n",
        "ratings_by_title.head()\n",
        "active_titles = ratings_by_title.index[ratings_by_title >= 250]\n",
        "active_titles"
      ]
    },
    {
      "cell_type": "code",
      "execution_count": null,
      "metadata": {
        "id": "7iBoSSjxyh3L"
      },
      "outputs": [],
      "source": [
        "#! ipython id=083e410e3d7445baaddbb46d6760c956\n",
        "mean_ratings = mean_ratings.loc[active_titles]\n",
        "mean_ratings"
      ]
    },
    {
      "cell_type": "code",
      "execution_count": null,
      "metadata": {
        "id": "J5Y0w0cAyh3L"
      },
      "outputs": [],
      "source": [
        "#! ipython suppress id=3920a865f3684ea6ab421a78dc0bcba4\n",
        "mean_ratings = mean_ratings.rename(index={\"Seven Samurai (The Magnificent Seven) (Shichinin no samurai) (1954)\":\n",
        "                           \"Seven Samurai (Shichinin no samurai) (1954)\"})"
      ]
    },
    {
      "cell_type": "code",
      "execution_count": null,
      "metadata": {
        "id": "Ao8lQJBByh3P"
      },
      "outputs": [],
      "source": [
        "#! ipython id=a7405fad58a444e283a9c70691b2cd1a\n",
        "top_female_ratings = mean_ratings.sort_values(\"F\", ascending=False)\n",
        "top_female_ratings.head()"
      ]
    },
    {
      "cell_type": "code",
      "execution_count": null,
      "metadata": {
        "id": "0cj3WB2Kyh3P"
      },
      "outputs": [],
      "source": [
        "#! ipython id=30f629f297c14048b06165aabeeed519\n",
        "mean_ratings[\"diff\"] = mean_ratings[\"M\"] - mean_ratings[\"F\"]"
      ]
    },
    {
      "cell_type": "code",
      "execution_count": null,
      "metadata": {
        "id": "97rnsVRoyh3P"
      },
      "outputs": [],
      "source": [
        "#! ipython id=efe335603fda4b159496e6fc78c8546b\n",
        "sorted_by_diff = mean_ratings.sort_values(\"diff\")\n",
        "sorted_by_diff.head()"
      ]
    },
    {
      "cell_type": "code",
      "execution_count": null,
      "metadata": {
        "id": "yC35ie8Ayh3P"
      },
      "outputs": [],
      "source": [
        "#! ipython id=d07b8e30ed1f4252a346e493dc775b4d\n",
        "sorted_by_diff[::-1].head()"
      ]
    },
    {
      "cell_type": "code",
      "execution_count": null,
      "metadata": {
        "id": "HCwS5dB6yh3P"
      },
      "outputs": [],
      "source": [
        "#! ipython id=ce7c8a289d4942079cc643a7a30fe51d\n",
        "rating_std_by_title = data.groupby(\"title\")[\"rating\"].std()\n",
        "rating_std_by_title = rating_std_by_title.loc[active_titles]\n",
        "rating_std_by_title.head()"
      ]
    },
    {
      "cell_type": "code",
      "execution_count": null,
      "metadata": {
        "id": "KL987oJCyh3P"
      },
      "outputs": [],
      "source": [
        "#! ipython id=1b53af1f9cdc44c7ae77c8a6a10e5780\n",
        "rating_std_by_title.sort_values(ascending=False)[:10]"
      ]
    },
    {
      "cell_type": "code",
      "execution_count": null,
      "metadata": {
        "id": "zGIwIRcvyh3P"
      },
      "outputs": [],
      "source": [
        "#! ipython id=79b147a65ea34ffcbe2d799331fcba6d\n",
        "movies[\"genres\"].head()\n",
        "movies[\"genres\"].head().str.split(\"|\")\n",
        "movies[\"genre\"] = movies.pop(\"genres\").str.split(\"|\")\n",
        "movies.head()"
      ]
    },
    {
      "cell_type": "code",
      "execution_count": null,
      "metadata": {
        "id": "MNo6b-hSyh3P"
      },
      "outputs": [],
      "source": [
        "#! ipython id=3a1765e4004f467abde25424f4f68a19\n",
        "movies_exploded = movies.explode(\"genre\")\n",
        "movies_exploded[:10]"
      ]
    },
    {
      "cell_type": "code",
      "execution_count": null,
      "metadata": {
        "id": "zdJ1ybOfyh3Q"
      },
      "outputs": [],
      "source": [
        "#! ipython id=12e06c516e144975bb4f6b33a19d3d17\n",
        "ratings_with_genre = pd.merge(pd.merge(movies_exploded, ratings), users)\n",
        "ratings_with_genre.iloc[0]\n",
        "genre_ratings = (ratings_with_genre.groupby([\"genre\", \"age\"])\n",
        "                 [\"rating\"].mean()\n",
        "                 .unstack(\"age\"))\n",
        "genre_ratings[:10]"
      ]
    },
    {
      "cell_type": "code",
      "execution_count": null,
      "metadata": {
        "id": "KiobPTTLyh3Q"
      },
      "outputs": [],
      "source": [
        "#! ipython id=0b02ebafbf174f5b8b5b8487f314857a\n",
        "!head -n 10 dane/babynames/yob1880.txt"
      ]
    },
    {
      "cell_type": "code",
      "execution_count": null,
      "metadata": {
        "id": "ZUhI59D7yh3Q"
      },
      "outputs": [],
      "source": [
        "#! ipython id=96d7c450b52749f6adc841c2ae245abf\n",
        "names1880 = pd.read_csv(\"dane/babynames/yob1880.txt\",\n",
        "                        names=[\"name\", \"sex\", \"births\"])\n",
        "names1880"
      ]
    },
    {
      "cell_type": "code",
      "execution_count": null,
      "metadata": {
        "id": "eTBsChtDyh3Q"
      },
      "outputs": [],
      "source": [
        "#! ipython id=93704598475f4ace96b41290892a8e22\n",
        "names1880.groupby(\"sex\")[\"births\"].sum()"
      ]
    },
    {
      "cell_type": "code",
      "execution_count": null,
      "metadata": {
        "id": "1MUx3XkQyh3Q"
      },
      "outputs": [],
      "source": [
        "#! ipython verbatim id=c1e1153045b246e6b46b81ed6d740365\n",
        "pieces = []\n",
        "for year in range(1880, 2011):\n",
        "    path = f\"dane/babynames/yob{year}.txt\"\n",
        "    frame = pd.read_csv(path, names=[\"name\", \"sex\", \"births\"])\n",
        "\n",
        "    # Dodaj kolumnę dla danego roku\n",
        "    frame[\"year\"] = year\n",
        "    pieces.append(frame)\n",
        "\n",
        "# Połącz wszystkie dane w jeden obiekt typu DataFrame\n",
        "names = pd.concat(pieces, ignore_index=True)"
      ]
    },
    {
      "cell_type": "code",
      "execution_count": null,
      "metadata": {
        "id": "xgaFPppjyh3Q"
      },
      "outputs": [],
      "source": [
        "#! ipython id=2d1371e5fc5b4989bfdcb50c224f6ecf\n",
        "names"
      ]
    },
    {
      "cell_type": "code",
      "execution_count": null,
      "metadata": {
        "id": "gkv2dlI-yh3Q"
      },
      "outputs": [],
      "source": [
        "#! ipython id=49e2f22b602741ff86b0e01def6297b5\n",
        "total_births = names.pivot_table(\"births\", index=\"year\",\n",
        "                                 columns=\"sex\", aggfunc=sum)\n",
        "total_births.tail()\n",
        "#! figure,id=baby_names_total_births,title=\"Suma urodzeń z podziałem na rok i płeć\"\n",
        "gfg = total_births.plot(title=\"Całkowita liczba urodzeń z podziałem na płeć i lata\")\n",
        "gfg.set(xlabel =\"Rok\", ylabel = \"Liczba\")\n",
        "plt.legend(title=\"Płeć\", labels=[\"dziewczynki\", \"chłopcy\"])"
      ]
    },
    {
      "cell_type": "code",
      "execution_count": null,
      "metadata": {
        "id": "nUdYe45Yyh3Q"
      },
      "outputs": [],
      "source": [
        "#! ipython verbatim id=abb6e87b71ef43b0906c515cbf44ba33\n",
        "def add_prop(group):\n",
        "    group[\"prop\"] = group[\"births\"] / group[\"births\"].sum()\n",
        "    return group\n",
        "names = names.groupby([\"year\", \"sex\"]).apply(add_prop)"
      ]
    },
    {
      "cell_type": "code",
      "execution_count": null,
      "metadata": {
        "id": "FoL1qwT8yh3Q"
      },
      "outputs": [],
      "source": [
        "#! ipython id=af43bd66df8a464a9acf179ea1a2a724\n",
        "names"
      ]
    },
    {
      "cell_type": "code",
      "execution_count": null,
      "metadata": {
        "id": "UJ66etKnyh3Q"
      },
      "outputs": [],
      "source": [
        "#! ipython id=799eddd440ee4047ad4dc571bd534914\n",
        "names.groupby([\"year\", \"sex\"])[\"prop\"].sum()"
      ]
    },
    {
      "cell_type": "code",
      "execution_count": null,
      "metadata": {
        "id": "nixOEYfYyh3Q"
      },
      "outputs": [],
      "source": [
        "#! ipython id=d7cdfcaeec094222850cbd0a754e062d\n",
        "def get_top1000(group):\n",
        "    return group.sort_values(\"births\", ascending=False)[:1000]\n",
        "grouped = names.groupby([\"year\", \"sex\"])\n",
        "top1000 = grouped.apply(get_top1000)\n",
        "top1000.head()"
      ]
    },
    {
      "cell_type": "code",
      "execution_count": null,
      "metadata": {
        "id": "IEb_BVeqyh3Q"
      },
      "outputs": [],
      "source": [
        "#! ipython id=b817c8be4dcf441d826d41f0a679a8f7\n",
        "top1000 = top1000.reset_index(drop=True)"
      ]
    },
    {
      "cell_type": "code",
      "execution_count": null,
      "metadata": {
        "id": "XqtvlHUAyh3Q"
      },
      "outputs": [],
      "source": [
        "#! ipython id=4018f9a519914774bfd558cd9ebfc13b\n",
        "top1000.head()"
      ]
    },
    {
      "cell_type": "code",
      "execution_count": null,
      "metadata": {
        "id": "o66WIWhIyh3Q"
      },
      "outputs": [],
      "source": [
        "#! ipython id=df3701a69ebd4b3cbc438de86d549d93\n",
        "boys = top1000[top1000[\"sex\"] == \"M\"]\n",
        "girls = top1000[top1000[\"sex\"] == \"F\"]"
      ]
    },
    {
      "cell_type": "code",
      "execution_count": null,
      "metadata": {
        "id": "mDqPfIxNyh3Q"
      },
      "outputs": [],
      "source": [
        "#! ipython id=e8e5983e77f741d7b1ad8fe607c9b869\n",
        "total_births = top1000.pivot_table(\"births\", index=\"year\",\n",
        "                                   columns=\"name\",\n",
        "                                   aggfunc=sum)"
      ]
    },
    {
      "cell_type": "code",
      "execution_count": null,
      "metadata": {
        "id": "dQuFZcQJyh3Q"
      },
      "outputs": [],
      "source": [
        "#! ipython id=ec63edf8240a4b739fbf6fd57e6b3c15\n",
        "total_births.info()\n",
        "subset = total_births[[\"John\", \"Harry\", \"Mary\", \"Marilyn\"]]\n",
        "#! figure,id=baby_names_some_names,title=\"Wykres zależności pomiędzy rokiem a liczbą urodzeń chłopców i dziewcząt o wybranych imionach\"\n",
        "gfg = subset.plot(subplots=True, figsize=(12, 10),\n",
        "            title=\"Liczba urodzeń w danym roku\")\n",
        "gfg[3].set(xlabel =\"Rok\")"
      ]
    },
    {
      "cell_type": "code",
      "execution_count": null,
      "metadata": {
        "id": "iLorsuquyh3R"
      },
      "outputs": [],
      "source": [
        "#! ipython suppress id=4353ea3630a8454b94c5093acfb6e8d9\n",
        "plt.figure()"
      ]
    },
    {
      "cell_type": "code",
      "execution_count": null,
      "metadata": {
        "id": "SxnBQOBCyh3R"
      },
      "outputs": [],
      "source": [
        "#! ipython id=686e195247ca4394b0b8047c4019297c\n",
        "table = top1000.pivot_table(\"prop\", index=\"year\",\n",
        "                            columns=\"sex\", aggfunc=sum)\n",
        "#! figure,id=baby_names_tot_prop,title=\"Część urodzonych dzieci, którym nadaje się imiona należące do listy 1000 najpopularniejszych imion (wykres z podziałem na płeć)\"\n",
        "gfg = table.plot(title=\"Suma table1000.prop z podziałem na lata i płeć\",\n",
        "           yticks=np.linspace(0, 1.2, 13))\n",
        "gfg.set(xlabel =\"Rok\")\n",
        "plt.legend(title=\"Płeć\", labels=[\"dziewczynki\", \"chłopcy\"])"
      ]
    },
    {
      "cell_type": "code",
      "execution_count": null,
      "metadata": {
        "id": "sqsMq6uiyh3R"
      },
      "outputs": [],
      "source": [
        "#! ipython id=900fa540badb4cb9be8210d13b2ebee5\n",
        "df = boys[boys[\"year\"] == 2010]\n",
        "df"
      ]
    },
    {
      "cell_type": "code",
      "execution_count": null,
      "metadata": {
        "id": "9s9wVU0Hyh3R"
      },
      "outputs": [],
      "source": [
        "#! ipython id=4410fdd6262e462e982a01a98d55b34e\n",
        "prop_cumsum = df[\"prop\"].sort_values(ascending=False).cumsum()\n",
        "prop_cumsum[:10]\n",
        "prop_cumsum.searchsorted(0.5)"
      ]
    },
    {
      "cell_type": "code",
      "execution_count": null,
      "metadata": {
        "id": "lnQQSSJPyh3R"
      },
      "outputs": [],
      "source": [
        "#! ipython id=e7b5a7c97cb34f8487bdd77ead95eec7\n",
        "df = boys[boys.year == 1900]\n",
        "in1900 = df.sort_values(\"prop\", ascending=False).prop.cumsum()\n",
        "in1900.searchsorted(0.5) + 1"
      ]
    },
    {
      "cell_type": "code",
      "execution_count": null,
      "metadata": {
        "id": "92FpIs45yh3R"
      },
      "outputs": [],
      "source": [
        "#! ipython verbatim id=3275861aaba4432a8159d7004efee61a\n",
        "def get_quantile_count(group, q=0.5):\n",
        "    group = group.sort_values(\"prop\", ascending=False)\n",
        "    return group.prop.cumsum().searchsorted(q) + 1\n",
        "\n",
        "diversity = top1000.groupby([\"year\", \"sex\"]).apply(get_quantile_count)\n",
        "diversity = diversity.unstack()"
      ]
    },
    {
      "cell_type": "code",
      "execution_count": null,
      "metadata": {
        "id": "ZdrEyC91yh3R"
      },
      "outputs": [],
      "source": [
        "#! ipython suppress id=a1adda1ceb0e4783ba0f3709016bede2\n",
        "fig = plt.figure()"
      ]
    },
    {
      "cell_type": "code",
      "execution_count": null,
      "metadata": {
        "id": "reIV-3UDyh3R"
      },
      "outputs": [],
      "source": [
        "#! ipython id=d194e4ae2a2b417aaedec5dcbc12d3a5\n",
        "diversity.head()\n",
        "#! figure,id=baby_names_diversity_fig,title=\"Różnorodność imion z podziałem na lata\"\n",
        "gfg = diversity.plot(title=\"Liczba imion tworzących 50% zbioru najpopularniejszych imion\")\n",
        "gfg.set(xlabel =\"Rok\")\n",
        "plt.legend(title=\"Płeć\", labels=[\"dziewczynki\", \"chłopcy\"])"
      ]
    },
    {
      "cell_type": "code",
      "execution_count": null,
      "metadata": {
        "id": "qnWVnf4Eyh3R"
      },
      "outputs": [],
      "source": [
        "#! ipython verbatim id=086dc90d927b41e99f9af7ecd87aadee\n",
        "def get_last_letter(x):\n",
        "    return x[-1]\n",
        "\n",
        "last_letters = names[\"name\"].map(get_last_letter)\n",
        "last_letters.name = \"last_letter\"\n",
        "\n",
        "table = names.pivot_table(\"births\", index=last_letters,\n",
        "                          columns=[\"sex\", \"year\"], aggfunc=sum)"
      ]
    },
    {
      "cell_type": "code",
      "execution_count": null,
      "metadata": {
        "id": "oTlzoheDyh3R"
      },
      "outputs": [],
      "source": [
        "#! ipython id=81379828617f46a8b289d83319498423\n",
        "subtable = table.reindex(columns=[1910, 1960, 2010], level=\"year\")\n",
        "subtable.head()"
      ]
    },
    {
      "cell_type": "code",
      "execution_count": null,
      "metadata": {
        "id": "bST4wsM6yh3R"
      },
      "outputs": [],
      "source": [
        "#! ipython id=cd458b92c4e14381a5380abc577f750a\n",
        "subtable.sum()\n",
        "letter_prop = subtable / subtable.sum()\n",
        "letter_prop"
      ]
    },
    {
      "cell_type": "code",
      "execution_count": null,
      "metadata": {
        "id": "ikl8LSoTyh3R"
      },
      "outputs": [],
      "source": [
        "#! ipython verbatim id=cddad4c5c57d4c2b9a445f3eda5e625e\n",
        "import matplotlib.pyplot as plt\n",
        "\n",
        "fig, axes = plt.subplots(2, 1, figsize=(10, 12))\n",
        "letter_prop[\"M\"].plot(kind=\"bar\", rot=0, ax=axes[0], title=\"Chłopcy\")\n",
        "letter_prop[\"F\"].plot(kind=\"bar\", rot=0, ax=axes[1], title=\"Dziewczynki\",\n",
        "                      legend=False)\n",
        "axes[0].set_xlabel(\"Ostatnia litera\")\n",
        "axes[0].set_ylabel(\"Udział\")\n",
        "axes[0].legend(title=\"Rok\")\n",
        "axes[1].set_xlabel(\"Ostatnia litera\")\n",
        "axes[1].set_ylabel(\"Udział\")"
      ]
    },
    {
      "cell_type": "code",
      "execution_count": null,
      "metadata": {
        "id": "Q7J2Z3O-yh3R"
      },
      "outputs": [],
      "source": [
        "#! ipython suppress id=dae34a4294ba4b7d8399d480222a8298\n",
        "#! figure,id=baby_names_last_letter,title=\"Ułamek imion męskich i żeńskich kończących się na daną literę\"\n",
        "plt.subplots_adjust(hspace=0.25)"
      ]
    },
    {
      "cell_type": "code",
      "execution_count": null,
      "metadata": {
        "id": "Nz-ghQ5pyh3R"
      },
      "outputs": [],
      "source": [
        "#! ipython id=bf323785196547a0bed71781cfca7f5b\n",
        "letter_prop = table / table.sum()\n",
        "\n",
        "dny_ts = letter_prop.loc[[\"d\", \"n\", \"y\"], \"M\"].T\n",
        "dny_ts.head()"
      ]
    },
    {
      "cell_type": "code",
      "execution_count": null,
      "metadata": {
        "id": "78wzTmNXyh3R"
      },
      "outputs": [],
      "source": [
        "#! ipython suppress id=44c3ae58c11e4723869a9a36aafa582f\n",
        "plt.close(\"all\")"
      ]
    },
    {
      "cell_type": "code",
      "execution_count": null,
      "metadata": {
        "id": "dg9YySGCyh3R"
      },
      "outputs": [],
      "source": [
        "#! ipython suppress id=ecaa55eb4a5a4c6b98547da72ce97cc7\n",
        "fig = plt.figure()"
      ]
    },
    {
      "cell_type": "code",
      "execution_count": null,
      "metadata": {
        "id": "JysBk2h9yh3R"
      },
      "outputs": [],
      "source": [
        "#! ipython id=18558439cbec454696a8d60c22092fee\n",
        "#! figure,id=baby_names_letter_over_time,title=\"Zmiany ułamka urodzonych chłopców, którym nadano imiona kończące się na litery d, n i y\"\n",
        "gfg = dny_ts.plot()\n",
        "gfg.set(xlabel =\"Rok\")\n",
        "plt.legend(title=\"Ostatnia litera\")"
      ]
    },
    {
      "cell_type": "code",
      "execution_count": null,
      "metadata": {
        "id": "x753Ai-Oyh3S"
      },
      "outputs": [],
      "source": [
        "#! ipython id=1e66b95ed2d74763b32127da7c80ec51\n",
        "all_names = pd.Series(top1000[\"name\"].unique())\n",
        "lesley_like = all_names[all_names.str.contains(\"Lesl\")]\n",
        "lesley_like"
      ]
    },
    {
      "cell_type": "code",
      "execution_count": null,
      "metadata": {
        "id": "fG9II-Ldyh3S"
      },
      "outputs": [],
      "source": [
        "#! ipython id=09ef1cec057c4361a6a765175b169d98\n",
        "filtered = top1000[top1000[\"name\"].isin(lesley_like)]\n",
        "filtered.groupby(\"name\")[\"births\"].sum()"
      ]
    },
    {
      "cell_type": "code",
      "execution_count": null,
      "metadata": {
        "id": "c7bef934yh3S"
      },
      "outputs": [],
      "source": [
        "#! ipython id=d4f30978887e471f9d5364c31a608faa\n",
        "table = filtered.pivot_table(\"births\", index=\"year\",\n",
        "                             columns=\"sex\", aggfunc=\"sum\")\n",
        "table = table.div(table.sum(axis=\"columns\"), axis=\"index\")\n",
        "table.tail()"
      ]
    },
    {
      "cell_type": "code",
      "execution_count": null,
      "metadata": {
        "id": "8hSScwXHyh3S"
      },
      "outputs": [],
      "source": [
        "#! ipython suppress id=553d5251c8d84a7b93a66b0908bd7709\n",
        "fig = plt.figure()"
      ]
    },
    {
      "cell_type": "code",
      "execution_count": null,
      "metadata": {
        "id": "rG2fhBYJyh3S"
      },
      "outputs": [],
      "source": [
        "#! ipython id=e706bc2402d645b58fdf4bdf78db9844\n",
        "#! figure,id=\"baby_names_lesley\",title=\"Zmiana liczby chłopców i dziewcząt o imieniu Lesley i imionach podobnych\"\n",
        "gfg = table.plot(style={\"M\": \"k-\", \"F\": \"k--\"})\n",
        "gfg.set(xlabel =\"Rok\")\n",
        "plt.legend(title=\"Płeć\", labels=[\"dziewczynki\", \"chłopcy\"])"
      ]
    },
    {
      "cell_type": "code",
      "execution_count": null,
      "metadata": {
        "id": "xSQVr9XKyh3S"
      },
      "outputs": [],
      "source": [
        "#! ipython id=b35c37358f2744baa362accb22c7b050\n",
        "import json\n",
        "db = json.load(open(\"dane/usda_food/database.json\"))\n",
        "len(db)"
      ]
    },
    {
      "cell_type": "code",
      "execution_count": null,
      "metadata": {
        "id": "M7KF8I_ryh3S"
      },
      "outputs": [],
      "source": [
        "#! ipython id=f04bd1e02f604ea4bd5d295855fd1289\n",
        "db[0].keys()\n",
        "db[0][\"nutrients\"][0]\n",
        "nutrients = pd.DataFrame(db[0][\"nutrients\"])\n",
        "nutrients.head(7)"
      ]
    },
    {
      "cell_type": "code",
      "execution_count": null,
      "metadata": {
        "id": "Y0zWM4i-yh3S"
      },
      "outputs": [],
      "source": [
        "#! ipython id=292500dd7d93484c98341fb4c74fa514\n",
        "info_keys = [\"description\", \"group\", \"id\", \"manufacturer\"]\n",
        "info = pd.DataFrame(db, columns=info_keys)\n",
        "info.head()\n",
        "info.info()"
      ]
    },
    {
      "cell_type": "code",
      "execution_count": null,
      "metadata": {
        "id": "9RLXuxU6yh3S"
      },
      "outputs": [],
      "source": [
        "#! ipython id=7ed01e31319d4bb6af5ef058fb0c7afc\n",
        "pd.value_counts(info[\"group\"])[:10]"
      ]
    },
    {
      "cell_type": "code",
      "execution_count": null,
      "metadata": {
        "id": "VWuKqIRpyh3S"
      },
      "outputs": [],
      "source": [
        "#! ipython verbatim id=24c112fe1ee44d54bf747bae742861fc\n",
        "nutrients = []\n",
        "\n",
        "for rec in db:\n",
        "    fnuts = pd.DataFrame(rec[\"nutrients\"])\n",
        "    fnuts[\"id\"] = rec[\"id\"]\n",
        "    nutrients.append(fnuts)\n",
        "\n",
        "nutrients = pd.concat(nutrients, ignore_index=True)"
      ]
    },
    {
      "cell_type": "code",
      "execution_count": null,
      "metadata": {
        "id": "hf2Al7z6yh3S"
      },
      "outputs": [],
      "source": [
        "#! ipython id=185aa7bd01684e93a298345bbca145e5\n",
        "nutrients"
      ]
    },
    {
      "cell_type": "code",
      "execution_count": null,
      "metadata": {
        "id": "ZJTzjK_Yyh3S"
      },
      "outputs": [],
      "source": [
        "#! ipython id=1c9de0a1f9734472a7ba009a638fa50e\n",
        "nutrients.duplicated().sum()  # Liczba duplikatów\n",
        "nutrients = nutrients.drop_duplicates()"
      ]
    },
    {
      "cell_type": "code",
      "execution_count": null,
      "metadata": {
        "id": "I2cLLPhQyh3S"
      },
      "outputs": [],
      "source": [
        "#! ipython id=fad42e28e4ef433db2b3ac9a1310758a\n",
        "col_mapping = {\"description\" : \"food\",\n",
        "               \"group\"       : \"fgroup\"}\n",
        "info = info.rename(columns=col_mapping, copy=False)\n",
        "info.info()\n",
        "col_mapping = {\"description\" : \"nutrient\",\n",
        "               \"group\" : \"nutgroup\"}\n",
        "nutrients = nutrients.rename(columns=col_mapping, copy=False)\n",
        "nutrients"
      ]
    },
    {
      "cell_type": "code",
      "execution_count": null,
      "metadata": {
        "id": "DgKZqlkTyh3S"
      },
      "outputs": [],
      "source": [
        "#! ipython id=3d1bb6fec99b4df09611f192fbd12462\n",
        "ndata = pd.merge(nutrients, info, on=\"id\")\n",
        "ndata.info()\n",
        "ndata.iloc[30000]"
      ]
    },
    {
      "cell_type": "code",
      "execution_count": null,
      "metadata": {
        "id": "MJWEdsWjyh3S"
      },
      "outputs": [],
      "source": [
        "#! ipython suppress id=02da7933628d4350b5c495755caed9a4\n",
        "fig = plt.figure()"
      ]
    },
    {
      "cell_type": "code",
      "execution_count": null,
      "metadata": {
        "id": "nNRcFnavyh3S"
      },
      "outputs": [],
      "source": [
        "#! ipython id=276ba38a83974b82bbc4849eb024bcb7\n",
        "result = ndata.groupby([\"nutrient\", \"fgroup\"])[\"value\"].quantile(0.5)\n",
        "#! figure,id=fig_wrangle_zinc,width=4in,title=\"Mediana zawartości cynku w poszczególnych grupach produktów spożywczych\"\n",
        "gfg = result[\"Zinc, Zn\"].sort_values().plot(kind=\"barh\")\n",
        "gfg.set(xlabel =\"Mediana\")\n",
        "gfg.set(ylabel =\"Grupa produktów\")"
      ]
    },
    {
      "cell_type": "code",
      "execution_count": null,
      "metadata": {
        "id": "2zssTvF1yh3S"
      },
      "outputs": [],
      "source": [
        "#! ipython verbatim id=539c0a81efd34f95835032021f1e5ab6\n",
        "by_nutrient = ndata.groupby([\"nutgroup\", \"nutrient\"])\n",
        "\n",
        "def get_maximum(x):\n",
        "    return x.loc[x.value.idxmax()]\n",
        "\n",
        "max_foods = by_nutrient.apply(get_maximum)[[\"value\", \"food\"]]\n",
        "\n",
        "# Zmniejsz zakres produktów spożywczych\n",
        "max_foods[\"food\"] = max_foods[\"food\"].str[:50]"
      ]
    },
    {
      "cell_type": "code",
      "execution_count": null,
      "metadata": {
        "id": "RGl5J0Gwyh3T"
      },
      "outputs": [],
      "source": [
        "#! ipython id=bdb361d50f794410823645a33be3c365\n",
        "max_foods.loc[\"Amino Acids\"][\"food\"]"
      ]
    },
    {
      "cell_type": "code",
      "execution_count": null,
      "metadata": {
        "id": "mS9vm-4wyh3T"
      },
      "outputs": [],
      "source": [
        "#! ipython id=1d39de88d04247a692ef7c90ac52edbc\n",
        "fec = pd.read_csv(\"dane/fec/P00000001-ALL.csv\", low_memory=False)\n",
        "fec.info()"
      ]
    },
    {
      "cell_type": "code",
      "execution_count": null,
      "metadata": {
        "id": "w1nRLsjvyh3T"
      },
      "outputs": [],
      "source": [
        "#! ipython id=00bb57847d384a1c868ac10bdf94db5e\n",
        "fec.iloc[123456]"
      ]
    },
    {
      "cell_type": "code",
      "execution_count": null,
      "metadata": {
        "id": "sagAggaSyh3T"
      },
      "outputs": [],
      "source": [
        "#! ipython id=747ed603f23f442abe038ca6108295b6\n",
        "unique_cands = fec[\"cand_nm\"].unique()\n",
        "unique_cands\n",
        "unique_cands[2]"
      ]
    },
    {
      "cell_type": "code",
      "execution_count": null,
      "metadata": {
        "id": "YEYrCQ6Fyh3T"
      },
      "outputs": [],
      "source": [
        "#! ipython verbatim id=f3fee9f744a642bb93414dcdcc4b3eff\n",
        "parties = {\"Bachmann, Michelle\": \"Republican\",\n",
        "           \"Cain, Herman\": \"Republican\",\n",
        "           \"Gingrich, Newt\": \"Republican\",\n",
        "           \"Huntsman, Jon\": \"Republican\",\n",
        "           \"Johnson, Gary Earl\": \"Republican\",\n",
        "           \"McCotter, Thaddeus G\": \"Republican\",\n",
        "           \"Obama, Barack\": \"Democrat\",\n",
        "           \"Paul, Ron\": \"Republican\",\n",
        "           \"Pawlenty, Timothy\": \"Republican\",\n",
        "           \"Perry, Rick\": \"Republican\",\n",
        "           \"Roemer, Charles E. 'Buddy' III\": \"Republican\",\n",
        "           \"Romney, Mitt\": \"Republican\",\n",
        "           \"Santorum, Rick\": \"Republican\"}"
      ]
    },
    {
      "cell_type": "code",
      "execution_count": null,
      "metadata": {
        "id": "j2cv2QjSyh3T"
      },
      "outputs": [],
      "source": [
        "#! ipython id=b659a8f33d0d48adad4fca5927da7a48\n",
        "fec[\"cand_nm\"][123456:123461]\n",
        "fec[\"cand_nm\"][123456:123461].map(parties)\n",
        "# Dodaj w formie kolumny.\n",
        "fec[\"party\"] = fec[\"cand_nm\"].map(parties)\n",
        "fec[\"party\"].value_counts()"
      ]
    },
    {
      "cell_type": "code",
      "execution_count": null,
      "metadata": {
        "id": "SrVlxDEPyh3T"
      },
      "outputs": [],
      "source": [
        "#! ipython id=8d2df181b8d0474d9b3509df8c27c743\n",
        "(fec[\"contb_receipt_amt\"] > 0).value_counts()"
      ]
    },
    {
      "cell_type": "code",
      "execution_count": null,
      "metadata": {
        "id": "nty0yGPdyh3T"
      },
      "outputs": [],
      "source": [
        "#! ipython id=6fcec3476c974121b94a2147252276ca\n",
        "fec = fec[fec[\"contb_receipt_amt\"] > 0]"
      ]
    },
    {
      "cell_type": "code",
      "execution_count": null,
      "metadata": {
        "id": "ifrMxl9Wyh3T"
      },
      "outputs": [],
      "source": [
        "#! ipython id=2f86e0fe1e334c6ab6597b4531d650a5\n",
        "fec_mrbo = fec[fec[\"cand_nm\"].isin([\"Obama, Barack\", \"Romney, Mitt\"])]"
      ]
    },
    {
      "cell_type": "code",
      "execution_count": null,
      "metadata": {
        "id": "FcFXLyCfyh3T"
      },
      "outputs": [],
      "source": [
        "#! ipython id=5f3ce51804ef4ef29e4b443d69fc6e6d\n",
        "fec[\"contbr_occupation\"].value_counts()[:10]"
      ]
    },
    {
      "cell_type": "code",
      "execution_count": null,
      "metadata": {
        "id": "pQsVqcADyh3T"
      },
      "outputs": [],
      "source": [
        "#! ipython verbatim id=c6c82bbba04f445282d55d072300889e\n",
        "occ_mapping = {\n",
        "   \"INFORMATION REQUESTED PER BEST EFFORTS\" : \"NOT PROVIDED\",\n",
        "   \"INFORMATION REQUESTED\" : \"NOT PROVIDED\",\n",
        "   \"INFORMATION REQUESTED (BEST EFFORTS)\" : \"NOT PROVIDED\",\n",
        "   \"C.E.O.\": \"CEO\"\n",
        "}\n",
        "\n",
        "def get_occ(x):\n",
        "    # Zwróć x w przypadku braku mapowania.\n",
        "    return occ_mapping.get(x, x)\n",
        "\n",
        "fec[\"contbr_occupation\"] = fec[\"contbr_occupation\"].map(get_occ)"
      ]
    },
    {
      "cell_type": "code",
      "execution_count": null,
      "metadata": {
        "id": "jQ3DEnXuyh3T"
      },
      "outputs": [],
      "source": [
        "#! ipython verbatim id=6e79332d5ea4476f89503731765aedc7\n",
        "emp_mapping = {\n",
        "   \"INFORMATION REQUESTED PER BEST EFFORTS\" : \"NOT PROVIDED\",\n",
        "   \"INFORMATION REQUESTED\" : \"NOT PROVIDED\",\n",
        "   \"SELF\" : \"SELF-EMPLOYED\",\n",
        "   \"SELF EMPLOYED\" : \"SELF-EMPLOYED\",\n",
        "}\n",
        "\n",
        "def get_emp(x):\n",
        "    # Zwróć x w przypadku braku mapowania.\n",
        "    return emp_mapping.get(x, x)\n",
        "\n",
        "fec[\"contbr_employer\"] = fec[\"contbr_employer\"].map(f)"
      ]
    },
    {
      "cell_type": "code",
      "execution_count": null,
      "metadata": {
        "id": "vK4j5i4Jyh3T"
      },
      "outputs": [],
      "source": [
        "#! ipython id=52c5ed9cbb6042a2a31d92b66349d3df\n",
        "by_occupation = fec.pivot_table(\"contb_receipt_amt\",\n",
        "                                index=\"contbr_occupation\",\n",
        "                                columns=\"party\", aggfunc=\"sum\")\n",
        "over_2mm = by_occupation[by_occupation.sum(axis=\"columns\") > 2000000]\n",
        "over_2mm"
      ]
    },
    {
      "cell_type": "code",
      "execution_count": null,
      "metadata": {
        "id": "vVMHEh9dyh3T"
      },
      "outputs": [],
      "source": [
        "#! ipython suppress id=ce914115742b401dbe73c3a8574063d3\n",
        "plt.figure()"
      ]
    },
    {
      "cell_type": "code",
      "execution_count": null,
      "metadata": {
        "id": "EaAUrkb8yh3T"
      },
      "outputs": [],
      "source": [
        "#! ipython id=33becfe73ad14bd584bf661685329273\n",
        "#! figure,id=groupby_fec_occ_party,width=4.5in,title=\"Całkowite datki na kampanię głównych partii z podziałem na zawody wykonywane przez największych darczyńców\"\n",
        "gfg = over_2mm.plot(kind=\"barh\")\n",
        "gfg.set(xlabel =\"Kwota\", ylabel =\"Zawód\")\n",
        "plt.legend(title=\"Partia\", labels=[\"Demokratyczna\", \"Republikańska\"])"
      ]
    },
    {
      "cell_type": "code",
      "execution_count": null,
      "metadata": {
        "id": "HOzUg3Q1yh3T"
      },
      "outputs": [],
      "source": [
        "#! ipython verbatim id=3dcbd1e24a774aa0a87f1459733b8ecf\n",
        "def get_top_amounts(group, key, n=5):\n",
        "    totals = group.groupby(key)[\"contb_receipt_amt\"].sum()\n",
        "    return totals.nlargest(n)"
      ]
    },
    {
      "cell_type": "code",
      "execution_count": null,
      "metadata": {
        "id": "CZbL0QRgyh3T"
      },
      "outputs": [],
      "source": [
        "#! ipython id=ed90d977b2e8476ab7a241886ac725ca\n",
        "grouped = fec_mrbo.groupby(\"cand_nm\")\n",
        "grouped.apply(get_top_amounts, \"contbr_occupation\", n=7)\n",
        "grouped.apply(get_top_amounts, \"contbr_employer\", n=10)"
      ]
    },
    {
      "cell_type": "code",
      "execution_count": null,
      "metadata": {
        "id": "anW2uzffyh3T"
      },
      "outputs": [],
      "source": [
        "#! ipython id=9430750304c744018ebfe44fa7825f15\n",
        "bins = np.array([0, 1, 10, 100, 1000, 10000,\n",
        "                 100_000, 1_000_000, 10_000_000])\n",
        "labels = pd.cut(fec_mrbo[\"contb_receipt_amt\"], bins)\n",
        "labels"
      ]
    },
    {
      "cell_type": "code",
      "execution_count": null,
      "metadata": {
        "id": "Jl4P8mtHyh3U"
      },
      "outputs": [],
      "source": [
        "#! ipython id=53f9ac1f658442ab824c5684308e083d\n",
        "grouped = fec_mrbo.groupby([\"cand_nm\", labels])\n",
        "grouped.size().unstack(level=0)"
      ]
    },
    {
      "cell_type": "code",
      "execution_count": null,
      "metadata": {
        "id": "2Fw93OVIyh3U"
      },
      "outputs": [],
      "source": [
        "#! ipython suppress id=6e9668803e4f4b6ea96904c4ae9d7d1c\n",
        "plt.figure()"
      ]
    },
    {
      "cell_type": "code",
      "execution_count": null,
      "metadata": {
        "id": "g3FyeBYmyh3U"
      },
      "outputs": [],
      "source": [
        "#! ipython id=94fab00fdb7847b88c42b8faba89c0b2\n",
        "bucket_sums = grouped[\"contb_receipt_amt\"].sum().unstack(level=0)\n",
        "normed_sums = bucket_sums.div(bucket_sums.sum(axis=\"columns\"),\n",
        "                              axis=\"index\")\n",
        "normed_sums\n",
        "#! figure,id=fig_groupby_fec_bucket,width=4.5in,title=\"Procent wszystkich datków należących do poszczególnych koszyków z podziałem na kandydatów\"\n",
        "gfg = normed_sums[:-2].plot(kind=\"barh\")\n",
        "gfg.set(xlabel =\"Udział\", ylabel =\"Zakres kwot\")\n",
        "plt.legend(title=\"Kandydat\")"
      ]
    },
    {
      "cell_type": "code",
      "execution_count": null,
      "metadata": {
        "id": "P-_vsKiZyh3U"
      },
      "outputs": [],
      "source": [
        "#! ipython id=bcffb8dcc3b741fe87058d44f39324f1\n",
        "grouped = fec_mrbo.groupby([\"cand_nm\", \"contbr_st\"])\n",
        "totals = grouped[\"contb_receipt_amt\"].sum().unstack(level=0).fillna(0)\n",
        "totals = totals[totals.sum(axis=\"columns\") > 100000]\n",
        "totals.head(10)"
      ]
    },
    {
      "cell_type": "code",
      "execution_count": null,
      "metadata": {
        "id": "0Q8FfBEGyh3U"
      },
      "outputs": [],
      "source": [
        "#! ipython id=eda82c69272d44b3a8eb23c0adb6ede4\n",
        "percent = totals.div(totals.sum(axis=\"columns\"), axis=\"index\")\n",
        "percent.head(10)"
      ]
    },
    {
      "cell_type": "code",
      "execution_count": null,
      "metadata": {
        "id": "8fHZ9frDyh3U"
      },
      "outputs": [],
      "source": [
        "#! ipython suppress id=c7894724cf8b4ce087cfee42b10068b3\n",
        "%popd"
      ]
    }
  ],
  "metadata": {
    "kernelspec": {
      "display_name": "Python 3 (ipykernel)",
      "language": "python",
      "name": "python3"
    },
    "language_info": {
      "codemirror_mode": {
        "name": "ipython",
        "version": 3
      },
      "file_extension": ".py",
      "mimetype": "text/x-python",
      "name": "python",
      "nbconvert_exporter": "python",
      "pygments_lexer": "ipython3",
      "version": "3.11.0"
    },
    "colab": {
      "provenance": [],
      "toc_visible": true
    }
  },
  "nbformat": 4,
  "nbformat_minor": 0
}