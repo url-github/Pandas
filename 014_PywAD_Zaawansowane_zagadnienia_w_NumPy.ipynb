{
  "cells": [
    {
      "cell_type": "code",
      "source": [
        "pwd"
      ],
      "metadata": {
        "colab": {
          "base_uri": "https://localhost:8080/",
          "height": 35
        },
        "id": "jnZyYpSR2bUd",
        "outputId": "3b636117-f52d-49c3-bb2d-b21a9518c2c6"
      },
      "execution_count": 1,
      "outputs": [
        {
          "output_type": "execute_result",
          "data": {
            "text/plain": [
              "'/content'"
            ],
            "application/vnd.google.colaboratory.intrinsic+json": {
              "type": "string"
            }
          },
          "metadata": {},
          "execution_count": 1
        }
      ]
    },
    {
      "cell_type": "code",
      "execution_count": 2,
      "metadata": {
        "colab": {
          "base_uri": "https://localhost:8080/"
        },
        "id": "Y-S2kSIY2YTW",
        "outputId": "085a474d-6650-447f-ab72-5da391d54062"
      },
      "outputs": [
        {
          "output_type": "stream",
          "name": "stdout",
          "text": [
            "/content\n"
          ]
        }
      ],
      "source": [
        "%pushd /content\n",
        "import numpy as np\n",
        "import pandas as pd\n",
        "import matplotlib.pyplot as plt\n",
        "plt.rc('figure', figsize=(10, 6))\n",
        "PREVIOUS_MAX_ROWS = pd.options.display.max_rows\n",
        "pd.options.display.max_columns = 20\n",
        "pd.options.display.max_rows = 20\n",
        "pd.options.display.max_colwidth = 80\n",
        "np.set_printoptions(precision=4, suppress=True)"
      ]
    },
    {
      "cell_type": "code",
      "execution_count": 3,
      "metadata": {
        "id": "uVEpMdT52YTW"
      },
      "outputs": [],
      "source": [
        "rng = np.random.default_rng(seed=12345)"
      ]
    },
    {
      "cell_type": "markdown",
      "source": [
        "Tworzenie tablicy: `np.ones((10, 5))` tworzy tablicę o wymiarach 10x5, gdzie wszystkie elementy są równe 1.\n",
        "\t2.\tSprawdzanie kształtu: Atrybut `.shape` zwraca kształt tablicy jako krotkę (tuple), która w tym przypadku wynosi `(10, 5)`."
      ],
      "metadata": {
        "id": "ixGHu1Jw20Sb"
      }
    },
    {
      "cell_type": "code",
      "execution_count": 4,
      "metadata": {
        "colab": {
          "base_uri": "https://localhost:8080/"
        },
        "id": "SKBJkT2n2YTX",
        "outputId": "4739a55b-0c55-4894-faf5-d13431430f99"
      },
      "outputs": [
        {
          "output_type": "execute_result",
          "data": {
            "text/plain": [
              "(10, 5)"
            ]
          },
          "metadata": {},
          "execution_count": 4
        }
      ],
      "source": [
        "np.ones((10, 5)).shape"
      ]
    },
    {
      "cell_type": "code",
      "source": [
        "array = np.ones((10, 5))\n",
        "\n",
        "# Uzyskanie kształtu tablicy\n",
        "shape = array.shape\n",
        "\n",
        "print(\"Kształt tablicy:\", shape)"
      ],
      "metadata": {
        "colab": {
          "base_uri": "https://localhost:8080/"
        },
        "id": "I30-vGD-2zip",
        "outputId": "88114aed-6999-427d-a679-9731133f1ebc"
      },
      "execution_count": 9,
      "outputs": [
        {
          "output_type": "stream",
          "name": "stdout",
          "text": [
            "Kształt tablicy: (10, 5)\n"
          ]
        }
      ]
    },
    {
      "cell_type": "markdown",
      "source": [
        "- Obliczanie Strides: Atrybut `strides` zwraca krotkę, która zawiera liczbę bajtów do pominięcia w pamięci dla każdego wymiaru"
      ],
      "metadata": {
        "id": "Vc0oaj9s3da3"
      }
    },
    {
      "cell_type": "code",
      "execution_count": 5,
      "metadata": {
        "colab": {
          "base_uri": "https://localhost:8080/"
        },
        "id": "9pVOwrLJ2YTX",
        "outputId": "2f291d57-4822-4942-bcce-ec08327ddcee"
      },
      "outputs": [
        {
          "output_type": "execute_result",
          "data": {
            "text/plain": [
              "(160, 40, 8)"
            ]
          },
          "metadata": {},
          "execution_count": 5
        }
      ],
      "source": [
        "np.ones((3, 4, 5), dtype=np.float64).strides"
      ]
    },
    {
      "cell_type": "code",
      "execution_count": 10,
      "metadata": {
        "colab": {
          "base_uri": "https://localhost:8080/"
        },
        "id": "ITMrxejW2YTX",
        "outputId": "5d531045-33ad-4985-8859-866e701c01c6"
      },
      "outputs": [
        {
          "output_type": "execute_result",
          "data": {
            "text/plain": [
              "True"
            ]
          },
          "metadata": {},
          "execution_count": 10
        }
      ],
      "source": [
        "ints = np.ones(10, dtype=np.uint16)\n",
        "floats = np.ones(10, dtype=np.float32)\n",
        "np.issubdtype(ints.dtype, np.integer)"
      ]
    },
    {
      "cell_type": "code",
      "source": [
        "np.issubdtype(floats.dtype, np.floating)"
      ],
      "metadata": {
        "colab": {
          "base_uri": "https://localhost:8080/"
        },
        "id": "srLe9_ln3kMA",
        "outputId": "abbbcd8c-8602-49b0-f7d9-fb74a238d3dd"
      },
      "execution_count": 11,
      "outputs": [
        {
          "output_type": "execute_result",
          "data": {
            "text/plain": [
              "True"
            ]
          },
          "metadata": {},
          "execution_count": 11
        }
      ]
    },
    {
      "cell_type": "code",
      "source": [
        "ints"
      ],
      "metadata": {
        "colab": {
          "base_uri": "https://localhost:8080/"
        },
        "id": "EC3XZUoU3od4",
        "outputId": "af47579a-875c-4829-cfb7-44434732a197"
      },
      "execution_count": 12,
      "outputs": [
        {
          "output_type": "execute_result",
          "data": {
            "text/plain": [
              "array([1, 1, 1, 1, 1, 1, 1, 1, 1, 1], dtype=uint16)"
            ]
          },
          "metadata": {},
          "execution_count": 12
        }
      ]
    },
    {
      "cell_type": "code",
      "source": [
        "floats"
      ],
      "metadata": {
        "colab": {
          "base_uri": "https://localhost:8080/"
        },
        "id": "eB8xRSnR3rd9",
        "outputId": "f2bb811e-453c-46f5-f99b-f06e5c688b37"
      },
      "execution_count": 13,
      "outputs": [
        {
          "output_type": "execute_result",
          "data": {
            "text/plain": [
              "array([1., 1., 1., 1., 1., 1., 1., 1., 1., 1.], dtype=float32)"
            ]
          },
          "metadata": {},
          "execution_count": 13
        }
      ]
    },
    {
      "cell_type": "markdown",
      "source": [
        "- MRO (Method Resolution Order) to mechanizm w Pythonie, który określa kolejność, w jakiej klasy są przeszukiwane w przypadku dziedziczenia wielokrotnego. Umożliwia to Pythonowi rozwiązywanie konfliktów i ustalanie, która metoda lub atrybut powinien być użyty."
      ],
      "metadata": {
        "id": "rEtRYim-4JRk"
      }
    },
    {
      "cell_type": "code",
      "execution_count": 14,
      "metadata": {
        "colab": {
          "base_uri": "https://localhost:8080/"
        },
        "id": "4XHfU9Ia2YTX",
        "outputId": "0c4f72f1-3c00-4815-d94b-9e3493113f35"
      },
      "outputs": [
        {
          "output_type": "execute_result",
          "data": {
            "text/plain": [
              "[numpy.float64,\n",
              " numpy.floating,\n",
              " numpy.inexact,\n",
              " numpy.number,\n",
              " numpy.generic,\n",
              " float,\n",
              " object]"
            ]
          },
          "metadata": {},
          "execution_count": 14
        }
      ],
      "source": [
        "np.float64.mro()"
      ]
    },
    {
      "cell_type": "code",
      "execution_count": 17,
      "metadata": {
        "colab": {
          "base_uri": "https://localhost:8080/"
        },
        "id": "L5H9ZYd_2YTX",
        "outputId": "a6d60f15-57e0-4cea-a271-3dbf4b9bbcc6"
      },
      "outputs": [
        {
          "output_type": "execute_result",
          "data": {
            "text/plain": [
              "True"
            ]
          },
          "metadata": {},
          "execution_count": 17
        }
      ],
      "source": [
        "np.issubdtype(ints.dtype, np.number)"
      ]
    },
    {
      "cell_type": "code",
      "source": [
        "arr = np.arange(8)\n",
        "arr"
      ],
      "metadata": {
        "colab": {
          "base_uri": "https://localhost:8080/"
        },
        "id": "65ZHFY-BB6tE",
        "outputId": "efe3f54e-0713-4c05-ef5f-ca3387e474d0"
      },
      "execution_count": 18,
      "outputs": [
        {
          "output_type": "execute_result",
          "data": {
            "text/plain": [
              "array([0, 1, 2, 3, 4, 5, 6, 7])"
            ]
          },
          "metadata": {},
          "execution_count": 18
        }
      ]
    },
    {
      "cell_type": "code",
      "execution_count": 19,
      "metadata": {
        "colab": {
          "base_uri": "https://localhost:8080/"
        },
        "id": "dyaAZ31h2YTX",
        "outputId": "41ce09de-2c77-4274-a56a-9be4713ffce4"
      },
      "outputs": [
        {
          "output_type": "execute_result",
          "data": {
            "text/plain": [
              "array([[0, 1],\n",
              "       [2, 3],\n",
              "       [4, 5],\n",
              "       [6, 7]])"
            ]
          },
          "metadata": {},
          "execution_count": 19
        }
      ],
      "source": [
        "arr.reshape((4, 2))"
      ]
    },
    {
      "cell_type": "code",
      "execution_count": 20,
      "metadata": {
        "colab": {
          "base_uri": "https://localhost:8080/"
        },
        "id": "96yog-Vx2YTY",
        "outputId": "7ecf1ec6-dc68-465d-e23a-cccc8bfe254f"
      },
      "outputs": [
        {
          "output_type": "execute_result",
          "data": {
            "text/plain": [
              "array([[0, 1, 2, 3],\n",
              "       [4, 5, 6, 7]])"
            ]
          },
          "metadata": {},
          "execution_count": 20
        }
      ],
      "source": [
        "arr.reshape((4, 2)).reshape((2, 4))"
      ]
    },
    {
      "cell_type": "code",
      "execution_count": 21,
      "metadata": {
        "colab": {
          "base_uri": "https://localhost:8080/"
        },
        "id": "uY0G5cuK2YTY",
        "outputId": "0439c5b6-7f74-4a91-bd0c-91a2e615d367"
      },
      "outputs": [
        {
          "output_type": "execute_result",
          "data": {
            "text/plain": [
              "array([[ 0,  1,  2],\n",
              "       [ 3,  4,  5],\n",
              "       [ 6,  7,  8],\n",
              "       [ 9, 10, 11],\n",
              "       [12, 13, 14]])"
            ]
          },
          "metadata": {},
          "execution_count": 21
        }
      ],
      "source": [
        "arr = np.arange(15)\n",
        "arr.reshape((5, -1))"
      ]
    },
    {
      "cell_type": "code",
      "execution_count": 22,
      "metadata": {
        "colab": {
          "base_uri": "https://localhost:8080/"
        },
        "id": "97qC3ixj2YTY",
        "outputId": "6604a751-b552-4baf-92c6-d478e9721b47"
      },
      "outputs": [
        {
          "output_type": "execute_result",
          "data": {
            "text/plain": [
              "array([[ 0,  1,  2,  3,  4],\n",
              "       [ 5,  6,  7,  8,  9],\n",
              "       [10, 11, 12, 13, 14]])"
            ]
          },
          "metadata": {},
          "execution_count": 22
        }
      ],
      "source": [
        "other_arr = np.ones((3, 5))\n",
        "other_arr.shape\n",
        "arr.reshape(other_arr.shape)"
      ]
    },
    {
      "cell_type": "code",
      "execution_count": 23,
      "metadata": {
        "colab": {
          "base_uri": "https://localhost:8080/"
        },
        "id": "NbgLWjz-2YTY",
        "outputId": "31555e3e-9aee-4b37-c3f8-076a767f54dc"
      },
      "outputs": [
        {
          "output_type": "execute_result",
          "data": {
            "text/plain": [
              "array([ 0,  1,  2,  3,  4,  5,  6,  7,  8,  9, 10, 11, 12, 13, 14])"
            ]
          },
          "metadata": {},
          "execution_count": 23
        }
      ],
      "source": [
        "arr = np.arange(15).reshape((5, 3))\n",
        "arr\n",
        "arr.ravel()"
      ]
    },
    {
      "cell_type": "code",
      "execution_count": 24,
      "metadata": {
        "colab": {
          "base_uri": "https://localhost:8080/"
        },
        "id": "_jAYWi162YTY",
        "outputId": "ea75143c-da6d-4ada-d2e9-24228f9d2053"
      },
      "outputs": [
        {
          "output_type": "execute_result",
          "data": {
            "text/plain": [
              "array([ 0,  1,  2,  3,  4,  5,  6,  7,  8,  9, 10, 11, 12, 13, 14])"
            ]
          },
          "metadata": {},
          "execution_count": 24
        }
      ],
      "source": [
        "arr.flatten()"
      ]
    },
    {
      "cell_type": "code",
      "execution_count": 25,
      "metadata": {
        "colab": {
          "base_uri": "https://localhost:8080/"
        },
        "id": "FMOw4rEI2YTY",
        "outputId": "a21458b7-2d95-41b8-d895-6238721bbc11"
      },
      "outputs": [
        {
          "output_type": "execute_result",
          "data": {
            "text/plain": [
              "array([ 0,  4,  8,  1,  5,  9,  2,  6, 10,  3,  7, 11])"
            ]
          },
          "metadata": {},
          "execution_count": 25
        }
      ],
      "source": [
        "arr = np.arange(12).reshape((3, 4))\n",
        "arr\n",
        "arr.ravel()\n",
        "arr.ravel('F')"
      ]
    },
    {
      "cell_type": "code",
      "execution_count": 26,
      "metadata": {
        "colab": {
          "base_uri": "https://localhost:8080/"
        },
        "id": "fIPxr1nZ2YTY",
        "outputId": "83e9406a-928a-46dc-d08c-9fcb0e349f21"
      },
      "outputs": [
        {
          "output_type": "execute_result",
          "data": {
            "text/plain": [
              "array([[ 1,  2,  3,  7,  8,  9],\n",
              "       [ 4,  5,  6, 10, 11, 12]])"
            ]
          },
          "metadata": {},
          "execution_count": 26
        }
      ],
      "source": [
        "arr1 = np.array([[1, 2, 3], [4, 5, 6]])\n",
        "arr2 = np.array([[7, 8, 9], [10, 11, 12]])\n",
        "np.concatenate([arr1, arr2], axis=0)\n",
        "np.concatenate([arr1, arr2], axis=1)"
      ]
    },
    {
      "cell_type": "code",
      "execution_count": 27,
      "metadata": {
        "colab": {
          "base_uri": "https://localhost:8080/"
        },
        "id": "IHPrCShd2YTY",
        "outputId": "78d0d0df-b97a-4b08-c2f9-fb78c0dd23af"
      },
      "outputs": [
        {
          "output_type": "execute_result",
          "data": {
            "text/plain": [
              "array([[ 1,  2,  3,  7,  8,  9],\n",
              "       [ 4,  5,  6, 10, 11, 12]])"
            ]
          },
          "metadata": {},
          "execution_count": 27
        }
      ],
      "source": [
        "np.vstack((arr1, arr2))\n",
        "np.hstack((arr1, arr2))"
      ]
    },
    {
      "cell_type": "code",
      "execution_count": 28,
      "metadata": {
        "colab": {
          "base_uri": "https://localhost:8080/"
        },
        "id": "nni6eavY2YTZ",
        "outputId": "091d9526-028c-468a-d8c5-53f500a1205c"
      },
      "outputs": [
        {
          "output_type": "execute_result",
          "data": {
            "text/plain": [
              "array([[-1.3678,  0.6489],\n",
              "       [ 0.3611, -1.9529]])"
            ]
          },
          "metadata": {},
          "execution_count": 28
        }
      ],
      "source": [
        "arr = rng.standard_normal((5, 2))\n",
        "arr\n",
        "first, second, third = np.split(arr, [1, 3])\n",
        "first\n",
        "second\n",
        "third"
      ]
    },
    {
      "cell_type": "code",
      "execution_count": 29,
      "metadata": {
        "colab": {
          "base_uri": "https://localhost:8080/"
        },
        "id": "k0yjqHyA2YTZ",
        "outputId": "c1faf3ef-e131-463a-b3c8-ce4b32bd826c"
      },
      "outputs": [
        {
          "output_type": "execute_result",
          "data": {
            "text/plain": [
              "array([[ 0.    ,  1.    ,  0.    ],\n",
              "       [ 2.    ,  3.    ,  1.    ],\n",
              "       [ 4.    ,  5.    ,  2.    ],\n",
              "       [ 2.3474,  0.9685,  3.    ],\n",
              "       [-0.7594,  0.9022,  4.    ],\n",
              "       [-0.467 , -0.0607,  5.    ]])"
            ]
          },
          "metadata": {},
          "execution_count": 29
        }
      ],
      "source": [
        "arr = np.arange(6)\n",
        "arr1 = arr.reshape((3, 2))\n",
        "arr2 = rng.standard_normal((3, 2))\n",
        "np.r_[arr1, arr2]\n",
        "np.c_[np.r_[arr1, arr2], arr]"
      ]
    },
    {
      "cell_type": "code",
      "execution_count": 30,
      "metadata": {
        "colab": {
          "base_uri": "https://localhost:8080/"
        },
        "id": "QumNPLgg2YTZ",
        "outputId": "68ed23ce-a30e-4ca0-cdf6-bbeab1454858"
      },
      "outputs": [
        {
          "output_type": "execute_result",
          "data": {
            "text/plain": [
              "array([[  1, -10],\n",
              "       [  2,  -9],\n",
              "       [  3,  -8],\n",
              "       [  4,  -7],\n",
              "       [  5,  -6]])"
            ]
          },
          "metadata": {},
          "execution_count": 30
        }
      ],
      "source": [
        "np.c_[1:6, -10:-5]"
      ]
    },
    {
      "cell_type": "code",
      "execution_count": 31,
      "metadata": {
        "colab": {
          "base_uri": "https://localhost:8080/"
        },
        "id": "4ze1B9n72YTZ",
        "outputId": "14cd7aa9-d9ae-4a7e-fddb-4219496c9f56"
      },
      "outputs": [
        {
          "output_type": "execute_result",
          "data": {
            "text/plain": [
              "array([0, 0, 0, 1, 1, 1, 2, 2, 2])"
            ]
          },
          "metadata": {},
          "execution_count": 31
        }
      ],
      "source": [
        "arr = np.arange(3)\n",
        "arr\n",
        "arr.repeat(3)"
      ]
    },
    {
      "cell_type": "code",
      "execution_count": 32,
      "metadata": {
        "colab": {
          "base_uri": "https://localhost:8080/"
        },
        "id": "jDekzEyS2YTZ",
        "outputId": "b53729d3-5df1-4052-b2c4-d4dd98d7af00"
      },
      "outputs": [
        {
          "output_type": "execute_result",
          "data": {
            "text/plain": [
              "array([0, 0, 1, 1, 1, 2, 2, 2, 2])"
            ]
          },
          "metadata": {},
          "execution_count": 32
        }
      ],
      "source": [
        "arr.repeat([2, 3, 4])"
      ]
    },
    {
      "cell_type": "code",
      "execution_count": 33,
      "metadata": {
        "colab": {
          "base_uri": "https://localhost:8080/"
        },
        "id": "VME28H422YTZ",
        "outputId": "62fdd0fe-5513-4b45-b46b-81143dce93a3"
      },
      "outputs": [
        {
          "output_type": "execute_result",
          "data": {
            "text/plain": [
              "array([[ 0.7888, -1.2567],\n",
              "       [ 0.7888, -1.2567],\n",
              "       [ 0.5759,  1.399 ],\n",
              "       [ 0.5759,  1.399 ]])"
            ]
          },
          "metadata": {},
          "execution_count": 33
        }
      ],
      "source": [
        "arr = rng.standard_normal((2, 2))\n",
        "arr\n",
        "arr.repeat(2, axis=0)"
      ]
    },
    {
      "cell_type": "code",
      "execution_count": 34,
      "metadata": {
        "colab": {
          "base_uri": "https://localhost:8080/"
        },
        "id": "0KbZjSgZ2YTZ",
        "outputId": "7b402e69-de6c-46df-d39e-04ce59473939"
      },
      "outputs": [
        {
          "output_type": "execute_result",
          "data": {
            "text/plain": [
              "array([[ 0.7888,  0.7888, -1.2567, -1.2567, -1.2567],\n",
              "       [ 0.5759,  0.5759,  1.399 ,  1.399 ,  1.399 ]])"
            ]
          },
          "metadata": {},
          "execution_count": 34
        }
      ],
      "source": [
        "arr.repeat([2, 3], axis=0)\n",
        "arr.repeat([2, 3], axis=1)"
      ]
    },
    {
      "cell_type": "code",
      "execution_count": 35,
      "metadata": {
        "colab": {
          "base_uri": "https://localhost:8080/"
        },
        "id": "IU00Exvq2YTZ",
        "outputId": "c6f37ab5-ce90-4b95-f911-cc3eb1048651"
      },
      "outputs": [
        {
          "output_type": "execute_result",
          "data": {
            "text/plain": [
              "array([[ 0.7888, -1.2567,  0.7888, -1.2567],\n",
              "       [ 0.5759,  1.399 ,  0.5759,  1.399 ]])"
            ]
          },
          "metadata": {},
          "execution_count": 35
        }
      ],
      "source": [
        "arr\n",
        "np.tile(arr, 2)"
      ]
    },
    {
      "cell_type": "code",
      "execution_count": 36,
      "metadata": {
        "colab": {
          "base_uri": "https://localhost:8080/"
        },
        "id": "NujXSWWu2YTZ",
        "outputId": "a382c9be-1bff-4088-8ede-929011cc9b7f"
      },
      "outputs": [
        {
          "output_type": "execute_result",
          "data": {
            "text/plain": [
              "array([[ 0.7888, -1.2567,  0.7888, -1.2567],\n",
              "       [ 0.5759,  1.399 ,  0.5759,  1.399 ],\n",
              "       [ 0.7888, -1.2567,  0.7888, -1.2567],\n",
              "       [ 0.5759,  1.399 ,  0.5759,  1.399 ],\n",
              "       [ 0.7888, -1.2567,  0.7888, -1.2567],\n",
              "       [ 0.5759,  1.399 ,  0.5759,  1.399 ]])"
            ]
          },
          "metadata": {},
          "execution_count": 36
        }
      ],
      "source": [
        "arr\n",
        "np.tile(arr, (2, 1))\n",
        "np.tile(arr, (3, 2))"
      ]
    },
    {
      "cell_type": "code",
      "execution_count": 37,
      "metadata": {
        "colab": {
          "base_uri": "https://localhost:8080/"
        },
        "id": "dyZAjWkG2YTZ",
        "outputId": "b7d7d67c-07e2-457f-d943-4242d4aa4074"
      },
      "outputs": [
        {
          "output_type": "execute_result",
          "data": {
            "text/plain": [
              "array([700, 100, 200, 600])"
            ]
          },
          "metadata": {},
          "execution_count": 37
        }
      ],
      "source": [
        "arr = np.arange(10) * 100\n",
        "inds = [7, 1, 2, 6]\n",
        "arr[inds]"
      ]
    },
    {
      "cell_type": "code",
      "execution_count": 38,
      "metadata": {
        "colab": {
          "base_uri": "https://localhost:8080/"
        },
        "id": "yiQ8JiJl2YTZ",
        "outputId": "da6323bc-00ed-4160-d98d-f1f4313bcfea"
      },
      "outputs": [
        {
          "output_type": "execute_result",
          "data": {
            "text/plain": [
              "array([  0,  41,  42, 300, 400, 500,  43,  40, 800, 900])"
            ]
          },
          "metadata": {},
          "execution_count": 38
        }
      ],
      "source": [
        "arr.take(inds)\n",
        "arr.put(inds, 42)\n",
        "arr\n",
        "arr.put(inds, [40, 41, 42, 43])\n",
        "arr"
      ]
    },
    {
      "cell_type": "code",
      "execution_count": 39,
      "metadata": {
        "colab": {
          "base_uri": "https://localhost:8080/"
        },
        "id": "O07tUbO52YTZ",
        "outputId": "61a53712-7c78-43a7-85e9-9cd9671aae41"
      },
      "outputs": [
        {
          "output_type": "execute_result",
          "data": {
            "text/plain": [
              "array([[ 0.9029,  1.3223,  0.9029, -0.2997],\n",
              "       [-1.3436, -0.1582, -1.3436,  0.4495]])"
            ]
          },
          "metadata": {},
          "execution_count": 39
        }
      ],
      "source": [
        "inds = [2, 0, 2, 1]\n",
        "arr = rng.standard_normal((2, 4))\n",
        "arr\n",
        "arr.take(inds, axis=1)"
      ]
    },
    {
      "cell_type": "code",
      "execution_count": 40,
      "metadata": {
        "colab": {
          "base_uri": "https://localhost:8080/"
        },
        "id": "V77WTQxB2YTZ",
        "outputId": "4b54b364-1f0c-4cbf-a573-563eb10b6311"
      },
      "outputs": [
        {
          "output_type": "execute_result",
          "data": {
            "text/plain": [
              "array([ 0,  4,  8, 12, 16])"
            ]
          },
          "metadata": {},
          "execution_count": 40
        }
      ],
      "source": [
        "arr = np.arange(5)\n",
        "arr\n",
        "arr * 4"
      ]
    },
    {
      "cell_type": "code",
      "execution_count": 41,
      "metadata": {
        "colab": {
          "base_uri": "https://localhost:8080/"
        },
        "id": "vIrH76Er2YTZ",
        "outputId": "736a235c-f077-42a5-d73b-7e90b0adc8ba"
      },
      "outputs": [
        {
          "output_type": "execute_result",
          "data": {
            "text/plain": [
              "array([ 0., -0.,  0.])"
            ]
          },
          "metadata": {},
          "execution_count": 41
        }
      ],
      "source": [
        "arr = rng.standard_normal((4, 3))\n",
        "arr.mean(0)\n",
        "demeaned = arr - arr.mean(0)\n",
        "demeaned\n",
        "demeaned.mean(0)"
      ]
    },
    {
      "cell_type": "code",
      "execution_count": 42,
      "metadata": {
        "colab": {
          "base_uri": "https://localhost:8080/"
        },
        "id": "QfGkflCV2YTZ",
        "outputId": "bf52db56-b80f-4cfa-f087-de54dd1b0263"
      },
      "outputs": [
        {
          "output_type": "execute_result",
          "data": {
            "text/plain": [
              "array([-0.,  0.,  0.,  0.])"
            ]
          },
          "metadata": {},
          "execution_count": 42
        }
      ],
      "source": [
        "arr\n",
        "row_means = arr.mean(1)\n",
        "row_means.shape\n",
        "row_means.reshape((4, 1))\n",
        "demeaned = arr - row_means.reshape((4, 1))\n",
        "demeaned.mean(1)"
      ]
    },
    {
      "cell_type": "code",
      "source": [
        "arr"
      ],
      "metadata": {
        "colab": {
          "base_uri": "https://localhost:8080/"
        },
        "id": "8epNa52iDJ6H",
        "outputId": "e2bbdeb4-7ce8-4369-a71c-b33173d061c8"
      },
      "execution_count": 44,
      "outputs": [
        {
          "output_type": "execute_result",
          "data": {
            "text/plain": [
              "array([[ 1.7247,  2.6182,  0.7774],\n",
              "       [ 0.8286, -0.959 , -1.2094],\n",
              "       [-1.4123,  0.5415,  0.7519],\n",
              "       [-0.6588, -1.2287,  0.2576]])"
            ]
          },
          "metadata": {},
          "execution_count": 44
        }
      ]
    },
    {
      "cell_type": "code",
      "execution_count": 46,
      "metadata": {
        "colab": {
          "base_uri": "https://localhost:8080/"
        },
        "id": "_K5WBVjI2YTZ",
        "outputId": "32f4e28b-fa81-4eb8-98b7-4bdfedf437ce"
      },
      "outputs": [
        {
          "output_type": "execute_result",
          "data": {
            "text/plain": [
              "array([[ 0.018 ,  0.9114, -0.9294],\n",
              "       [ 1.2752, -0.5124, -0.7628],\n",
              "       [-1.3727,  0.5811,  0.7915],\n",
              "       [-0.1155, -0.6854,  0.8009]])"
            ]
          },
          "metadata": {},
          "execution_count": 46
        }
      ],
      "source": [
        "arr - arr.mean(1).reshape((4, 1))"
      ]
    },
    {
      "cell_type": "code",
      "execution_count": 47,
      "metadata": {
        "colab": {
          "base_uri": "https://localhost:8080/"
        },
        "id": "yojLMegK2YTZ",
        "outputId": "eaf36655-1e23-4b18-9950-816ba658e4c1"
      },
      "outputs": [
        {
          "output_type": "execute_result",
          "data": {
            "text/plain": [
              "array([[ 0.3129, -0.1308,  1.27  ]])"
            ]
          },
          "metadata": {},
          "execution_count": 47
        }
      ],
      "source": [
        "arr = np.zeros((4, 4))\n",
        "arr_3d = arr[:, np.newaxis, :]\n",
        "arr_3d.shape\n",
        "arr_1d = rng.standard_normal(3)\n",
        "arr_1d[:, np.newaxis]\n",
        "arr_1d[np.newaxis, :]"
      ]
    },
    {
      "cell_type": "code",
      "execution_count": 48,
      "metadata": {
        "colab": {
          "base_uri": "https://localhost:8080/"
        },
        "id": "DuUYNPt42YTZ",
        "outputId": "f2894249-6eca-4556-bdb6-6af8eb55be6a"
      },
      "outputs": [
        {
          "output_type": "execute_result",
          "data": {
            "text/plain": [
              "array([[ 0., -0.,  0., -0.],\n",
              "       [ 0., -0., -0., -0.],\n",
              "       [ 0.,  0.,  0.,  0.]])"
            ]
          },
          "metadata": {},
          "execution_count": 48
        }
      ],
      "source": [
        "arr = rng.standard_normal((3, 4, 5))\n",
        "depth_means = arr.mean(2)\n",
        "depth_means\n",
        "depth_means.shape\n",
        "demeaned = arr - depth_means[:, :, np.newaxis]\n",
        "demeaned.mean(2)"
      ]
    },
    {
      "cell_type": "code",
      "execution_count": 49,
      "metadata": {
        "colab": {
          "base_uri": "https://localhost:8080/"
        },
        "id": "lgyb8sTj2YTZ",
        "outputId": "1eeb4bfe-6df3-4586-cfe6-0fb765992dce"
      },
      "outputs": [
        {
          "output_type": "execute_result",
          "data": {
            "text/plain": [
              "array([[5., 5., 5.],\n",
              "       [5., 5., 5.],\n",
              "       [5., 5., 5.],\n",
              "       [5., 5., 5.]])"
            ]
          },
          "metadata": {},
          "execution_count": 49
        }
      ],
      "source": [
        "arr = np.zeros((4, 3))\n",
        "arr[:] = 5\n",
        "arr"
      ]
    },
    {
      "cell_type": "code",
      "execution_count": 50,
      "metadata": {
        "colab": {
          "base_uri": "https://localhost:8080/"
        },
        "id": "YtdjlA-m2YTZ",
        "outputId": "9b6b5f7e-969a-4ba6-cb06-a66ffd60727b"
      },
      "outputs": [
        {
          "output_type": "execute_result",
          "data": {
            "text/plain": [
              "array([[-1.37 , -1.37 , -1.37 ],\n",
              "       [ 0.509,  0.509,  0.509],\n",
              "       [ 0.44 ,  0.44 ,  0.44 ],\n",
              "       [ 1.6  ,  1.6  ,  1.6  ]])"
            ]
          },
          "metadata": {},
          "execution_count": 50
        }
      ],
      "source": [
        "col = np.array([1.28, -0.42, 0.44, 1.6])\n",
        "arr[:] = col[:, np.newaxis]\n",
        "arr\n",
        "arr[:2] = [[-1.37], [0.509]]\n",
        "arr"
      ]
    },
    {
      "cell_type": "code",
      "execution_count": 51,
      "metadata": {
        "colab": {
          "base_uri": "https://localhost:8080/"
        },
        "id": "f523sfUU2YTZ",
        "outputId": "a0d54669-347b-4538-d543-d16acb90cad4"
      },
      "outputs": [
        {
          "output_type": "execute_result",
          "data": {
            "text/plain": [
              "45"
            ]
          },
          "metadata": {},
          "execution_count": 51
        }
      ],
      "source": [
        "arr = np.arange(10)\n",
        "np.add.reduce(arr)\n",
        "arr.sum()"
      ]
    },
    {
      "cell_type": "code",
      "execution_count": 52,
      "metadata": {
        "colab": {
          "base_uri": "https://localhost:8080/"
        },
        "id": "S-Je_l-o2YTZ",
        "outputId": "f8901f5f-4800-4994-9e9c-fa90952cce80"
      },
      "outputs": [
        {
          "output_type": "execute_result",
          "data": {
            "text/plain": [
              "array([ True, False,  True, False,  True])"
            ]
          },
          "metadata": {},
          "execution_count": 52
        }
      ],
      "source": [
        "my_rng = np.random.default_rng(12346)  # for reproducibility\n",
        "arr = my_rng.standard_normal((5, 5))\n",
        "arr\n",
        "arr[::2].sort(1) # posortuj kilka wierszy\n",
        "arr[:, :-1] < arr[:, 1:]\n",
        "np.logical_and.reduce(arr[:, :-1] < arr[:, 1:], axis=1)"
      ]
    },
    {
      "cell_type": "code",
      "execution_count": 53,
      "metadata": {
        "colab": {
          "base_uri": "https://localhost:8080/"
        },
        "id": "gd-IRpML2YTc",
        "outputId": "499832c4-5003-44d8-d26a-3f66457b2804"
      },
      "outputs": [
        {
          "output_type": "execute_result",
          "data": {
            "text/plain": [
              "array([[ 0,  1,  3,  6, 10],\n",
              "       [ 5, 11, 18, 26, 35],\n",
              "       [10, 21, 33, 46, 60]])"
            ]
          },
          "metadata": {},
          "execution_count": 53
        }
      ],
      "source": [
        "arr = np.arange(15).reshape((3, 5))\n",
        "np.add.accumulate(arr, axis=1)"
      ]
    },
    {
      "cell_type": "code",
      "execution_count": 54,
      "metadata": {
        "colab": {
          "base_uri": "https://localhost:8080/"
        },
        "id": "ct7JnrOq2YTc",
        "outputId": "3a232414-7aef-46a4-f1d7-780598350996"
      },
      "outputs": [
        {
          "output_type": "execute_result",
          "data": {
            "text/plain": [
              "array([[0, 0, 0, 0, 0],\n",
              "       [0, 1, 2, 3, 4],\n",
              "       [0, 1, 2, 3, 4],\n",
              "       [0, 2, 4, 6, 8],\n",
              "       [0, 2, 4, 6, 8]])"
            ]
          },
          "metadata": {},
          "execution_count": 54
        }
      ],
      "source": [
        "arr = np.arange(3).repeat([1, 2, 2])\n",
        "arr\n",
        "np.multiply.outer(arr, np.arange(5))"
      ]
    },
    {
      "cell_type": "code",
      "execution_count": 55,
      "metadata": {
        "colab": {
          "base_uri": "https://localhost:8080/"
        },
        "id": "EFDz7UhJ2YTc",
        "outputId": "f587ad92-f626-45a7-a6f3-edeb962015b4"
      },
      "outputs": [
        {
          "output_type": "execute_result",
          "data": {
            "text/plain": [
              "(3, 4, 5)"
            ]
          },
          "metadata": {},
          "execution_count": 55
        }
      ],
      "source": [
        "x, y = rng.standard_normal((3, 4)), rng.standard_normal(5)\n",
        "result = np.subtract.outer(x, y)\n",
        "result.shape"
      ]
    },
    {
      "cell_type": "code",
      "execution_count": 56,
      "metadata": {
        "colab": {
          "base_uri": "https://localhost:8080/"
        },
        "id": "hzngHQC52YTc",
        "outputId": "1f62cec4-c72c-441b-eb2a-a1ffe2da9e2d"
      },
      "outputs": [
        {
          "output_type": "execute_result",
          "data": {
            "text/plain": [
              "array([10, 18, 17])"
            ]
          },
          "metadata": {},
          "execution_count": 56
        }
      ],
      "source": [
        "arr = np.arange(10)\n",
        "np.add.reduceat(arr, [0, 5, 8])"
      ]
    },
    {
      "cell_type": "code",
      "execution_count": 57,
      "metadata": {
        "colab": {
          "base_uri": "https://localhost:8080/"
        },
        "id": "V0ZpPvPD2YTc",
        "outputId": "93c4ba77-eaaf-4686-f54e-77debc1aa2aa"
      },
      "outputs": [
        {
          "output_type": "execute_result",
          "data": {
            "text/plain": [
              "array([[ 0,  0,  0],\n",
              "       [ 1,  5,  4],\n",
              "       [ 2, 10,  8],\n",
              "       [ 3, 15, 12]])"
            ]
          },
          "metadata": {},
          "execution_count": 57
        }
      ],
      "source": [
        "arr = np.multiply.outer(np.arange(4), np.arange(5))\n",
        "arr\n",
        "np.add.reduceat(arr, [0, 2, 4], axis=1)"
      ]
    },
    {
      "cell_type": "code",
      "execution_count": 58,
      "metadata": {
        "colab": {
          "base_uri": "https://localhost:8080/"
        },
        "id": "5Jn608FO2YTc",
        "outputId": "e622db10-2695-4286-c4d3-133e0adcb555"
      },
      "outputs": [
        {
          "output_type": "execute_result",
          "data": {
            "text/plain": [
              "array([0, 2, 4, 6, 8, 10, 12, 14], dtype=object)"
            ]
          },
          "metadata": {},
          "execution_count": 58
        }
      ],
      "source": [
        "def add_elements(x, y):\n",
        "    return x + y\n",
        "add_them = np.frompyfunc(add_elements, 2, 1)\n",
        "add_them(np.arange(8), np.arange(8))"
      ]
    },
    {
      "cell_type": "code",
      "execution_count": 59,
      "metadata": {
        "colab": {
          "base_uri": "https://localhost:8080/"
        },
        "id": "9s1JI_jT2YTc",
        "outputId": "f2023f53-6e8a-4a82-c6cc-f96f5a62534e"
      },
      "outputs": [
        {
          "output_type": "execute_result",
          "data": {
            "text/plain": [
              "array([ 0.,  2.,  4.,  6.,  8., 10., 12., 14.])"
            ]
          },
          "metadata": {},
          "execution_count": 59
        }
      ],
      "source": [
        "add_them = np.vectorize(add_elements, otypes=[np.float64])\n",
        "add_them(np.arange(8), np.arange(8))"
      ]
    },
    {
      "cell_type": "code",
      "execution_count": 60,
      "metadata": {
        "colab": {
          "base_uri": "https://localhost:8080/"
        },
        "id": "-puFq2Mp2YTc",
        "outputId": "b889d9a1-3bd0-4216-f14c-333a5d6fb4db"
      },
      "outputs": [
        {
          "output_type": "stream",
          "name": "stdout",
          "text": [
            "2 ms ± 227 µs per loop (mean ± std. dev. of 7 runs, 100 loops each)\n",
            "6.74 µs ± 2.04 µs per loop (mean ± std. dev. of 7 runs, 100000 loops each)\n"
          ]
        }
      ],
      "source": [
        "arr = rng.standard_normal(10000)\n",
        "%timeit add_them(arr, arr)\n",
        "%timeit np.add(arr, arr)"
      ]
    },
    {
      "cell_type": "code",
      "execution_count": 61,
      "metadata": {
        "colab": {
          "base_uri": "https://localhost:8080/"
        },
        "id": "AjDcWIf52YTc",
        "outputId": "ca19ab1a-16d8-4294-f2b3-4c385eb99f17"
      },
      "outputs": [
        {
          "output_type": "execute_result",
          "data": {
            "text/plain": [
              "array([(1.5   ,  6), (3.1416, -2)], dtype=[('x', '<f8'), ('y', '<i4')])"
            ]
          },
          "metadata": {},
          "execution_count": 61
        }
      ],
      "source": [
        "dtype = [('x', np.float64), ('y', np.int32)]\n",
        "sarr = np.array([(1.5, 6), (np.pi, -2)], dtype=dtype)\n",
        "sarr"
      ]
    },
    {
      "cell_type": "code",
      "execution_count": 62,
      "metadata": {
        "colab": {
          "base_uri": "https://localhost:8080/"
        },
        "id": "t40KomOz2YTc",
        "outputId": "cf916579-506c-47fd-ccf0-2fa6fac1633f"
      },
      "outputs": [
        {
          "output_type": "execute_result",
          "data": {
            "text/plain": [
              "6"
            ]
          },
          "metadata": {},
          "execution_count": 62
        }
      ],
      "source": [
        "sarr[0]\n",
        "sarr[0]['y']"
      ]
    },
    {
      "cell_type": "code",
      "execution_count": 63,
      "metadata": {
        "colab": {
          "base_uri": "https://localhost:8080/"
        },
        "id": "8TMaTUNQ2YTc",
        "outputId": "d3b0ee69-18c8-4dd6-9eb7-311b4461ec47"
      },
      "outputs": [
        {
          "output_type": "execute_result",
          "data": {
            "text/plain": [
              "array([1.5   , 3.1416])"
            ]
          },
          "metadata": {},
          "execution_count": 63
        }
      ],
      "source": [
        "sarr['x']"
      ]
    },
    {
      "cell_type": "code",
      "execution_count": 64,
      "metadata": {
        "colab": {
          "base_uri": "https://localhost:8080/"
        },
        "id": "jxmM9TM32YTc",
        "outputId": "ee30e6bd-42bc-4803-e149-06383adfde06"
      },
      "outputs": [
        {
          "output_type": "execute_result",
          "data": {
            "text/plain": [
              "array([([0, 0, 0], 0), ([0, 0, 0], 0), ([0, 0, 0], 0), ([0, 0, 0], 0)],\n",
              "      dtype=[('x', '<i8', (3,)), ('y', '<i4')])"
            ]
          },
          "metadata": {},
          "execution_count": 64
        }
      ],
      "source": [
        "dtype = [('x', np.int64, 3), ('y', np.int32)]\n",
        "arr = np.zeros(4, dtype=dtype)\n",
        "arr"
      ]
    },
    {
      "cell_type": "code",
      "execution_count": 65,
      "metadata": {
        "colab": {
          "base_uri": "https://localhost:8080/"
        },
        "id": "9lHsMNcX2YTc",
        "outputId": "edd44fdb-2a71-4fd2-b1b3-6ee6cd429acc"
      },
      "outputs": [
        {
          "output_type": "execute_result",
          "data": {
            "text/plain": [
              "array([0, 0, 0])"
            ]
          },
          "metadata": {},
          "execution_count": 65
        }
      ],
      "source": [
        "arr[0]['x']"
      ]
    },
    {
      "cell_type": "code",
      "execution_count": 66,
      "metadata": {
        "colab": {
          "base_uri": "https://localhost:8080/"
        },
        "id": "SHDqdnpB2YTd",
        "outputId": "da586460-63a2-415b-a3a0-199f6e6c170f"
      },
      "outputs": [
        {
          "output_type": "execute_result",
          "data": {
            "text/plain": [
              "array([[0, 0, 0],\n",
              "       [0, 0, 0],\n",
              "       [0, 0, 0],\n",
              "       [0, 0, 0]])"
            ]
          },
          "metadata": {},
          "execution_count": 66
        }
      ],
      "source": [
        "arr['x']"
      ]
    },
    {
      "cell_type": "code",
      "execution_count": 67,
      "metadata": {
        "colab": {
          "base_uri": "https://localhost:8080/"
        },
        "id": "I35EeCW02YTd",
        "outputId": "f1da3b93-8960-45a1-e8e5-29a368798c07"
      },
      "outputs": [
        {
          "output_type": "execute_result",
          "data": {
            "text/plain": [
              "array([1., 3.])"
            ]
          },
          "metadata": {},
          "execution_count": 67
        }
      ],
      "source": [
        "dtype = [('x', [('a', 'f8'), ('b', 'f4')]), ('y', np.int32)]\n",
        "data = np.array([((1, 2), 5), ((3, 4), 6)], dtype=dtype)\n",
        "data['x']\n",
        "data['y']\n",
        "data['x']['a']"
      ]
    },
    {
      "cell_type": "code",
      "execution_count": 68,
      "metadata": {
        "colab": {
          "base_uri": "https://localhost:8080/"
        },
        "id": "Aa26eP0m2YTd",
        "outputId": "0e0a5f87-26b8-4c4b-fd88-97f4f7b5af95"
      },
      "outputs": [
        {
          "output_type": "execute_result",
          "data": {
            "text/plain": [
              "array([-1.1553, -0.9319, -0.5218, -0.4745, -0.1649,  0.03  ])"
            ]
          },
          "metadata": {},
          "execution_count": 68
        }
      ],
      "source": [
        "arr = rng.standard_normal(6)\n",
        "arr.sort()\n",
        "arr"
      ]
    },
    {
      "cell_type": "code",
      "execution_count": 69,
      "metadata": {
        "colab": {
          "base_uri": "https://localhost:8080/"
        },
        "id": "0Qoiq4T62YTd",
        "outputId": "e9c613d5-8c75-40ad-b2e8-b05faa37f0ab"
      },
      "outputs": [
        {
          "output_type": "execute_result",
          "data": {
            "text/plain": [
              "array([[-1.1956,  0.4691, -0.3598,  1.0359,  0.2267],\n",
              "       [-0.7448, -0.5931, -1.055 , -0.0683,  0.458 ],\n",
              "       [-0.07  ,  0.1462, -0.9944,  1.1436,  0.5026]])"
            ]
          },
          "metadata": {},
          "execution_count": 69
        }
      ],
      "source": [
        "arr = rng.standard_normal((3, 5))\n",
        "arr\n",
        "arr[:, 0].sort()  # Sortowanie pierwszej kolumny w miejscu\n",
        "arr"
      ]
    },
    {
      "cell_type": "code",
      "execution_count": 70,
      "metadata": {
        "colab": {
          "base_uri": "https://localhost:8080/"
        },
        "id": "RJaPdcHd2YTd",
        "outputId": "94b1644f-63eb-4bac-b788-b7ef22b13702"
      },
      "outputs": [
        {
          "output_type": "execute_result",
          "data": {
            "text/plain": [
              "array([ 0.8981, -1.1704, -0.2686, -0.796 ,  1.4522])"
            ]
          },
          "metadata": {},
          "execution_count": 70
        }
      ],
      "source": [
        "arr = rng.standard_normal(5)\n",
        "arr\n",
        "np.sort(arr)\n",
        "arr"
      ]
    },
    {
      "cell_type": "code",
      "execution_count": 71,
      "metadata": {
        "colab": {
          "base_uri": "https://localhost:8080/"
        },
        "id": "M5_bIGd92YTd",
        "outputId": "7570aaab-d0cc-4244-b447-92ef4d94dfbb"
      },
      "outputs": [
        {
          "output_type": "execute_result",
          "data": {
            "text/plain": [
              "array([[-0.6245, -0.2535,  0.3634,  1.1279,  2.1183],\n",
              "       [-1.2067, -0.6201, -0.2287, -0.1143,  1.6164],\n",
              "       [-2.1518, -1.3199, -1.0872, -0.6287,  0.083 ]])"
            ]
          },
          "metadata": {},
          "execution_count": 71
        }
      ],
      "source": [
        "arr = rng.standard_normal((3, 5))\n",
        "arr\n",
        "arr.sort(axis=1)\n",
        "arr"
      ]
    },
    {
      "cell_type": "code",
      "execution_count": 72,
      "metadata": {
        "colab": {
          "base_uri": "https://localhost:8080/"
        },
        "id": "H5wBiIia2YTd",
        "outputId": "87e11310-d356-4b4c-99c3-52a0e61953b1"
      },
      "outputs": [
        {
          "output_type": "execute_result",
          "data": {
            "text/plain": [
              "array([[ 2.1183,  1.1279,  0.3634, -0.2535, -0.6245],\n",
              "       [ 1.6164, -0.1143, -0.2287, -0.6201, -1.2067],\n",
              "       [ 0.083 , -0.6287, -1.0872, -1.3199, -2.1518]])"
            ]
          },
          "metadata": {},
          "execution_count": 72
        }
      ],
      "source": [
        "arr[:, ::-1]"
      ]
    },
    {
      "cell_type": "code",
      "execution_count": 73,
      "metadata": {
        "colab": {
          "base_uri": "https://localhost:8080/"
        },
        "id": "76orLQwf2YTd",
        "outputId": "027936ba-282a-4b05-fd37-ca4fa009e548"
      },
      "outputs": [
        {
          "output_type": "execute_result",
          "data": {
            "text/plain": [
              "array([0, 1, 2, 3, 5])"
            ]
          },
          "metadata": {},
          "execution_count": 73
        }
      ],
      "source": [
        "values = np.array([5, 0, 1, 3, 2])\n",
        "indexer = values.argsort()\n",
        "indexer\n",
        "values[indexer]"
      ]
    },
    {
      "cell_type": "code",
      "execution_count": 74,
      "metadata": {
        "colab": {
          "base_uri": "https://localhost:8080/"
        },
        "id": "gcMJML2O2YTd",
        "outputId": "4ad5bb30-1931-4e4a-c981-bcb29ada254a"
      },
      "outputs": [
        {
          "output_type": "execute_result",
          "data": {
            "text/plain": [
              "array([[ 0.    ,  1.    ,  2.    ,  3.    ,  5.    ],\n",
              "       [-2.1268, -1.391 ,  0.4505, -0.4922, -0.7503],\n",
              "       [-1.0479,  0.9553,  0.5379,  0.2936,  0.8926]])"
            ]
          },
          "metadata": {},
          "execution_count": 74
        }
      ],
      "source": [
        "arr = rng.standard_normal((3, 5))\n",
        "arr[0] = values\n",
        "arr\n",
        "arr[:, arr[0].argsort()]"
      ]
    },
    {
      "cell_type": "code",
      "execution_count": 75,
      "metadata": {
        "colab": {
          "base_uri": "https://localhost:8080/"
        },
        "id": "bDtCD8cD2YTd",
        "outputId": "b070bc29-1063-4891-d96c-8db1367e57f8"
      },
      "outputs": [
        {
          "output_type": "execute_result",
          "data": {
            "text/plain": [
              "[('Arnold', 'Jane'),\n",
              " ('Arnold', 'Steve'),\n",
              " ('Jones', 'Bill'),\n",
              " ('Jones', 'Bob'),\n",
              " ('Walters', 'Barbara')]"
            ]
          },
          "metadata": {},
          "execution_count": 75
        }
      ],
      "source": [
        "first_name = np.array(['Bob', 'Jane', 'Steve', 'Bill', 'Barbara'])\n",
        "last_name = np.array(['Jones', 'Arnold', 'Arnold', 'Jones', 'Walters'])\n",
        "sorter = np.lexsort((first_name, last_name))\n",
        "sorter\n",
        "list(zip(last_name[sorter], first_name[sorter]))"
      ]
    },
    {
      "cell_type": "code",
      "execution_count": 76,
      "metadata": {
        "colab": {
          "base_uri": "https://localhost:8080/"
        },
        "id": "j8cARDTw2YTd",
        "outputId": "0b62e5b4-b47e-42d9-eb02-80a950f47ce4"
      },
      "outputs": [
        {
          "output_type": "execute_result",
          "data": {
            "text/plain": [
              "array(['1:first', '1:second', '1:third', '2:first', '2:second'],\n",
              "      dtype='<U8')"
            ]
          },
          "metadata": {},
          "execution_count": 76
        }
      ],
      "source": [
        "values = np.array(['2:first', '2:second', '1:first', '1:second',\n",
        "                   '1:third'])\n",
        "key = np.array([2, 2, 1, 1, 1])\n",
        "indexer = key.argsort(kind='mergesort')\n",
        "indexer\n",
        "values.take(indexer)"
      ]
    },
    {
      "cell_type": "code",
      "execution_count": 77,
      "metadata": {
        "colab": {
          "base_uri": "https://localhost:8080/"
        },
        "id": "AQ2k8jC22YTd",
        "outputId": "a14a4cef-4d46-4fb1-d5b8-9e644358eda8"
      },
      "outputs": [
        {
          "output_type": "execute_result",
          "data": {
            "text/plain": [
              "array([-1.9529, -1.4238, -1.3678, -1.2567, -0.8707, -0.7594, -0.7409,\n",
              "       -0.0607,  0.3611, -0.0753, -0.2592, -0.467 ,  0.5759,  0.9022,\n",
              "        0.9685,  0.6489,  0.7888,  1.2637,  1.399 ,  2.3474])"
            ]
          },
          "metadata": {},
          "execution_count": 77
        }
      ],
      "source": [
        "rng = np.random.default_rng(12345)\n",
        "arr = rng.standard_normal(20)\n",
        "arr\n",
        "np.partition(arr, 3)"
      ]
    },
    {
      "cell_type": "code",
      "execution_count": 78,
      "metadata": {
        "colab": {
          "base_uri": "https://localhost:8080/"
        },
        "id": "_COucyJd2YTd",
        "outputId": "16215d67-f5d5-4b4b-ba29-bf9bcc6c7f22"
      },
      "outputs": [
        {
          "output_type": "execute_result",
          "data": {
            "text/plain": [
              "array([-1.9529, -1.4238, -1.3678, -1.2567, -0.8707, -0.7594, -0.7409,\n",
              "       -0.0607,  0.3611, -0.0753, -0.2592, -0.467 ,  0.5759,  0.9022,\n",
              "        0.9685,  0.6489,  0.7888,  1.2637,  1.399 ,  2.3474])"
            ]
          },
          "metadata": {},
          "execution_count": 78
        }
      ],
      "source": [
        "indices = np.argpartition(arr, 3)\n",
        "indices\n",
        "arr.take(indices)"
      ]
    },
    {
      "cell_type": "code",
      "execution_count": 79,
      "metadata": {
        "colab": {
          "base_uri": "https://localhost:8080/"
        },
        "id": "Di6sNdq92YTd",
        "outputId": "0f72aafc-0a8d-404f-9961-1e69bf97c495"
      },
      "outputs": [
        {
          "output_type": "execute_result",
          "data": {
            "text/plain": [
              "3"
            ]
          },
          "metadata": {},
          "execution_count": 79
        }
      ],
      "source": [
        "arr = np.array([0, 1, 7, 12, 15])\n",
        "arr.searchsorted(9)"
      ]
    },
    {
      "cell_type": "code",
      "execution_count": 80,
      "metadata": {
        "colab": {
          "base_uri": "https://localhost:8080/"
        },
        "id": "3Pvqwp9k2YTd",
        "outputId": "576c407b-b177-4e47-d798-3386edf38ec3"
      },
      "outputs": [
        {
          "output_type": "execute_result",
          "data": {
            "text/plain": [
              "array([0, 3, 3, 5])"
            ]
          },
          "metadata": {},
          "execution_count": 80
        }
      ],
      "source": [
        "arr.searchsorted([0, 8, 11, 16])"
      ]
    },
    {
      "cell_type": "code",
      "execution_count": 81,
      "metadata": {
        "colab": {
          "base_uri": "https://localhost:8080/"
        },
        "id": "7avLe7hA2YTd",
        "outputId": "3d61de8d-fc9b-4334-8951-e158e3e9ccbb"
      },
      "outputs": [
        {
          "output_type": "execute_result",
          "data": {
            "text/plain": [
              "array([3, 7])"
            ]
          },
          "metadata": {},
          "execution_count": 81
        }
      ],
      "source": [
        "arr = np.array([0, 0, 0, 1, 1, 1, 1])\n",
        "arr.searchsorted([0, 1])\n",
        "arr.searchsorted([0, 1], side='right')"
      ]
    },
    {
      "cell_type": "code",
      "execution_count": 82,
      "metadata": {
        "colab": {
          "base_uri": "https://localhost:8080/"
        },
        "id": "mEKesTXU2YTe",
        "outputId": "f3ca8ad2-98b4-42c4-cb43-47445e6a003e"
      },
      "outputs": [
        {
          "output_type": "execute_result",
          "data": {
            "text/plain": [
              "array([ 815., 1598., 3401., 4651., 2664., 8157., 1932., 1294.,  916.,\n",
              "       5985., 8547., 6016., 9319., 7247., 8605., 9293., 5461., 9376.,\n",
              "       4949., 2737., 4517., 6650., 3308., 9034., 2570., 3398., 2588.,\n",
              "       3554.,   50., 6286., 2823.,  680., 6168., 1763., 3043., 4408.,\n",
              "       1502., 2179., 4743., 4763., 2552., 2975., 2790., 2605., 4827.,\n",
              "       2119., 4956., 2462., 8384., 1801.])"
            ]
          },
          "metadata": {},
          "execution_count": 82
        }
      ],
      "source": [
        "data = np.floor(rng.uniform(0, 10000, size=50))\n",
        "bins = np.array([0, 100, 1000, 5000, 10000])\n",
        "data"
      ]
    },
    {
      "cell_type": "code",
      "execution_count": 83,
      "metadata": {
        "colab": {
          "base_uri": "https://localhost:8080/"
        },
        "id": "mGYu9dBL2YTe",
        "outputId": "5e97e9f1-d913-4900-caee-faf30d2e343a"
      },
      "outputs": [
        {
          "output_type": "execute_result",
          "data": {
            "text/plain": [
              "array([2, 3, 3, 3, 3, 4, 3, 3, 2, 4, 4, 4, 4, 4, 4, 4, 4, 4, 3, 3, 3, 4,\n",
              "       3, 4, 3, 3, 3, 3, 1, 4, 3, 2, 4, 3, 3, 3, 3, 3, 3, 3, 3, 3, 3, 3,\n",
              "       3, 3, 3, 3, 4, 3])"
            ]
          },
          "metadata": {},
          "execution_count": 83
        }
      ],
      "source": [
        "labels = bins.searchsorted(data)\n",
        "labels"
      ]
    },
    {
      "cell_type": "code",
      "execution_count": 84,
      "metadata": {
        "colab": {
          "base_uri": "https://localhost:8080/",
          "height": 210
        },
        "id": "VPe5FQs52YTe",
        "outputId": "fcf54a96-2351-4104-e7a2-1927ac932061"
      },
      "outputs": [
        {
          "output_type": "execute_result",
          "data": {
            "text/plain": [
              "1      50.000000\n",
              "2     803.666667\n",
              "3    3079.741935\n",
              "4    7635.200000\n",
              "dtype: float64"
            ],
            "text/html": [
              "<div>\n",
              "<style scoped>\n",
              "    .dataframe tbody tr th:only-of-type {\n",
              "        vertical-align: middle;\n",
              "    }\n",
              "\n",
              "    .dataframe tbody tr th {\n",
              "        vertical-align: top;\n",
              "    }\n",
              "\n",
              "    .dataframe thead th {\n",
              "        text-align: right;\n",
              "    }\n",
              "</style>\n",
              "<table border=\"1\" class=\"dataframe\">\n",
              "  <thead>\n",
              "    <tr style=\"text-align: right;\">\n",
              "      <th></th>\n",
              "      <th>0</th>\n",
              "    </tr>\n",
              "  </thead>\n",
              "  <tbody>\n",
              "    <tr>\n",
              "      <th>1</th>\n",
              "      <td>50.000000</td>\n",
              "    </tr>\n",
              "    <tr>\n",
              "      <th>2</th>\n",
              "      <td>803.666667</td>\n",
              "    </tr>\n",
              "    <tr>\n",
              "      <th>3</th>\n",
              "      <td>3079.741935</td>\n",
              "    </tr>\n",
              "    <tr>\n",
              "      <th>4</th>\n",
              "      <td>7635.200000</td>\n",
              "    </tr>\n",
              "  </tbody>\n",
              "</table>\n",
              "</div><br><label><b>dtype:</b> float64</label>"
            ]
          },
          "metadata": {},
          "execution_count": 84
        }
      ],
      "source": [
        "pd.Series(data).groupby(labels).mean()"
      ]
    },
    {
      "cell_type": "code",
      "execution_count": 85,
      "metadata": {
        "id": "pSqSwqu72YTe"
      },
      "outputs": [],
      "source": [
        "import numpy as np\n",
        "\n",
        "def mean_distance(x, y):\n",
        "    nx = len(x)\n",
        "    result = 0.0\n",
        "    count = 0\n",
        "    for i in range(nx):\n",
        "        result += x[i] - y[i]\n",
        "        count += 1\n",
        "    return result / count"
      ]
    },
    {
      "cell_type": "code",
      "execution_count": 86,
      "metadata": {
        "colab": {
          "base_uri": "https://localhost:8080/"
        },
        "id": "28jAM_eX2YTe",
        "outputId": "e19e92cd-82ee-4ced-c9ca-2a8cfc9422c1"
      },
      "outputs": [
        {
          "output_type": "execute_result",
          "data": {
            "text/plain": [
              "memmap([[0., 0., 0., ..., 0., 0., 0.],\n",
              "        [0., 0., 0., ..., 0., 0., 0.],\n",
              "        [0., 0., 0., ..., 0., 0., 0.],\n",
              "        ...,\n",
              "        [0., 0., 0., ..., 0., 0., 0.],\n",
              "        [0., 0., 0., ..., 0., 0., 0.],\n",
              "        [0., 0., 0., ..., 0., 0., 0.]])"
            ]
          },
          "metadata": {},
          "execution_count": 86
        }
      ],
      "source": [
        "mmap = np.memmap('mymmap', dtype='float64', mode='w+',\n",
        "                 shape=(10000, 10000))\n",
        "mmap"
      ]
    },
    {
      "cell_type": "code",
      "execution_count": 87,
      "metadata": {
        "id": "yvCZTy9v2YTe"
      },
      "outputs": [],
      "source": [
        "section = mmap[:5]"
      ]
    },
    {
      "cell_type": "code",
      "execution_count": 88,
      "metadata": {
        "id": "rssPhLHB2YTe"
      },
      "outputs": [],
      "source": [
        "section[:] = rng.standard_normal((5, 10000))\n",
        "mmap.flush()\n",
        "mmap\n",
        "del mmap"
      ]
    },
    {
      "cell_type": "code",
      "execution_count": 89,
      "metadata": {
        "colab": {
          "base_uri": "https://localhost:8080/"
        },
        "id": "ynog2qmj2YTe",
        "outputId": "9d1dced9-2b1f-40cf-d928-3780c2c6ac1e"
      },
      "outputs": [
        {
          "output_type": "execute_result",
          "data": {
            "text/plain": [
              "memmap([[-0.9074, -1.0954,  0.0071, ...,  0.2753, -1.1641,  0.8521],\n",
              "        [-0.0103, -0.0646, -1.0615, ..., -1.1003,  0.2505,  0.5832],\n",
              "        [ 0.4583,  1.2992,  1.7137, ...,  0.8691, -0.7889, -0.2431],\n",
              "        ...,\n",
              "        [ 0.    ,  0.    ,  0.    , ...,  0.    ,  0.    ,  0.    ],\n",
              "        [ 0.    ,  0.    ,  0.    , ...,  0.    ,  0.    ,  0.    ],\n",
              "        [ 0.    ,  0.    ,  0.    , ...,  0.    ,  0.    ,  0.    ]])"
            ]
          },
          "metadata": {},
          "execution_count": 89
        }
      ],
      "source": [
        "mmap = np.memmap('mymmap', dtype='float64', shape=(10000, 10000))\n",
        "mmap"
      ]
    },
    {
      "cell_type": "code",
      "execution_count": 90,
      "metadata": {
        "id": "c8CbekAT2YTe"
      },
      "outputs": [],
      "source": [
        "%xdel mmap\n",
        "!rm mymmap"
      ]
    },
    {
      "cell_type": "code",
      "execution_count": 91,
      "metadata": {
        "colab": {
          "base_uri": "https://localhost:8080/"
        },
        "id": "9y-WkKrr2YTe",
        "outputId": "76a6ea0a-a2cf-4f18-a657-895585c2e922"
      },
      "outputs": [
        {
          "output_type": "execute_result",
          "data": {
            "text/plain": [
              "True"
            ]
          },
          "metadata": {},
          "execution_count": 91
        }
      ],
      "source": [
        "arr_c = np.ones((100, 10000), order='C')\n",
        "arr_f = np.ones((100, 10000), order='F')\n",
        "arr_c.flags\n",
        "arr_f.flags\n",
        "arr_f.flags.f_contiguous"
      ]
    },
    {
      "cell_type": "code",
      "execution_count": 92,
      "metadata": {
        "colab": {
          "base_uri": "https://localhost:8080/"
        },
        "id": "B6oDLbga2YTe",
        "outputId": "36c181eb-0c23-4a02-96ac-e93191239a94"
      },
      "outputs": [
        {
          "output_type": "stream",
          "name": "stdout",
          "text": [
            "444 µs ± 132 µs per loop (mean ± std. dev. of 7 runs, 1000 loops each)\n",
            "771 µs ± 148 µs per loop (mean ± std. dev. of 7 runs, 1000 loops each)\n"
          ]
        }
      ],
      "source": [
        "%timeit arr_c.sum(1)\n",
        "%timeit arr_f.sum(1)"
      ]
    },
    {
      "cell_type": "code",
      "execution_count": 93,
      "metadata": {
        "colab": {
          "base_uri": "https://localhost:8080/"
        },
        "id": "tidFvy2n2YTe",
        "outputId": "a94c04ec-e834-46f1-cd48-26a0a0ea892a"
      },
      "outputs": [
        {
          "output_type": "execute_result",
          "data": {
            "text/plain": [
              "  C_CONTIGUOUS : True\n",
              "  F_CONTIGUOUS : False\n",
              "  OWNDATA : True\n",
              "  WRITEABLE : True\n",
              "  ALIGNED : True\n",
              "  WRITEBACKIFCOPY : False"
            ]
          },
          "metadata": {},
          "execution_count": 93
        }
      ],
      "source": [
        "arr_f.copy('C').flags"
      ]
    },
    {
      "cell_type": "code",
      "execution_count": 94,
      "metadata": {
        "colab": {
          "base_uri": "https://localhost:8080/"
        },
        "id": "Zkl_Q-t42YTe",
        "outputId": "937f74a6-96d8-4bee-edac-eb14f9a9258b"
      },
      "outputs": [
        {
          "output_type": "execute_result",
          "data": {
            "text/plain": [
              "  C_CONTIGUOUS : False\n",
              "  F_CONTIGUOUS : False\n",
              "  OWNDATA : False\n",
              "  WRITEABLE : True\n",
              "  ALIGNED : True\n",
              "  WRITEBACKIFCOPY : False"
            ]
          },
          "metadata": {},
          "execution_count": 94
        }
      ],
      "source": [
        "arr_c[:50].flags.contiguous\n",
        "arr_c[:, :50].flags"
      ]
    },
    {
      "cell_type": "code",
      "execution_count": 95,
      "metadata": {
        "id": "sNlDlBVO2YTe"
      },
      "outputs": [],
      "source": [
        "%xdel arr_c\n",
        "%xdel arr_f"
      ]
    }
  ],
  "metadata": {
    "kernelspec": {
      "display_name": "Python 3 (ipykernel)",
      "language": "python",
      "name": "python3"
    },
    "language_info": {
      "codemirror_mode": {
        "name": "ipython",
        "version": 3
      },
      "file_extension": ".py",
      "mimetype": "text/x-python",
      "name": "python",
      "nbconvert_exporter": "python",
      "pygments_lexer": "ipython3",
      "version": "3.11.0"
    },
    "colab": {
      "provenance": [],
      "toc_visible": true
    }
  },
  "nbformat": 4,
  "nbformat_minor": 0
}