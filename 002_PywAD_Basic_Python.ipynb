{
  "cells": [
    {
      "cell_type": "markdown",
      "source": [
        "- `%pushd`: To komenda magiczna, która jest używana w interaktywnym środowisku Jupyter Notebook lub IPython. Umożliwia zmianę katalogu roboczego na podany folder (w tym przypadku `/content`) i dodaje bieżący katalog do stosu katalogów.\n",
        "\n",
        "- `np.random.seed(12345)`: Ustawia ziarno dla generatora liczb losowych NumPy. Dzięki temu wyniki generowania liczb losowych będą powtarzalne.\n",
        "\n",
        "- `np.set_printoptions(precision=4)`: Ustala precyzję wyświetlania wartości numerycznych na 4 miejsca po przecinku. Oznacza to, że liczby będą zaokrąglane do czterech miejsc po przecinku podczas wyświetlania.\n",
        "- `suppress=True`: Ustawienie tego argumentu na `True` powoduje, że NumPy nie będzie używał notacji naukowej dla małych wartości (mniejszych niż 1e-4). Zamiast tego wartości będą wyświetlane w standardowej formie dziesiętnej."
      ],
      "metadata": {
        "id": "JWPxuFvdBYo7"
      }
    },
    {
      "cell_type": "code",
      "execution_count": 1,
      "metadata": {
        "colab": {
          "base_uri": "https://localhost:8080/"
        },
        "id": "KpgVJX9xlcVY",
        "outputId": "2e700b93-e15f-446f-ca5c-b23af0bee690"
      },
      "outputs": [
        {
          "output_type": "stream",
          "name": "stdout",
          "text": [
            "/content\n"
          ]
        }
      ],
      "source": [
        "%pushd /content\n",
        "import numpy as np\n",
        "np.random.seed(12345)\n",
        "np.set_printoptions(precision=4, suppress=True)"
      ]
    },
    {
      "cell_type": "markdown",
      "source": [
        "- `np.random.standard_normal()`: Ta funkcja generuje pojedynczą wartość z rozkładu normalnego standardowego (średnia = 0, odchylenie standardowe = 1).\n",
        "\n",
        "- `for i in range(7)`: Używa list comprehension do wygenerowania 7 próbek. Dla każdego `i` w zakresie od 0 do 6 (łącznie 7 iteracji) wywoływana jest funkcja `np.random.standard_normal()`, co skutkuje utworzeniem listy z 7 losowymi wartościami."
      ],
      "metadata": {
        "id": "khDVPpAnpsHf"
      }
    },
    {
      "cell_type": "code",
      "execution_count": 2,
      "metadata": {
        "colab": {
          "base_uri": "https://localhost:8080/"
        },
        "id": "sZzrBLpWlcVZ",
        "outputId": "24823bea-08e9-409e-a289-8a7a33ef466b"
      },
      "outputs": [
        {
          "output_type": "execute_result",
          "data": {
            "text/plain": [
              "[-0.20470765948471295,\n",
              " 0.47894333805754824,\n",
              " -0.5194387150567381,\n",
              " -0.55573030434749,\n",
              " 1.9657805725027142,\n",
              " 1.3934058329729904,\n",
              " 0.09290787674371767]"
            ]
          },
          "metadata": {},
          "execution_count": 2
        }
      ],
      "source": [
        "import numpy as np\n",
        "data = [np.random.standard_normal() for i in range(7)]\n",
        "data"
      ]
    },
    {
      "cell_type": "code",
      "execution_count": 3,
      "metadata": {
        "id": "el9G3MLBlcVa"
      },
      "outputs": [],
      "source": [
        "a = [1, 2, 3]"
      ]
    },
    {
      "cell_type": "code",
      "execution_count": 4,
      "metadata": {
        "colab": {
          "base_uri": "https://localhost:8080/"
        },
        "id": "1GUxMTyjlcVa",
        "outputId": "83cac3f9-fef2-4325-dc1b-9bc94cfcaea0"
      },
      "outputs": [
        {
          "output_type": "execute_result",
          "data": {
            "text/plain": [
              "[1, 2, 3]"
            ]
          },
          "metadata": {},
          "execution_count": 4
        }
      ],
      "source": [
        "b = a\n",
        "b"
      ]
    },
    {
      "cell_type": "code",
      "execution_count": 5,
      "metadata": {
        "colab": {
          "base_uri": "https://localhost:8080/"
        },
        "id": "X8wEWbaDlcVa",
        "outputId": "49b32bb2-9f34-402f-8723-5c088e62ced7"
      },
      "outputs": [
        {
          "output_type": "execute_result",
          "data": {
            "text/plain": [
              "[1, 2, 3, 4]"
            ]
          },
          "metadata": {},
          "execution_count": 5
        }
      ],
      "source": [
        "a.append(4)\n",
        "b"
      ]
    },
    {
      "cell_type": "code",
      "execution_count": 6,
      "metadata": {
        "id": "fJM3Ds5elcVa"
      },
      "outputs": [],
      "source": [
        "def append_element(some_list, element):\n",
        "    some_list.append(element)"
      ]
    },
    {
      "cell_type": "code",
      "execution_count": 7,
      "metadata": {
        "colab": {
          "base_uri": "https://localhost:8080/"
        },
        "id": "qb8ZZLJGlcVb",
        "outputId": "913734c5-dc21-40c5-8575-6e8915676950"
      },
      "outputs": [
        {
          "output_type": "execute_result",
          "data": {
            "text/plain": [
              "[1, 2, 3, 4]"
            ]
          },
          "metadata": {},
          "execution_count": 7
        }
      ],
      "source": [
        "data = [1, 2, 3]\n",
        "append_element(data, 4)\n",
        "data"
      ]
    },
    {
      "cell_type": "code",
      "execution_count": 8,
      "metadata": {
        "colab": {
          "base_uri": "https://localhost:8080/"
        },
        "id": "z3ZWq3jHlcVb",
        "outputId": "f855cd35-1f2c-4af0-c67a-ee4887928676"
      },
      "outputs": [
        {
          "output_type": "execute_result",
          "data": {
            "text/plain": [
              "str"
            ]
          },
          "metadata": {},
          "execution_count": 8
        }
      ],
      "source": [
        "a = 5\n",
        "type(a)\n",
        "a = \"foo\"\n",
        "type(a) # Dynamiczne typowanie w Python"
      ]
    },
    {
      "cell_type": "code",
      "execution_count": 10,
      "metadata": {
        "colab": {
          "base_uri": "https://localhost:8080/",
          "height": 144
        },
        "collapsed": true,
        "id": "L4xQBX6AlcVb",
        "outputId": "28f5b9a7-d40e-4f8a-a83f-ccd7282767fb"
      },
      "outputs": [
        {
          "output_type": "error",
          "ename": "TypeError",
          "evalue": "can only concatenate str (not \"int\") to str",
          "traceback": [
            "\u001b[0;31m---------------------------------------------------------------------------\u001b[0m",
            "\u001b[0;31mTypeError\u001b[0m                                 Traceback (most recent call last)",
            "\u001b[0;32m<ipython-input-10-7fe5aa79f268>\u001b[0m in \u001b[0;36m<cell line: 1>\u001b[0;34m()\u001b[0m\n\u001b[0;32m----> 1\u001b[0;31m \u001b[0;34m\"5\"\u001b[0m \u001b[0;34m+\u001b[0m \u001b[0;36m5\u001b[0m\u001b[0;34m\u001b[0m\u001b[0;34m\u001b[0m\u001b[0m\n\u001b[0m",
            "\u001b[0;31mTypeError\u001b[0m: can only concatenate str (not \"int\") to str"
          ]
        }
      ],
      "source": [
        "\"5\" + 5 # TypeError: can only concatenate str (not \"int\") to str"
      ]
    },
    {
      "cell_type": "code",
      "source": [
        "try:\n",
        "    result = \"5\" + 5  # To spowoduje TypeError\n",
        "except TypeError as e:\n",
        "    print(\"TypeError: Można łączyć tylko ciągi z innymi ciągami.\")\n",
        "    print(f\"Opis błędu: {str(e).upper()}\")"
      ],
      "metadata": {
        "colab": {
          "base_uri": "https://localhost:8080/"
        },
        "id": "2YnhsEu_s1jE",
        "outputId": "177b01f0-6996-4463-a309-d4a0f744aecb"
      },
      "execution_count": 13,
      "outputs": [
        {
          "output_type": "stream",
          "name": "stdout",
          "text": [
            "TypeError: Można łączyć tylko ciągi z innymi ciągami.\n",
            "Opis błędu: CAN ONLY CONCATENATE STR (NOT \"INT\") TO STR\n"
          ]
        }
      ]
    },
    {
      "cell_type": "code",
      "execution_count": 12,
      "metadata": {
        "colab": {
          "base_uri": "https://localhost:8080/"
        },
        "id": "p1jSoqoAlcVb",
        "outputId": "704bed21-9f8e-4018-bfdd-431acf6575d6"
      },
      "outputs": [
        {
          "output_type": "stream",
          "name": "stdout",
          "text": [
            "a is <class 'float'>, b is <class 'int'>\n"
          ]
        },
        {
          "output_type": "execute_result",
          "data": {
            "text/plain": [
              "2.25"
            ]
          },
          "metadata": {},
          "execution_count": 12
        }
      ],
      "source": [
        "a = 4.5\n",
        "b = 2\n",
        "print(f\"a is {type(a)}, b is {type(b)}\")\n",
        "a / b"
      ]
    },
    {
      "cell_type": "code",
      "execution_count": 14,
      "metadata": {
        "colab": {
          "base_uri": "https://localhost:8080/"
        },
        "id": "V-7c87TElcVc",
        "outputId": "1a11c7ca-d55c-427d-8a58-13c16cf368eb"
      },
      "outputs": [
        {
          "output_type": "execute_result",
          "data": {
            "text/plain": [
              "True"
            ]
          },
          "metadata": {},
          "execution_count": 14
        }
      ],
      "source": [
        "a = 5\n",
        "isinstance(a, int)"
      ]
    },
    {
      "cell_type": "code",
      "execution_count": 15,
      "metadata": {
        "colab": {
          "base_uri": "https://localhost:8080/"
        },
        "id": "iqN4jiQslcVc",
        "outputId": "17eee27e-f13a-40e2-9fde-8d931cd93377"
      },
      "outputs": [
        {
          "output_type": "execute_result",
          "data": {
            "text/plain": [
              "True"
            ]
          },
          "metadata": {},
          "execution_count": 15
        }
      ],
      "source": [
        "a = 5; b = 4.5\n",
        "isinstance(a, (int, float))\n",
        "isinstance(b, (int, float))"
      ]
    },
    {
      "cell_type": "markdown",
      "source": [
        "- `<function str.split(sep=None, maxsplit=-1)>`: To informacja, że `getattr()` zwróciło referencję do metody `split()` klasy `str`. Metoda ta jest używana do dzielenia ciągu na listę podciągów na podstawie separatora (domyślnie białych znaków).\n",
        "- `sep=None`: Oznacza, że domyślny separator to białe znaki (spacje, tabulatory itp.).\n",
        "- `maxsplit=-1`: Oznacza, że nie ma limitu na liczbę podziałów (wszystkie wystąpienia separatora będą użyte do podziału)."
      ],
      "metadata": {
        "id": "WxlVNr1SzHvo"
      }
    },
    {
      "cell_type": "code",
      "execution_count": 20,
      "metadata": {
        "colab": {
          "base_uri": "https://localhost:8080/"
        },
        "id": "azRVEkFqlcVc",
        "outputId": "f96129c4-f62c-4c72-c2b7-72ab8b8c58f6"
      },
      "outputs": [
        {
          "output_type": "execute_result",
          "data": {
            "text/plain": [
              "<function str.split(sep=None, maxsplit=-1)>"
            ]
          },
          "metadata": {},
          "execution_count": 20
        }
      ],
      "source": [
        "a = \"foo\"\n",
        "getattr(a, \"split\")"
      ]
    },
    {
      "cell_type": "code",
      "source": [
        "b = 1\n",
        "getattr(b, \"bit_length\")"
      ],
      "metadata": {
        "colab": {
          "base_uri": "https://localhost:8080/"
        },
        "id": "QAZbwX-eBFal",
        "outputId": "779f4268-aaf3-4de2-c6fb-1026bd7ad75d"
      },
      "execution_count": 25,
      "outputs": [
        {
          "output_type": "execute_result",
          "data": {
            "text/plain": [
              "<function int.bit_length()>"
            ]
          },
          "metadata": {},
          "execution_count": 25
        }
      ]
    },
    {
      "cell_type": "markdown",
      "source": [
        "Obiekty iterowalne:\n",
        "\n",
        "- list (np. [1, 2, 3])\n",
        "- tuple (np. (1, 2, 3))\n",
        "- set (np. {1, 2, 3})\n",
        "- dict (np. {\"a\": 1, \"b\": 2} - iteracja odbywa się po kluczach)\n",
        "- frozenset\n",
        "- str (np. \"hello\")\n",
        "- range (np. range(5))\n",
        "- enumerate\n",
        "- zip\n",
        "\n",
        "Obiekty nieiterowalne:\n",
        "- int (np. 42)\n",
        "- float (np. 3.14)\n",
        "- complex (np. 3+4j)\n",
        "- bool (np. True, False)\n",
        "- NoneType (None)\n",
        "- Ellipsis (...)"
      ],
      "metadata": {
        "id": "zLng7FelD-Ov"
      }
    },
    {
      "cell_type": "code",
      "execution_count": 26,
      "metadata": {
        "id": "PGpXlp0DlcVc"
      },
      "outputs": [],
      "source": [
        "def isiterable(obj):\n",
        "    try:\n",
        "        iter(obj)\n",
        "        return True\n",
        "    except TypeError: # Obiekt nie jest iterowalny\n",
        "        return False"
      ]
    },
    {
      "cell_type": "code",
      "execution_count": 29,
      "metadata": {
        "colab": {
          "base_uri": "https://localhost:8080/"
        },
        "id": "ZpXJfqyXlcVc",
        "outputId": "050abd49-2603-4f86-c6ea-a0a20808e83f"
      },
      "outputs": [
        {
          "output_type": "execute_result",
          "data": {
            "text/plain": [
              "True"
            ]
          },
          "metadata": {},
          "execution_count": 29
        }
      ],
      "source": [
        "isiterable(\"a string\") # True\n",
        "isiterable([1, 2, 3]) # True\n",
        "isiterable(5) # False"
      ]
    },
    {
      "cell_type": "code",
      "source": [
        "from collections.abc import Iterable\n",
        "\n",
        "# Przykład dla obiektów iterowalnych\n",
        "print(isinstance([1, 2, 3], Iterable))  # True\n",
        "print(isinstance(\"hello\", Iterable))   # True\n",
        "\n",
        "# Przykład dla obiektów nieiterowalnych\n",
        "print(isinstance(42, Iterable))        # False\n",
        "print(isinstance(None, Iterable))      # False"
      ],
      "metadata": {
        "colab": {
          "base_uri": "https://localhost:8080/"
        },
        "id": "Xav7oOdCGILO",
        "outputId": "1a30674b-cab3-4430-f7f3-a55f33bf88a9"
      },
      "execution_count": 31,
      "outputs": [
        {
          "output_type": "stream",
          "name": "stdout",
          "text": [
            "True\n",
            "True\n",
            "False\n",
            "False\n"
          ]
        }
      ]
    },
    {
      "cell_type": "code",
      "execution_count": 30,
      "metadata": {
        "colab": {
          "base_uri": "https://localhost:8080/"
        },
        "id": "yLthyJZylcVc",
        "outputId": "da6d389d-7dd6-457d-eea2-14127ff8a327"
      },
      "outputs": [
        {
          "output_type": "execute_result",
          "data": {
            "text/plain": [
              "False"
            ]
          },
          "metadata": {},
          "execution_count": 30
        }
      ],
      "source": [
        "5 - 7\n",
        "12 + 21.5\n",
        "5 <= 2"
      ]
    },
    {
      "cell_type": "code",
      "execution_count": 37,
      "metadata": {
        "colab": {
          "base_uri": "https://localhost:8080/"
        },
        "id": "hd48mvoJlcVc",
        "outputId": "6670b229-9a76-4776-df23-dc76c91341cc"
      },
      "outputs": [
        {
          "output_type": "stream",
          "name": "stdout",
          "text": [
            "138516823151104 138516824611008\n"
          ]
        }
      ],
      "source": [
        "a = [1, 2, 3]\n",
        "b = a # True\n",
        "c = list(a) # [1, 2, 3]\n",
        "a is b # True\n",
        "a is not c # True\n",
        "print(id(a), id(c)) # 138516823151104 138516824611008"
      ]
    },
    {
      "cell_type": "code",
      "execution_count": 38,
      "metadata": {
        "colab": {
          "base_uri": "https://localhost:8080/"
        },
        "id": "onxLa0mTlcVc",
        "outputId": "a6d93c33-5f9c-41fc-997f-e86eff79a5d4"
      },
      "outputs": [
        {
          "output_type": "execute_result",
          "data": {
            "text/plain": [
              "True"
            ]
          },
          "metadata": {},
          "execution_count": 38
        }
      ],
      "source": [
        "a == c"
      ]
    },
    {
      "cell_type": "code",
      "execution_count": 39,
      "metadata": {
        "colab": {
          "base_uri": "https://localhost:8080/"
        },
        "id": "7zbhVsqXlcVc",
        "outputId": "912b2448-6360-4645-b25c-d842b75ec2c2"
      },
      "outputs": [
        {
          "output_type": "execute_result",
          "data": {
            "text/plain": [
              "True"
            ]
          },
          "metadata": {},
          "execution_count": 39
        }
      ],
      "source": [
        "a = None\n",
        "a is None"
      ]
    },
    {
      "cell_type": "code",
      "execution_count": 40,
      "metadata": {
        "colab": {
          "base_uri": "https://localhost:8080/"
        },
        "id": "oS3n3NvhlcVd",
        "outputId": "6ce6f9cc-9b4f-4920-c5df-4d149bf0a87f"
      },
      "outputs": [
        {
          "output_type": "execute_result",
          "data": {
            "text/plain": [
              "['foo', 2, (3, 4)]"
            ]
          },
          "metadata": {},
          "execution_count": 40
        }
      ],
      "source": [
        "lista_a = [\"foo\", 2, [4, 5]]\n",
        "lista_a[2] = (3, 4)\n",
        "lista_a"
      ]
    },
    {
      "cell_type": "code",
      "execution_count": 41,
      "metadata": {
        "colab": {
          "base_uri": "https://localhost:8080/",
          "height": 162
        },
        "collapsed": true,
        "id": "OfIL7195lcVd",
        "outputId": "96cdff66-4da1-406a-91d9-033ce4758853"
      },
      "outputs": [
        {
          "output_type": "error",
          "ename": "TypeError",
          "evalue": "'tuple' object does not support item assignment",
          "traceback": [
            "\u001b[0;31m---------------------------------------------------------------------------\u001b[0m",
            "\u001b[0;31mTypeError\u001b[0m                                 Traceback (most recent call last)",
            "\u001b[0;32m<ipython-input-41-b1715f4497dc>\u001b[0m in \u001b[0;36m<cell line: 2>\u001b[0;34m()\u001b[0m\n\u001b[1;32m      1\u001b[0m \u001b[0mkrotka_a\u001b[0m  \u001b[0;34m=\u001b[0m \u001b[0;34m(\u001b[0m\u001b[0;36m3\u001b[0m\u001b[0;34m,\u001b[0m \u001b[0;36m5\u001b[0m\u001b[0;34m,\u001b[0m \u001b[0;34m(\u001b[0m\u001b[0;36m4\u001b[0m\u001b[0;34m,\u001b[0m \u001b[0;36m5\u001b[0m\u001b[0;34m)\u001b[0m\u001b[0;34m)\u001b[0m\u001b[0;34m\u001b[0m\u001b[0;34m\u001b[0m\u001b[0m\n\u001b[0;32m----> 2\u001b[0;31m \u001b[0mkrotka_a\u001b[0m\u001b[0;34m[\u001b[0m\u001b[0;36m1\u001b[0m\u001b[0;34m]\u001b[0m \u001b[0;34m=\u001b[0m \u001b[0;34m\"cztery\"\u001b[0m\u001b[0;34m\u001b[0m\u001b[0;34m\u001b[0m\u001b[0m\n\u001b[0m",
            "\u001b[0;31mTypeError\u001b[0m: 'tuple' object does not support item assignment"
          ]
        }
      ],
      "source": [
        "krotka_a  = (3, 5, (4, 5))\n",
        "krotka_a[1] = \"cztery\" # TypeError: 'tuple' object does not support item assignment"
      ]
    },
    {
      "cell_type": "code",
      "source": [
        "krotka_b  = (1, 1, (4, 5))\n",
        "krotka_b"
      ],
      "metadata": {
        "colab": {
          "base_uri": "https://localhost:8080/"
        },
        "id": "gi6aX2O_IQkO",
        "outputId": "3c90a65b-ab3f-4174-e496-00ea4c2090c7"
      },
      "execution_count": 42,
      "outputs": [
        {
          "output_type": "execute_result",
          "data": {
            "text/plain": [
              "(1, 1, (4, 5))"
            ]
          },
          "metadata": {},
          "execution_count": 42
        }
      ]
    },
    {
      "cell_type": "code",
      "source": [
        "set_a  = set([1, 1, (4, 5)])\n",
        "set_a"
      ],
      "metadata": {
        "colab": {
          "base_uri": "https://localhost:8080/"
        },
        "id": "fz_kQfcWIU5L",
        "outputId": "23f9407e-1d48-4827-9251-0a43822c21c3"
      },
      "execution_count": 48,
      "outputs": [
        {
          "output_type": "execute_result",
          "data": {
            "text/plain": [
              "{(4, 5), 1}"
            ]
          },
          "metadata": {},
          "execution_count": 48
        }
      ]
    },
    {
      "cell_type": "code",
      "execution_count": 49,
      "metadata": {
        "colab": {
          "base_uri": "https://localhost:8080/"
        },
        "id": "Y9NI7TgxlcVd",
        "outputId": "466f03c0-4122-4816-be59-448bb1d0cafe"
      },
      "outputs": [
        {
          "output_type": "execute_result",
          "data": {
            "text/plain": [
              "26254519291092456596965462913230729701102721"
            ]
          },
          "metadata": {},
          "execution_count": 49
        }
      ],
      "source": [
        "ival = 17239871\n",
        "ival ** 6"
      ]
    },
    {
      "cell_type": "markdown",
      "source": [
        "- Wartość: `6.78e-5` to zapis w notacji naukowej, który oznacza . Wartość ta wynosi `0.0000678`."
      ],
      "metadata": {
        "id": "4DhzbvA9Jr3w"
      }
    },
    {
      "cell_type": "code",
      "execution_count": 51,
      "metadata": {
        "colab": {
          "base_uri": "https://localhost:8080/"
        },
        "id": "PxWpsnrWlcVd",
        "outputId": "2f89a1a7-6a40-4b18-eca0-6805f21e87d7"
      },
      "outputs": [
        {
          "output_type": "execute_result",
          "data": {
            "text/plain": [
              "6.78e-05"
            ]
          },
          "metadata": {},
          "execution_count": 51
        }
      ],
      "source": [
        "fval = 7.243\n",
        "fval2 = 6.78e-5\n",
        "fval2"
      ]
    },
    {
      "cell_type": "code",
      "execution_count": 52,
      "metadata": {
        "colab": {
          "base_uri": "https://localhost:8080/"
        },
        "id": "a2gsq2ZqlcVd",
        "outputId": "fac7d8dc-ed66-4f0d-9bec-d5e6e5170b2a"
      },
      "outputs": [
        {
          "output_type": "execute_result",
          "data": {
            "text/plain": [
              "1.5"
            ]
          },
          "metadata": {},
          "execution_count": 52
        }
      ],
      "source": [
        "3 / 2"
      ]
    },
    {
      "cell_type": "code",
      "execution_count": 53,
      "metadata": {
        "colab": {
          "base_uri": "https://localhost:8080/"
        },
        "id": "Uszl1wwllcVd",
        "outputId": "8e5307e2-5630-4304-970d-c7414e4fa528"
      },
      "outputs": [
        {
          "output_type": "execute_result",
          "data": {
            "text/plain": [
              "1"
            ]
          },
          "metadata": {},
          "execution_count": 53
        }
      ],
      "source": [
        "3 // 2"
      ]
    },
    {
      "cell_type": "code",
      "execution_count": 54,
      "metadata": {
        "id": "rQsll_RzlcVd"
      },
      "outputs": [],
      "source": [
        "c = \"\"\"\n",
        "Oto dłuższy ciąg znaków,\n",
        "który zajmuje kilka linii.\n",
        "\"\"\""
      ]
    },
    {
      "cell_type": "code",
      "execution_count": 55,
      "metadata": {
        "colab": {
          "base_uri": "https://localhost:8080/"
        },
        "id": "EDS2aCQ8lcVd",
        "outputId": "4caa093f-ef9e-48ac-a768-7a13dbec6479"
      },
      "outputs": [
        {
          "output_type": "execute_result",
          "data": {
            "text/plain": [
              "3"
            ]
          },
          "metadata": {},
          "execution_count": 55
        }
      ],
      "source": [
        "c.count(\"\\n\")"
      ]
    },
    {
      "cell_type": "code",
      "execution_count": 56,
      "metadata": {
        "colab": {
          "base_uri": "https://localhost:8080/",
          "height": 162
        },
        "collapsed": true,
        "id": "J7qwYT2nlcVd",
        "outputId": "46811ebe-0d65-477e-d8b7-0e2e6d5dace2"
      },
      "outputs": [
        {
          "output_type": "error",
          "ename": "TypeError",
          "evalue": "'str' object does not support item assignment",
          "traceback": [
            "\u001b[0;31m---------------------------------------------------------------------------\u001b[0m",
            "\u001b[0;31mTypeError\u001b[0m                                 Traceback (most recent call last)",
            "\u001b[0;32m<ipython-input-56-6aa88e95169e>\u001b[0m in \u001b[0;36m<cell line: 2>\u001b[0;34m()\u001b[0m\n\u001b[1;32m      1\u001b[0m \u001b[0ma\u001b[0m \u001b[0;34m=\u001b[0m \u001b[0;34m\"przykładowy łańcuch\"\u001b[0m\u001b[0;34m\u001b[0m\u001b[0;34m\u001b[0m\u001b[0m\n\u001b[0;32m----> 2\u001b[0;31m \u001b[0ma\u001b[0m\u001b[0;34m[\u001b[0m\u001b[0;36m10\u001b[0m\u001b[0;34m]\u001b[0m \u001b[0;34m=\u001b[0m \u001b[0;34m\"f\"\u001b[0m\u001b[0;34m\u001b[0m\u001b[0;34m\u001b[0m\u001b[0m\n\u001b[0m",
            "\u001b[0;31mTypeError\u001b[0m: 'str' object does not support item assignment"
          ]
        }
      ],
      "source": [
        "a = \"przykładowy łańcuch\"\n",
        "a[10] = \"f\" # TypeError: 'str' object does not support item assignment"
      ]
    },
    {
      "cell_type": "code",
      "execution_count": 57,
      "metadata": {
        "colab": {
          "base_uri": "https://localhost:8080/",
          "height": 35
        },
        "id": "e-b1gcLIlcVd",
        "outputId": "07fedc37-29a5-49a6-b500-1de4925c0da7"
      },
      "outputs": [
        {
          "output_type": "execute_result",
          "data": {
            "text/plain": [
              "'przykładowy dłuższy łańcuch'"
            ],
            "application/vnd.google.colaboratory.intrinsic+json": {
              "type": "string"
            }
          },
          "metadata": {},
          "execution_count": 57
        }
      ],
      "source": [
        "b = a.replace(\"łańcuch\", \"dłuższy łańcuch\")\n",
        "b"
      ]
    },
    {
      "cell_type": "code",
      "execution_count": 58,
      "metadata": {
        "colab": {
          "base_uri": "https://localhost:8080/",
          "height": 35
        },
        "id": "zKEvzWBQlcVd",
        "outputId": "54a73f25-5347-4b7b-a19a-b75b01208c58"
      },
      "outputs": [
        {
          "output_type": "execute_result",
          "data": {
            "text/plain": [
              "'przykładowy łańcuch'"
            ],
            "application/vnd.google.colaboratory.intrinsic+json": {
              "type": "string"
            }
          },
          "metadata": {},
          "execution_count": 58
        }
      ],
      "source": [
        "a"
      ]
    },
    {
      "cell_type": "code",
      "execution_count": 59,
      "metadata": {
        "colab": {
          "base_uri": "https://localhost:8080/"
        },
        "id": "5Rlxc1jHlcVd",
        "outputId": "78b3924f-08bc-4d60-ded8-5576a7bccb6d"
      },
      "outputs": [
        {
          "output_type": "stream",
          "name": "stdout",
          "text": [
            "5.6\n"
          ]
        }
      ],
      "source": [
        "a = 5.6\n",
        "s = str(a)\n",
        "print(s)"
      ]
    },
    {
      "cell_type": "code",
      "execution_count": 60,
      "metadata": {
        "colab": {
          "base_uri": "https://localhost:8080/",
          "height": 35
        },
        "id": "xBysrckHlcVd",
        "outputId": "887cd5e6-eb9b-46b5-e5f2-dbc1cec68e2f"
      },
      "outputs": [
        {
          "output_type": "execute_result",
          "data": {
            "text/plain": [
              "'pyt'"
            ],
            "application/vnd.google.colaboratory.intrinsic+json": {
              "type": "string"
            }
          },
          "metadata": {},
          "execution_count": 60
        }
      ],
      "source": [
        "s = \"python\"\n",
        "list(s)\n",
        "s[:3]"
      ]
    },
    {
      "cell_type": "code",
      "execution_count": 62,
      "metadata": {
        "colab": {
          "base_uri": "https://localhost:8080/"
        },
        "id": "AITl9QXxlcVd",
        "outputId": "eaa486b9-4d51-495b-a93f-f67aa48709f7"
      },
      "outputs": [
        {
          "output_type": "stream",
          "name": "stdout",
          "text": [
            "12\\34\n"
          ]
        }
      ],
      "source": [
        "s = \"12\\\\34\"\n",
        "print(s)"
      ]
    },
    {
      "cell_type": "code",
      "execution_count": 63,
      "metadata": {
        "colab": {
          "base_uri": "https://localhost:8080/",
          "height": 35
        },
        "id": "n01cOrahlcVd",
        "outputId": "9d988ecf-4d50-446c-f60a-c8a435c285dc"
      },
      "outputs": [
        {
          "output_type": "execute_result",
          "data": {
            "text/plain": [
              "'tekst\\\\teskst\\\\tekst\\\\tekst'"
            ],
            "application/vnd.google.colaboratory.intrinsic+json": {
              "type": "string"
            }
          },
          "metadata": {},
          "execution_count": 63
        }
      ],
      "source": [
        "s = r\"tekst\\teskst\\tekst\\tekst\"\n",
        "s"
      ]
    },
    {
      "cell_type": "code",
      "execution_count": 64,
      "metadata": {
        "colab": {
          "base_uri": "https://localhost:8080/",
          "height": 35
        },
        "id": "ORVZjLOwlcVd",
        "outputId": "9149cf06-377d-42a0-c8d0-b13e2506fc7a"
      },
      "outputs": [
        {
          "output_type": "execute_result",
          "data": {
            "text/plain": [
              "'pierwsza połowa i druga połowa'"
            ],
            "application/vnd.google.colaboratory.intrinsic+json": {
              "type": "string"
            }
          },
          "metadata": {},
          "execution_count": 64
        }
      ],
      "source": [
        "a = \"pierwsza połowa \"\n",
        "b = \"i druga połowa\"\n",
        "a + b"
      ]
    },
    {
      "cell_type": "code",
      "execution_count": 69,
      "metadata": {
        "colab": {
          "base_uri": "https://localhost:8080/",
          "height": 35
        },
        "id": "Gv-vUR33lcVe",
        "outputId": "12979bd3-229e-4b23-c015-099824b179c8"
      },
      "outputs": [
        {
          "output_type": "execute_result",
          "data": {
            "text/plain": [
              "'88.46 Pesos to równowartość 1 dolara'"
            ],
            "application/vnd.google.colaboratory.intrinsic+json": {
              "type": "string"
            }
          },
          "metadata": {},
          "execution_count": 69
        }
      ],
      "source": [
        "szablon = \"{0:.2f} {1:s} to równowartość {2:d} dolara\"\n",
        "szablon.format(88.46, \"Pesos\", 1)"
      ]
    },
    {
      "cell_type": "code",
      "source": [
        "\"{0:.2f} {1:s} to równowartość {2:d} dolara\".format(88.46, \"Pesos\", 1)"
      ],
      "metadata": {
        "colab": {
          "base_uri": "https://localhost:8080/",
          "height": 35
        },
        "id": "pf0XF-DN9hh0",
        "outputId": "931bf808-13da-4105-bfa9-98d92430e969"
      },
      "execution_count": 75,
      "outputs": [
        {
          "output_type": "execute_result",
          "data": {
            "text/plain": [
              "'88.46 Pesos to równowartość 1 dolara'"
            ],
            "application/vnd.google.colaboratory.intrinsic+json": {
              "type": "string"
            }
          },
          "metadata": {},
          "execution_count": 75
        }
      ]
    },
    {
      "cell_type": "code",
      "execution_count": 74,
      "metadata": {
        "id": "6V-sNjZLlcVe"
      },
      "outputs": [],
      "source": [
        "kwota = 10\n",
        "kurs = 88.46\n",
        "waluta = \"Pesos\"\n",
        "wynik = f\"{kwota} {waluta} to równowartość {kwota / kurs} dolara\""
      ]
    },
    {
      "cell_type": "code",
      "execution_count": 76,
      "metadata": {
        "colab": {
          "base_uri": "https://localhost:8080/",
          "height": 35
        },
        "id": "Bxv6QmmVlcVi",
        "outputId": "4aa94862-14ed-49d7-b4a8-bcacf7be6ec3"
      },
      "outputs": [
        {
          "output_type": "execute_result",
          "data": {
            "text/plain": [
              "'10 Pesos to równowartość 0.11 dolara'"
            ],
            "application/vnd.google.colaboratory.intrinsic+json": {
              "type": "string"
            }
          },
          "metadata": {},
          "execution_count": 76
        }
      ],
      "source": [
        "f\"{kwota} {waluta} to równowartość {kwota / kurs:.2f} dolara\""
      ]
    },
    {
      "cell_type": "code",
      "execution_count": 79,
      "metadata": {
        "colab": {
          "base_uri": "https://localhost:8080/"
        },
        "id": "aXRx7vydlcVi",
        "outputId": "bb27ce74-292f-474b-b8c2-9eeef6bd2037"
      },
      "outputs": [
        {
          "output_type": "stream",
          "name": "stdout",
          "text": [
            "español <class 'str'>\n"
          ]
        }
      ],
      "source": [
        "val = \"español\"\n",
        "print(val, type(val))"
      ]
    },
    {
      "cell_type": "code",
      "execution_count": 87,
      "metadata": {
        "colab": {
          "base_uri": "https://localhost:8080/"
        },
        "id": "OY6co8hwlcVj",
        "outputId": "04139dfa-1e0e-419c-efa0-b3b7edd6ef03"
      },
      "outputs": [
        {
          "output_type": "execute_result",
          "data": {
            "text/plain": [
              "bytes"
            ]
          },
          "metadata": {},
          "execution_count": 87
        }
      ],
      "source": [
        "val_utf8 = val.encode(\"utf-8\")\n",
        "val_utf8 # b'espa\\xc3\\xb1ol'\n",
        "type(val_utf8)"
      ]
    },
    {
      "cell_type": "code",
      "execution_count": 80,
      "metadata": {
        "colab": {
          "base_uri": "https://localhost:8080/",
          "height": 35
        },
        "id": "QgzmHcIklcVj",
        "outputId": "cf35fe63-dc29-4f5d-9d52-30c9c45b87a2"
      },
      "outputs": [
        {
          "output_type": "execute_result",
          "data": {
            "text/plain": [
              "'español'"
            ],
            "application/vnd.google.colaboratory.intrinsic+json": {
              "type": "string"
            }
          },
          "metadata": {},
          "execution_count": 80
        }
      ],
      "source": [
        "val_utf8.decode(\"utf-8\")"
      ]
    },
    {
      "cell_type": "code",
      "execution_count": 84,
      "metadata": {
        "colab": {
          "base_uri": "https://localhost:8080/"
        },
        "id": "VA3Za6ublcVj",
        "outputId": "6c3b30c0-65bf-4e74-8f46-cbc539c4f148"
      },
      "outputs": [
        {
          "output_type": "execute_result",
          "data": {
            "text/plain": [
              "b'e\\x00s\\x00p\\x00a\\x00\\xf1\\x00o\\x00l\\x00'"
            ]
          },
          "metadata": {},
          "execution_count": 84
        }
      ],
      "source": [
        "val.encode(\"latin1\") # b'espa\\xf1ol' Koduje ciąg val (\"español\") przy użyciu kodowania latin1 (ISO 8859-1).\n",
        "val.encode(\"utf-16\") # b'\\xff\\xfee\\x00s\\x00p\\x00a\\x00\\xf1\\x00o\\x00l\\x00' Koduje ciąg val w kodowaniu utf-16.\n",
        "val.encode(\"utf-16le\") # b'e\\x00s\\x00p\\x00a\\x00\\xf1\\x00o\\x00l\\x00' Koduje ciąg val w kodowaniu utf-16le (UTF-16 w formacie little-endian)."
      ]
    },
    {
      "cell_type": "code",
      "execution_count": 90,
      "metadata": {
        "colab": {
          "base_uri": "https://localhost:8080/"
        },
        "id": "1xQRtj8ZlcVj",
        "outputId": "6b041f2c-2b8a-4ac1-c6ab-df3e76b490bb"
      },
      "outputs": [
        {
          "output_type": "execute_result",
          "data": {
            "text/plain": [
              "True"
            ]
          },
          "metadata": {},
          "execution_count": 90
        }
      ],
      "source": [
        "True and True # True\n",
        "False or True # True"
      ]
    },
    {
      "cell_type": "code",
      "execution_count": 93,
      "metadata": {
        "colab": {
          "base_uri": "https://localhost:8080/"
        },
        "id": "7NkC7GTxlcVj",
        "outputId": "441fac70-bb5a-405b-ce4b-a719ab203551"
      },
      "outputs": [
        {
          "output_type": "execute_result",
          "data": {
            "text/plain": [
              "1"
            ]
          },
          "metadata": {},
          "execution_count": 93
        }
      ],
      "source": [
        "int(False) # 0\n",
        "int(True) # 1"
      ]
    },
    {
      "cell_type": "code",
      "execution_count": 99,
      "metadata": {
        "colab": {
          "base_uri": "https://localhost:8080/"
        },
        "id": "JDovzPEolcVj",
        "outputId": "1364748b-80cb-4bbd-efd6-e439bcd2de30"
      },
      "outputs": [
        {
          "output_type": "execute_result",
          "data": {
            "text/plain": [
              "True"
            ]
          },
          "metadata": {},
          "execution_count": 99
        }
      ],
      "source": [
        "a = True\n",
        "b = False\n",
        "not a # False\n",
        "not b # True"
      ]
    },
    {
      "cell_type": "code",
      "execution_count": 104,
      "metadata": {
        "colab": {
          "base_uri": "https://localhost:8080/"
        },
        "id": "RL2W47etlcVj",
        "outputId": "5b138325-a0ad-43d5-e83b-a5ffca2a05d4"
      },
      "outputs": [
        {
          "output_type": "execute_result",
          "data": {
            "text/plain": [
              "False"
            ]
          },
          "metadata": {},
          "execution_count": 104
        }
      ],
      "source": [
        "s = \"3.14159\"\n",
        "fval = float(s)\n",
        "type(fval) # float\n",
        "int(fval) # 3\n",
        "bool(fval) # True\n",
        "bool(0) # False"
      ]
    },
    {
      "cell_type": "code",
      "execution_count": 107,
      "metadata": {
        "colab": {
          "base_uri": "https://localhost:8080/"
        },
        "id": "4u-6_FsglcVj",
        "outputId": "c4a88f35-7f4a-478e-c136-183378ef36ed"
      },
      "outputs": [
        {
          "output_type": "execute_result",
          "data": {
            "text/plain": [
              "True"
            ]
          },
          "metadata": {},
          "execution_count": 107
        }
      ],
      "source": [
        "a = None\n",
        "a is None # True\n",
        "b = 5\n",
        "b is not None # True"
      ]
    },
    {
      "cell_type": "code",
      "execution_count": 6,
      "metadata": {
        "colab": {
          "base_uri": "https://localhost:8080/"
        },
        "id": "9FrhwsBJlcVj",
        "outputId": "68c9dd80-a6cd-4a0f-c351-513fb7f15da0"
      },
      "outputs": [
        {
          "output_type": "execute_result",
          "data": {
            "text/plain": [
              "30"
            ]
          },
          "metadata": {},
          "execution_count": 6
        }
      ],
      "source": [
        "from datetime import datetime, date, time\n",
        "dt = datetime(2011, 10, 29, 20, 30, 21)\n",
        "dt.day # 29\n",
        "dt.minute # 30"
      ]
    },
    {
      "cell_type": "code",
      "execution_count": 7,
      "metadata": {
        "colab": {
          "base_uri": "https://localhost:8080/"
        },
        "id": "72c6qMWhlcVj",
        "outputId": "7ffb32ba-bf81-4dba-d2df-4a7a5b74c1c1"
      },
      "outputs": [
        {
          "output_type": "stream",
          "name": "stdout",
          "text": [
            "<class 'datetime.date'> <class 'datetime.time'>\n"
          ]
        }
      ],
      "source": [
        "dt.date() # datetime.date(2011, 10, 29)\n",
        "dt.time() # datetime.time(20, 30, 21)\n",
        "print(type(dt.date()), type(dt.time()))"
      ]
    },
    {
      "cell_type": "code",
      "execution_count": 8,
      "metadata": {
        "colab": {
          "base_uri": "https://localhost:8080/",
          "height": 35
        },
        "id": "zfj4TZLClcVj",
        "outputId": "dfbf12ec-f821-458a-c261-6908b5ab318b"
      },
      "outputs": [
        {
          "output_type": "execute_result",
          "data": {
            "text/plain": [
              "'2011-10-29 20:30'"
            ],
            "application/vnd.google.colaboratory.intrinsic+json": {
              "type": "string"
            }
          },
          "metadata": {},
          "execution_count": 8
        }
      ],
      "source": [
        "dt.strftime(\"%Y-%m-%d %H:%M\")"
      ]
    },
    {
      "cell_type": "markdown",
      "source": [
        "- Funkcja `datetime.strptime()` w Pythonie jest używana do konwertowania ciągu znaków (string) na obiekt typu `datetime` na podstawie określonego formatu."
      ],
      "metadata": {
        "id": "_EVfcrVlMPq6"
      }
    },
    {
      "cell_type": "code",
      "execution_count": 9,
      "metadata": {
        "colab": {
          "base_uri": "https://localhost:8080/"
        },
        "id": "vAy8-reglcVj",
        "outputId": "fa76acca-7237-4457-9d36-c4804b2ce79b"
      },
      "outputs": [
        {
          "output_type": "execute_result",
          "data": {
            "text/plain": [
              "datetime.datetime(2009, 10, 31, 0, 0)"
            ]
          },
          "metadata": {},
          "execution_count": 9
        }
      ],
      "source": [
        "datetime.strptime(\"20091031\", \"%Y%m%d\")"
      ]
    },
    {
      "cell_type": "code",
      "execution_count": 10,
      "metadata": {
        "colab": {
          "base_uri": "https://localhost:8080/"
        },
        "id": "rUMioR8GlcVj",
        "outputId": "0bff4f5c-214b-4306-dd5d-e33648119339"
      },
      "outputs": [
        {
          "output_type": "execute_result",
          "data": {
            "text/plain": [
              "datetime.datetime(2011, 10, 29, 20, 0)"
            ]
          },
          "metadata": {},
          "execution_count": 10
        }
      ],
      "source": [
        "dt_hour = dt.replace(minute=0, second=0)\n",
        "dt_hour"
      ]
    },
    {
      "cell_type": "code",
      "execution_count": 11,
      "metadata": {
        "colab": {
          "base_uri": "https://localhost:8080/"
        },
        "id": "Bf_e-zX-lcVj",
        "outputId": "505397b8-b318-4418-cb90-875edad91de5"
      },
      "outputs": [
        {
          "output_type": "execute_result",
          "data": {
            "text/plain": [
              "datetime.datetime(2011, 10, 29, 20, 30, 21)"
            ]
          },
          "metadata": {},
          "execution_count": 11
        }
      ],
      "source": [
        "dt"
      ]
    },
    {
      "cell_type": "code",
      "execution_count": 12,
      "metadata": {
        "colab": {
          "base_uri": "https://localhost:8080/"
        },
        "id": "_hpCtl6qlcVj",
        "outputId": "8b430e78-1e98-42fa-d1b9-537cc892bc0d"
      },
      "outputs": [
        {
          "output_type": "execute_result",
          "data": {
            "text/plain": [
              "datetime.timedelta"
            ]
          },
          "metadata": {},
          "execution_count": 12
        }
      ],
      "source": [
        "dt2 = datetime(2011, 11, 15, 22, 30)\n",
        "delta = dt2 - dt\n",
        "delta # datetime.timedelta(days=17, seconds=7179)\n",
        "type(delta)"
      ]
    },
    {
      "cell_type": "code",
      "execution_count": 13,
      "metadata": {
        "colab": {
          "base_uri": "https://localhost:8080/"
        },
        "id": "1aEI6Z2UlcVj",
        "outputId": "71a6d8c7-0fd7-4443-dada-c7900ce026ca"
      },
      "outputs": [
        {
          "output_type": "execute_result",
          "data": {
            "text/plain": [
              "datetime.datetime(2011, 11, 15, 22, 30)"
            ]
          },
          "metadata": {},
          "execution_count": 13
        }
      ],
      "source": [
        "dt\n",
        "dt + delta"
      ]
    },
    {
      "cell_type": "code",
      "execution_count": 14,
      "metadata": {
        "colab": {
          "base_uri": "https://localhost:8080/"
        },
        "id": "qeMqlrvulcVj",
        "outputId": "c298df4a-f252-4a84-8045-c492b90e073a"
      },
      "outputs": [
        {
          "output_type": "stream",
          "name": "stdout",
          "text": [
            "Udało się\n"
          ]
        }
      ],
      "source": [
        "a = 5; b = 7\n",
        "c = 8; d = 4\n",
        "if a < b or c > d:\n",
        "    print(\"Udało się\")"
      ]
    },
    {
      "cell_type": "code",
      "execution_count": 15,
      "metadata": {
        "colab": {
          "base_uri": "https://localhost:8080/"
        },
        "id": "hXLxEIyWlcVk",
        "outputId": "240b4d5c-1d35-4013-b672-9e5521325152"
      },
      "outputs": [
        {
          "output_type": "execute_result",
          "data": {
            "text/plain": [
              "True"
            ]
          },
          "metadata": {},
          "execution_count": 15
        }
      ],
      "source": [
        "4 > 3 > 2 > 1"
      ]
    },
    {
      "cell_type": "code",
      "execution_count": 16,
      "metadata": {
        "colab": {
          "base_uri": "https://localhost:8080/"
        },
        "id": "4_Htdbc3lcVk",
        "outputId": "3eb21e41-3e42-4ece-cc73-49601c03d627"
      },
      "outputs": [
        {
          "output_type": "stream",
          "name": "stdout",
          "text": [
            "(0, 0)\n",
            "(1, 0)\n",
            "(1, 1)\n",
            "(2, 0)\n",
            "(2, 1)\n",
            "(2, 2)\n",
            "(3, 0)\n",
            "(3, 1)\n",
            "(3, 2)\n",
            "(3, 3)\n"
          ]
        }
      ],
      "source": [
        "#! blockstart\n",
        "for i in range(4):\n",
        "    for j in range(4):\n",
        "        if j > i:\n",
        "            break\n",
        "        print((i, j))\n",
        "#! blockend"
      ]
    },
    {
      "cell_type": "code",
      "execution_count": 18,
      "metadata": {
        "colab": {
          "base_uri": "https://localhost:8080/"
        },
        "id": "_MSKp9s3lcVk",
        "outputId": "b7be69e6-f786-4ffa-c7a8-30d6ada3efed"
      },
      "outputs": [
        {
          "output_type": "execute_result",
          "data": {
            "text/plain": [
              "range(0, 10)"
            ]
          },
          "metadata": {},
          "execution_count": 18
        }
      ],
      "source": [
        "range(10) # ange(0, 10)\n",
        "list(range(10))"
      ]
    },
    {
      "cell_type": "code",
      "execution_count": 19,
      "metadata": {
        "colab": {
          "base_uri": "https://localhost:8080/"
        },
        "id": "DfWtcFEflcVk",
        "outputId": "c6e6db19-b0b4-45a3-e4ec-2ec6bc74f72b"
      },
      "outputs": [
        {
          "output_type": "execute_result",
          "data": {
            "text/plain": [
              "[5, 4, 3, 2, 1]"
            ]
          },
          "metadata": {},
          "execution_count": 19
        }
      ],
      "source": [
        "list(range(0, 20, 2))\n",
        "list(range(5, 0, -1))"
      ]
    },
    {
      "cell_type": "code",
      "execution_count": 20,
      "metadata": {
        "colab": {
          "base_uri": "https://localhost:8080/"
        },
        "id": "3layLtp9lcVk",
        "outputId": "c924c918-9967-4109-aa89-ad35e9dbd10a"
      },
      "outputs": [
        {
          "output_type": "stream",
          "name": "stdout",
          "text": [
            "element 0: 1\n",
            "element 1: 2\n",
            "element 2: 3\n",
            "element 3: 4\n"
          ]
        }
      ],
      "source": [
        "sekwencja = [1, 2, 3, 4]\n",
        "for i in range(len(sekwencja)):\n",
        "    print(f\"element {i}: {sekwencja[i]}\")"
      ]
    },
    {
      "cell_type": "code",
      "execution_count": 21,
      "metadata": {
        "colab": {
          "base_uri": "https://localhost:8080/"
        },
        "id": "3ksO9bbUlcVk",
        "outputId": "fc651d17-ee5d-4dd0-a303-7066ab195427"
      },
      "outputs": [
        {
          "output_type": "stream",
          "name": "stdout",
          "text": [
            "2333316668\n"
          ]
        }
      ],
      "source": [
        "total = 0\n",
        "for i in range(100_000):\n",
        "    # % jest operatorem dzielenia modulo\n",
        "    if i % 3 == 0 or i % 5 == 0:\n",
        "        total += i\n",
        "print(total)"
      ]
    }
  ],
  "metadata": {
    "kernelspec": {
      "display_name": "Python 3 (ipykernel)",
      "language": "python",
      "name": "python3"
    },
    "language_info": {
      "codemirror_mode": {
        "name": "ipython",
        "version": 3
      },
      "file_extension": ".py",
      "mimetype": "text/x-python",
      "name": "python",
      "nbconvert_exporter": "python",
      "pygments_lexer": "ipython3",
      "version": "3.11.0"
    },
    "colab": {
      "provenance": []
    }
  },
  "nbformat": 4,
  "nbformat_minor": 0
}