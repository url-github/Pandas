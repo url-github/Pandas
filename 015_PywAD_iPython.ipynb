{
  "cells": [
    {
      "cell_type": "code",
      "source": [
        "pwd"
      ],
      "metadata": {
        "colab": {
          "base_uri": "https://localhost:8080/",
          "height": 35
        },
        "id": "Sw_qwoduEz0E",
        "outputId": "01bcc69e-97d0-425b-8679-56179269c844"
      },
      "execution_count": 1,
      "outputs": [
        {
          "output_type": "execute_result",
          "data": {
            "text/plain": [
              "'/content'"
            ],
            "application/vnd.google.colaboratory.intrinsic+json": {
              "type": "string"
            }
          },
          "metadata": {},
          "execution_count": 1
        }
      ]
    },
    {
      "cell_type": "code",
      "execution_count": 2,
      "metadata": {
        "colab": {
          "base_uri": "https://localhost:8080/"
        },
        "id": "nMrdLYm-EvFd",
        "outputId": "4efddaf7-8186-4d34-c7f0-f4cacbd22b95"
      },
      "outputs": [
        {
          "output_type": "stream",
          "name": "stdout",
          "text": [
            "/content\n"
          ]
        }
      ],
      "source": [
        "%pushd /content\n",
        "import numpy as np\n",
        "import pandas as pd\n",
        "import matplotlib.pyplot as plt\n",
        "plt.rc('figure', figsize=(10, 6))\n",
        "PREVIOUS_MAX_ROWS = pd.options.display.max_rows\n",
        "pd.options.display.max_columns = 20\n",
        "pd.options.display.max_rows = 20\n",
        "pd.options.display.max_colwidth = 80\n",
        "np.set_printoptions(precision=4, suppress=True)"
      ]
    },
    {
      "cell_type": "code",
      "execution_count": 3,
      "metadata": {
        "id": "NYngAqW3EvFe"
      },
      "outputs": [],
      "source": [
        "strings = ['foo', 'foobar', 'baz', 'qux',\n",
        "           'python', 'Guido Van Rossum'] * 100000\n",
        "\n",
        "method1 = [x for x in strings if x.startswith('foo')]\n",
        "\n",
        "method2 = [x for x in strings if x[:3] == 'foo']"
      ]
    },
    {
      "cell_type": "code",
      "execution_count": 4,
      "metadata": {
        "colab": {
          "base_uri": "https://localhost:8080/"
        },
        "id": "jn6gB7JIEvFe",
        "outputId": "55bed865-8733-4519-b5a0-cb2015bc1758"
      },
      "outputs": [
        {
          "output_type": "stream",
          "name": "stdout",
          "text": [
            "CPU times: user 75 ms, sys: 1.75 ms, total: 76.7 ms\n",
            "Wall time: 78.6 ms\n",
            "CPU times: user 67 ms, sys: 48 µs, total: 67 ms\n",
            "Wall time: 67 ms\n"
          ]
        }
      ],
      "source": [
        "%time method1 = [x for x in strings if x.startswith('foo')]\n",
        "%time method2 = [x for x in strings if x[:3] == 'foo']"
      ]
    }
  ],
  "metadata": {
    "kernelspec": {
      "display_name": "Python 3 (ipykernel)",
      "language": "python",
      "name": "python3"
    },
    "language_info": {
      "codemirror_mode": {
        "name": "ipython",
        "version": 3
      },
      "file_extension": ".py",
      "mimetype": "text/x-python",
      "name": "python",
      "nbconvert_exporter": "python",
      "pygments_lexer": "ipython3",
      "version": "3.11.0"
    },
    "colab": {
      "provenance": [],
      "toc_visible": true
    }
  },
  "nbformat": 4,
  "nbformat_minor": 0
}