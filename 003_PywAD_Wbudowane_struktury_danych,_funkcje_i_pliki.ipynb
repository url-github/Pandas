{
  "cells": [
    {
      "cell_type": "markdown",
      "source": [
        "#Krotka"
      ],
      "metadata": {
        "id": "YTIYWUEGeCne"
      }
    },
    {
      "cell_type": "code",
      "source": [
        "pwd"
      ],
      "metadata": {
        "colab": {
          "base_uri": "https://localhost:8080/",
          "height": 35
        },
        "id": "ap9sz8CtVG_z",
        "outputId": "3e6a1fa5-5a66-472d-acc3-7d183a54b308"
      },
      "execution_count": null,
      "outputs": [
        {
          "output_type": "execute_result",
          "data": {
            "text/plain": [
              "'/content'"
            ],
            "application/vnd.google.colaboratory.intrinsic+json": {
              "type": "string"
            }
          },
          "metadata": {},
          "execution_count": 1
        }
      ]
    },
    {
      "cell_type": "code",
      "execution_count": null,
      "metadata": {
        "id": "LnVTcIEtllJA",
        "colab": {
          "base_uri": "https://localhost:8080/"
        },
        "outputId": "5dff5c55-4fcc-4eee-a23f-55b2d596c018"
      },
      "outputs": [
        {
          "output_type": "stream",
          "name": "stdout",
          "text": [
            "/content\n"
          ]
        },
        {
          "output_type": "execute_result",
          "data": {
            "text/plain": [
              "['/content', '/content']"
            ]
          },
          "metadata": {},
          "execution_count": 3
        }
      ],
      "source": [
        "%pushd /content"
      ]
    },
    {
      "cell_type": "code",
      "execution_count": null,
      "metadata": {
        "id": "gNhmDuX9llJB",
        "colab": {
          "base_uri": "https://localhost:8080/"
        },
        "outputId": "a22dfc36-df06-4f93-d8f0-56bf2b1a3652"
      },
      "outputs": [
        {
          "output_type": "execute_result",
          "data": {
            "text/plain": [
              "(4, 5, 6)"
            ]
          },
          "metadata": {},
          "execution_count": 4
        }
      ],
      "source": [
        "krotka = (4, 5, 6)\n",
        "krotka"
      ]
    },
    {
      "cell_type": "code",
      "execution_count": null,
      "metadata": {
        "id": "XTCtgdecllJC",
        "colab": {
          "base_uri": "https://localhost:8080/"
        },
        "outputId": "2e946712-da85-4539-cb92-5e7e9815d3b0"
      },
      "outputs": [
        {
          "output_type": "stream",
          "name": "stdout",
          "text": [
            "<class 'tuple'>\n"
          ]
        },
        {
          "output_type": "execute_result",
          "data": {
            "text/plain": [
              "(4, 5, 6)"
            ]
          },
          "metadata": {},
          "execution_count": 7
        }
      ],
      "source": [
        "krotka = 4, 5, 6\n",
        "print(type(krotka))\n",
        "krotka"
      ]
    },
    {
      "cell_type": "code",
      "source": [
        "tuple([4, 0, 2, 2])"
      ],
      "metadata": {
        "colab": {
          "base_uri": "https://localhost:8080/"
        },
        "id": "GEPfYXqHVkkG",
        "outputId": "c74a906d-7438-4e6e-c0c6-c20f66639798"
      },
      "execution_count": null,
      "outputs": [
        {
          "output_type": "execute_result",
          "data": {
            "text/plain": [
              "(4, 0, 2, 2)"
            ]
          },
          "metadata": {},
          "execution_count": 8
        }
      ]
    },
    {
      "cell_type": "code",
      "execution_count": null,
      "metadata": {
        "id": "hJ4BjskQllJC",
        "colab": {
          "base_uri": "https://localhost:8080/"
        },
        "outputId": "25e9ba78-02c8-4dec-d7b9-777a89704ed7"
      },
      "outputs": [
        {
          "output_type": "execute_result",
          "data": {
            "text/plain": [
              "('t', 'e', 'k', 's', 't')"
            ]
          },
          "metadata": {},
          "execution_count": 9
        }
      ],
      "source": [
        "krotka = tuple('tekst')\n",
        "krotka"
      ]
    },
    {
      "cell_type": "code",
      "execution_count": null,
      "metadata": {
        "id": "-FWMgFpkllJC",
        "colab": {
          "base_uri": "https://localhost:8080/",
          "height": 35
        },
        "outputId": "5398baf9-7bfb-4765-c4c7-f0c60367fe9e"
      },
      "outputs": [
        {
          "output_type": "execute_result",
          "data": {
            "text/plain": [
              "'t'"
            ],
            "application/vnd.google.colaboratory.intrinsic+json": {
              "type": "string"
            }
          },
          "metadata": {},
          "execution_count": 10
        }
      ],
      "source": [
        "krotka[0]"
      ]
    },
    {
      "cell_type": "code",
      "source": [
        "zagniezdzanie_krotek = (4, 5, 6), (7, 8)\n",
        "zagniezdzanie_krotek"
      ],
      "metadata": {
        "colab": {
          "base_uri": "https://localhost:8080/"
        },
        "id": "uc86nSYhZAyv",
        "outputId": "7d8afe32-2b8b-4b93-b26d-a6eb6e1eaddf"
      },
      "execution_count": null,
      "outputs": [
        {
          "output_type": "execute_result",
          "data": {
            "text/plain": [
              "((4, 5, 6), (7, 8))"
            ]
          },
          "metadata": {},
          "execution_count": 12
        }
      ]
    },
    {
      "cell_type": "code",
      "execution_count": null,
      "metadata": {
        "id": "i_si3-BMllJD",
        "colab": {
          "base_uri": "https://localhost:8080/"
        },
        "outputId": "94f91eba-f4ce-40d0-dc78-3d5f341ab83b"
      },
      "outputs": [
        {
          "output_type": "execute_result",
          "data": {
            "text/plain": [
              "(4, 5, 6)"
            ]
          },
          "metadata": {},
          "execution_count": 14
        }
      ],
      "source": [
        "zagniezdzanie_krotek[0] # (4, 5, 6)\n",
        "zagniezdzanie_krotek[1] # (4, 5, 6)"
      ]
    },
    {
      "cell_type": "code",
      "execution_count": null,
      "metadata": {
        "id": "YIC7yf0XllJD",
        "colab": {
          "base_uri": "https://localhost:8080/",
          "height": 162
        },
        "collapsed": true,
        "outputId": "79f4cc7c-c14e-4b70-9502-b55e8223f918"
      },
      "outputs": [
        {
          "output_type": "error",
          "ename": "TypeError",
          "evalue": "'tuple' object does not support item assignment",
          "traceback": [
            "\u001b[0;31m---------------------------------------------------------------------------\u001b[0m",
            "\u001b[0;31mTypeError\u001b[0m                                 Traceback (most recent call last)",
            "\u001b[0;32m<ipython-input-15-97f8b1c9c479>\u001b[0m in \u001b[0;36m<cell line: 2>\u001b[0;34m()\u001b[0m\n\u001b[1;32m      1\u001b[0m \u001b[0mkrotka\u001b[0m \u001b[0;34m=\u001b[0m \u001b[0mtuple\u001b[0m\u001b[0;34m(\u001b[0m\u001b[0;34m[\u001b[0m\u001b[0;34m'foo'\u001b[0m\u001b[0;34m,\u001b[0m \u001b[0;34m[\u001b[0m\u001b[0;36m1\u001b[0m\u001b[0;34m,\u001b[0m \u001b[0;36m2\u001b[0m\u001b[0;34m]\u001b[0m\u001b[0;34m,\u001b[0m \u001b[0;32mTrue\u001b[0m\u001b[0;34m]\u001b[0m\u001b[0;34m)\u001b[0m\u001b[0;34m\u001b[0m\u001b[0;34m\u001b[0m\u001b[0m\n\u001b[0;32m----> 2\u001b[0;31m \u001b[0mkrotka\u001b[0m\u001b[0;34m[\u001b[0m\u001b[0;36m2\u001b[0m\u001b[0;34m]\u001b[0m \u001b[0;34m=\u001b[0m \u001b[0;32mFalse\u001b[0m\u001b[0;34m\u001b[0m\u001b[0;34m\u001b[0m\u001b[0m\n\u001b[0m",
            "\u001b[0;31mTypeError\u001b[0m: 'tuple' object does not support item assignment"
          ]
        }
      ],
      "source": [
        "krotka = tuple(['foo', [1, 2], True])\n",
        "krotka[2] = False # Niemodyfikowalna (immutable)"
      ]
    },
    {
      "cell_type": "code",
      "execution_count": null,
      "metadata": {
        "id": "P-kATRHtllJD",
        "colab": {
          "base_uri": "https://localhost:8080/"
        },
        "outputId": "37bb2b8a-9621-40de-8376-51f11c74a65f"
      },
      "outputs": [
        {
          "output_type": "execute_result",
          "data": {
            "text/plain": [
              "('foo', [1, 2, 3], True)"
            ]
          },
          "metadata": {},
          "execution_count": 16
        }
      ],
      "source": [
        "krotka[1].append(3)\n",
        "krotka"
      ]
    },
    {
      "cell_type": "code",
      "execution_count": null,
      "metadata": {
        "id": "AmFVf6d-llJE",
        "colab": {
          "base_uri": "https://localhost:8080/"
        },
        "outputId": "62fcddd0-7c09-4ba2-9f10-681254d24459"
      },
      "outputs": [
        {
          "output_type": "execute_result",
          "data": {
            "text/plain": [
              "(4, None, 'foo', 6, 0, 'bar')"
            ]
          },
          "metadata": {},
          "execution_count": 17
        }
      ],
      "source": [
        "(4, None, 'foo') + (6, 0) + ('bar',)"
      ]
    },
    {
      "cell_type": "code",
      "execution_count": null,
      "metadata": {
        "id": "rLlqKI_AllJE",
        "colab": {
          "base_uri": "https://localhost:8080/"
        },
        "outputId": "18616f65-e595-4403-d6e2-f2f0939a63b5"
      },
      "outputs": [
        {
          "output_type": "execute_result",
          "data": {
            "text/plain": [
              "('foo', 'bar', 'foo', 'bar', 'foo', 'bar', 'foo', 'bar')"
            ]
          },
          "metadata": {},
          "execution_count": 18
        }
      ],
      "source": [
        "('foo', 'bar') * 4"
      ]
    },
    {
      "cell_type": "code",
      "execution_count": null,
      "metadata": {
        "id": "cZZm4dzVllJE",
        "colab": {
          "base_uri": "https://localhost:8080/"
        },
        "outputId": "72c2d316-dbe8-4191-ade6-7988cb2f82f0"
      },
      "outputs": [
        {
          "output_type": "execute_result",
          "data": {
            "text/plain": [
              "5"
            ]
          },
          "metadata": {},
          "execution_count": 19
        }
      ],
      "source": [
        "tup = (4, 5, 6)\n",
        "a, b, c = tup\n",
        "b"
      ]
    },
    {
      "cell_type": "code",
      "execution_count": null,
      "metadata": {
        "id": "gTMjEnBHllJE",
        "colab": {
          "base_uri": "https://localhost:8080/"
        },
        "collapsed": true,
        "outputId": "74393c89-f66b-4156-f90c-03bb2daff771"
      },
      "outputs": [
        {
          "output_type": "execute_result",
          "data": {
            "text/plain": [
              "7"
            ]
          },
          "metadata": {},
          "execution_count": 26
        }
      ],
      "source": [
        "tup = 4, 5, (6, 7)\n",
        "a, b, (c, d) = tup\n",
        "d"
      ]
    },
    {
      "cell_type": "code",
      "source": [
        "tup = 4, 5, (6, 7)\n",
        "a, b, c = tup\n",
        "c"
      ],
      "metadata": {
        "colab": {
          "base_uri": "https://localhost:8080/"
        },
        "id": "X7XLyWXObDll",
        "outputId": "d21eca5b-42ed-4176-bb96-9c92226ec839"
      },
      "execution_count": null,
      "outputs": [
        {
          "output_type": "execute_result",
          "data": {
            "text/plain": [
              "(6, 7)"
            ]
          },
          "metadata": {},
          "execution_count": 28
        }
      ]
    },
    {
      "cell_type": "code",
      "execution_count": null,
      "metadata": {
        "id": "AT5DfrBLllJE",
        "colab": {
          "base_uri": "https://localhost:8080/"
        },
        "outputId": "2d4419b7-b014-4f04-c5bd-7d80b5c35779"
      },
      "outputs": [
        {
          "output_type": "execute_result",
          "data": {
            "text/plain": [
              "1"
            ]
          },
          "metadata": {},
          "execution_count": 29
        }
      ],
      "source": [
        "a, b = 1, 2\n",
        "a\n",
        "b\n",
        "b, a = a, b\n",
        "a\n",
        "b"
      ]
    },
    {
      "cell_type": "code",
      "execution_count": null,
      "metadata": {
        "id": "8v8-zHsAllJE",
        "colab": {
          "base_uri": "https://localhost:8080/"
        },
        "outputId": "8a8e7d83-8f9a-445a-e156-15d4fabdb03f"
      },
      "outputs": [
        {
          "output_type": "stream",
          "name": "stdout",
          "text": [
            "a=1, b=2, c=3\n",
            "a=4, b=5, c=6\n",
            "a=7, b=8, c=9\n"
          ]
        }
      ],
      "source": [
        "sekwencja = [(1, 2, 3), (4, 5, 6), (7, 8, 9)]\n",
        "for a, b, c in sekwencja:\n",
        "    print(f'a={a}, b={b}, c={c}')"
      ]
    },
    {
      "cell_type": "code",
      "execution_count": null,
      "metadata": {
        "id": "23AFeXIlllJF",
        "colab": {
          "base_uri": "https://localhost:8080/"
        },
        "outputId": "cca69ae8-dd92-41ed-a72d-ff5cb0720d66"
      },
      "outputs": [
        {
          "output_type": "execute_result",
          "data": {
            "text/plain": [
              "[3, 4, 5]"
            ]
          },
          "metadata": {},
          "execution_count": 31
        }
      ],
      "source": [
        "wartosci = 1, 2, 3, 4, 5\n",
        "a, b, *reszta = wartosci\n",
        "a\n",
        "b\n",
        "reszta"
      ]
    },
    {
      "cell_type": "code",
      "execution_count": null,
      "metadata": {
        "id": "xFO_VjTHllJF"
      },
      "outputs": [],
      "source": [
        "a, b, *_ = wartosci"
      ]
    },
    {
      "cell_type": "code",
      "source": [
        "_"
      ],
      "metadata": {
        "colab": {
          "base_uri": "https://localhost:8080/"
        },
        "id": "qn3f5SXEduyD",
        "outputId": "5065ce87-3c3f-4f7b-ff50-7e80c4d05db7"
      },
      "execution_count": null,
      "outputs": [
        {
          "output_type": "execute_result",
          "data": {
            "text/plain": [
              "[3, 4, 5]"
            ]
          },
          "metadata": {},
          "execution_count": 33
        }
      ]
    },
    {
      "cell_type": "code",
      "execution_count": null,
      "metadata": {
        "id": "BDniZZHZllJF",
        "colab": {
          "base_uri": "https://localhost:8080/"
        },
        "outputId": "814f7586-1c6b-4607-f563-05cb691c5fe1"
      },
      "outputs": [
        {
          "output_type": "execute_result",
          "data": {
            "text/plain": [
              "4"
            ]
          },
          "metadata": {},
          "execution_count": 34
        }
      ],
      "source": [
        "a = (1, 2, 2, 2, 3, 4, 2)\n",
        "a.count(2)"
      ]
    },
    {
      "cell_type": "markdown",
      "source": [
        "#Lista"
      ],
      "metadata": {
        "id": "GOfsqC0xeAA1"
      }
    },
    {
      "cell_type": "code",
      "source": [
        "lista_a = [2, 3, 7, None]\n",
        "krotka = (\"foo\", \"bar\", \"baz\")\n",
        "lista_b = list(krotka)\n",
        "lista_b"
      ],
      "metadata": {
        "colab": {
          "base_uri": "https://localhost:8080/"
        },
        "id": "k0iRNLaUeU6r",
        "outputId": "ecf0941a-1531-4e93-d521-64b0d9b943e7"
      },
      "execution_count": null,
      "outputs": [
        {
          "output_type": "execute_result",
          "data": {
            "text/plain": [
              "['foo', 'bar', 'baz']"
            ]
          },
          "metadata": {},
          "execution_count": 36
        }
      ]
    },
    {
      "cell_type": "code",
      "execution_count": null,
      "metadata": {
        "id": "MqF9kwm3llJF",
        "colab": {
          "base_uri": "https://localhost:8080/"
        },
        "outputId": "fa10b66d-245b-4d22-9484-6cbbfe4b481a"
      },
      "outputs": [
        {
          "output_type": "execute_result",
          "data": {
            "text/plain": [
              "['foo', 'peekaboo', 'baz']"
            ]
          },
          "metadata": {},
          "execution_count": 37
        }
      ],
      "source": [
        "lista_b[1] = \"peekaboo\"\n",
        "lista_b"
      ]
    },
    {
      "cell_type": "code",
      "execution_count": null,
      "metadata": {
        "id": "AGuIKaXUllJF",
        "colab": {
          "base_uri": "https://localhost:8080/"
        },
        "outputId": "002d0438-a8ae-4650-e2ac-08bb946fd4af"
      },
      "outputs": [
        {
          "output_type": "execute_result",
          "data": {
            "text/plain": [
              "[0, 1, 2, 3, 4, 5, 6, 7, 8, 9]"
            ]
          },
          "metadata": {},
          "execution_count": 38
        }
      ],
      "source": [
        "gen = range(10)\n",
        "gen\n",
        "list(gen)"
      ]
    },
    {
      "cell_type": "code",
      "execution_count": null,
      "metadata": {
        "id": "CQiDhqUyllJF",
        "colab": {
          "base_uri": "https://localhost:8080/"
        },
        "outputId": "260c4424-02fb-4d15-f585-d0f83fe015ce"
      },
      "outputs": [
        {
          "output_type": "execute_result",
          "data": {
            "text/plain": [
              "['foo', 'peekaboo', 'baz', 'dwarf']"
            ]
          },
          "metadata": {},
          "execution_count": 39
        }
      ],
      "source": [
        "lista_b.append(\"dwarf\")\n",
        "lista_b"
      ]
    },
    {
      "cell_type": "code",
      "execution_count": null,
      "metadata": {
        "id": "JccopMnXllJF",
        "colab": {
          "base_uri": "https://localhost:8080/"
        },
        "outputId": "fb2d6b82-3199-4520-dc86-f81e38860586"
      },
      "outputs": [
        {
          "output_type": "execute_result",
          "data": {
            "text/plain": [
              "['foo', 'red', 'peekaboo', 'baz', 'dwarf']"
            ]
          },
          "metadata": {},
          "execution_count": 40
        }
      ],
      "source": [
        "lista_b.insert(1, \"red\")\n",
        "lista_b"
      ]
    },
    {
      "cell_type": "code",
      "execution_count": null,
      "metadata": {
        "id": "wo0lbFNWllJF",
        "colab": {
          "base_uri": "https://localhost:8080/"
        },
        "outputId": "43ce1c72-2265-4e9e-daf3-af89e78f0780"
      },
      "outputs": [
        {
          "output_type": "execute_result",
          "data": {
            "text/plain": [
              "['foo', 'red', 'baz', 'dwarf']"
            ]
          },
          "metadata": {},
          "execution_count": 41
        }
      ],
      "source": [
        "lista_b.pop(2)\n",
        "lista_b"
      ]
    },
    {
      "cell_type": "code",
      "source": [
        "lista_b.append(\"foo\")\n",
        "lista_b"
      ],
      "metadata": {
        "colab": {
          "base_uri": "https://localhost:8080/"
        },
        "id": "lX0i2eqpgk6i",
        "outputId": "339b90bf-71d9-4409-fc66-bdd7e7a515b8"
      },
      "execution_count": null,
      "outputs": [
        {
          "output_type": "execute_result",
          "data": {
            "text/plain": [
              "['red', 'baz', 'dwarf', 'foo', 'foo']"
            ]
          },
          "metadata": {},
          "execution_count": 43
        }
      ]
    },
    {
      "cell_type": "code",
      "execution_count": null,
      "metadata": {
        "id": "nvFxAgIXllJF",
        "colab": {
          "base_uri": "https://localhost:8080/"
        },
        "outputId": "af2c51f2-af34-45f5-c686-0c1443db44f1"
      },
      "outputs": [
        {
          "output_type": "execute_result",
          "data": {
            "text/plain": [
              "['red', 'baz', 'dwarf', 'foo']"
            ]
          },
          "metadata": {},
          "execution_count": 44
        }
      ],
      "source": [
        "lista_b.remove(\"foo\")\n",
        "lista_b"
      ]
    },
    {
      "cell_type": "code",
      "execution_count": null,
      "metadata": {
        "id": "uqQ9aVhtllJF",
        "colab": {
          "base_uri": "https://localhost:8080/"
        },
        "outputId": "7b231e21-0008-42d0-d7f2-e707fadac4e3"
      },
      "outputs": [
        {
          "output_type": "execute_result",
          "data": {
            "text/plain": [
              "True"
            ]
          },
          "metadata": {},
          "execution_count": 45
        }
      ],
      "source": [
        "\"dwarf\" in lista_b"
      ]
    },
    {
      "cell_type": "code",
      "execution_count": null,
      "metadata": {
        "id": "eeDbl1uJllJF",
        "colab": {
          "base_uri": "https://localhost:8080/"
        },
        "outputId": "d34506b4-5819-4001-d2e7-605ed9f8bee4"
      },
      "outputs": [
        {
          "output_type": "execute_result",
          "data": {
            "text/plain": [
              "False"
            ]
          },
          "metadata": {},
          "execution_count": 46
        }
      ],
      "source": [
        "\"dwarf\" not in lista_b"
      ]
    },
    {
      "cell_type": "code",
      "execution_count": null,
      "metadata": {
        "id": "HT-NpzcallJF",
        "colab": {
          "base_uri": "https://localhost:8080/"
        },
        "outputId": "aed1003c-2c43-48c7-a2f9-dd5dd2057591"
      },
      "outputs": [
        {
          "output_type": "execute_result",
          "data": {
            "text/plain": [
              "[4, None, 'foo', 7, 8, (2, 3)]"
            ]
          },
          "metadata": {},
          "execution_count": 47
        }
      ],
      "source": [
        "[4, None, \"foo\"] + [7, 8, (2, 3)]"
      ]
    },
    {
      "cell_type": "code",
      "execution_count": null,
      "metadata": {
        "id": "IixoZHW9llJF",
        "colab": {
          "base_uri": "https://localhost:8080/"
        },
        "outputId": "d2b7cdfd-50fc-4ae1-fd00-84017289672b"
      },
      "outputs": [
        {
          "output_type": "execute_result",
          "data": {
            "text/plain": [
              "[4, None, 'foo', 7, 8, (2, 3)]"
            ]
          },
          "metadata": {},
          "execution_count": 48
        }
      ],
      "source": [
        "x = [4, None, \"foo\"]\n",
        "x.extend([7, 8, (2, 3)])\n",
        "x"
      ]
    },
    {
      "cell_type": "code",
      "execution_count": null,
      "metadata": {
        "id": "L3dyy74illJF",
        "colab": {
          "base_uri": "https://localhost:8080/"
        },
        "outputId": "61765ade-2ca7-4035-925c-baa8f4a510d9"
      },
      "outputs": [
        {
          "output_type": "execute_result",
          "data": {
            "text/plain": [
              "[1, 2, 3, 5, 7]"
            ]
          },
          "metadata": {},
          "execution_count": 49
        }
      ],
      "source": [
        "a = [7, 2, 5, 1, 3]\n",
        "a.sort()\n",
        "a"
      ]
    },
    {
      "cell_type": "code",
      "execution_count": null,
      "metadata": {
        "id": "1LVpRaB7llJF",
        "colab": {
          "base_uri": "https://localhost:8080/"
        },
        "outputId": "30d49e03-905c-4303-e1e4-6e40368f64cb"
      },
      "outputs": [
        {
          "output_type": "execute_result",
          "data": {
            "text/plain": [
              "['He', 'saw', 'six', 'small', 'foxes']"
            ]
          },
          "metadata": {},
          "execution_count": 50
        }
      ],
      "source": [
        "b = [\"saw\", \"small\", \"He\", \"foxes\", \"six\"]\n",
        "b.sort(key=len)\n",
        "b"
      ]
    },
    {
      "cell_type": "code",
      "execution_count": null,
      "metadata": {
        "id": "nGy1Y7ggllJF",
        "colab": {
          "base_uri": "https://localhost:8080/"
        },
        "outputId": "dbef3409-4d18-408e-e01a-548570a083d1"
      },
      "outputs": [
        {
          "output_type": "execute_result",
          "data": {
            "text/plain": [
              "[2, 3, 7, 5]"
            ]
          },
          "metadata": {},
          "execution_count": 51
        }
      ],
      "source": [
        "seq = [7, 2, 3, 7, 5, 6, 0, 1]\n",
        "seq[1:5]"
      ]
    },
    {
      "cell_type": "code",
      "execution_count": null,
      "metadata": {
        "id": "Agv7pJXKllJG",
        "colab": {
          "base_uri": "https://localhost:8080/"
        },
        "outputId": "2f5c87eb-6974-4fb1-9e0f-e9f5bf315902"
      },
      "outputs": [
        {
          "output_type": "execute_result",
          "data": {
            "text/plain": [
              "[7, 2, 3, 6, 3, 6, 0, 1]"
            ]
          },
          "metadata": {},
          "execution_count": 52
        }
      ],
      "source": [
        "seq[3:5] = [6, 3]\n",
        "seq"
      ]
    },
    {
      "cell_type": "code",
      "source": [
        "seq[:5]"
      ],
      "metadata": {
        "colab": {
          "base_uri": "https://localhost:8080/"
        },
        "id": "2JcgwjCuii0M",
        "outputId": "d9f891aa-e9ff-44dd-c870-3987959d5352"
      },
      "execution_count": null,
      "outputs": [
        {
          "output_type": "execute_result",
          "data": {
            "text/plain": [
              "[7, 2, 3, 6, 3]"
            ]
          },
          "metadata": {},
          "execution_count": 54
        }
      ]
    },
    {
      "cell_type": "code",
      "execution_count": null,
      "metadata": {
        "id": "hv281ysZllJG",
        "colab": {
          "base_uri": "https://localhost:8080/"
        },
        "outputId": "465820f5-a705-480a-cd9d-2d5b88d3d76c"
      },
      "outputs": [
        {
          "output_type": "execute_result",
          "data": {
            "text/plain": [
              "[6, 3, 6, 0, 1]"
            ]
          },
          "metadata": {},
          "execution_count": 55
        }
      ],
      "source": [
        "seq[3:]"
      ]
    },
    {
      "cell_type": "code",
      "source": [
        "seq[-4:]"
      ],
      "metadata": {
        "colab": {
          "base_uri": "https://localhost:8080/"
        },
        "id": "8aQhfb_9iyMp",
        "outputId": "0e6ba2a0-4450-4c3d-b70a-220ef4560de6"
      },
      "execution_count": null,
      "outputs": [
        {
          "output_type": "execute_result",
          "data": {
            "text/plain": [
              "[3, 6, 0, 1]"
            ]
          },
          "metadata": {},
          "execution_count": 56
        }
      ]
    },
    {
      "cell_type": "code",
      "execution_count": null,
      "metadata": {
        "id": "ohtuYF_EllJG",
        "colab": {
          "base_uri": "https://localhost:8080/"
        },
        "outputId": "5d51342b-b3f6-484d-f92d-66c846ea7828"
      },
      "outputs": [
        {
          "output_type": "execute_result",
          "data": {
            "text/plain": [
              "[3, 6, 3, 6]"
            ]
          },
          "metadata": {},
          "execution_count": 57
        }
      ],
      "source": [
        "seq[-6:-2]"
      ]
    },
    {
      "cell_type": "code",
      "execution_count": null,
      "metadata": {
        "id": "9QDdgbwellJG"
      },
      "outputs": [],
      "source": [
        "seq[::2]"
      ]
    },
    {
      "cell_type": "code",
      "source": [
        "seq"
      ],
      "metadata": {
        "colab": {
          "base_uri": "https://localhost:8080/"
        },
        "id": "N0L9fHmVxefm",
        "outputId": "debe026c-34f5-44f2-b1ab-9c69f1fd9acf"
      },
      "execution_count": null,
      "outputs": [
        {
          "output_type": "execute_result",
          "data": {
            "text/plain": [
              "[7, 2, 3, 6, 3, 6, 0, 1]"
            ]
          },
          "metadata": {},
          "execution_count": 58
        }
      ]
    },
    {
      "cell_type": "code",
      "execution_count": null,
      "metadata": {
        "id": "Rg7lhOEmllJG",
        "colab": {
          "base_uri": "https://localhost:8080/"
        },
        "outputId": "1c7532db-ba26-472d-9f0d-9d190a0cb125"
      },
      "outputs": [
        {
          "output_type": "execute_result",
          "data": {
            "text/plain": [
              "[1, 0, 6, 3, 6, 3, 2, 7]"
            ]
          },
          "metadata": {},
          "execution_count": 59
        }
      ],
      "source": [
        "seq[::-1]"
      ]
    },
    {
      "cell_type": "markdown",
      "source": [
        "#Dictionary"
      ],
      "metadata": {
        "id": "_Lw9mbUXxy-B"
      }
    },
    {
      "cell_type": "code",
      "execution_count": null,
      "metadata": {
        "id": "GROZlww2llJG",
        "colab": {
          "base_uri": "https://localhost:8080/"
        },
        "outputId": "f08a2ca4-93a9-4a38-ba2e-cac85394db92"
      },
      "outputs": [
        {
          "output_type": "execute_result",
          "data": {
            "text/plain": [
              "{'a': 'wartość nieustalona', 'b': [1, 2, 3, 4]}"
            ]
          },
          "metadata": {},
          "execution_count": 63
        }
      ],
      "source": [
        "pusty_slownik = {}\n",
        "d1 = {\"a\": \"wartość nieustalona\", \"b\": [1, 2, 3, 4]}\n",
        "d1"
      ]
    },
    {
      "cell_type": "code",
      "source": [
        "d1"
      ],
      "metadata": {
        "colab": {
          "base_uri": "https://localhost:8080/"
        },
        "id": "Xx9vLbM1yfyo",
        "outputId": "a5db8383-4fe0-474c-c77f-d83b43775368"
      },
      "execution_count": null,
      "outputs": [
        {
          "output_type": "execute_result",
          "data": {
            "text/plain": [
              "{'a': 'wartość nieustalona', 'b': [1, 2, 3, 4]}"
            ]
          },
          "metadata": {},
          "execution_count": 64
        }
      ]
    },
    {
      "cell_type": "code",
      "source": [
        "d1[7] = \"liczba całkowita\"\n",
        "d1"
      ],
      "metadata": {
        "colab": {
          "base_uri": "https://localhost:8080/"
        },
        "id": "q583-gNmylwj",
        "outputId": "a2afff0a-d5e0-4028-ef69-82d0646f5c11"
      },
      "execution_count": null,
      "outputs": [
        {
          "output_type": "execute_result",
          "data": {
            "text/plain": [
              "{'a': 'wartość nieustalona', 'b': [1, 2, 3, 4], 7: 'liczba całkowita'}"
            ]
          },
          "metadata": {},
          "execution_count": 65
        }
      ]
    },
    {
      "cell_type": "code",
      "execution_count": null,
      "metadata": {
        "id": "4NSQ_jkUllJG",
        "colab": {
          "base_uri": "https://localhost:8080/"
        },
        "outputId": "22908dd5-7bc6-4128-f5e4-8b0820274f96"
      },
      "outputs": [
        {
          "output_type": "execute_result",
          "data": {
            "text/plain": [
              "[1, 2, 3, 4]"
            ]
          },
          "metadata": {},
          "execution_count": 66
        }
      ],
      "source": [
        "d1[\"b\"]"
      ]
    },
    {
      "cell_type": "code",
      "execution_count": null,
      "metadata": {
        "id": "RIQ04fldllJG",
        "colab": {
          "base_uri": "https://localhost:8080/"
        },
        "outputId": "2a6cd2a6-4a69-4d62-f0cc-146d5bbe4a36"
      },
      "outputs": [
        {
          "output_type": "execute_result",
          "data": {
            "text/plain": [
              "True"
            ]
          },
          "metadata": {},
          "execution_count": 67
        }
      ],
      "source": [
        "\"b\" in d1"
      ]
    },
    {
      "cell_type": "code",
      "source": [
        "d1[5] = \"wartość nieustalona\"\n",
        "d1"
      ],
      "metadata": {
        "colab": {
          "base_uri": "https://localhost:8080/"
        },
        "id": "1w9dC0HvzfPo",
        "outputId": "5e132ef8-bf53-4b41-e1c9-4c8b34098eb1"
      },
      "execution_count": null,
      "outputs": [
        {
          "output_type": "execute_result",
          "data": {
            "text/plain": [
              "{'a': 'wartość nieustalona',\n",
              " 'b': [1, 2, 3, 4],\n",
              " 7: 'liczba całkowita',\n",
              " 5: 'wartość nieustalona'}"
            ]
          },
          "metadata": {},
          "execution_count": 68
        }
      ]
    },
    {
      "cell_type": "code",
      "source": [
        "d1[\"atrapa\"] = \"inna wartość\"\n",
        "d1"
      ],
      "metadata": {
        "colab": {
          "base_uri": "https://localhost:8080/"
        },
        "id": "ruOxGOOpzkjt",
        "outputId": "69af196e-6c6c-42b5-bc3d-e63e31aa627e"
      },
      "execution_count": null,
      "outputs": [
        {
          "output_type": "execute_result",
          "data": {
            "text/plain": [
              "{'a': 'wartość nieustalona',\n",
              " 'b': [1, 2, 3, 4],\n",
              " 7: 'liczba całkowita',\n",
              " 5: 'wartość nieustalona',\n",
              " 'atrapa': 'inna wartość'}"
            ]
          },
          "metadata": {},
          "execution_count": 69
        }
      ]
    },
    {
      "cell_type": "code",
      "source": [
        "del d1[5]\n",
        "d1"
      ],
      "metadata": {
        "colab": {
          "base_uri": "https://localhost:8080/"
        },
        "id": "KV774Quiznkp",
        "outputId": "4fc6e453-0d21-477d-896d-b7f34e8866c5"
      },
      "execution_count": null,
      "outputs": [
        {
          "output_type": "execute_result",
          "data": {
            "text/plain": [
              "{'a': 'wartość nieustalona',\n",
              " 'b': [1, 2, 3, 4],\n",
              " 7: 'liczba całkowita',\n",
              " 'atrapa': 'inna wartość'}"
            ]
          },
          "metadata": {},
          "execution_count": 70
        }
      ]
    },
    {
      "cell_type": "code",
      "source": [
        "ret = d1.pop(\"atrapa\")\n",
        "ret"
      ],
      "metadata": {
        "colab": {
          "base_uri": "https://localhost:8080/",
          "height": 35
        },
        "id": "vRKSCbVpzt-s",
        "outputId": "b2484d9b-519b-40f7-a6ed-c95860820f92"
      },
      "execution_count": null,
      "outputs": [
        {
          "output_type": "execute_result",
          "data": {
            "text/plain": [
              "'inna wartość'"
            ],
            "application/vnd.google.colaboratory.intrinsic+json": {
              "type": "string"
            }
          },
          "metadata": {},
          "execution_count": 71
        }
      ]
    },
    {
      "cell_type": "code",
      "source": [
        "d1"
      ],
      "metadata": {
        "colab": {
          "base_uri": "https://localhost:8080/"
        },
        "id": "XMj89NCWzwvE",
        "outputId": "0a13c6f2-1484-49cd-ee11-9bbabab6918c"
      },
      "execution_count": null,
      "outputs": [
        {
          "output_type": "execute_result",
          "data": {
            "text/plain": [
              "{'a': 'wartość nieustalona', 'b': [1, 2, 3, 4], 7: 'liczba całkowita'}"
            ]
          },
          "metadata": {},
          "execution_count": 73
        }
      ]
    },
    {
      "cell_type": "code",
      "source": [
        "list(d1.keys())"
      ],
      "metadata": {
        "colab": {
          "base_uri": "https://localhost:8080/"
        },
        "id": "nEQKGOKdz5wM",
        "outputId": "5725388d-a7b8-4be1-dff4-329461592dab"
      },
      "execution_count": null,
      "outputs": [
        {
          "output_type": "execute_result",
          "data": {
            "text/plain": [
              "['a', 'b', 7]"
            ]
          },
          "metadata": {},
          "execution_count": 74
        }
      ]
    },
    {
      "cell_type": "code",
      "execution_count": null,
      "metadata": {
        "id": "t6xvLtrollJQ",
        "colab": {
          "base_uri": "https://localhost:8080/"
        },
        "outputId": "6db84014-4365-470e-ae4d-ed9d0b33020a"
      },
      "outputs": [
        {
          "output_type": "execute_result",
          "data": {
            "text/plain": [
              "['wartość nieustalona', [1, 2, 3, 4], 'liczba całkowita']"
            ]
          },
          "metadata": {},
          "execution_count": 75
        }
      ],
      "source": [
        "list(d1.values())"
      ]
    },
    {
      "cell_type": "code",
      "execution_count": null,
      "metadata": {
        "id": "wv7uZInLllJQ",
        "colab": {
          "base_uri": "https://localhost:8080/"
        },
        "outputId": "176c58de-4c48-4ac9-c897-20792f4be004"
      },
      "outputs": [
        {
          "output_type": "execute_result",
          "data": {
            "text/plain": [
              "[('a', 'wartość nieustalona'), ('b', [1, 2, 3, 4]), (7, 'liczba całkowita')]"
            ]
          },
          "metadata": {},
          "execution_count": 76
        }
      ],
      "source": [
        "list(d1.items())"
      ]
    },
    {
      "cell_type": "code",
      "execution_count": null,
      "metadata": {
        "id": "PGMqlx1ollJQ",
        "colab": {
          "base_uri": "https://localhost:8080/"
        },
        "outputId": "04fa5a3b-7ef0-489b-e648-58753baf3fd6"
      },
      "outputs": [
        {
          "output_type": "execute_result",
          "data": {
            "text/plain": [
              "{'a': 'wartość nieustalona', 'b': 'foo', 7: 'liczba całkowita', 'c': 12}"
            ]
          },
          "metadata": {},
          "execution_count": 77
        }
      ],
      "source": [
        "d1.update({\"b\": \"foo\", \"c\": 12})\n",
        "d1"
      ]
    },
    {
      "cell_type": "code",
      "source": [
        "zip(range(5))"
      ],
      "metadata": {
        "colab": {
          "base_uri": "https://localhost:8080/"
        },
        "id": "LY4El4et0cIF",
        "outputId": "bf8a4bbe-60b2-49bd-fd40-1df0c3412689"
      },
      "execution_count": null,
      "outputs": [
        {
          "output_type": "execute_result",
          "data": {
            "text/plain": [
              "<zip at 0x79e67a26b0c0>"
            ]
          },
          "metadata": {},
          "execution_count": 80
        }
      ]
    },
    {
      "cell_type": "code",
      "source": [
        "reversed(range(5))"
      ],
      "metadata": {
        "colab": {
          "base_uri": "https://localhost:8080/"
        },
        "id": "deOfGBni0etb",
        "outputId": "9f3ccf9c-158f-4270-8608-c1e2a0fab9e5"
      },
      "execution_count": null,
      "outputs": [
        {
          "output_type": "execute_result",
          "data": {
            "text/plain": [
              "<range_iterator at 0x79e69737c6c0>"
            ]
          },
          "metadata": {},
          "execution_count": 81
        }
      ]
    },
    {
      "cell_type": "code",
      "source": [
        "krotki = zip(range(5), reversed(range(5)))\n",
        "krotki"
      ],
      "metadata": {
        "colab": {
          "base_uri": "https://localhost:8080/"
        },
        "id": "RhAoUx_S0YZ0",
        "outputId": "1d421e5d-790a-4fd8-99dd-fb9b1533a700"
      },
      "execution_count": null,
      "outputs": [
        {
          "output_type": "execute_result",
          "data": {
            "text/plain": [
              "<zip at 0x79e67a21eb80>"
            ]
          },
          "metadata": {},
          "execution_count": 78
        }
      ]
    },
    {
      "cell_type": "code",
      "execution_count": null,
      "metadata": {
        "id": "Tr-R5jnXllJQ",
        "colab": {
          "base_uri": "https://localhost:8080/"
        },
        "outputId": "f6d9c4a6-378e-491a-ff9e-e5c8b4b2e179"
      },
      "outputs": [
        {
          "output_type": "execute_result",
          "data": {
            "text/plain": [
              "{0: 4, 1: 3, 2: 2, 3: 1, 4: 0}"
            ]
          },
          "metadata": {},
          "execution_count": 82
        }
      ],
      "source": [
        "mapowanie = dict(krotki)\n",
        "mapowanie"
      ]
    },
    {
      "cell_type": "markdown",
      "source": [
        "#Pętle for"
      ],
      "metadata": {
        "id": "nzw3D4O60vXR"
      }
    },
    {
      "cell_type": "code",
      "execution_count": null,
      "metadata": {
        "id": "uJMZVl_YllJQ",
        "colab": {
          "base_uri": "https://localhost:8080/"
        },
        "outputId": "9955be24-789c-43da-c74f-5f3c7226aadd"
      },
      "outputs": [
        {
          "output_type": "execute_result",
          "data": {
            "text/plain": [
              "{'a': ['apple', 'atom'], 'b': ['bat', 'bar', 'book']}"
            ]
          },
          "metadata": {},
          "execution_count": 83
        }
      ],
      "source": [
        "words = [\"apple\", \"bat\", \"bar\", \"atom\", \"book\"]\n",
        "by_letter = {}\n",
        "\n",
        "#! blockstart\n",
        "for word in words:\n",
        "    letter = word[0]\n",
        "    if letter not in by_letter:\n",
        "        by_letter[letter] = [word]\n",
        "    else:\n",
        "        by_letter[letter].append(word)\n",
        "#! blockend\n",
        "\n",
        "by_letter"
      ]
    },
    {
      "cell_type": "code",
      "execution_count": null,
      "metadata": {
        "id": "_q_9VUaDllJQ",
        "colab": {
          "base_uri": "https://localhost:8080/"
        },
        "outputId": "0b54bc4e-5ff2-42a9-ac29-97b6df7ca13c"
      },
      "outputs": [
        {
          "output_type": "execute_result",
          "data": {
            "text/plain": [
              "{'a': ['apple', 'atom'], 'b': ['bat', 'bar', 'book']}"
            ]
          },
          "metadata": {},
          "execution_count": 84
        }
      ],
      "source": [
        "by_letter = {}\n",
        "#! blockstart\n",
        "for word in words:\n",
        "    letter = word[0]\n",
        "    by_letter.setdefault(letter, []).append(word)\n",
        "#! blockend\n",
        "by_letter"
      ]
    },
    {
      "cell_type": "code",
      "execution_count": null,
      "metadata": {
        "id": "9Me2MQpollJQ"
      },
      "outputs": [],
      "source": [
        "from collections import defaultdict\n",
        "by_letter = defaultdict(list)\n",
        "for word in words:\n",
        "    by_letter[word[0]].append(word)"
      ]
    },
    {
      "cell_type": "code",
      "source": [
        "hash(\"string\")"
      ],
      "metadata": {
        "colab": {
          "base_uri": "https://localhost:8080/"
        },
        "id": "zwnnngnt4FxW",
        "outputId": "222fcab8-ca02-44b3-e936-79e076cf244c"
      },
      "execution_count": 88,
      "outputs": [
        {
          "output_type": "execute_result",
          "data": {
            "text/plain": [
              "-8091972909904059369"
            ]
          },
          "metadata": {},
          "execution_count": 88
        }
      ]
    },
    {
      "cell_type": "code",
      "execution_count": null,
      "metadata": {
        "id": "DqjTA2wXllJQ",
        "colab": {
          "base_uri": "https://localhost:8080/",
          "height": 180
        },
        "outputId": "1b3f12be-ddc9-4c49-fb5d-02df9edfac6b"
      },
      "outputs": [
        {
          "output_type": "error",
          "ename": "TypeError",
          "evalue": "unhashable type: 'list'",
          "traceback": [
            "\u001b[0;31m---------------------------------------------------------------------------\u001b[0m",
            "\u001b[0;31mTypeError\u001b[0m                                 Traceback (most recent call last)",
            "\u001b[0;32m<ipython-input-86-e60485e61f88>\u001b[0m in \u001b[0;36m<cell line: 3>\u001b[0;34m()\u001b[0m\n\u001b[1;32m      1\u001b[0m \u001b[0mhash\u001b[0m\u001b[0;34m(\u001b[0m\u001b[0;34m\"string\"\u001b[0m\u001b[0;34m)\u001b[0m\u001b[0;34m\u001b[0m\u001b[0;34m\u001b[0m\u001b[0m\n\u001b[1;32m      2\u001b[0m \u001b[0mhash\u001b[0m\u001b[0;34m(\u001b[0m\u001b[0;34m(\u001b[0m\u001b[0;36m1\u001b[0m\u001b[0;34m,\u001b[0m \u001b[0;36m2\u001b[0m\u001b[0;34m,\u001b[0m \u001b[0;34m(\u001b[0m\u001b[0;36m2\u001b[0m\u001b[0;34m,\u001b[0m \u001b[0;36m3\u001b[0m\u001b[0;34m)\u001b[0m\u001b[0;34m)\u001b[0m\u001b[0;34m)\u001b[0m\u001b[0;34m\u001b[0m\u001b[0;34m\u001b[0m\u001b[0m\n\u001b[0;32m----> 3\u001b[0;31m \u001b[0mhash\u001b[0m\u001b[0;34m(\u001b[0m\u001b[0;34m(\u001b[0m\u001b[0;36m1\u001b[0m\u001b[0;34m,\u001b[0m \u001b[0;36m2\u001b[0m\u001b[0;34m,\u001b[0m \u001b[0;34m[\u001b[0m\u001b[0;36m2\u001b[0m\u001b[0;34m,\u001b[0m \u001b[0;36m3\u001b[0m\u001b[0;34m]\u001b[0m\u001b[0;34m)\u001b[0m\u001b[0;34m)\u001b[0m \u001b[0;31m# fails because lists are mutable\u001b[0m\u001b[0;34m\u001b[0m\u001b[0;34m\u001b[0m\u001b[0m\n\u001b[0m",
            "\u001b[0;31mTypeError\u001b[0m: unhashable type: 'list'"
          ]
        }
      ],
      "source": [
        "hash((1, 2, (2, 3)))\n",
        "hash((1, 2, [2, 3])) # fails because lists are mutable"
      ]
    },
    {
      "cell_type": "code",
      "execution_count": 89,
      "metadata": {
        "id": "D4u_UKAlllJR",
        "colab": {
          "base_uri": "https://localhost:8080/"
        },
        "outputId": "5ccb31b8-99ba-4a20-f15c-9ddc8055c5b7"
      },
      "outputs": [
        {
          "output_type": "execute_result",
          "data": {
            "text/plain": [
              "{(1, 2, 3): 5}"
            ]
          },
          "metadata": {},
          "execution_count": 89
        }
      ],
      "source": [
        "d = {}\n",
        "d[tuple([1, 2, 3])] = 5\n",
        "d"
      ]
    },
    {
      "cell_type": "markdown",
      "source": [
        "#Set"
      ],
      "metadata": {
        "id": "C4GNZGhg4O2t"
      }
    },
    {
      "cell_type": "code",
      "execution_count": 1,
      "metadata": {
        "id": "sbw83Sc9llJR",
        "colab": {
          "base_uri": "https://localhost:8080/"
        },
        "outputId": "bf1255e0-71cd-4239-f7e9-c1eacd0145b2"
      },
      "outputs": [
        {
          "output_type": "execute_result",
          "data": {
            "text/plain": [
              "{1, 2, 3}"
            ]
          },
          "metadata": {},
          "execution_count": 1
        }
      ],
      "source": [
        "set([2, 2, 2, 1, 3, 3])\n",
        "{2, 2, 2, 1, 3, 3}"
      ]
    },
    {
      "cell_type": "code",
      "execution_count": 8,
      "metadata": {
        "id": "jyiDG670llJR"
      },
      "outputs": [],
      "source": [
        "a = {1, 2, 3, 4, 5}\n",
        "b = {3, 4, 5, 6, 7, 8}"
      ]
    },
    {
      "cell_type": "code",
      "source": [
        "a.union(b)"
      ],
      "metadata": {
        "colab": {
          "base_uri": "https://localhost:8080/"
        },
        "id": "_10Wfjkj68FG",
        "outputId": "d29c0a1d-8686-4243-809e-6564372f9d0c"
      },
      "execution_count": 9,
      "outputs": [
        {
          "output_type": "execute_result",
          "data": {
            "text/plain": [
              "{1, 2, 3, 4, 5, 6, 7, 8}"
            ]
          },
          "metadata": {},
          "execution_count": 9
        }
      ]
    },
    {
      "cell_type": "code",
      "execution_count": 10,
      "metadata": {
        "id": "Bz4-Ydg-llJR",
        "colab": {
          "base_uri": "https://localhost:8080/"
        },
        "outputId": "9d552611-3d5c-46f6-fcc4-416e0edb1c70"
      },
      "outputs": [
        {
          "output_type": "execute_result",
          "data": {
            "text/plain": [
              "{1, 2, 3, 4, 5, 6, 7, 8}"
            ]
          },
          "metadata": {},
          "execution_count": 10
        }
      ],
      "source": [
        "a | b"
      ]
    },
    {
      "cell_type": "code",
      "execution_count": 11,
      "metadata": {
        "id": "MeeUSAJIllJR",
        "colab": {
          "base_uri": "https://localhost:8080/"
        },
        "outputId": "9896f50f-8edd-4e52-cb56-7f1464539e1b"
      },
      "outputs": [
        {
          "output_type": "execute_result",
          "data": {
            "text/plain": [
              "{3, 4, 5}"
            ]
          },
          "metadata": {},
          "execution_count": 11
        }
      ],
      "source": [
        "a.intersection(b)\n",
        "a & b"
      ]
    },
    {
      "cell_type": "markdown",
      "source": [
        "- `|=`: Operator ten jest używany do aktualizacji zbioru. Jeśli `b` jest zbiorem, to operator ten doda wszystkie elementy z `b` do zbioru `c`, eliminując duplikaty."
      ],
      "metadata": {
        "id": "K87aey367GZH"
      }
    },
    {
      "cell_type": "code",
      "source": [
        "c = a.copy()\n",
        "c |= b\n",
        "c"
      ],
      "metadata": {
        "colab": {
          "base_uri": "https://localhost:8080/"
        },
        "id": "zl40pLmG6sQz",
        "outputId": "da597c27-a08c-4227-8dae-47bca643f89d"
      },
      "execution_count": 12,
      "outputs": [
        {
          "output_type": "execute_result",
          "data": {
            "text/plain": [
              "{1, 2, 3, 4, 5, 6, 7, 8}"
            ]
          },
          "metadata": {},
          "execution_count": 12
        }
      ]
    },
    {
      "cell_type": "markdown",
      "source": [
        "- `&=`: Operator ten jest używany do aktualizacji zbioru, aby zawierał tylko te elementy, które są wspólne dla obu zbiorów."
      ],
      "metadata": {
        "id": "VvcFQppn7ihv"
      }
    },
    {
      "cell_type": "code",
      "execution_count": 13,
      "metadata": {
        "id": "dEIdV2XHllJR",
        "colab": {
          "base_uri": "https://localhost:8080/"
        },
        "outputId": "77f4902c-7847-417a-f173-aa4d61421fca"
      },
      "outputs": [
        {
          "output_type": "execute_result",
          "data": {
            "text/plain": [
              "{3, 4, 5}"
            ]
          },
          "metadata": {},
          "execution_count": 13
        }
      ],
      "source": [
        "d = a.copy()\n",
        "d &= b\n",
        "d"
      ]
    },
    {
      "cell_type": "code",
      "execution_count": 15,
      "metadata": {
        "id": "VHBugKECllJR",
        "colab": {
          "base_uri": "https://localhost:8080/"
        },
        "outputId": "f2ce9c89-ea72-4309-fa3a-e46373b58dad"
      },
      "outputs": [
        {
          "output_type": "execute_result",
          "data": {
            "text/plain": [
              "{(1, 2, 3, 4, 4)}"
            ]
          },
          "metadata": {},
          "execution_count": 15
        }
      ],
      "source": [
        "moje_dane = [1, 2, 3, 4, 4]\n",
        "zbior = {tuple(moje_dane)}\n",
        "zbior"
      ]
    },
    {
      "cell_type": "code",
      "execution_count": 16,
      "metadata": {
        "id": "wxs0IhEyllJR",
        "colab": {
          "base_uri": "https://localhost:8080/"
        },
        "outputId": "ab115789-c447-4035-ce12-08aa9e63304b"
      },
      "outputs": [
        {
          "output_type": "execute_result",
          "data": {
            "text/plain": [
              "True"
            ]
          },
          "metadata": {},
          "execution_count": 16
        }
      ],
      "source": [
        "a_set = {1, 2, 3, 4, 5}\n",
        "{1, 2, 3}.issubset(a_set)\n",
        "a_set.issuperset({1, 2, 3})"
      ]
    },
    {
      "cell_type": "code",
      "execution_count": 17,
      "metadata": {
        "id": "DNHKIRCVllJR",
        "colab": {
          "base_uri": "https://localhost:8080/"
        },
        "outputId": "c3a1cea1-2d11-4d1f-ac25-de3ec0428a81"
      },
      "outputs": [
        {
          "output_type": "execute_result",
          "data": {
            "text/plain": [
              "True"
            ]
          },
          "metadata": {},
          "execution_count": 17
        }
      ],
      "source": [
        "{1, 2, 3} == {3, 2, 1}"
      ]
    },
    {
      "cell_type": "code",
      "execution_count": 19,
      "metadata": {
        "id": "QFySosr_llJR",
        "colab": {
          "base_uri": "https://localhost:8080/"
        },
        "outputId": "9878319c-a266-4e9c-92a6-88607d76f007"
      },
      "outputs": [
        {
          "output_type": "execute_result",
          "data": {
            "text/plain": [
              "[' ', 'a', 'c', 'e', 'e', 'h', 'o', 'r', 'r', 's']"
            ]
          },
          "metadata": {},
          "execution_count": 19
        }
      ],
      "source": [
        "sorted([7, 1, 2, 6, 0, 3, 2]) # [0, 1, 2, 2, 3, 6, 7]\n",
        "sorted(\"horse race\") # [' ', 'a', 'c', 'e', 'e', 'h', 'o', 'r', 'r', 's']"
      ]
    },
    {
      "cell_type": "code",
      "execution_count": 20,
      "metadata": {
        "id": "7kByTFD6llJR",
        "colab": {
          "base_uri": "https://localhost:8080/"
        },
        "outputId": "f7dc3477-a263-4d66-c646-229df4e0ddf2"
      },
      "outputs": [
        {
          "output_type": "execute_result",
          "data": {
            "text/plain": [
              "[('foo', 'one'), ('bar', 'two'), ('baz', 'three')]"
            ]
          },
          "metadata": {},
          "execution_count": 20
        }
      ],
      "source": [
        "seq1 = [\"foo\", \"bar\", \"baz\"]\n",
        "seq2 = [\"one\", \"two\", \"three\"]\n",
        "zipped = zip(seq1, seq2)\n",
        "list(zipped)"
      ]
    },
    {
      "cell_type": "code",
      "execution_count": 21,
      "metadata": {
        "id": "d65gUP5sllJR",
        "colab": {
          "base_uri": "https://localhost:8080/"
        },
        "outputId": "d92aa2ed-0867-41f2-d465-08e48545bc08"
      },
      "outputs": [
        {
          "output_type": "execute_result",
          "data": {
            "text/plain": [
              "[('foo', 'one', False), ('bar', 'two', True)]"
            ]
          },
          "metadata": {},
          "execution_count": 21
        }
      ],
      "source": [
        "seq3 = [False, True]\n",
        "list(zip(seq1, seq2, seq3))"
      ]
    },
    {
      "cell_type": "code",
      "execution_count": 22,
      "metadata": {
        "id": "PY2tElwxllJR",
        "colab": {
          "base_uri": "https://localhost:8080/"
        },
        "outputId": "fa629779-186b-40e3-e9b7-609f593ce9e7"
      },
      "outputs": [
        {
          "output_type": "stream",
          "name": "stdout",
          "text": [
            "0: foo, one\n",
            "1: bar, two\n",
            "2: baz, three\n"
          ]
        }
      ],
      "source": [
        "#! blockstart\n",
        "for index, (a, b) in enumerate(zip(seq1, seq2)):\n",
        "    print(f\"{index}: {a}, {b}\")\n",
        "#! blockend"
      ]
    },
    {
      "cell_type": "code",
      "execution_count": 23,
      "metadata": {
        "id": "xBK6_E4WllJR",
        "colab": {
          "base_uri": "https://localhost:8080/"
        },
        "outputId": "65e5e730-d868-483c-ed10-3caaa0c6324b"
      },
      "outputs": [
        {
          "output_type": "execute_result",
          "data": {
            "text/plain": [
              "[9, 8, 7, 6, 5, 4, 3, 2, 1, 0]"
            ]
          },
          "metadata": {},
          "execution_count": 23
        }
      ],
      "source": [
        "list(reversed(range(10)))"
      ]
    },
    {
      "cell_type": "markdown",
      "source": [
        "# List comprehension"
      ],
      "metadata": {
        "id": "1oyN39SqCUZo"
      }
    },
    {
      "cell_type": "code",
      "execution_count": 24,
      "metadata": {
        "id": "7RwS13YellJR",
        "colab": {
          "base_uri": "https://localhost:8080/"
        },
        "outputId": "9a9b081d-111b-4b93-e647-8b2a6059b2c7"
      },
      "outputs": [
        {
          "output_type": "execute_result",
          "data": {
            "text/plain": [
              "['BAT', 'CAR', 'DOVE', 'PYTHON']"
            ]
          },
          "metadata": {},
          "execution_count": 24
        }
      ],
      "source": [
        "strings = [\"a\", \"as\", \"bat\", \"car\", \"dove\", \"python\"]\n",
        "[x.upper() for x in strings if len(x) > 2]"
      ]
    },
    {
      "cell_type": "code",
      "execution_count": 25,
      "metadata": {
        "id": "hNV9V_lollJR",
        "colab": {
          "base_uri": "https://localhost:8080/"
        },
        "outputId": "36614232-03d2-4e65-c906-fd4e6a0c7b6e"
      },
      "outputs": [
        {
          "output_type": "execute_result",
          "data": {
            "text/plain": [
              "{1, 2, 3, 4, 6}"
            ]
          },
          "metadata": {},
          "execution_count": 25
        }
      ],
      "source": [
        "unique_lengths = {len(x) for x in strings}\n",
        "unique_lengths"
      ]
    },
    {
      "cell_type": "code",
      "execution_count": 26,
      "metadata": {
        "id": "pb55a2AcllJR",
        "colab": {
          "base_uri": "https://localhost:8080/"
        },
        "outputId": "1457dbdb-a71e-4c8a-fb1d-0d396d80b509"
      },
      "outputs": [
        {
          "output_type": "execute_result",
          "data": {
            "text/plain": [
              "{1, 2, 3, 4, 6}"
            ]
          },
          "metadata": {},
          "execution_count": 26
        }
      ],
      "source": [
        "set(map(len, strings))"
      ]
    },
    {
      "cell_type": "code",
      "execution_count": 27,
      "metadata": {
        "id": "OK3TXdR2llJR",
        "colab": {
          "base_uri": "https://localhost:8080/"
        },
        "outputId": "3b3680e1-fc80-4282-b61e-20b8917c3c38"
      },
      "outputs": [
        {
          "output_type": "execute_result",
          "data": {
            "text/plain": [
              "{'a': 0, 'as': 1, 'bat': 2, 'car': 3, 'dove': 4, 'python': 5}"
            ]
          },
          "metadata": {},
          "execution_count": 27
        }
      ],
      "source": [
        "loc_mapping = {value: index for index, value in enumerate(strings)}\n",
        "loc_mapping"
      ]
    },
    {
      "cell_type": "code",
      "source": [
        "type(loc_mapping)"
      ],
      "metadata": {
        "colab": {
          "base_uri": "https://localhost:8080/"
        },
        "id": "wxDtRHqhE8ys",
        "outputId": "1dd4a587-667b-4b66-b6d9-d34fb5544177"
      },
      "execution_count": 28,
      "outputs": [
        {
          "output_type": "execute_result",
          "data": {
            "text/plain": [
              "dict"
            ]
          },
          "metadata": {},
          "execution_count": 28
        }
      ]
    },
    {
      "cell_type": "code",
      "execution_count": 34,
      "metadata": {
        "id": "uzZsIIjbllJR"
      },
      "outputs": [],
      "source": [
        "all_data = [[\"John\", \"Emily\", \"Michael\", \"Mary\", \"Steven\"],\n",
        "            [\"Maria\", \"Juan\", \"Javier\", \"Natalia\", \"Pilar\"]]"
      ]
    },
    {
      "cell_type": "markdown",
      "source": [
        "- Metoda `extend()` jest użyteczna, gdy chcesz dodać wiele elementów z jednej listy do drugiej."
      ],
      "metadata": {
        "id": "cYIYZiV1GhUc"
      }
    },
    {
      "cell_type": "code",
      "execution_count": 32,
      "metadata": {
        "id": "3shCZvWdllJS",
        "colab": {
          "base_uri": "https://localhost:8080/"
        },
        "outputId": "86f58caa-f251-4a24-9d7c-440d4687b09e"
      },
      "outputs": [
        {
          "output_type": "execute_result",
          "data": {
            "text/plain": [
              "['Piotr', 'Maria', 'Natalia']"
            ]
          },
          "metadata": {},
          "execution_count": 32
        }
      ],
      "source": [
        "names_of_interest = [\"Piotr\"]\n",
        "#! blockstart\n",
        "for names in all_data:\n",
        "    enough_as = [x for x in names if x.count(\"a\") >= 2]\n",
        "    names_of_interest.extend(enough_as)\n",
        "#! blockend\n",
        "names_of_interest"
      ]
    },
    {
      "cell_type": "code",
      "source": [
        "names_of_interest = []\n",
        "#! blockstart\n",
        "for names in all_data:\n",
        "    enough_as = [x for x in names if x.count(\"a\") >= 2]\n",
        "    names_of_interest.append(enough_as)\n",
        "#! blockend\n",
        "names_of_interest"
      ],
      "metadata": {
        "colab": {
          "base_uri": "https://localhost:8080/"
        },
        "id": "1rhi36AGGRj3",
        "outputId": "0b7e3f49-25a6-424f-d382-1665cdab17fe"
      },
      "execution_count": 36,
      "outputs": [
        {
          "output_type": "execute_result",
          "data": {
            "text/plain": [
              "[[], ['Maria', 'Natalia']]"
            ]
          },
          "metadata": {},
          "execution_count": 36
        }
      ]
    },
    {
      "cell_type": "code",
      "execution_count": 38,
      "metadata": {
        "id": "bRsIjcZlllJS",
        "colab": {
          "base_uri": "https://localhost:8080/"
        },
        "outputId": "de3bacd4-8dd9-4625-c87a-75c735461d3e"
      },
      "outputs": [
        {
          "output_type": "execute_result",
          "data": {
            "text/plain": [
              "['Maria', 'Natalia']"
            ]
          },
          "metadata": {},
          "execution_count": 38
        }
      ],
      "source": [
        "result = [x for names in all_data for x in names\n",
        "          if x.count(\"a\") >= 2]\n",
        "result"
      ]
    },
    {
      "cell_type": "markdown",
      "source": [
        "#List comprehension (2 pętle w jednym)"
      ],
      "metadata": {
        "id": "pTFdraxnH-bO"
      }
    },
    {
      "cell_type": "code",
      "execution_count": 39,
      "metadata": {
        "id": "iNlrqFkrllJS",
        "colab": {
          "base_uri": "https://localhost:8080/"
        },
        "outputId": "b1f3f03b-5c56-4547-94b6-ef7a33777620"
      },
      "outputs": [
        {
          "output_type": "execute_result",
          "data": {
            "text/plain": [
              "[1, 2, 3, 4, 5, 6, 7, 8, 9]"
            ]
          },
          "metadata": {},
          "execution_count": 39
        }
      ],
      "source": [
        "some_tuples = [(1, 2, 3), (4, 5, 6), (7, 8, 9)]\n",
        "flattened = [x for tup in some_tuples for x in tup]\n",
        "flattened"
      ]
    },
    {
      "cell_type": "code",
      "source": [
        "some_tuples = [(1, 2, 3), (4, 5, 6), (7, 8, 9)]\n",
        "flattened = [x for xy in some_tuples for x in xy]\n",
        "flattened"
      ],
      "metadata": {
        "colab": {
          "base_uri": "https://localhost:8080/"
        },
        "id": "ApE_csmaHXx-",
        "outputId": "19b77533-b30d-4d94-812e-5a1b7793ac26"
      },
      "execution_count": 43,
      "outputs": [
        {
          "output_type": "execute_result",
          "data": {
            "text/plain": [
              "[1, 2, 3, 4, 5, 6, 7, 8, 9]"
            ]
          },
          "metadata": {},
          "execution_count": 43
        }
      ]
    },
    {
      "cell_type": "code",
      "execution_count": 45,
      "metadata": {
        "id": "LXoLFBkVllJS",
        "colab": {
          "base_uri": "https://localhost:8080/"
        },
        "outputId": "3d57d066-4eb9-4ed8-8d1c-e44638014753"
      },
      "outputs": [
        {
          "output_type": "execute_result",
          "data": {
            "text/plain": [
              "[1, 2, 3, 4, 5, 6, 7, 8, 9]"
            ]
          },
          "metadata": {},
          "execution_count": 45
        }
      ],
      "source": [
        "flattened = []\n",
        "\n",
        "for tup in some_tuples:\n",
        "    for x in tup:\n",
        "        flattened.append(x)\n",
        "\n",
        "flattened"
      ]
    },
    {
      "cell_type": "code",
      "execution_count": 46,
      "metadata": {
        "id": "ZCC3KRVallJS",
        "colab": {
          "base_uri": "https://localhost:8080/"
        },
        "outputId": "667ce072-c182-4dad-a273-80b6cde35ab3"
      },
      "outputs": [
        {
          "output_type": "execute_result",
          "data": {
            "text/plain": [
              "[[1, 2, 3], [4, 5, 6], [7, 8, 9]]"
            ]
          },
          "metadata": {},
          "execution_count": 46
        }
      ],
      "source": [
        "[[x for x in tup] for tup in some_tuples]"
      ]
    },
    {
      "cell_type": "markdown",
      "source": [
        "# Funkcje"
      ],
      "metadata": {
        "id": "BjtGhgzsIy2A"
      }
    },
    {
      "cell_type": "code",
      "execution_count": 48,
      "metadata": {
        "id": "bvCn-sJAllJS",
        "colab": {
          "base_uri": "https://localhost:8080/"
        },
        "outputId": "7f7a44b9-65ae-4f4b-835f-8c0d29e2634a"
      },
      "outputs": [
        {
          "output_type": "execute_result",
          "data": {
            "text/plain": [
              "3"
            ]
          },
          "metadata": {},
          "execution_count": 48
        }
      ],
      "source": [
        "def moja_funkcja(x, y):\n",
        "    return x + y\n",
        "\n",
        "moja_funkcja(1, 2)"
      ]
    },
    {
      "cell_type": "code",
      "execution_count": 49,
      "metadata": {
        "id": "6bR6x_c2llJS",
        "colab": {
          "base_uri": "https://localhost:8080/"
        },
        "outputId": "519383b5-82b4-4c75-8a1d-c0978feba038"
      },
      "outputs": [
        {
          "output_type": "execute_result",
          "data": {
            "text/plain": [
              "3"
            ]
          },
          "metadata": {},
          "execution_count": 49
        }
      ],
      "source": [
        "result = moja_funkcja(1, 2)\n",
        "result"
      ]
    },
    {
      "cell_type": "code",
      "execution_count": 50,
      "metadata": {
        "id": "Sn-LAiA1llJS",
        "colab": {
          "base_uri": "https://localhost:8080/"
        },
        "outputId": "4e7c63e0-1de2-4153-826b-50d9bc1a9d49"
      },
      "outputs": [
        {
          "output_type": "stream",
          "name": "stdout",
          "text": [
            "Cześć!\n",
            "None\n"
          ]
        }
      ],
      "source": [
        "def function_without_return(x):\n",
        "    print(x)\n",
        "\n",
        "result = function_without_return(\"Cześć!\")\n",
        "print(result)"
      ]
    },
    {
      "cell_type": "code",
      "execution_count": 51,
      "metadata": {
        "id": "2CdNjqqCllJS"
      },
      "outputs": [],
      "source": [
        "def moja_funkcja2(x, y, z=1.5):\n",
        "    if z > 1:\n",
        "        return z * (x + y)\n",
        "    else:\n",
        "        return z / (x + y)"
      ]
    },
    {
      "cell_type": "code",
      "execution_count": 54,
      "metadata": {
        "id": "gIxxK7sHllJS",
        "colab": {
          "base_uri": "https://localhost:8080/"
        },
        "outputId": "cae9d2a5-b98b-463f-b046-f3a4a04f015d"
      },
      "outputs": [
        {
          "output_type": "execute_result",
          "data": {
            "text/plain": [
              "45.0"
            ]
          },
          "metadata": {},
          "execution_count": 54
        }
      ],
      "source": [
        "moja_funkcja2(5, 6, z=0.7) # 0.06363636363636363\n",
        "moja_funkcja2(3.14, 7, 3.5) # 35.49\n",
        "moja_funkcja2(10, 20)"
      ]
    },
    {
      "cell_type": "code",
      "execution_count": 55,
      "metadata": {
        "id": "WPOc_AsAllJS"
      },
      "outputs": [],
      "source": [
        "a = []\n",
        "def func():\n",
        "    for i in range(5):\n",
        "        a.append(i)"
      ]
    },
    {
      "cell_type": "code",
      "source": [
        "func()\n",
        "a"
      ],
      "metadata": {
        "colab": {
          "base_uri": "https://localhost:8080/"
        },
        "id": "EU9ZLDFoLP7B",
        "outputId": "22dc875a-ea0e-4a33-b8d0-7300a74564c6"
      },
      "execution_count": 56,
      "outputs": [
        {
          "output_type": "execute_result",
          "data": {
            "text/plain": [
              "[0, 1, 2, 3, 4]"
            ]
          },
          "metadata": {},
          "execution_count": 56
        }
      ]
    },
    {
      "cell_type": "code",
      "execution_count": 57,
      "metadata": {
        "id": "f_zUA7xxllJS",
        "colab": {
          "base_uri": "https://localhost:8080/"
        },
        "outputId": "cb5251b9-1acc-40ea-d2d0-03754dde10d4"
      },
      "outputs": [
        {
          "output_type": "execute_result",
          "data": {
            "text/plain": [
              "[0, 1, 2, 3, 4, 0, 1, 2, 3, 4]"
            ]
          },
          "metadata": {},
          "execution_count": 57
        }
      ],
      "source": [
        "func()\n",
        "a"
      ]
    },
    {
      "cell_type": "code",
      "execution_count": 61,
      "metadata": {
        "id": "OXZU6cQ7llJS",
        "colab": {
          "base_uri": "https://localhost:8080/"
        },
        "outputId": "9410f0ce-2e20-474b-9784-edcba3c09702"
      },
      "outputs": [
        {
          "output_type": "stream",
          "name": "stdout",
          "text": [
            "None\n"
          ]
        }
      ],
      "source": [
        "a = None\n",
        "#! blockstart\n",
        "def bind_a_variable():\n",
        "    # global a\n",
        "    a = []\n",
        "bind_a_variable()\n",
        "#! blockend\n",
        "print(a)"
      ]
    },
    {
      "cell_type": "code",
      "source": [
        "a = None\n",
        "#! blockstart\n",
        "def bind_a_variable():\n",
        "    global a\n",
        "    a = []\n",
        "bind_a_variable()\n",
        "#! blockend\n",
        "print(a)"
      ],
      "metadata": {
        "colab": {
          "base_uri": "https://localhost:8080/"
        },
        "id": "kK8LDyZuLoGy",
        "outputId": "7820f0bc-33e5-45ec-da11-903e9f88c3f7"
      },
      "execution_count": 62,
      "outputs": [
        {
          "output_type": "stream",
          "name": "stdout",
          "text": [
            "[]\n"
          ]
        }
      ]
    },
    {
      "cell_type": "code",
      "execution_count": 65,
      "metadata": {
        "id": "R1_AJj65llJS"
      },
      "outputs": [],
      "source": [
        "states = [\"   Alabama \", \"Georgia!\", \"Georgia\", \"georgia\", \"FlOrIda\",\n",
        "          \"south   carolina##\", \"West virginia?\"]"
      ]
    },
    {
      "cell_type": "code",
      "execution_count": 66,
      "metadata": {
        "id": "kSZES6QMllJS",
        "colab": {
          "base_uri": "https://localhost:8080/"
        },
        "outputId": "19553198-e9b4-4b72-9e60-79dff5b836a4"
      },
      "outputs": [
        {
          "output_type": "execute_result",
          "data": {
            "text/plain": [
              "['Alabama',\n",
              " 'Georgia',\n",
              " 'Georgia',\n",
              " 'Georgia',\n",
              " 'Florida',\n",
              " 'South   Carolina',\n",
              " 'West Virginia']"
            ]
          },
          "metadata": {},
          "execution_count": 66
        }
      ],
      "source": [
        "import re\n",
        "\n",
        "def clean_strings(strings):\n",
        "    result = []\n",
        "    for value in strings:\n",
        "        value = value.strip()\n",
        "        value = re.sub(\"[!#?]\", \"\", value)\n",
        "        value = value.title()\n",
        "        result.append(value)\n",
        "    return result\n",
        "\n",
        "clean_strings(states)"
      ]
    },
    {
      "cell_type": "code",
      "execution_count": 67,
      "metadata": {
        "id": "V_bJ8UGGllJS",
        "colab": {
          "base_uri": "https://localhost:8080/"
        },
        "outputId": "05a2b933-f859-4a6f-b77a-51f5f5a316a9"
      },
      "outputs": [
        {
          "output_type": "execute_result",
          "data": {
            "text/plain": [
              "['Alabama',\n",
              " 'Georgia',\n",
              " 'Georgia',\n",
              " 'Georgia',\n",
              " 'Florida',\n",
              " 'South   Carolina',\n",
              " 'West Virginia']"
            ]
          },
          "metadata": {},
          "execution_count": 67
        }
      ],
      "source": [
        "def remove_punctuation(value):\n",
        "    return re.sub(\"[!#?]\", \"\", value)\n",
        "\n",
        "clean_ops = [str.strip, remove_punctuation, str.title]\n",
        "\n",
        "def clean_strings(strings, ops):\n",
        "    result = []\n",
        "    for value in strings:\n",
        "        for func in ops:\n",
        "            value = func(value)\n",
        "        result.append(value)\n",
        "    return result\n",
        "\n",
        "clean_strings(states, clean_ops)"
      ]
    },
    {
      "cell_type": "code",
      "execution_count": 68,
      "metadata": {
        "id": "gDnbVJVqllJS",
        "colab": {
          "base_uri": "https://localhost:8080/"
        },
        "outputId": "d2cd7c6c-1c64-4135-c7f4-4b5fedc3c717"
      },
      "outputs": [
        {
          "output_type": "stream",
          "name": "stdout",
          "text": [
            "   Alabama \n",
            "Georgia\n",
            "Georgia\n",
            "georgia\n",
            "FlOrIda\n",
            "south   carolina\n",
            "West virginia\n"
          ]
        }
      ],
      "source": [
        "for x in map(remove_punctuation, states):\n",
        "    print(x)"
      ]
    },
    {
      "cell_type": "markdown",
      "source": [
        "#Funkcja anonimowa"
      ],
      "metadata": {
        "id": "Hne4CZF3Mhsw"
      }
    },
    {
      "cell_type": "code",
      "execution_count": 69,
      "metadata": {
        "id": "M11dyOblllJT"
      },
      "outputs": [],
      "source": [
        "def short_function(x):\n",
        "    return x * 2\n",
        "\n",
        "equiv_anon = lambda x: x * 2"
      ]
    },
    {
      "cell_type": "code",
      "execution_count": 70,
      "metadata": {
        "id": "tKO2tebfllJT",
        "colab": {
          "base_uri": "https://localhost:8080/"
        },
        "outputId": "74fc006a-7c07-4152-83bf-e920a7e2118f"
      },
      "outputs": [
        {
          "output_type": "execute_result",
          "data": {
            "text/plain": [
              "[8, 0, 2, 10, 12]"
            ]
          },
          "metadata": {},
          "execution_count": 70
        }
      ],
      "source": [
        "def apply_to_list(some_list, f):\n",
        "    return [f(x) for x in some_list]\n",
        "\n",
        "ints = [4, 0, 1, 5, 6]\n",
        "apply_to_list(ints, lambda x: x * 2)"
      ]
    },
    {
      "cell_type": "code",
      "execution_count": 71,
      "metadata": {
        "id": "iIcw7PG2llJT"
      },
      "outputs": [],
      "source": [
        "strings = [\"foo\", \"card\", \"bar\", \"aaaa\", \"abab\"]"
      ]
    },
    {
      "cell_type": "code",
      "execution_count": 72,
      "metadata": {
        "id": "5cHOQ52IllJT",
        "colab": {
          "base_uri": "https://localhost:8080/"
        },
        "outputId": "3cfff22b-02c4-4bcc-8c98-2c74c6e493ef"
      },
      "outputs": [
        {
          "output_type": "execute_result",
          "data": {
            "text/plain": [
              "['aaaa', 'foo', 'abab', 'bar', 'card']"
            ]
          },
          "metadata": {},
          "execution_count": 72
        }
      ],
      "source": [
        "strings.sort(key=lambda x: len(set(x)))\n",
        "strings"
      ]
    },
    {
      "cell_type": "code",
      "execution_count": 73,
      "metadata": {
        "id": "Sd8rt2m-llJT",
        "colab": {
          "base_uri": "https://localhost:8080/"
        },
        "outputId": "923c7b94-bdab-48eb-d54e-22937d7c3658"
      },
      "outputs": [
        {
          "output_type": "stream",
          "name": "stdout",
          "text": [
            "a\n",
            "b\n",
            "c\n"
          ]
        }
      ],
      "source": [
        "some_dict = {\"a\": 1, \"b\": 2, \"c\": 3}\n",
        "for key in some_dict:\n",
        "    print(key)"
      ]
    },
    {
      "cell_type": "code",
      "execution_count": 74,
      "metadata": {
        "id": "lI_xeIT9llJT",
        "colab": {
          "base_uri": "https://localhost:8080/"
        },
        "outputId": "dd392898-7282-4860-f5db-0bf60136590f"
      },
      "outputs": [
        {
          "output_type": "execute_result",
          "data": {
            "text/plain": [
              "<dict_keyiterator at 0x793814c0fba0>"
            ]
          },
          "metadata": {},
          "execution_count": 74
        }
      ],
      "source": [
        "dict_iterator = iter(some_dict)\n",
        "dict_iterator"
      ]
    },
    {
      "cell_type": "code",
      "execution_count": 75,
      "metadata": {
        "id": "hg5KJVkkllJT",
        "colab": {
          "base_uri": "https://localhost:8080/"
        },
        "outputId": "4d3e0692-4792-49f7-c429-8a7ea693ac28"
      },
      "outputs": [
        {
          "output_type": "execute_result",
          "data": {
            "text/plain": [
              "['a', 'b', 'c']"
            ]
          },
          "metadata": {},
          "execution_count": 75
        }
      ],
      "source": [
        "list(dict_iterator)"
      ]
    },
    {
      "cell_type": "markdown",
      "source": [
        "# Generator yield"
      ],
      "metadata": {
        "id": "YZfvhfuCOeNU"
      }
    },
    {
      "cell_type": "markdown",
      "source": [
        "- Funkcja `squares` jest przykładem generatora w Pythonie, który pozwala na efektywne generowanie sekwencji kwadratów liczb całkowitych. Użycie `yield` sprawia, że pamięć jest używana oszczędnie, ponieważ wartości są generowane na bieżąco, a nie przechowywane w pamięci jako lista."
      ],
      "metadata": {
        "id": "1j6jxiceN_94"
      }
    },
    {
      "cell_type": "code",
      "execution_count": 76,
      "metadata": {
        "id": "bh_BBcArllJT"
      },
      "outputs": [],
      "source": [
        "def squares(n=10):\n",
        "    print(f\"Generowanie kwadratów od 1 do {n ** 2}\")\n",
        "    for i in range(1, n + 1):\n",
        "        yield i ** 2"
      ]
    },
    {
      "cell_type": "code",
      "execution_count": 77,
      "metadata": {
        "id": "sImkBy_rllJT",
        "colab": {
          "base_uri": "https://localhost:8080/"
        },
        "outputId": "62e8cc8f-cfee-4ab2-faa0-c064852ac7f0"
      },
      "outputs": [
        {
          "output_type": "execute_result",
          "data": {
            "text/plain": [
              "<generator object squares at 0x793814def920>"
            ]
          },
          "metadata": {},
          "execution_count": 77
        }
      ],
      "source": [
        "gen = squares()\n",
        "gen"
      ]
    },
    {
      "cell_type": "code",
      "execution_count": 78,
      "metadata": {
        "id": "tpo1aANXllJT",
        "colab": {
          "base_uri": "https://localhost:8080/"
        },
        "outputId": "2156b866-4d86-4c3c-a6e5-3c2cd8b45629"
      },
      "outputs": [
        {
          "output_type": "stream",
          "name": "stdout",
          "text": [
            "Generowanie kwadratów od 1 do 100\n",
            "1 4 9 16 25 36 49 64 81 100 "
          ]
        }
      ],
      "source": [
        "for x in gen:\n",
        "    print(x, end=\" \")"
      ]
    },
    {
      "cell_type": "code",
      "execution_count": 79,
      "metadata": {
        "id": "DC__siB0llJT",
        "colab": {
          "base_uri": "https://localhost:8080/"
        },
        "outputId": "c49ec1c5-4b2b-450d-a4e9-d3a16ef7d773"
      },
      "outputs": [
        {
          "output_type": "execute_result",
          "data": {
            "text/plain": [
              "<generator object <genexpr> at 0x793814def840>"
            ]
          },
          "metadata": {},
          "execution_count": 79
        }
      ],
      "source": [
        "gen = (x ** 2 for x in range(100))\n",
        "gen"
      ]
    },
    {
      "cell_type": "code",
      "source": [
        "sum(x ** 2 for x in range(100))"
      ],
      "metadata": {
        "colab": {
          "base_uri": "https://localhost:8080/"
        },
        "id": "ocrXCflDO33D",
        "outputId": "965d3045-f741-4075-c6b3-60047c80af25"
      },
      "execution_count": 81,
      "outputs": [
        {
          "output_type": "execute_result",
          "data": {
            "text/plain": [
              "328350"
            ]
          },
          "metadata": {},
          "execution_count": 81
        }
      ]
    },
    {
      "cell_type": "code",
      "execution_count": 82,
      "metadata": {
        "id": "OZFJXArellJT",
        "colab": {
          "base_uri": "https://localhost:8080/"
        },
        "outputId": "75a55890-bd22-4c7c-fe6a-cdb002f8a002"
      },
      "outputs": [
        {
          "output_type": "execute_result",
          "data": {
            "text/plain": [
              "{0: 0, 1: 1, 2: 4, 3: 9, 4: 16}"
            ]
          },
          "metadata": {},
          "execution_count": 82
        }
      ],
      "source": [
        "dict((i, i ** 2) for i in range(5))"
      ]
    },
    {
      "cell_type": "code",
      "execution_count": 83,
      "metadata": {
        "id": "keu5p5PTllJT",
        "colab": {
          "base_uri": "https://localhost:8080/"
        },
        "outputId": "935c1415-82af-4591-8412-7b71802dee03"
      },
      "outputs": [
        {
          "output_type": "stream",
          "name": "stdout",
          "text": [
            "A ['Alan', 'Adam']\n",
            "W ['Wes', 'Will']\n",
            "A ['Albert']\n",
            "S ['Steven']\n"
          ]
        }
      ],
      "source": [
        "import itertools\n",
        "def first_letter(x):\n",
        "    return x[0]\n",
        "\n",
        "names = [\"Alan\", \"Adam\", \"Wes\", \"Will\", \"Albert\", \"Steven\"]\n",
        "\n",
        "for letter, names in itertools.groupby(names, first_letter):\n",
        "    print(letter, list(names)) # names is a generator"
      ]
    },
    {
      "cell_type": "markdown",
      "source": [
        "#Obsługa wyjątków"
      ],
      "metadata": {
        "id": "JRHF5tKRRS_A"
      }
    },
    {
      "cell_type": "code",
      "execution_count": 84,
      "metadata": {
        "id": "xUItxhOAllJT",
        "colab": {
          "base_uri": "https://localhost:8080/",
          "height": 162
        },
        "collapsed": true,
        "outputId": "efc53b29-e0d0-495c-d0b5-ee3bf86ec31c"
      },
      "outputs": [
        {
          "output_type": "error",
          "ename": "ValueError",
          "evalue": "could not convert string to float: 'something'",
          "traceback": [
            "\u001b[0;31m---------------------------------------------------------------------------\u001b[0m",
            "\u001b[0;31mValueError\u001b[0m                                Traceback (most recent call last)",
            "\u001b[0;32m<ipython-input-84-b152ab25fc57>\u001b[0m in \u001b[0;36m<cell line: 2>\u001b[0;34m()\u001b[0m\n\u001b[1;32m      1\u001b[0m \u001b[0mfloat\u001b[0m\u001b[0;34m(\u001b[0m\u001b[0;34m\"1.2345\"\u001b[0m\u001b[0;34m)\u001b[0m\u001b[0;34m\u001b[0m\u001b[0;34m\u001b[0m\u001b[0m\n\u001b[0;32m----> 2\u001b[0;31m \u001b[0mfloat\u001b[0m\u001b[0;34m(\u001b[0m\u001b[0;34m\"something\"\u001b[0m\u001b[0;34m)\u001b[0m\u001b[0;34m\u001b[0m\u001b[0;34m\u001b[0m\u001b[0m\n\u001b[0m",
            "\u001b[0;31mValueError\u001b[0m: could not convert string to float: 'something'"
          ]
        }
      ],
      "source": [
        "float(\"1.2345\")\n",
        "float(\"something\") # ValueError: could not convert string to float: 'something'"
      ]
    },
    {
      "cell_type": "code",
      "execution_count": 85,
      "metadata": {
        "id": "cqqFljpIllJT"
      },
      "outputs": [],
      "source": [
        "def attempt_float(x):\n",
        "    try:\n",
        "        return float(x)\n",
        "    except:\n",
        "        return x"
      ]
    },
    {
      "cell_type": "code",
      "source": [
        "attempt_float(\"1.2345\")"
      ],
      "metadata": {
        "colab": {
          "base_uri": "https://localhost:8080/"
        },
        "id": "-H9LTlfUR5w9",
        "outputId": "ec6db615-2862-4272-bd4b-5ad1392117ce"
      },
      "execution_count": 86,
      "outputs": [
        {
          "output_type": "execute_result",
          "data": {
            "text/plain": [
              "1.2345"
            ]
          },
          "metadata": {},
          "execution_count": 86
        }
      ]
    },
    {
      "cell_type": "code",
      "execution_count": 87,
      "metadata": {
        "id": "jF_g3a9GllJT",
        "colab": {
          "base_uri": "https://localhost:8080/",
          "height": 35
        },
        "outputId": "6479aa34-ec24-41fc-bf83-68048a4010c9"
      },
      "outputs": [
        {
          "output_type": "execute_result",
          "data": {
            "text/plain": [
              "'something'"
            ],
            "application/vnd.google.colaboratory.intrinsic+json": {
              "type": "string"
            }
          },
          "metadata": {},
          "execution_count": 87
        }
      ],
      "source": [
        "attempt_float(\"something\")"
      ]
    },
    {
      "cell_type": "code",
      "execution_count": 88,
      "metadata": {
        "id": "EWLf0e3GllJT",
        "colab": {
          "base_uri": "https://localhost:8080/",
          "height": 144
        },
        "collapsed": true,
        "outputId": "8a41ae75-183c-45c0-9d27-6f70034e5c03"
      },
      "outputs": [
        {
          "output_type": "error",
          "ename": "TypeError",
          "evalue": "float() argument must be a string or a real number, not 'tuple'",
          "traceback": [
            "\u001b[0;31m---------------------------------------------------------------------------\u001b[0m",
            "\u001b[0;31mTypeError\u001b[0m                                 Traceback (most recent call last)",
            "\u001b[0;32m<ipython-input-88-82f777b0e564>\u001b[0m in \u001b[0;36m<cell line: 1>\u001b[0;34m()\u001b[0m\n\u001b[0;32m----> 1\u001b[0;31m \u001b[0mfloat\u001b[0m\u001b[0;34m(\u001b[0m\u001b[0;34m(\u001b[0m\u001b[0;36m1\u001b[0m\u001b[0;34m,\u001b[0m \u001b[0;36m2\u001b[0m\u001b[0;34m)\u001b[0m\u001b[0;34m)\u001b[0m\u001b[0;34m\u001b[0m\u001b[0;34m\u001b[0m\u001b[0m\n\u001b[0m",
            "\u001b[0;31mTypeError\u001b[0m: float() argument must be a string or a real number, not 'tuple'"
          ]
        }
      ],
      "source": [
        "float((1, 2)) # TypeError: float() argument must be a string or a real number, not 'tuple'"
      ]
    },
    {
      "cell_type": "code",
      "execution_count": 89,
      "metadata": {
        "id": "eCMVTm5kllJU"
      },
      "outputs": [],
      "source": [
        "def attempt_float(x):\n",
        "    try:\n",
        "        return float(x)\n",
        "    except ValueError:\n",
        "        return x"
      ]
    },
    {
      "cell_type": "code",
      "execution_count": 90,
      "metadata": {
        "id": "V_C9GbmQllJU",
        "colab": {
          "base_uri": "https://localhost:8080/",
          "height": 269
        },
        "collapsed": true,
        "outputId": "e4ae04f5-38e5-4722-ddb9-554126c45efc"
      },
      "outputs": [
        {
          "output_type": "error",
          "ename": "TypeError",
          "evalue": "float() argument must be a string or a real number, not 'tuple'",
          "traceback": [
            "\u001b[0;31m---------------------------------------------------------------------------\u001b[0m",
            "\u001b[0;31mTypeError\u001b[0m                                 Traceback (most recent call last)",
            "\u001b[0;32m<ipython-input-90-8b0026e9e6b7>\u001b[0m in \u001b[0;36m<cell line: 1>\u001b[0;34m()\u001b[0m\n\u001b[0;32m----> 1\u001b[0;31m \u001b[0mattempt_float\u001b[0m\u001b[0;34m(\u001b[0m\u001b[0;34m(\u001b[0m\u001b[0;36m1\u001b[0m\u001b[0;34m,\u001b[0m \u001b[0;36m2\u001b[0m\u001b[0;34m)\u001b[0m\u001b[0;34m)\u001b[0m\u001b[0;34m\u001b[0m\u001b[0;34m\u001b[0m\u001b[0m\n\u001b[0m",
            "\u001b[0;32m<ipython-input-89-6209ddecd2b5>\u001b[0m in \u001b[0;36mattempt_float\u001b[0;34m(x)\u001b[0m\n\u001b[1;32m      1\u001b[0m \u001b[0;32mdef\u001b[0m \u001b[0mattempt_float\u001b[0m\u001b[0;34m(\u001b[0m\u001b[0mx\u001b[0m\u001b[0;34m)\u001b[0m\u001b[0;34m:\u001b[0m\u001b[0;34m\u001b[0m\u001b[0;34m\u001b[0m\u001b[0m\n\u001b[1;32m      2\u001b[0m     \u001b[0;32mtry\u001b[0m\u001b[0;34m:\u001b[0m\u001b[0;34m\u001b[0m\u001b[0;34m\u001b[0m\u001b[0m\n\u001b[0;32m----> 3\u001b[0;31m         \u001b[0;32mreturn\u001b[0m \u001b[0mfloat\u001b[0m\u001b[0;34m(\u001b[0m\u001b[0mx\u001b[0m\u001b[0;34m)\u001b[0m\u001b[0;34m\u001b[0m\u001b[0;34m\u001b[0m\u001b[0m\n\u001b[0m\u001b[1;32m      4\u001b[0m     \u001b[0;32mexcept\u001b[0m \u001b[0mValueError\u001b[0m\u001b[0;34m:\u001b[0m\u001b[0;34m\u001b[0m\u001b[0;34m\u001b[0m\u001b[0m\n\u001b[1;32m      5\u001b[0m         \u001b[0;32mreturn\u001b[0m \u001b[0mx\u001b[0m\u001b[0;34m\u001b[0m\u001b[0;34m\u001b[0m\u001b[0m\n",
            "\u001b[0;31mTypeError\u001b[0m: float() argument must be a string or a real number, not 'tuple'"
          ]
        }
      ],
      "source": [
        "attempt_float((1, 2)) # TypeError: float() argument must be a string or a real number, not 'tuple'"
      ]
    },
    {
      "cell_type": "code",
      "execution_count": 91,
      "metadata": {
        "id": "UC6JNMYWllJU"
      },
      "outputs": [],
      "source": [
        "def attempt_float(x):\n",
        "    try:\n",
        "        return float(x)\n",
        "    except (TypeError, ValueError):\n",
        "        return x"
      ]
    },
    {
      "cell_type": "code",
      "source": [
        "attempt_float((1, 2))"
      ],
      "metadata": {
        "colab": {
          "base_uri": "https://localhost:8080/"
        },
        "id": "qORPYu8OSP7N",
        "outputId": "5ada0801-5a31-4ff4-b20a-589fa1b248de"
      },
      "execution_count": 92,
      "outputs": [
        {
          "output_type": "execute_result",
          "data": {
            "text/plain": [
              "(1, 2)"
            ]
          },
          "metadata": {},
          "execution_count": 92
        }
      ]
    },
    {
      "cell_type": "markdown",
      "source": [
        "# OS"
      ],
      "metadata": {
        "id": "pGQP6ZpCSTZi"
      }
    },
    {
      "cell_type": "code",
      "execution_count": 93,
      "metadata": {
        "id": "Doz881YkllJU"
      },
      "outputs": [],
      "source": [
        "import os\n",
        "path = \"/content/segismundo.txt\"\n",
        "f = open(path, encoding=\"utf-8\")"
      ]
    },
    {
      "cell_type": "code",
      "execution_count": 94,
      "metadata": {
        "id": "3jLg4OgEllJU",
        "colab": {
          "base_uri": "https://localhost:8080/"
        },
        "outputId": "314ddb47-a226-4ab6-9ad7-bc80447afbc3"
      },
      "outputs": [
        {
          "output_type": "execute_result",
          "data": {
            "text/plain": [
              "['Sueña el rico en su riqueza,',\n",
              " 'que más cuidados le ofrece;',\n",
              " '',\n",
              " 'sueña el pobre que padece',\n",
              " 'su miseria y su pobreza;',\n",
              " '',\n",
              " 'sueña el que a medrar empieza,',\n",
              " 'sueña el que afana y pretende,',\n",
              " 'sueña el que agravia y ofende,',\n",
              " '',\n",
              " 'y en el mundo, en conclusión,',\n",
              " 'todos sueñan lo que son,',\n",
              " 'aunque ninguno lo entiende.',\n",
              " '']"
            ]
          },
          "metadata": {},
          "execution_count": 94
        }
      ],
      "source": [
        "lines = [x.rstrip() for x in open(path, encoding=\"utf-8\")]\n",
        "lines"
      ]
    },
    {
      "cell_type": "code",
      "execution_count": 95,
      "metadata": {
        "id": "nhuvF12MllJU"
      },
      "outputs": [],
      "source": [
        "f.close()"
      ]
    },
    {
      "cell_type": "code",
      "execution_count": 96,
      "metadata": {
        "id": "E0Pi2bt_llJU"
      },
      "outputs": [],
      "source": [
        "with open(path, encoding=\"utf-8\") as f:\n",
        "    lines = [x.rstrip() for x in f]"
      ]
    },
    {
      "cell_type": "code",
      "source": [
        "f1 = open(path)\n",
        "f1.read(10)"
      ],
      "metadata": {
        "colab": {
          "base_uri": "https://localhost:8080/",
          "height": 35
        },
        "id": "Uemux9vsSqjT",
        "outputId": "ae168d3c-7516-4f86-c85e-815ccdc12579"
      },
      "execution_count": 97,
      "outputs": [
        {
          "output_type": "execute_result",
          "data": {
            "text/plain": [
              "'Sueña el r'"
            ],
            "application/vnd.google.colaboratory.intrinsic+json": {
              "type": "string"
            }
          },
          "metadata": {},
          "execution_count": 97
        }
      ]
    },
    {
      "cell_type": "markdown",
      "source": [
        "- Tryb binarny w Pythonie dotyczy sposobu otwierania plików i odczytywania danych. Otwierając plik w trybie binarnym za pomocą mode=\"rb\", wskazujesz, że dane będą odczytywane jako ciąg bajtów, a nie jako ciąg znaków (który wymaga dekodowania)."
      ],
      "metadata": {
        "id": "wFJzdZpJS7Fg"
      }
    },
    {
      "cell_type": "code",
      "execution_count": 98,
      "metadata": {
        "id": "NcpWYzjYllJU",
        "colab": {
          "base_uri": "https://localhost:8080/"
        },
        "outputId": "50480987-222a-490a-9178-4b7536f52f4e"
      },
      "outputs": [
        {
          "output_type": "execute_result",
          "data": {
            "text/plain": [
              "b'Sue\\xc3\\xb1a el '"
            ]
          },
          "metadata": {},
          "execution_count": 98
        }
      ],
      "source": [
        "f2 = open(path, mode=\"rb\")  # Tryb binarny\n",
        "f2.read(10)"
      ]
    },
    {
      "cell_type": "markdown",
      "source": [
        "- W trybie binarnym (mode=\"rb\"): tell() zwraca liczbę bajtów odczytanych od początku pliku.\n",
        "- W trybie tekstowym (mode=\"r\"): tell() zwraca liczbę znaków (kodowanych zgodnie z używanym kodowaniem) od początku pliku."
      ],
      "metadata": {
        "id": "9Vixi7xZXRbw"
      }
    },
    {
      "cell_type": "code",
      "source": [
        "f1.tell() # 11"
      ],
      "metadata": {
        "colab": {
          "base_uri": "https://localhost:8080/"
        },
        "id": "siJ9NtzLW6Hc",
        "outputId": "d3960c8d-6167-45e1-9859-00fcc3b0d42d"
      },
      "execution_count": 99,
      "outputs": [
        {
          "output_type": "execute_result",
          "data": {
            "text/plain": [
              "11"
            ]
          },
          "metadata": {},
          "execution_count": 99
        }
      ]
    },
    {
      "cell_type": "code",
      "execution_count": 100,
      "metadata": {
        "id": "c2oLM3FillJU",
        "colab": {
          "base_uri": "https://localhost:8080/"
        },
        "outputId": "bf494c5a-622f-4c0a-ff6a-539a5d747c1a"
      },
      "outputs": [
        {
          "output_type": "execute_result",
          "data": {
            "text/plain": [
              "10"
            ]
          },
          "metadata": {},
          "execution_count": 100
        }
      ],
      "source": [
        "f2.tell() # 10"
      ]
    },
    {
      "cell_type": "markdown",
      "source": [
        "- Funkcja sys.getdefaultencoding() zwraca domyślne kodowanie używane przez interpreter Pythona do konwersji znaków do bajtów i odwrotnie.\n",
        "- W większości instalacji Pythona wartość ta wynosi 'utf-8'."
      ],
      "metadata": {
        "id": "rxBBsvY8Xx2a"
      }
    },
    {
      "cell_type": "code",
      "execution_count": 101,
      "metadata": {
        "id": "CckvMAXjllJU",
        "colab": {
          "base_uri": "https://localhost:8080/",
          "height": 35
        },
        "outputId": "6e0b2370-b4b0-434d-a3d2-52a34822fd53"
      },
      "outputs": [
        {
          "output_type": "execute_result",
          "data": {
            "text/plain": [
              "'utf-8'"
            ],
            "application/vnd.google.colaboratory.intrinsic+json": {
              "type": "string"
            }
          },
          "metadata": {},
          "execution_count": 101
        }
      ],
      "source": [
        "import sys\n",
        "sys.getdefaultencoding()"
      ]
    },
    {
      "cell_type": "markdown",
      "source": [
        "- f1.seek(3) ustawia kursor na 3. bajcie od początku pliku.\n",
        "\n",
        "- Kursor to wskaźnik, który określa bieżącą pozycję w pliku lub strumieniu danych podczas operacji odczytu lub zapisu. Działa jako mechanizm umożliwiający kontrolowanie i śledzenie, gdzie w pliku wykonywane są operacje."
      ],
      "metadata": {
        "id": "cyUTOGgPYVX2"
      }
    },
    {
      "cell_type": "code",
      "source": [
        "f1.seek(3)"
      ],
      "metadata": {
        "colab": {
          "base_uri": "https://localhost:8080/"
        },
        "id": "CxCFVoFZXc0X",
        "outputId": "6b810460-e0a9-4955-a871-2ec9e75a0bea"
      },
      "execution_count": 102,
      "outputs": [
        {
          "output_type": "execute_result",
          "data": {
            "text/plain": [
              "3"
            ]
          },
          "metadata": {},
          "execution_count": 102
        }
      ]
    },
    {
      "cell_type": "markdown",
      "source": [
        "- Odczytuje dokładnie jeden znak (w trybie tekstowym) lub jeden bajt (w trybie binarnym) z bieżącej pozycji kursora.\n",
        "- Po odczytaniu znak/bajt zostaje zwrócony, a kursor automatycznie przesuwa się o jeden znak/bajt w pliku."
      ],
      "metadata": {
        "id": "bcXjH_jNZ8CX"
      }
    },
    {
      "cell_type": "code",
      "source": [
        "f1.read(1)"
      ],
      "metadata": {
        "colab": {
          "base_uri": "https://localhost:8080/",
          "height": 35
        },
        "id": "NTETWoXgXmPj",
        "outputId": "b2869982-dd84-45b9-91aa-6c5aebea52e3"
      },
      "execution_count": 103,
      "outputs": [
        {
          "output_type": "execute_result",
          "data": {
            "text/plain": [
              "'ñ'"
            ],
            "application/vnd.google.colaboratory.intrinsic+json": {
              "type": "string"
            }
          },
          "metadata": {},
          "execution_count": 103
        }
      ]
    },
    {
      "cell_type": "markdown",
      "source": [
        "- Zwraca obecną pozycję kursora w pliku."
      ],
      "metadata": {
        "id": "C-YoARaraI-u"
      }
    },
    {
      "cell_type": "code",
      "execution_count": 104,
      "metadata": {
        "id": "FGWCW0sFllJU",
        "colab": {
          "base_uri": "https://localhost:8080/"
        },
        "outputId": "b86f204d-a89c-4026-8498-e25a2389eb17"
      },
      "outputs": [
        {
          "output_type": "execute_result",
          "data": {
            "text/plain": [
              "5"
            ]
          },
          "metadata": {},
          "execution_count": 104
        }
      ],
      "source": [
        "f1.tell()"
      ]
    },
    {
      "cell_type": "code",
      "execution_count": 105,
      "metadata": {
        "id": "nndmfzbUllJU"
      },
      "outputs": [],
      "source": [
        "f1.close()\n",
        "f2.close()"
      ]
    },
    {
      "cell_type": "code",
      "execution_count": 106,
      "metadata": {
        "id": "RiRhvdBfllJU",
        "colab": {
          "base_uri": "https://localhost:8080/"
        },
        "outputId": "310b302d-414f-43fd-890a-96175c2cb80e"
      },
      "outputs": [
        {
          "output_type": "execute_result",
          "data": {
            "text/plain": [
              "['Sueña el rico en su riqueza,\\n',\n",
              " 'que más cuidados le ofrece;\\n',\n",
              " 'sueña el pobre que padece\\n',\n",
              " 'su miseria y su pobreza;\\n',\n",
              " 'sueña el que a medrar empieza,\\n',\n",
              " 'sueña el que afana y pretende,\\n',\n",
              " 'sueña el que agravia y ofende,\\n',\n",
              " 'y en el mundo, en conclusión,\\n',\n",
              " 'todos sueñan lo que son,\\n',\n",
              " 'aunque ninguno lo entiende.\\n']"
            ]
          },
          "metadata": {},
          "execution_count": 106
        }
      ],
      "source": [
        "path\n",
        "\n",
        "with open(\"tmp.txt\", mode=\"w\") as handle:\n",
        "    handle.writelines(x for x in open(path) if len(x) > 1)\n",
        "\n",
        "with open(\"tmp.txt\") as f:\n",
        "    lines = f.readlines()\n",
        "\n",
        "lines"
      ]
    },
    {
      "cell_type": "code",
      "execution_count": 107,
      "metadata": {
        "id": "FAx3LOaIllJU"
      },
      "outputs": [],
      "source": [
        "import os\n",
        "os.remove(\"tmp.txt\")"
      ]
    },
    {
      "cell_type": "code",
      "execution_count": 108,
      "metadata": {
        "id": "_-JttCH5llJU",
        "colab": {
          "base_uri": "https://localhost:8080/"
        },
        "outputId": "af5ebab2-0e49-4c7c-9384-7d77d88e351c"
      },
      "outputs": [
        {
          "output_type": "execute_result",
          "data": {
            "text/plain": [
              "10"
            ]
          },
          "metadata": {},
          "execution_count": 108
        }
      ],
      "source": [
        "with open(path) as f:\n",
        "    chars = f.read(10)\n",
        "\n",
        "chars\n",
        "len(chars)"
      ]
    },
    {
      "cell_type": "code",
      "execution_count": 109,
      "metadata": {
        "id": "x5DEr1zEllJU",
        "colab": {
          "base_uri": "https://localhost:8080/"
        },
        "outputId": "1ca1d4b4-c200-4410-d17c-05f6976b6c65"
      },
      "outputs": [
        {
          "output_type": "execute_result",
          "data": {
            "text/plain": [
              "b'Sue\\xc3\\xb1a el '"
            ]
          },
          "metadata": {},
          "execution_count": 109
        }
      ],
      "source": [
        "with open(path, mode=\"rb\") as f:\n",
        "    data = f.read(10)\n",
        "\n",
        "data"
      ]
    },
    {
      "cell_type": "code",
      "source": [
        "data.decode(\"utf-8\")"
      ],
      "metadata": {
        "colab": {
          "base_uri": "https://localhost:8080/",
          "height": 35
        },
        "id": "e-VIATENaohU",
        "outputId": "b13e4a24-91c3-4e2a-c7da-fb286ff0de5b"
      },
      "execution_count": 111,
      "outputs": [
        {
          "output_type": "execute_result",
          "data": {
            "text/plain": [
              "'Sueña el '"
            ],
            "application/vnd.google.colaboratory.intrinsic+json": {
              "type": "string"
            }
          },
          "metadata": {},
          "execution_count": 111
        }
      ]
    },
    {
      "cell_type": "code",
      "execution_count": 112,
      "metadata": {
        "id": "N568eQX-llJU",
        "colab": {
          "base_uri": "https://localhost:8080/",
          "height": 144
        },
        "collapsed": true,
        "outputId": "e5907936-ab85-4134-d7d5-c8089d7f5292"
      },
      "outputs": [
        {
          "output_type": "error",
          "ename": "UnicodeDecodeError",
          "evalue": "'utf-8' codec can't decode byte 0xc3 in position 3: unexpected end of data",
          "traceback": [
            "\u001b[0;31m---------------------------------------------------------------------------\u001b[0m",
            "\u001b[0;31mUnicodeDecodeError\u001b[0m                        Traceback (most recent call last)",
            "\u001b[0;32m<ipython-input-112-846a5c2fed34>\u001b[0m in \u001b[0;36m<cell line: 1>\u001b[0;34m()\u001b[0m\n\u001b[0;32m----> 1\u001b[0;31m \u001b[0mdata\u001b[0m\u001b[0;34m[\u001b[0m\u001b[0;34m:\u001b[0m\u001b[0;36m4\u001b[0m\u001b[0;34m]\u001b[0m\u001b[0;34m.\u001b[0m\u001b[0mdecode\u001b[0m\u001b[0;34m(\u001b[0m\u001b[0;34m\"utf-8\"\u001b[0m\u001b[0;34m)\u001b[0m\u001b[0;34m\u001b[0m\u001b[0;34m\u001b[0m\u001b[0m\n\u001b[0m",
            "\u001b[0;31mUnicodeDecodeError\u001b[0m: 'utf-8' codec can't decode byte 0xc3 in position 3: unexpected end of data"
          ]
        }
      ],
      "source": [
        "data[:4].decode(\"utf-8\") # UnicodeDecodeError: 'utf-8' codec can't decode byte 0xc3 in position 3: unexpected end of data"
      ]
    },
    {
      "cell_type": "code",
      "execution_count": 120,
      "metadata": {
        "id": "hPisDrAnllJU",
        "colab": {
          "base_uri": "https://localhost:8080/"
        },
        "outputId": "cf9c4dcc-f382-440e-d479-a4b8ae4ecd5d"
      },
      "outputs": [
        {
          "output_type": "stream",
          "name": "stdout",
          "text": [
            "Sueña el r\n"
          ]
        }
      ],
      "source": [
        "sink_path = \"sink.txt\"\n",
        "with open(path) as p:\n",
        "    with open(sink_path, \"x\", encoding=\"iso-8859-1\") as sink: # Tworzy nowy plik sink.txt. Tryb \"x\" oznacza, że plik\n",
        "    # zostanie utworzony, ale jeśli już istnieje, zostanie zgłoszony błąd.\n",
        "        sink.write(p.read())\n",
        "\n",
        "with open(sink_path, encoding=\"iso-8859-1\") as f:\n",
        "    print(f.read(10))"
      ]
    },
    {
      "cell_type": "code",
      "execution_count": 121,
      "metadata": {
        "id": "FqEHyC-7llJV"
      },
      "outputs": [],
      "source": [
        "os.remove(sink_path)"
      ]
    },
    {
      "cell_type": "code",
      "source": [
        "f = open(path, encoding='utf-8')\n",
        "f.read(5)"
      ],
      "metadata": {
        "colab": {
          "base_uri": "https://localhost:8080/",
          "height": 35
        },
        "id": "nDSYDICYa5fv",
        "outputId": "09051ab1-457c-4de5-f2c9-89f69ceda6fc"
      },
      "execution_count": 122,
      "outputs": [
        {
          "output_type": "execute_result",
          "data": {
            "text/plain": [
              "'Sueña'"
            ],
            "application/vnd.google.colaboratory.intrinsic+json": {
              "type": "string"
            }
          },
          "metadata": {},
          "execution_count": 122
        }
      ]
    },
    {
      "cell_type": "code",
      "source": [
        "f.seek(4)"
      ],
      "metadata": {
        "colab": {
          "base_uri": "https://localhost:8080/"
        },
        "id": "FXLsVbs4a619",
        "outputId": "42a2af1a-b68c-4d68-a7ef-5dee4a710a48"
      },
      "execution_count": 117,
      "outputs": [
        {
          "output_type": "execute_result",
          "data": {
            "text/plain": [
              "4"
            ]
          },
          "metadata": {},
          "execution_count": 117
        }
      ]
    },
    {
      "cell_type": "code",
      "source": [
        "f.read(1) # UnicodeDecodeError: 'utf-8' codec can't decode byte 0xb1 in position 0: invalid start byte"
      ],
      "metadata": {
        "collapsed": true,
        "colab": {
          "base_uri": "https://localhost:8080/",
          "height": 269
        },
        "id": "QvL05_2Ja95i",
        "outputId": "d3fcaf48-fc3a-4387-96d5-6d5f387a9dd6"
      },
      "execution_count": 118,
      "outputs": [
        {
          "output_type": "error",
          "ename": "UnicodeDecodeError",
          "evalue": "'utf-8' codec can't decode byte 0xb1 in position 0: invalid start byte",
          "traceback": [
            "\u001b[0;31m---------------------------------------------------------------------------\u001b[0m",
            "\u001b[0;31mUnicodeDecodeError\u001b[0m                        Traceback (most recent call last)",
            "\u001b[0;32m<ipython-input-118-5a354f952aa4>\u001b[0m in \u001b[0;36m<cell line: 1>\u001b[0;34m()\u001b[0m\n\u001b[0;32m----> 1\u001b[0;31m \u001b[0mf\u001b[0m\u001b[0;34m.\u001b[0m\u001b[0mread\u001b[0m\u001b[0;34m(\u001b[0m\u001b[0;36m1\u001b[0m\u001b[0;34m)\u001b[0m\u001b[0;34m\u001b[0m\u001b[0;34m\u001b[0m\u001b[0m\n\u001b[0m",
            "\u001b[0;32m/usr/lib/python3.10/codecs.py\u001b[0m in \u001b[0;36mdecode\u001b[0;34m(self, input, final)\u001b[0m\n\u001b[1;32m    320\u001b[0m         \u001b[0;31m# decode input (taking the buffer into account)\u001b[0m\u001b[0;34m\u001b[0m\u001b[0;34m\u001b[0m\u001b[0m\n\u001b[1;32m    321\u001b[0m         \u001b[0mdata\u001b[0m \u001b[0;34m=\u001b[0m \u001b[0mself\u001b[0m\u001b[0;34m.\u001b[0m\u001b[0mbuffer\u001b[0m \u001b[0;34m+\u001b[0m \u001b[0minput\u001b[0m\u001b[0;34m\u001b[0m\u001b[0;34m\u001b[0m\u001b[0m\n\u001b[0;32m--> 322\u001b[0;31m         \u001b[0;34m(\u001b[0m\u001b[0mresult\u001b[0m\u001b[0;34m,\u001b[0m \u001b[0mconsumed\u001b[0m\u001b[0;34m)\u001b[0m \u001b[0;34m=\u001b[0m \u001b[0mself\u001b[0m\u001b[0;34m.\u001b[0m\u001b[0m_buffer_decode\u001b[0m\u001b[0;34m(\u001b[0m\u001b[0mdata\u001b[0m\u001b[0;34m,\u001b[0m \u001b[0mself\u001b[0m\u001b[0;34m.\u001b[0m\u001b[0merrors\u001b[0m\u001b[0;34m,\u001b[0m \u001b[0mfinal\u001b[0m\u001b[0;34m)\u001b[0m\u001b[0;34m\u001b[0m\u001b[0;34m\u001b[0m\u001b[0m\n\u001b[0m\u001b[1;32m    323\u001b[0m         \u001b[0;31m# keep undecoded input until the next call\u001b[0m\u001b[0;34m\u001b[0m\u001b[0;34m\u001b[0m\u001b[0m\n\u001b[1;32m    324\u001b[0m         \u001b[0mself\u001b[0m\u001b[0;34m.\u001b[0m\u001b[0mbuffer\u001b[0m \u001b[0;34m=\u001b[0m \u001b[0mdata\u001b[0m\u001b[0;34m[\u001b[0m\u001b[0mconsumed\u001b[0m\u001b[0;34m:\u001b[0m\u001b[0;34m]\u001b[0m\u001b[0;34m\u001b[0m\u001b[0;34m\u001b[0m\u001b[0m\n",
            "\u001b[0;31mUnicodeDecodeError\u001b[0m: 'utf-8' codec can't decode byte 0xb1 in position 0: invalid start byte"
          ]
        }
      ]
    },
    {
      "cell_type": "code",
      "execution_count": 119,
      "metadata": {
        "id": "vzOXxj68llJV"
      },
      "outputs": [],
      "source": [
        "f.close()"
      ]
    }
  ],
  "metadata": {
    "kernelspec": {
      "display_name": "Python 3 (ipykernel)",
      "language": "python",
      "name": "python3"
    },
    "language_info": {
      "codemirror_mode": {
        "name": "ipython",
        "version": 3
      },
      "file_extension": ".py",
      "mimetype": "text/x-python",
      "name": "python",
      "nbconvert_exporter": "python",
      "pygments_lexer": "ipython3",
      "version": "3.11.0"
    },
    "colab": {
      "provenance": []
    }
  },
  "nbformat": 4,
  "nbformat_minor": 0
}