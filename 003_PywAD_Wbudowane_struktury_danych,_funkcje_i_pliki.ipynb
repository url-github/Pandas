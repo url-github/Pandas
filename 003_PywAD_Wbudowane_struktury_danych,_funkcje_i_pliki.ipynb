{
  "cells": [
    {
      "cell_type": "markdown",
      "source": [
        "#Krotka"
      ],
      "metadata": {
        "id": "YTIYWUEGeCne"
      }
    },
    {
      "cell_type": "code",
      "source": [
        "pwd"
      ],
      "metadata": {
        "colab": {
          "base_uri": "https://localhost:8080/",
          "height": 35
        },
        "id": "ap9sz8CtVG_z",
        "outputId": "3e6a1fa5-5a66-472d-acc3-7d183a54b308"
      },
      "execution_count": 1,
      "outputs": [
        {
          "output_type": "execute_result",
          "data": {
            "text/plain": [
              "'/content'"
            ],
            "application/vnd.google.colaboratory.intrinsic+json": {
              "type": "string"
            }
          },
          "metadata": {},
          "execution_count": 1
        }
      ]
    },
    {
      "cell_type": "code",
      "execution_count": 3,
      "metadata": {
        "id": "LnVTcIEtllJA",
        "colab": {
          "base_uri": "https://localhost:8080/"
        },
        "outputId": "5dff5c55-4fcc-4eee-a23f-55b2d596c018"
      },
      "outputs": [
        {
          "output_type": "stream",
          "name": "stdout",
          "text": [
            "/content\n"
          ]
        },
        {
          "output_type": "execute_result",
          "data": {
            "text/plain": [
              "['/content', '/content']"
            ]
          },
          "metadata": {},
          "execution_count": 3
        }
      ],
      "source": [
        "%pushd /content"
      ]
    },
    {
      "cell_type": "code",
      "execution_count": 4,
      "metadata": {
        "id": "gNhmDuX9llJB",
        "colab": {
          "base_uri": "https://localhost:8080/"
        },
        "outputId": "a22dfc36-df06-4f93-d8f0-56bf2b1a3652"
      },
      "outputs": [
        {
          "output_type": "execute_result",
          "data": {
            "text/plain": [
              "(4, 5, 6)"
            ]
          },
          "metadata": {},
          "execution_count": 4
        }
      ],
      "source": [
        "krotka = (4, 5, 6)\n",
        "krotka"
      ]
    },
    {
      "cell_type": "code",
      "execution_count": 7,
      "metadata": {
        "id": "XTCtgdecllJC",
        "colab": {
          "base_uri": "https://localhost:8080/"
        },
        "outputId": "2e946712-da85-4539-cb92-5e7e9815d3b0"
      },
      "outputs": [
        {
          "output_type": "stream",
          "name": "stdout",
          "text": [
            "<class 'tuple'>\n"
          ]
        },
        {
          "output_type": "execute_result",
          "data": {
            "text/plain": [
              "(4, 5, 6)"
            ]
          },
          "metadata": {},
          "execution_count": 7
        }
      ],
      "source": [
        "krotka = 4, 5, 6\n",
        "print(type(krotka))\n",
        "krotka"
      ]
    },
    {
      "cell_type": "code",
      "source": [
        "tuple([4, 0, 2, 2])"
      ],
      "metadata": {
        "colab": {
          "base_uri": "https://localhost:8080/"
        },
        "id": "GEPfYXqHVkkG",
        "outputId": "c74a906d-7438-4e6e-c0c6-c20f66639798"
      },
      "execution_count": 8,
      "outputs": [
        {
          "output_type": "execute_result",
          "data": {
            "text/plain": [
              "(4, 0, 2, 2)"
            ]
          },
          "metadata": {},
          "execution_count": 8
        }
      ]
    },
    {
      "cell_type": "code",
      "execution_count": 9,
      "metadata": {
        "id": "hJ4BjskQllJC",
        "colab": {
          "base_uri": "https://localhost:8080/"
        },
        "outputId": "25e9ba78-02c8-4dec-d7b9-777a89704ed7"
      },
      "outputs": [
        {
          "output_type": "execute_result",
          "data": {
            "text/plain": [
              "('t', 'e', 'k', 's', 't')"
            ]
          },
          "metadata": {},
          "execution_count": 9
        }
      ],
      "source": [
        "krotka = tuple('tekst')\n",
        "krotka"
      ]
    },
    {
      "cell_type": "code",
      "execution_count": 10,
      "metadata": {
        "id": "-FWMgFpkllJC",
        "colab": {
          "base_uri": "https://localhost:8080/",
          "height": 35
        },
        "outputId": "5398baf9-7bfb-4765-c4c7-f0c60367fe9e"
      },
      "outputs": [
        {
          "output_type": "execute_result",
          "data": {
            "text/plain": [
              "'t'"
            ],
            "application/vnd.google.colaboratory.intrinsic+json": {
              "type": "string"
            }
          },
          "metadata": {},
          "execution_count": 10
        }
      ],
      "source": [
        "krotka[0]"
      ]
    },
    {
      "cell_type": "code",
      "source": [
        "zagniezdzanie_krotek = (4, 5, 6), (7, 8)\n",
        "zagniezdzanie_krotek"
      ],
      "metadata": {
        "colab": {
          "base_uri": "https://localhost:8080/"
        },
        "id": "uc86nSYhZAyv",
        "outputId": "7d8afe32-2b8b-4b93-b26d-a6eb6e1eaddf"
      },
      "execution_count": 12,
      "outputs": [
        {
          "output_type": "execute_result",
          "data": {
            "text/plain": [
              "((4, 5, 6), (7, 8))"
            ]
          },
          "metadata": {},
          "execution_count": 12
        }
      ]
    },
    {
      "cell_type": "code",
      "execution_count": 14,
      "metadata": {
        "id": "i_si3-BMllJD",
        "colab": {
          "base_uri": "https://localhost:8080/"
        },
        "outputId": "94f91eba-f4ce-40d0-dc78-3d5f341ab83b"
      },
      "outputs": [
        {
          "output_type": "execute_result",
          "data": {
            "text/plain": [
              "(4, 5, 6)"
            ]
          },
          "metadata": {},
          "execution_count": 14
        }
      ],
      "source": [
        "zagniezdzanie_krotek[0] # (4, 5, 6)\n",
        "zagniezdzanie_krotek[1] # (4, 5, 6)"
      ]
    },
    {
      "cell_type": "code",
      "execution_count": 15,
      "metadata": {
        "id": "YIC7yf0XllJD",
        "colab": {
          "base_uri": "https://localhost:8080/",
          "height": 162
        },
        "collapsed": true,
        "outputId": "79f4cc7c-c14e-4b70-9502-b55e8223f918"
      },
      "outputs": [
        {
          "output_type": "error",
          "ename": "TypeError",
          "evalue": "'tuple' object does not support item assignment",
          "traceback": [
            "\u001b[0;31m---------------------------------------------------------------------------\u001b[0m",
            "\u001b[0;31mTypeError\u001b[0m                                 Traceback (most recent call last)",
            "\u001b[0;32m<ipython-input-15-97f8b1c9c479>\u001b[0m in \u001b[0;36m<cell line: 2>\u001b[0;34m()\u001b[0m\n\u001b[1;32m      1\u001b[0m \u001b[0mkrotka\u001b[0m \u001b[0;34m=\u001b[0m \u001b[0mtuple\u001b[0m\u001b[0;34m(\u001b[0m\u001b[0;34m[\u001b[0m\u001b[0;34m'foo'\u001b[0m\u001b[0;34m,\u001b[0m \u001b[0;34m[\u001b[0m\u001b[0;36m1\u001b[0m\u001b[0;34m,\u001b[0m \u001b[0;36m2\u001b[0m\u001b[0;34m]\u001b[0m\u001b[0;34m,\u001b[0m \u001b[0;32mTrue\u001b[0m\u001b[0;34m]\u001b[0m\u001b[0;34m)\u001b[0m\u001b[0;34m\u001b[0m\u001b[0;34m\u001b[0m\u001b[0m\n\u001b[0;32m----> 2\u001b[0;31m \u001b[0mkrotka\u001b[0m\u001b[0;34m[\u001b[0m\u001b[0;36m2\u001b[0m\u001b[0;34m]\u001b[0m \u001b[0;34m=\u001b[0m \u001b[0;32mFalse\u001b[0m\u001b[0;34m\u001b[0m\u001b[0;34m\u001b[0m\u001b[0m\n\u001b[0m",
            "\u001b[0;31mTypeError\u001b[0m: 'tuple' object does not support item assignment"
          ]
        }
      ],
      "source": [
        "krotka = tuple(['foo', [1, 2], True])\n",
        "krotka[2] = False # Niemodyfikowalna (immutable)"
      ]
    },
    {
      "cell_type": "code",
      "execution_count": 16,
      "metadata": {
        "id": "P-kATRHtllJD",
        "colab": {
          "base_uri": "https://localhost:8080/"
        },
        "outputId": "37bb2b8a-9621-40de-8376-51f11c74a65f"
      },
      "outputs": [
        {
          "output_type": "execute_result",
          "data": {
            "text/plain": [
              "('foo', [1, 2, 3], True)"
            ]
          },
          "metadata": {},
          "execution_count": 16
        }
      ],
      "source": [
        "krotka[1].append(3)\n",
        "krotka"
      ]
    },
    {
      "cell_type": "code",
      "execution_count": 17,
      "metadata": {
        "id": "AmFVf6d-llJE",
        "colab": {
          "base_uri": "https://localhost:8080/"
        },
        "outputId": "62fcddd0-7c09-4ba2-9f10-681254d24459"
      },
      "outputs": [
        {
          "output_type": "execute_result",
          "data": {
            "text/plain": [
              "(4, None, 'foo', 6, 0, 'bar')"
            ]
          },
          "metadata": {},
          "execution_count": 17
        }
      ],
      "source": [
        "(4, None, 'foo') + (6, 0) + ('bar',)"
      ]
    },
    {
      "cell_type": "code",
      "execution_count": 18,
      "metadata": {
        "id": "rLlqKI_AllJE",
        "colab": {
          "base_uri": "https://localhost:8080/"
        },
        "outputId": "18616f65-e595-4403-d6e2-f2f0939a63b5"
      },
      "outputs": [
        {
          "output_type": "execute_result",
          "data": {
            "text/plain": [
              "('foo', 'bar', 'foo', 'bar', 'foo', 'bar', 'foo', 'bar')"
            ]
          },
          "metadata": {},
          "execution_count": 18
        }
      ],
      "source": [
        "('foo', 'bar') * 4"
      ]
    },
    {
      "cell_type": "code",
      "execution_count": 19,
      "metadata": {
        "id": "cZZm4dzVllJE",
        "colab": {
          "base_uri": "https://localhost:8080/"
        },
        "outputId": "72c2d316-dbe8-4191-ade6-7988cb2f82f0"
      },
      "outputs": [
        {
          "output_type": "execute_result",
          "data": {
            "text/plain": [
              "5"
            ]
          },
          "metadata": {},
          "execution_count": 19
        }
      ],
      "source": [
        "tup = (4, 5, 6)\n",
        "a, b, c = tup\n",
        "b"
      ]
    },
    {
      "cell_type": "code",
      "execution_count": 26,
      "metadata": {
        "id": "gTMjEnBHllJE",
        "colab": {
          "base_uri": "https://localhost:8080/"
        },
        "collapsed": true,
        "outputId": "74393c89-f66b-4156-f90c-03bb2daff771"
      },
      "outputs": [
        {
          "output_type": "execute_result",
          "data": {
            "text/plain": [
              "7"
            ]
          },
          "metadata": {},
          "execution_count": 26
        }
      ],
      "source": [
        "tup = 4, 5, (6, 7)\n",
        "a, b, (c, d) = tup\n",
        "d"
      ]
    },
    {
      "cell_type": "code",
      "source": [
        "tup = 4, 5, (6, 7)\n",
        "a, b, c = tup\n",
        "c"
      ],
      "metadata": {
        "colab": {
          "base_uri": "https://localhost:8080/"
        },
        "id": "X7XLyWXObDll",
        "outputId": "d21eca5b-42ed-4176-bb96-9c92226ec839"
      },
      "execution_count": 28,
      "outputs": [
        {
          "output_type": "execute_result",
          "data": {
            "text/plain": [
              "(6, 7)"
            ]
          },
          "metadata": {},
          "execution_count": 28
        }
      ]
    },
    {
      "cell_type": "code",
      "execution_count": 29,
      "metadata": {
        "id": "AT5DfrBLllJE",
        "colab": {
          "base_uri": "https://localhost:8080/"
        },
        "outputId": "2d4419b7-b014-4f04-c5bd-7d80b5c35779"
      },
      "outputs": [
        {
          "output_type": "execute_result",
          "data": {
            "text/plain": [
              "1"
            ]
          },
          "metadata": {},
          "execution_count": 29
        }
      ],
      "source": [
        "a, b = 1, 2\n",
        "a\n",
        "b\n",
        "b, a = a, b\n",
        "a\n",
        "b"
      ]
    },
    {
      "cell_type": "code",
      "execution_count": 30,
      "metadata": {
        "id": "8v8-zHsAllJE",
        "colab": {
          "base_uri": "https://localhost:8080/"
        },
        "outputId": "8a8e7d83-8f9a-445a-e156-15d4fabdb03f"
      },
      "outputs": [
        {
          "output_type": "stream",
          "name": "stdout",
          "text": [
            "a=1, b=2, c=3\n",
            "a=4, b=5, c=6\n",
            "a=7, b=8, c=9\n"
          ]
        }
      ],
      "source": [
        "sekwencja = [(1, 2, 3), (4, 5, 6), (7, 8, 9)]\n",
        "for a, b, c in sekwencja:\n",
        "    print(f'a={a}, b={b}, c={c}')"
      ]
    },
    {
      "cell_type": "code",
      "execution_count": 31,
      "metadata": {
        "id": "23AFeXIlllJF",
        "colab": {
          "base_uri": "https://localhost:8080/"
        },
        "outputId": "cca69ae8-dd92-41ed-a72d-ff5cb0720d66"
      },
      "outputs": [
        {
          "output_type": "execute_result",
          "data": {
            "text/plain": [
              "[3, 4, 5]"
            ]
          },
          "metadata": {},
          "execution_count": 31
        }
      ],
      "source": [
        "wartosci = 1, 2, 3, 4, 5\n",
        "a, b, *reszta = wartosci\n",
        "a\n",
        "b\n",
        "reszta"
      ]
    },
    {
      "cell_type": "code",
      "execution_count": 32,
      "metadata": {
        "id": "xFO_VjTHllJF"
      },
      "outputs": [],
      "source": [
        "a, b, *_ = wartosci"
      ]
    },
    {
      "cell_type": "code",
      "source": [
        "_"
      ],
      "metadata": {
        "colab": {
          "base_uri": "https://localhost:8080/"
        },
        "id": "qn3f5SXEduyD",
        "outputId": "5065ce87-3c3f-4f7b-ff50-7e80c4d05db7"
      },
      "execution_count": 33,
      "outputs": [
        {
          "output_type": "execute_result",
          "data": {
            "text/plain": [
              "[3, 4, 5]"
            ]
          },
          "metadata": {},
          "execution_count": 33
        }
      ]
    },
    {
      "cell_type": "code",
      "execution_count": 34,
      "metadata": {
        "id": "BDniZZHZllJF",
        "colab": {
          "base_uri": "https://localhost:8080/"
        },
        "outputId": "814f7586-1c6b-4607-f563-05cb691c5fe1"
      },
      "outputs": [
        {
          "output_type": "execute_result",
          "data": {
            "text/plain": [
              "4"
            ]
          },
          "metadata": {},
          "execution_count": 34
        }
      ],
      "source": [
        "a = (1, 2, 2, 2, 3, 4, 2)\n",
        "a.count(2)"
      ]
    },
    {
      "cell_type": "markdown",
      "source": [
        "#Lista"
      ],
      "metadata": {
        "id": "GOfsqC0xeAA1"
      }
    },
    {
      "cell_type": "code",
      "source": [
        "lista_a = [2, 3, 7, None]\n",
        "krotka = (\"foo\", \"bar\", \"baz\")\n",
        "lista_b = list(krotka)\n",
        "lista_b"
      ],
      "metadata": {
        "colab": {
          "base_uri": "https://localhost:8080/"
        },
        "id": "k0iRNLaUeU6r",
        "outputId": "ecf0941a-1531-4e93-d521-64b0d9b943e7"
      },
      "execution_count": 36,
      "outputs": [
        {
          "output_type": "execute_result",
          "data": {
            "text/plain": [
              "['foo', 'bar', 'baz']"
            ]
          },
          "metadata": {},
          "execution_count": 36
        }
      ]
    },
    {
      "cell_type": "code",
      "execution_count": 37,
      "metadata": {
        "id": "MqF9kwm3llJF",
        "colab": {
          "base_uri": "https://localhost:8080/"
        },
        "outputId": "fa10b66d-245b-4d22-9484-6cbbfe4b481a"
      },
      "outputs": [
        {
          "output_type": "execute_result",
          "data": {
            "text/plain": [
              "['foo', 'peekaboo', 'baz']"
            ]
          },
          "metadata": {},
          "execution_count": 37
        }
      ],
      "source": [
        "lista_b[1] = \"peekaboo\"\n",
        "lista_b"
      ]
    },
    {
      "cell_type": "code",
      "execution_count": 38,
      "metadata": {
        "id": "AGuIKaXUllJF",
        "colab": {
          "base_uri": "https://localhost:8080/"
        },
        "outputId": "002d0438-a8ae-4650-e2ac-08bb946fd4af"
      },
      "outputs": [
        {
          "output_type": "execute_result",
          "data": {
            "text/plain": [
              "[0, 1, 2, 3, 4, 5, 6, 7, 8, 9]"
            ]
          },
          "metadata": {},
          "execution_count": 38
        }
      ],
      "source": [
        "gen = range(10)\n",
        "gen\n",
        "list(gen)"
      ]
    },
    {
      "cell_type": "code",
      "execution_count": 39,
      "metadata": {
        "id": "CQiDhqUyllJF",
        "colab": {
          "base_uri": "https://localhost:8080/"
        },
        "outputId": "260c4424-02fb-4d15-f585-d0f83fe015ce"
      },
      "outputs": [
        {
          "output_type": "execute_result",
          "data": {
            "text/plain": [
              "['foo', 'peekaboo', 'baz', 'dwarf']"
            ]
          },
          "metadata": {},
          "execution_count": 39
        }
      ],
      "source": [
        "lista_b.append(\"dwarf\")\n",
        "lista_b"
      ]
    },
    {
      "cell_type": "code",
      "execution_count": 40,
      "metadata": {
        "id": "JccopMnXllJF",
        "colab": {
          "base_uri": "https://localhost:8080/"
        },
        "outputId": "fb2d6b82-3199-4520-dc86-f81e38860586"
      },
      "outputs": [
        {
          "output_type": "execute_result",
          "data": {
            "text/plain": [
              "['foo', 'red', 'peekaboo', 'baz', 'dwarf']"
            ]
          },
          "metadata": {},
          "execution_count": 40
        }
      ],
      "source": [
        "lista_b.insert(1, \"red\")\n",
        "lista_b"
      ]
    },
    {
      "cell_type": "code",
      "execution_count": 41,
      "metadata": {
        "id": "wo0lbFNWllJF",
        "colab": {
          "base_uri": "https://localhost:8080/"
        },
        "outputId": "43ce1c72-2265-4e9e-daf3-af89e78f0780"
      },
      "outputs": [
        {
          "output_type": "execute_result",
          "data": {
            "text/plain": [
              "['foo', 'red', 'baz', 'dwarf']"
            ]
          },
          "metadata": {},
          "execution_count": 41
        }
      ],
      "source": [
        "lista_b.pop(2)\n",
        "lista_b"
      ]
    },
    {
      "cell_type": "code",
      "source": [
        "lista_b.append(\"foo\")\n",
        "lista_b"
      ],
      "metadata": {
        "colab": {
          "base_uri": "https://localhost:8080/"
        },
        "id": "lX0i2eqpgk6i",
        "outputId": "339b90bf-71d9-4409-fc66-bdd7e7a515b8"
      },
      "execution_count": 43,
      "outputs": [
        {
          "output_type": "execute_result",
          "data": {
            "text/plain": [
              "['red', 'baz', 'dwarf', 'foo', 'foo']"
            ]
          },
          "metadata": {},
          "execution_count": 43
        }
      ]
    },
    {
      "cell_type": "code",
      "execution_count": 44,
      "metadata": {
        "id": "nvFxAgIXllJF",
        "colab": {
          "base_uri": "https://localhost:8080/"
        },
        "outputId": "af2c51f2-af34-45f5-c686-0c1443db44f1"
      },
      "outputs": [
        {
          "output_type": "execute_result",
          "data": {
            "text/plain": [
              "['red', 'baz', 'dwarf', 'foo']"
            ]
          },
          "metadata": {},
          "execution_count": 44
        }
      ],
      "source": [
        "lista_b.remove(\"foo\")\n",
        "lista_b"
      ]
    },
    {
      "cell_type": "code",
      "execution_count": 45,
      "metadata": {
        "id": "uqQ9aVhtllJF",
        "colab": {
          "base_uri": "https://localhost:8080/"
        },
        "outputId": "7b231e21-0008-42d0-d7f2-e707fadac4e3"
      },
      "outputs": [
        {
          "output_type": "execute_result",
          "data": {
            "text/plain": [
              "True"
            ]
          },
          "metadata": {},
          "execution_count": 45
        }
      ],
      "source": [
        "\"dwarf\" in lista_b"
      ]
    },
    {
      "cell_type": "code",
      "execution_count": 46,
      "metadata": {
        "id": "eeDbl1uJllJF",
        "colab": {
          "base_uri": "https://localhost:8080/"
        },
        "outputId": "d34506b4-5819-4001-d2e7-605ed9f8bee4"
      },
      "outputs": [
        {
          "output_type": "execute_result",
          "data": {
            "text/plain": [
              "False"
            ]
          },
          "metadata": {},
          "execution_count": 46
        }
      ],
      "source": [
        "\"dwarf\" not in lista_b"
      ]
    },
    {
      "cell_type": "code",
      "execution_count": 47,
      "metadata": {
        "id": "HT-NpzcallJF",
        "colab": {
          "base_uri": "https://localhost:8080/"
        },
        "outputId": "aed1003c-2c43-48c7-a2f9-dd5dd2057591"
      },
      "outputs": [
        {
          "output_type": "execute_result",
          "data": {
            "text/plain": [
              "[4, None, 'foo', 7, 8, (2, 3)]"
            ]
          },
          "metadata": {},
          "execution_count": 47
        }
      ],
      "source": [
        "[4, None, \"foo\"] + [7, 8, (2, 3)]"
      ]
    },
    {
      "cell_type": "code",
      "execution_count": 48,
      "metadata": {
        "id": "IixoZHW9llJF",
        "colab": {
          "base_uri": "https://localhost:8080/"
        },
        "outputId": "d2b7cdfd-50fc-4ae1-fd00-84017289672b"
      },
      "outputs": [
        {
          "output_type": "execute_result",
          "data": {
            "text/plain": [
              "[4, None, 'foo', 7, 8, (2, 3)]"
            ]
          },
          "metadata": {},
          "execution_count": 48
        }
      ],
      "source": [
        "x = [4, None, \"foo\"]\n",
        "x.extend([7, 8, (2, 3)])\n",
        "x"
      ]
    },
    {
      "cell_type": "code",
      "execution_count": 49,
      "metadata": {
        "id": "L3dyy74illJF",
        "colab": {
          "base_uri": "https://localhost:8080/"
        },
        "outputId": "61765ade-2ca7-4035-925c-baa8f4a510d9"
      },
      "outputs": [
        {
          "output_type": "execute_result",
          "data": {
            "text/plain": [
              "[1, 2, 3, 5, 7]"
            ]
          },
          "metadata": {},
          "execution_count": 49
        }
      ],
      "source": [
        "a = [7, 2, 5, 1, 3]\n",
        "a.sort()\n",
        "a"
      ]
    },
    {
      "cell_type": "code",
      "execution_count": 50,
      "metadata": {
        "id": "1LVpRaB7llJF",
        "colab": {
          "base_uri": "https://localhost:8080/"
        },
        "outputId": "30d49e03-905c-4303-e1e4-6e40368f64cb"
      },
      "outputs": [
        {
          "output_type": "execute_result",
          "data": {
            "text/plain": [
              "['He', 'saw', 'six', 'small', 'foxes']"
            ]
          },
          "metadata": {},
          "execution_count": 50
        }
      ],
      "source": [
        "b = [\"saw\", \"small\", \"He\", \"foxes\", \"six\"]\n",
        "b.sort(key=len)\n",
        "b"
      ]
    },
    {
      "cell_type": "code",
      "execution_count": 51,
      "metadata": {
        "id": "nGy1Y7ggllJF",
        "colab": {
          "base_uri": "https://localhost:8080/"
        },
        "outputId": "dbef3409-4d18-408e-e01a-548570a083d1"
      },
      "outputs": [
        {
          "output_type": "execute_result",
          "data": {
            "text/plain": [
              "[2, 3, 7, 5]"
            ]
          },
          "metadata": {},
          "execution_count": 51
        }
      ],
      "source": [
        "seq = [7, 2, 3, 7, 5, 6, 0, 1]\n",
        "seq[1:5]"
      ]
    },
    {
      "cell_type": "code",
      "execution_count": 52,
      "metadata": {
        "id": "Agv7pJXKllJG",
        "colab": {
          "base_uri": "https://localhost:8080/"
        },
        "outputId": "2f5c87eb-6974-4fb1-9e0f-e9f5bf315902"
      },
      "outputs": [
        {
          "output_type": "execute_result",
          "data": {
            "text/plain": [
              "[7, 2, 3, 6, 3, 6, 0, 1]"
            ]
          },
          "metadata": {},
          "execution_count": 52
        }
      ],
      "source": [
        "seq[3:5] = [6, 3]\n",
        "seq"
      ]
    },
    {
      "cell_type": "code",
      "source": [
        "seq[:5]"
      ],
      "metadata": {
        "colab": {
          "base_uri": "https://localhost:8080/"
        },
        "id": "2JcgwjCuii0M",
        "outputId": "d9f891aa-e9ff-44dd-c870-3987959d5352"
      },
      "execution_count": 54,
      "outputs": [
        {
          "output_type": "execute_result",
          "data": {
            "text/plain": [
              "[7, 2, 3, 6, 3]"
            ]
          },
          "metadata": {},
          "execution_count": 54
        }
      ]
    },
    {
      "cell_type": "code",
      "execution_count": 55,
      "metadata": {
        "id": "hv281ysZllJG",
        "colab": {
          "base_uri": "https://localhost:8080/"
        },
        "outputId": "465820f5-a705-480a-cd9d-2d5b88d3d76c"
      },
      "outputs": [
        {
          "output_type": "execute_result",
          "data": {
            "text/plain": [
              "[6, 3, 6, 0, 1]"
            ]
          },
          "metadata": {},
          "execution_count": 55
        }
      ],
      "source": [
        "seq[3:]"
      ]
    },
    {
      "cell_type": "code",
      "source": [
        "seq[-4:]"
      ],
      "metadata": {
        "colab": {
          "base_uri": "https://localhost:8080/"
        },
        "id": "8aQhfb_9iyMp",
        "outputId": "0e6ba2a0-4450-4c3d-b70a-220ef4560de6"
      },
      "execution_count": 56,
      "outputs": [
        {
          "output_type": "execute_result",
          "data": {
            "text/plain": [
              "[3, 6, 0, 1]"
            ]
          },
          "metadata": {},
          "execution_count": 56
        }
      ]
    },
    {
      "cell_type": "code",
      "execution_count": 57,
      "metadata": {
        "id": "ohtuYF_EllJG",
        "colab": {
          "base_uri": "https://localhost:8080/"
        },
        "outputId": "5d51342b-b3f6-484d-f92d-66c846ea7828"
      },
      "outputs": [
        {
          "output_type": "execute_result",
          "data": {
            "text/plain": [
              "[3, 6, 3, 6]"
            ]
          },
          "metadata": {},
          "execution_count": 57
        }
      ],
      "source": [
        "seq[-6:-2]"
      ]
    },
    {
      "cell_type": "code",
      "execution_count": null,
      "metadata": {
        "id": "9QDdgbwellJG"
      },
      "outputs": [],
      "source": [
        "seq[::2]"
      ]
    },
    {
      "cell_type": "code",
      "execution_count": null,
      "metadata": {
        "id": "Rg7lhOEmllJG"
      },
      "outputs": [],
      "source": [
        "#! ipython id=74c7a1f7938f4e029799a354247bab44\n",
        "seq[::-1]"
      ]
    },
    {
      "cell_type": "code",
      "execution_count": null,
      "metadata": {
        "id": "GROZlww2llJG"
      },
      "outputs": [],
      "source": [
        "#! ipython id=102e43ef794d434e9273444cc7874157\n",
        "pusty_slownik = {}\n",
        "d1 = {\"a\": \"wartość nieustalona\", \"b\": [1, 2, 3, 4]}\n",
        "d1"
      ]
    },
    {
      "cell_type": "code",
      "execution_count": null,
      "metadata": {
        "id": "4NSQ_jkUllJG"
      },
      "outputs": [],
      "source": [
        "#! ipython id=206c17b9ac344ecbbe709abb43a4d4c5\n",
        "d1[7] = \"liczba całkowita\"\n",
        "d1\n",
        "d1[\"b\"]"
      ]
    },
    {
      "cell_type": "code",
      "execution_count": null,
      "metadata": {
        "id": "RIQ04fldllJG"
      },
      "outputs": [],
      "source": [
        "#! ipython id=c3d1090a30354b9b8cc4ba5909661aa2\n",
        "\"b\" in d1"
      ]
    },
    {
      "cell_type": "code",
      "execution_count": null,
      "metadata": {
        "id": "9h-WWNWYllJG"
      },
      "outputs": [],
      "source": [
        "#! ipython id=525e7836241848f783e5b25b66ff0627\n",
        "d1[5] = \"wartość nieustalona\"\n",
        "d1\n",
        "d1[\"atrapa\"] = \"inna wartość\"\n",
        "d1\n",
        "del d1[5]\n",
        "d1\n",
        "ret = d1.pop(\"atrapa\")\n",
        "ret\n",
        "d1"
      ]
    },
    {
      "cell_type": "code",
      "execution_count": null,
      "metadata": {
        "id": "t6xvLtrollJQ"
      },
      "outputs": [],
      "source": [
        "#! ipython id=17b5a6e9001d47a0b604e547ee929a5e\n",
        "list(d1.keys())\n",
        "list(d1.values())"
      ]
    },
    {
      "cell_type": "code",
      "execution_count": null,
      "metadata": {
        "id": "wv7uZInLllJQ"
      },
      "outputs": [],
      "source": [
        "#! ipython id=d711dee217894970ab40d16b495a1418\n",
        "list(d1.items())"
      ]
    },
    {
      "cell_type": "code",
      "execution_count": null,
      "metadata": {
        "id": "PGMqlx1ollJQ"
      },
      "outputs": [],
      "source": [
        "#! ipython id=2950abfb881b43d4b0d0b4ee9866e283\n",
        "d1.update({\"b\": \"foo\", \"c\": 12})\n",
        "d1"
      ]
    },
    {
      "cell_type": "code",
      "execution_count": null,
      "metadata": {
        "id": "Tr-R5jnXllJQ"
      },
      "outputs": [],
      "source": [
        "#! ipython id=8adf5329762c41d1b80f3d7be30162ae\n",
        "krotki = zip(range(5), reversed(range(5)))\n",
        "krotki\n",
        "mapowanie = dict(krotki)\n",
        "mapowanie"
      ]
    },
    {
      "cell_type": "code",
      "execution_count": null,
      "metadata": {
        "id": "uJMZVl_YllJQ"
      },
      "outputs": [],
      "source": [
        "#! ipython id=8bdf9587c72d4e7f8d332558a707ad6b\n",
        "words = [\"apple\", \"bat\", \"bar\", \"atom\", \"book\"]\n",
        "by_letter = {}\n",
        "\n",
        "#! blockstart\n",
        "for word in words:\n",
        "    letter = word[0]\n",
        "    if letter not in by_letter:\n",
        "        by_letter[letter] = [word]\n",
        "    else:\n",
        "        by_letter[letter].append(word)\n",
        "#! blockend\n",
        "\n",
        "by_letter"
      ]
    },
    {
      "cell_type": "code",
      "execution_count": null,
      "metadata": {
        "id": "_q_9VUaDllJQ"
      },
      "outputs": [],
      "source": [
        "#! ipython id=d541b1633e0a4a9aaa3a75f4487c293c\n",
        "by_letter = {}\n",
        "#! blockstart\n",
        "for word in words:\n",
        "    letter = word[0]\n",
        "    by_letter.setdefault(letter, []).append(word)\n",
        "#! blockend\n",
        "by_letter"
      ]
    },
    {
      "cell_type": "code",
      "execution_count": null,
      "metadata": {
        "id": "9Me2MQpollJQ"
      },
      "outputs": [],
      "source": [
        "#! ipython id=83920435a755492fa706ecec0b394d4a\n",
        "from collections import defaultdict\n",
        "by_letter = defaultdict(list)\n",
        "for word in words:\n",
        "    by_letter[word[0]].append(word)"
      ]
    },
    {
      "cell_type": "code",
      "execution_count": null,
      "metadata": {
        "id": "DqjTA2wXllJQ"
      },
      "outputs": [],
      "source": [
        "#! ipython allow_exceptions id=ef6987776ec0412ebea75e5dabf8f405\n",
        "hash(\"string\")\n",
        "hash((1, 2, (2, 3)))\n",
        "hash((1, 2, [2, 3])) # fails because lists are mutable"
      ]
    },
    {
      "cell_type": "code",
      "execution_count": null,
      "metadata": {
        "id": "D4u_UKAlllJR"
      },
      "outputs": [],
      "source": [
        "#! ipython id=6537602c2b2749f092d5289a226a30fd\n",
        "d = {}\n",
        "d[tuple([1, 2, 3])] = 5\n",
        "d"
      ]
    },
    {
      "cell_type": "code",
      "execution_count": null,
      "metadata": {
        "id": "sbw83Sc9llJR"
      },
      "outputs": [],
      "source": [
        "#! ipython id=39fbedd72ba046688ab288378af6d8ab\n",
        "set([2, 2, 2, 1, 3, 3])\n",
        "{2, 2, 2, 1, 3, 3}"
      ]
    },
    {
      "cell_type": "code",
      "execution_count": null,
      "metadata": {
        "id": "jyiDG670llJR"
      },
      "outputs": [],
      "source": [
        "#! ipython id=960a9862306d45b9bebf33933303f16b\n",
        "a = {1, 2, 3, 4, 5}\n",
        "b = {3, 4, 5, 6, 7, 8}"
      ]
    },
    {
      "cell_type": "code",
      "execution_count": null,
      "metadata": {
        "id": "Bz4-Ydg-llJR"
      },
      "outputs": [],
      "source": [
        "#! ipython id=930360aa3e46418fbfc9a8398a0b64a3\n",
        "a.union(b)\n",
        "a | b"
      ]
    },
    {
      "cell_type": "code",
      "execution_count": null,
      "metadata": {
        "id": "MeeUSAJIllJR"
      },
      "outputs": [],
      "source": [
        "#! ipython id=d2fee1cd0d2b4f33a88964578841a586\n",
        "a.intersection(b)\n",
        "a & b"
      ]
    },
    {
      "cell_type": "code",
      "execution_count": null,
      "metadata": {
        "id": "dEIdV2XHllJR"
      },
      "outputs": [],
      "source": [
        "#! ipython id=bc93c7d7808448908a39e8c48516f8ea\n",
        "c = a.copy()\n",
        "c |= b\n",
        "c\n",
        "d = a.copy()\n",
        "d &= b\n",
        "d"
      ]
    },
    {
      "cell_type": "code",
      "execution_count": null,
      "metadata": {
        "id": "VHBugKECllJR"
      },
      "outputs": [],
      "source": [
        "#! ipython id=d3ba3bbecde44f16931f20b7613400ed\n",
        "moje_dane = [1, 2, 3, 4]\n",
        "zbior = {tuple(moje_dane)}\n",
        "zbior"
      ]
    },
    {
      "cell_type": "code",
      "execution_count": null,
      "metadata": {
        "id": "wxs0IhEyllJR"
      },
      "outputs": [],
      "source": [
        "#! ipython id=69fdfc8010a64cb9b5bd227afae109a1\n",
        "a_set = {1, 2, 3, 4, 5}\n",
        "{1, 2, 3}.issubset(a_set)\n",
        "a_set.issuperset({1, 2, 3})"
      ]
    },
    {
      "cell_type": "code",
      "execution_count": null,
      "metadata": {
        "id": "DNHKIRCVllJR"
      },
      "outputs": [],
      "source": [
        "#! ipython id=4895c04ae7fa49cda3a760d5dd952a24\n",
        "{1, 2, 3} == {3, 2, 1}"
      ]
    },
    {
      "cell_type": "code",
      "execution_count": null,
      "metadata": {
        "id": "QFySosr_llJR"
      },
      "outputs": [],
      "source": [
        "#! ipython id=2adc3677205342eca43882c88ecc673e\n",
        "sorted([7, 1, 2, 6, 0, 3, 2])\n",
        "sorted(\"horse race\")"
      ]
    },
    {
      "cell_type": "code",
      "execution_count": null,
      "metadata": {
        "id": "7kByTFD6llJR"
      },
      "outputs": [],
      "source": [
        "#! ipython id=9ebb445902b34f8a9e4f30c3b2492235\n",
        "seq1 = [\"foo\", \"bar\", \"baz\"]\n",
        "seq2 = [\"one\", \"two\", \"three\"]\n",
        "zipped = zip(seq1, seq2)\n",
        "list(zipped)"
      ]
    },
    {
      "cell_type": "code",
      "execution_count": null,
      "metadata": {
        "id": "d65gUP5sllJR"
      },
      "outputs": [],
      "source": [
        "#! ipython id=6cb65a648c764d428fab7b7f0e3088e2\n",
        "seq3 = [False, True]\n",
        "list(zip(seq1, seq2, seq3))"
      ]
    },
    {
      "cell_type": "code",
      "execution_count": null,
      "metadata": {
        "id": "PY2tElwxllJR"
      },
      "outputs": [],
      "source": [
        "#! ipython id=33b017981136408db89261408551d481\n",
        "#! blockstart\n",
        "for index, (a, b) in enumerate(zip(seq1, seq2)):\n",
        "    print(f\"{index}: {a}, {b}\")\n",
        "#! blockend"
      ]
    },
    {
      "cell_type": "code",
      "execution_count": null,
      "metadata": {
        "id": "xBK6_E4WllJR"
      },
      "outputs": [],
      "source": [
        "#! ipython id=ba42b4701d824e03b5798c66a4e8ba52\n",
        "list(reversed(range(10)))"
      ]
    },
    {
      "cell_type": "code",
      "execution_count": null,
      "metadata": {
        "id": "7RwS13YellJR"
      },
      "outputs": [],
      "source": [
        "#! ipython id=4a46030633924bcf9ed372378866d5e5\n",
        "strings = [\"a\", \"as\", \"bat\", \"car\", \"dove\", \"python\"]\n",
        "[x.upper() for x in strings if len(x) > 2]"
      ]
    },
    {
      "cell_type": "code",
      "execution_count": null,
      "metadata": {
        "id": "hNV9V_lollJR"
      },
      "outputs": [],
      "source": [
        "#! ipython id=27c87458145e4e74b262c8d4eec99e5c\n",
        "unique_lengths = {len(x) for x in strings}\n",
        "unique_lengths"
      ]
    },
    {
      "cell_type": "code",
      "execution_count": null,
      "metadata": {
        "id": "pb55a2AcllJR"
      },
      "outputs": [],
      "source": [
        "#! ipython id=a612eb89648142969dd70a25f2329dc7\n",
        "set(map(len, strings))"
      ]
    },
    {
      "cell_type": "code",
      "execution_count": null,
      "metadata": {
        "id": "OK3TXdR2llJR"
      },
      "outputs": [],
      "source": [
        "#! ipython id=fcbefbee024e496eb46392a631375d9f\n",
        "loc_mapping = {value: index for index, value in enumerate(strings)}\n",
        "loc_mapping"
      ]
    },
    {
      "cell_type": "code",
      "execution_count": null,
      "metadata": {
        "id": "uzZsIIjbllJR"
      },
      "outputs": [],
      "source": [
        "#! ipython id=018be34f69874e1e9871f87d3d02c69b\n",
        "all_data = [[\"John\", \"Emily\", \"Michael\", \"Mary\", \"Steven\"],\n",
        "            [\"Maria\", \"Juan\", \"Javier\", \"Natalia\", \"Pilar\"]]"
      ]
    },
    {
      "cell_type": "code",
      "execution_count": null,
      "metadata": {
        "id": "3shCZvWdllJS"
      },
      "outputs": [],
      "source": [
        "#! ipython id=E829182B11D647519558FD46F48626A9\n",
        "names_of_interest = []\n",
        "#! blockstart\n",
        "for names in all_data:\n",
        "    enough_as = [name for name in names if name.count(\"a\") >= 2]\n",
        "    names_of_interest.extend(enough_as)\n",
        "#! blockend\n",
        "names_of_interest"
      ]
    },
    {
      "cell_type": "code",
      "execution_count": null,
      "metadata": {
        "id": "bRsIjcZlllJS"
      },
      "outputs": [],
      "source": [
        "#! ipython id=d3c630997f40472db3bafccfb746f819\n",
        "result = [name for names in all_data for name in names\n",
        "          if name.count(\"a\") >= 2]\n",
        "result"
      ]
    },
    {
      "cell_type": "code",
      "execution_count": null,
      "metadata": {
        "id": "iNlrqFkrllJS"
      },
      "outputs": [],
      "source": [
        "#! ipython id=bd50aef619e1481ab2451c8f86ce3d42\n",
        "some_tuples = [(1, 2, 3), (4, 5, 6), (7, 8, 9)]\n",
        "flattened = [x for tup in some_tuples for x in tup]\n",
        "flattened"
      ]
    },
    {
      "cell_type": "code",
      "execution_count": null,
      "metadata": {
        "id": "LXoLFBkVllJS"
      },
      "outputs": [],
      "source": [
        "#! ipython verbatim id=7E5891774F464818BCBCB3C2692682A6\n",
        "flattened = []\n",
        "\n",
        "for tup in some_tuples:\n",
        "    for x in tup:\n",
        "        flattened.append(x)"
      ]
    },
    {
      "cell_type": "code",
      "execution_count": null,
      "metadata": {
        "id": "ZCC3KRVallJS"
      },
      "outputs": [],
      "source": [
        "#! ipython id=db1e87dd90fb4645820ff22fb0ca1379\n",
        "[[x for x in tup] for tup in some_tuples]"
      ]
    },
    {
      "cell_type": "code",
      "execution_count": null,
      "metadata": {
        "id": "bvCn-sJAllJS"
      },
      "outputs": [],
      "source": [
        "#! ipython id=4673A12D54CE49829790310977A675A5\n",
        "def moja_funkcja(x, y):\n",
        "    return x + y"
      ]
    },
    {
      "cell_type": "code",
      "execution_count": null,
      "metadata": {
        "id": "6bR6x_c2llJS"
      },
      "outputs": [],
      "source": [
        "#! ipython id=E4F308DD00ED486B93AB620C2AC256B5\n",
        "moja_funkcja(1, 2)\n",
        "result = moja_funkcja(1, 2)\n",
        "result"
      ]
    },
    {
      "cell_type": "code",
      "execution_count": null,
      "metadata": {
        "id": "Sn-LAiA1llJS"
      },
      "outputs": [],
      "source": [
        "#! ipython id=1C8501E576A0458F98DD8EB0F59E8933\n",
        "def function_without_return(x):\n",
        "    print(x)\n",
        "\n",
        "result = function_without_return(\"Cześć!\")\n",
        "print(result)"
      ]
    },
    {
      "cell_type": "code",
      "execution_count": null,
      "metadata": {
        "id": "2CdNjqqCllJS"
      },
      "outputs": [],
      "source": [
        "#! ipython verbatim id=4673A12D54CE49829790310977A675A5\n",
        "def moja_funkcja2(x, y, z=1.5):\n",
        "    if z > 1:\n",
        "        return z * (x + y)\n",
        "    else:\n",
        "        return z / (x + y)"
      ]
    },
    {
      "cell_type": "code",
      "execution_count": null,
      "metadata": {
        "id": "gIxxK7sHllJS"
      },
      "outputs": [],
      "source": [
        "#! ipython id=729E08FB177541928A87326230C7868A\n",
        "moja_funkcja2(5, 6, z=0.7)\n",
        "moja_funkcja2(3.14, 7, 3.5)\n",
        "moja_funkcja2(10, 20)"
      ]
    },
    {
      "cell_type": "code",
      "execution_count": null,
      "metadata": {
        "id": "WPOc_AsAllJS"
      },
      "outputs": [],
      "source": [
        "#! ipython id=988c7d961f684af09d7d9a9daa7c2bb9\n",
        "a = []\n",
        "def func():\n",
        "    for i in range(5):\n",
        "        a.append(i)"
      ]
    },
    {
      "cell_type": "code",
      "execution_count": null,
      "metadata": {
        "id": "f_zUA7xxllJS"
      },
      "outputs": [],
      "source": [
        "#! ipython id=b1fef1a73b914b2eb8effdd4df727d25\n",
        "func()\n",
        "a\n",
        "func()\n",
        "a"
      ]
    },
    {
      "cell_type": "code",
      "execution_count": null,
      "metadata": {
        "id": "OXZU6cQ7llJS"
      },
      "outputs": [],
      "source": [
        "#! ipython id=b5d2338ec6b64bdf9b50d4674b32f14f\n",
        "a = None\n",
        "#! blockstart\n",
        "def bind_a_variable():\n",
        "    global a\n",
        "    a = []\n",
        "bind_a_variable()\n",
        "#! blockend\n",
        "print(a)"
      ]
    },
    {
      "cell_type": "code",
      "execution_count": null,
      "metadata": {
        "id": "R1_AJj65llJS"
      },
      "outputs": [],
      "source": [
        "#! ipython id=022108f1e242478da353a3d86708ed47\n",
        "states = [\"   Alabama \", \"Georgia!\", \"Georgia\", \"georgia\", \"FlOrIda\",\n",
        "          \"south   carolina##\", \"West virginia?\"]"
      ]
    },
    {
      "cell_type": "code",
      "execution_count": null,
      "metadata": {
        "id": "kSZES6QMllJS"
      },
      "outputs": [],
      "source": [
        "#! ipython verbatim id=fb7c1a7bea534d85ba3b735097ad0235\n",
        "import re\n",
        "\n",
        "def clean_strings(strings):\n",
        "    result = []\n",
        "    for value in strings:\n",
        "        value = value.strip()\n",
        "        value = re.sub(\"[!#?]\", \"\", value)\n",
        "        value = value.title()\n",
        "        result.append(value)\n",
        "    return result"
      ]
    },
    {
      "cell_type": "code",
      "execution_count": null,
      "metadata": {
        "id": "sRLtpOvOllJS"
      },
      "outputs": [],
      "source": [
        "#! ipython id=7ea42274bc2947f3b4ebe209f9c7ee82\n",
        "clean_strings(states)"
      ]
    },
    {
      "cell_type": "code",
      "execution_count": null,
      "metadata": {
        "id": "V_bJ8UGGllJS"
      },
      "outputs": [],
      "source": [
        "#! ipython verbatim id=ce250f90f14e4c98ad8b8d108fa98bba\n",
        "def remove_punctuation(value):\n",
        "    return re.sub(\"[!#?]\", \"\", value)\n",
        "\n",
        "clean_ops = [str.strip, remove_punctuation, str.title]\n",
        "\n",
        "def clean_strings(strings, ops):\n",
        "    result = []\n",
        "    for value in strings:\n",
        "        for func in ops:\n",
        "            value = func(value)\n",
        "        result.append(value)\n",
        "    return result"
      ]
    },
    {
      "cell_type": "code",
      "execution_count": null,
      "metadata": {
        "id": "xPdjgolYllJS"
      },
      "outputs": [],
      "source": [
        "#! ipython id=e7f5b8fba1784d33833db3ee759a7e89\n",
        "clean_strings(states, clean_ops)"
      ]
    },
    {
      "cell_type": "code",
      "execution_count": null,
      "metadata": {
        "id": "gDnbVJVqllJS"
      },
      "outputs": [],
      "source": [
        "#! ipython id=68ccca27ff884667a981d5843c3b370a\n",
        "for x in map(remove_punctuation, states):\n",
        "    print(x)"
      ]
    },
    {
      "cell_type": "code",
      "execution_count": null,
      "metadata": {
        "id": "M11dyOblllJT"
      },
      "outputs": [],
      "source": [
        "#! ipython id=6995cf9cd38c4851b47bea0108ff374d\n",
        "def short_function(x):\n",
        "    return x * 2\n",
        "\n",
        "equiv_anon = lambda x: x * 2"
      ]
    },
    {
      "cell_type": "code",
      "execution_count": null,
      "metadata": {
        "id": "tKO2tebfllJT"
      },
      "outputs": [],
      "source": [
        "#! ipython id=c5fb98a7a6d7427085a4fc16d1aeaf8a\n",
        "def apply_to_list(some_list, f):\n",
        "    return [f(x) for x in some_list]\n",
        "\n",
        "ints = [4, 0, 1, 5, 6]\n",
        "apply_to_list(ints, lambda x: x * 2)"
      ]
    },
    {
      "cell_type": "code",
      "execution_count": null,
      "metadata": {
        "id": "iIcw7PG2llJT"
      },
      "outputs": [],
      "source": [
        "#! ipython id=3c96075c117b4d29a8b0de3741b66f03\n",
        "strings = [\"foo\", \"card\", \"bar\", \"aaaa\", \"abab\"]"
      ]
    },
    {
      "cell_type": "code",
      "execution_count": null,
      "metadata": {
        "id": "5cHOQ52IllJT"
      },
      "outputs": [],
      "source": [
        "#! ipython id=35dc027b565e41be8c24a69bd348830e\n",
        "strings.sort(key=lambda x: len(set(x)))\n",
        "strings"
      ]
    },
    {
      "cell_type": "code",
      "execution_count": null,
      "metadata": {
        "id": "Sd8rt2m-llJT"
      },
      "outputs": [],
      "source": [
        "#! ipython id=ef32fe84f029417092e95b48dff21ee3\n",
        "some_dict = {\"a\": 1, \"b\": 2, \"c\": 3}\n",
        "for key in some_dict:\n",
        "    print(key)"
      ]
    },
    {
      "cell_type": "code",
      "execution_count": null,
      "metadata": {
        "id": "lI_xeIT9llJT"
      },
      "outputs": [],
      "source": [
        "#! ipython id=e21664c09fd74763b5bd9fd1c9b58bb2\n",
        "dict_iterator = iter(some_dict)\n",
        "dict_iterator"
      ]
    },
    {
      "cell_type": "code",
      "execution_count": null,
      "metadata": {
        "id": "hg5KJVkkllJT"
      },
      "outputs": [],
      "source": [
        "#! ipython id=295f6871ebff40a9a1113898043d6fbc\n",
        "list(dict_iterator)"
      ]
    },
    {
      "cell_type": "code",
      "execution_count": null,
      "metadata": {
        "id": "bh_BBcArllJT"
      },
      "outputs": [],
      "source": [
        "#! ipython verbatim id=0cee7d7909eb4073b8c6424f1808a668\n",
        "def squares(n=10):\n",
        "    print(f\"Generowanie kwadratów od 1 do {n ** 2}\")\n",
        "    for i in range(1, n + 1):\n",
        "        yield i ** 2"
      ]
    },
    {
      "cell_type": "code",
      "execution_count": null,
      "metadata": {
        "id": "sImkBy_rllJT"
      },
      "outputs": [],
      "source": [
        "#! ipython id=772dbe0e7ccf428c8dc574bb2909af24\n",
        "gen = squares()\n",
        "gen"
      ]
    },
    {
      "cell_type": "code",
      "execution_count": null,
      "metadata": {
        "id": "tpo1aANXllJT"
      },
      "outputs": [],
      "source": [
        "#! ipython id=6498f8f9727f48598248e2c51ae7b280\n",
        "for x in gen:\n",
        "    print(x, end=\" \")"
      ]
    },
    {
      "cell_type": "code",
      "execution_count": null,
      "metadata": {
        "id": "DC__siB0llJT"
      },
      "outputs": [],
      "source": [
        "#! ipython id=27d6215331ba4508a6660521a46fda25\n",
        "gen = (x ** 2 for x in range(100))\n",
        "gen"
      ]
    },
    {
      "cell_type": "code",
      "execution_count": null,
      "metadata": {
        "id": "OZFJXArellJT"
      },
      "outputs": [],
      "source": [
        "#! ipython id=8eeac2424de84f5c8e7d21dbbfb02566\n",
        "sum(x ** 2 for x in range(100))\n",
        "dict((i, i ** 2) for i in range(5))"
      ]
    },
    {
      "cell_type": "code",
      "execution_count": null,
      "metadata": {
        "id": "keu5p5PTllJT"
      },
      "outputs": [],
      "source": [
        "#! ipython id=71edd1b5622e4acbbe73dfe2ba077f2d\n",
        "import itertools\n",
        "def first_letter(x):\n",
        "    return x[0]\n",
        "\n",
        "names = [\"Alan\", \"Adam\", \"Wes\", \"Will\", \"Albert\", \"Steven\"]\n",
        "\n",
        "for letter, names in itertools.groupby(names, first_letter):\n",
        "    print(letter, list(names)) # names is a generator"
      ]
    },
    {
      "cell_type": "code",
      "execution_count": null,
      "metadata": {
        "id": "xUItxhOAllJT"
      },
      "outputs": [],
      "source": [
        "#! ipython allow_exceptions id=9bd5bd1b77e04bb9a199a632e657a587\n",
        "float(\"1.2345\")\n",
        "float(\"something\")"
      ]
    },
    {
      "cell_type": "code",
      "execution_count": null,
      "metadata": {
        "id": "cqqFljpIllJT"
      },
      "outputs": [],
      "source": [
        "#! ipython verbatim id=7324afff252e43d88e9f87c0668273e2\n",
        "def attempt_float(x):\n",
        "    try:\n",
        "        return float(x)\n",
        "    except:\n",
        "        return x"
      ]
    },
    {
      "cell_type": "code",
      "execution_count": null,
      "metadata": {
        "id": "jF_g3a9GllJT"
      },
      "outputs": [],
      "source": [
        "#! ipython id=761d1de6e4c24a9981e15516315ed406\n",
        "attempt_float(\"1.2345\")\n",
        "attempt_float(\"something\")"
      ]
    },
    {
      "cell_type": "code",
      "execution_count": null,
      "metadata": {
        "id": "EWLf0e3GllJT"
      },
      "outputs": [],
      "source": [
        "#! ipython allow_exceptions id=ba156be511f3418792b8abb5fa790d01\n",
        "float((1, 2))"
      ]
    },
    {
      "cell_type": "code",
      "execution_count": null,
      "metadata": {
        "id": "eCMVTm5kllJU"
      },
      "outputs": [],
      "source": [
        "#! ipython verbatim id=599fbddb78b2439883ea0cb3d2fe7400\n",
        "def attempt_float(x):\n",
        "    try:\n",
        "        return float(x)\n",
        "    except ValueError:\n",
        "        return x"
      ]
    },
    {
      "cell_type": "code",
      "execution_count": null,
      "metadata": {
        "id": "V_C9GbmQllJU"
      },
      "outputs": [],
      "source": [
        "#! ipython allow_exceptions id=7e3e9049b61d416f9e411378e7043e2c\n",
        "attempt_float((1, 2))"
      ]
    },
    {
      "cell_type": "code",
      "execution_count": null,
      "metadata": {
        "id": "UC6JNMYWllJU"
      },
      "outputs": [],
      "source": [
        "#! ipython verbatim id=9a2f8c5351814558b1019f4f42d07d2e\n",
        "def attempt_float(x):\n",
        "    try:\n",
        "        return float(x)\n",
        "    except (TypeError, ValueError):\n",
        "        return x"
      ]
    },
    {
      "cell_type": "code",
      "execution_count": null,
      "metadata": {
        "id": "Doz881YkllJU"
      },
      "outputs": [],
      "source": [
        "#! ipython id=b4981a31b1a340448473e18ed3db5ccf\n",
        "import os\n",
        "path = \"przykłady/segismundo.txt\"\n",
        "f = open(path, encoding=\"utf-8\")"
      ]
    },
    {
      "cell_type": "code",
      "execution_count": null,
      "metadata": {
        "id": "3jLg4OgEllJU"
      },
      "outputs": [],
      "source": [
        "#! ipython id=3c4cc539ca7f465a8c40c73ac17e4e5f\n",
        "lines = [x.rstrip() for x in open(path, encoding=\"utf-8\")]\n",
        "lines"
      ]
    },
    {
      "cell_type": "code",
      "execution_count": null,
      "metadata": {
        "id": "nhuvF12MllJU"
      },
      "outputs": [],
      "source": [
        "#! ipython id=4b5aaa74913f4d41a264eca0d626c465\n",
        "f.close()"
      ]
    },
    {
      "cell_type": "code",
      "execution_count": null,
      "metadata": {
        "id": "E0Pi2bt_llJU"
      },
      "outputs": [],
      "source": [
        "#! ipython id=174c699a268447c4ba28d47a99402980\n",
        "with open(path, encoding=\"utf-8\") as f:\n",
        "    lines = [x.rstrip() for x in f]"
      ]
    },
    {
      "cell_type": "code",
      "execution_count": null,
      "metadata": {
        "id": "NcpWYzjYllJU"
      },
      "outputs": [],
      "source": [
        "#! ipython id=d4529c243e7c49418ea310270a60f524\n",
        "f1 = open(path)\n",
        "f1.read(10)\n",
        "f2 = open(path, mode=\"rb\")  # Tryb binarny\n",
        "f2.read(10)"
      ]
    },
    {
      "cell_type": "code",
      "execution_count": null,
      "metadata": {
        "id": "c2oLM3FillJU"
      },
      "outputs": [],
      "source": [
        "#! ipython id=a8f60ea5015849598ecd2bbd87a75174\n",
        "f1.tell()\n",
        "f2.tell()"
      ]
    },
    {
      "cell_type": "code",
      "execution_count": null,
      "metadata": {
        "id": "CckvMAXjllJU"
      },
      "outputs": [],
      "source": [
        "#! ipython id=1b25166af8444a1d939b4184bf8f909b\n",
        "import sys\n",
        "sys.getdefaultencoding()"
      ]
    },
    {
      "cell_type": "code",
      "execution_count": null,
      "metadata": {
        "id": "FGWCW0sFllJU"
      },
      "outputs": [],
      "source": [
        "#! ipython id=91c150712de941cdb037bff70bf85fe4\n",
        "f1.seek(3)\n",
        "f1.read(1)\n",
        "f1.tell()"
      ]
    },
    {
      "cell_type": "code",
      "execution_count": null,
      "metadata": {
        "id": "nndmfzbUllJU"
      },
      "outputs": [],
      "source": [
        "#! ipython id=0551307ffb834d36bbc23c1c26bb8e5f\n",
        "f1.close()\n",
        "f2.close()"
      ]
    },
    {
      "cell_type": "code",
      "execution_count": null,
      "metadata": {
        "id": "RiRhvdBfllJU"
      },
      "outputs": [],
      "source": [
        "#! ipython id=e1abf2e446664da7ab1e1234a37603b7\n",
        "path\n",
        "\n",
        "with open(\"tmp.txt\", mode=\"w\") as handle:\n",
        "    handle.writelines(x for x in open(path) if len(x) > 1)\n",
        "\n",
        "with open(\"tmp.txt\") as f:\n",
        "    lines = f.readlines()\n",
        "\n",
        "lines"
      ]
    },
    {
      "cell_type": "code",
      "execution_count": null,
      "metadata": {
        "id": "FAx3LOaIllJU"
      },
      "outputs": [],
      "source": [
        "#! ipython suppress id=7d7eec59e35d41a481366e32072e964c\n",
        "import os\n",
        "os.remove(\"tmp.txt\")"
      ]
    },
    {
      "cell_type": "code",
      "execution_count": null,
      "metadata": {
        "id": "_-JttCH5llJU"
      },
      "outputs": [],
      "source": [
        "#! ipython id=5b95866731ae4b87b79b9dddc95622d9\n",
        "with open(path) as f:\n",
        "    chars = f.read(10)\n",
        "\n",
        "chars\n",
        "len(chars)"
      ]
    },
    {
      "cell_type": "code",
      "execution_count": null,
      "metadata": {
        "id": "x5DEr1zEllJU"
      },
      "outputs": [],
      "source": [
        "#! ipython id=e85aea11b3b5478f8f3e9b0b7d118c7a\n",
        "with open(path, mode=\"rb\") as f:\n",
        "    data = f.read(10)\n",
        "\n",
        "data"
      ]
    },
    {
      "cell_type": "code",
      "execution_count": null,
      "metadata": {
        "id": "N568eQX-llJU"
      },
      "outputs": [],
      "source": [
        "#! ipython allow_exceptions id=c5e296d66bab43e5bf74f097c5650f8d\n",
        "data.decode(\"utf-8\")\n",
        "data[:4].decode(\"utf-8\")"
      ]
    },
    {
      "cell_type": "code",
      "execution_count": null,
      "metadata": {
        "id": "hPisDrAnllJU"
      },
      "outputs": [],
      "source": [
        "#! ipython id=cb101430288e455dad4024b59b17aee1\n",
        "sink_path = \"sink.txt\"\n",
        "with open(path) as source:\n",
        "    with open(sink_path, \"x\", encoding=\"iso-8859-1\") as sink:\n",
        "        sink.write(source.read())\n",
        "\n",
        "with open(sink_path, encoding=\"iso-8859-1\") as f:\n",
        "    print(f.read(10))"
      ]
    },
    {
      "cell_type": "code",
      "execution_count": null,
      "metadata": {
        "id": "FqEHyC-7llJV"
      },
      "outputs": [],
      "source": [
        "#! ipython suppress id=691ae68a0bd840d4b8d757af71ca26ca\n",
        "os.remove(sink_path)"
      ]
    },
    {
      "cell_type": "code",
      "execution_count": null,
      "metadata": {
        "id": "vzOXxj68llJV"
      },
      "outputs": [],
      "source": [
        "#! ipython allow_exceptions id=e915449c2d9e4f0b8f639a2cb1d20552\n",
        "f = open(path, encoding='utf-8')\n",
        "f.read(5)\n",
        "f.seek(4)\n",
        "f.read(1)\n",
        "f.close()"
      ]
    },
    {
      "cell_type": "code",
      "execution_count": null,
      "metadata": {
        "id": "oF4haNsAllJV"
      },
      "outputs": [],
      "source": [
        "#! ipython suppress id=9ccad96340cf4d5ebf20ee72f884f64f\n",
        "%popd"
      ]
    }
  ],
  "metadata": {
    "kernelspec": {
      "display_name": "Python 3 (ipykernel)",
      "language": "python",
      "name": "python3"
    },
    "language_info": {
      "codemirror_mode": {
        "name": "ipython",
        "version": 3
      },
      "file_extension": ".py",
      "mimetype": "text/x-python",
      "name": "python",
      "nbconvert_exporter": "python",
      "pygments_lexer": "ipython3",
      "version": "3.11.0"
    },
    "colab": {
      "provenance": [],
      "toc_visible": true
    }
  },
  "nbformat": 4,
  "nbformat_minor": 0
}