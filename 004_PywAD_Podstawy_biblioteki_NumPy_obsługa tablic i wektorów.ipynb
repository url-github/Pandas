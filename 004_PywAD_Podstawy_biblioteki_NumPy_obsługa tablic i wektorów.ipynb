{
  "cells": [
    {
      "cell_type": "code",
      "source": [
        "pwd"
      ],
      "metadata": {
        "colab": {
          "base_uri": "https://localhost:8080/",
          "height": 35
        },
        "id": "WZL8w96Iqm_E",
        "outputId": "ff20950a-a990-4826-9838-c094d8f0ac7b"
      },
      "execution_count": 1,
      "outputs": [
        {
          "output_type": "execute_result",
          "data": {
            "text/plain": [
              "'/content'"
            ],
            "application/vnd.google.colaboratory.intrinsic+json": {
              "type": "string"
            }
          },
          "metadata": {},
          "execution_count": 1
        }
      ]
    },
    {
      "cell_type": "markdown",
      "source": [
        "- `np.set_printoptions()`: Umożliwia konfigurowanie sposobu wyświetlania tablic NumPy.\n",
        "- `precision=4`: Ustawia liczbę miejsc po przecinku na 4.\n",
        "- `suppress=True`: Zapobiega używaniu notacji naukowej dla małych liczb, co sprawia, że liczby są wyświetlane w bardziej czytelny sposób."
      ],
      "metadata": {
        "id": "I5aMUDXFNBQF"
      }
    },
    {
      "cell_type": "code",
      "execution_count": 2,
      "metadata": {
        "id": "FEm57-sVmXne",
        "colab": {
          "base_uri": "https://localhost:8080/"
        },
        "outputId": "588fbe25-cee6-441b-9470-971abed8dffe"
      },
      "outputs": [
        {
          "output_type": "stream",
          "name": "stdout",
          "text": [
            "/content\n"
          ]
        }
      ],
      "source": [
        "%pushd /content\n",
        "import numpy as np\n",
        "np.random.seed(12345)\n",
        "import matplotlib.pyplot as plt\n",
        "plt.rc(\"figure\", figsize=(10, 6))\n",
        "np.set_printoptions(precision=4, suppress=True)"
      ]
    },
    {
      "cell_type": "code",
      "execution_count": 3,
      "metadata": {
        "id": "MSa46raWmXnf",
        "colab": {
          "base_uri": "https://localhost:8080/"
        },
        "outputId": "2f4b1f47-32f2-4c9c-d525-b316382a3178"
      },
      "outputs": [
        {
          "output_type": "execute_result",
          "data": {
            "text/plain": [
              "array([     0,      1,      2, ..., 999997, 999998, 999999])"
            ]
          },
          "metadata": {},
          "execution_count": 3
        }
      ],
      "source": [
        "import numpy as np\n",
        "\n",
        "my_arr = np.arange(1_000_000)\n",
        "my_arr"
      ]
    },
    {
      "cell_type": "code",
      "source": [
        "my_list = list(range(1_000_000))\n",
        "\n",
        "first_four_elements = my_list[:5]\n",
        "first_four_elements"
      ],
      "metadata": {
        "colab": {
          "base_uri": "https://localhost:8080/"
        },
        "id": "6-ZtxJd-NiHa",
        "outputId": "6ae177c7-394c-4224-bfb8-2ce3b165ac09"
      },
      "execution_count": 6,
      "outputs": [
        {
          "output_type": "execute_result",
          "data": {
            "text/plain": [
              "[0, 1, 2, 3, 4]"
            ]
          },
          "metadata": {},
          "execution_count": 6
        }
      ]
    },
    {
      "cell_type": "code",
      "source": [
        "%timeit my_arr2 = my_arr * 2"
      ],
      "metadata": {
        "colab": {
          "base_uri": "https://localhost:8080/"
        },
        "id": "AkRNin--SCGL",
        "outputId": "41ffd1be-0628-42d3-ec8c-8edc99df213a"
      },
      "execution_count": 7,
      "outputs": [
        {
          "output_type": "stream",
          "name": "stdout",
          "text": [
            "1.64 ms ± 240 µs per loop (mean ± std. dev. of 7 runs, 1000 loops each)\n"
          ]
        }
      ]
    },
    {
      "cell_type": "code",
      "execution_count": 8,
      "metadata": {
        "id": "OjrTdNtHmXnf",
        "colab": {
          "base_uri": "https://localhost:8080/"
        },
        "outputId": "9e7f365c-c152-4918-ace4-b65aee9ded48"
      },
      "outputs": [
        {
          "output_type": "stream",
          "name": "stdout",
          "text": [
            "236 ms ± 90.2 ms per loop (mean ± std. dev. of 7 runs, 1 loop each)\n"
          ]
        }
      ],
      "source": [
        "%timeit my_list2 = [x * 2 for x in my_list]"
      ]
    },
    {
      "cell_type": "code",
      "source": [
        "# Python\n",
        "import time\n",
        "size = 1_000_000\n",
        "l1 = list(range(size))\n",
        "l2 = list(range(size))\n",
        "start = time.time()\n",
        "result = [x + y for x, y in zip(l1, l2)]\n",
        "print(\"Python:\", time.time() - start)\n",
        "\n",
        "# NumPy\n",
        "import numpy as np\n",
        "a1 = np.arange(size)\n",
        "a2 = np.arange(size)\n",
        "start = time.time()\n",
        "result = a1 + a2\n",
        "print(\"NumPy:\", time.time() - start)"
      ],
      "metadata": {
        "colab": {
          "base_uri": "https://localhost:8080/"
        },
        "id": "omLCDh0kTBAu",
        "outputId": "36642359-ed1a-461d-b095-e311d09d92f3"
      },
      "execution_count": 9,
      "outputs": [
        {
          "output_type": "stream",
          "name": "stdout",
          "text": [
            "Python: 0.11285996437072754\n",
            "NumPy: 0.020190954208374023\n"
          ]
        }
      ]
    },
    {
      "cell_type": "code",
      "execution_count": 11,
      "metadata": {
        "id": "OC06F-RlmXnf",
        "colab": {
          "base_uri": "https://localhost:8080/"
        },
        "outputId": "819908c4-9f60-4349-b2fc-b4bc00e7f9a7"
      },
      "outputs": [
        {
          "output_type": "execute_result",
          "data": {
            "text/plain": [
              "array([[ 1.5, -0.1,  3. ],\n",
              "       [ 0. , -3. ,  6.5]])"
            ]
          },
          "metadata": {},
          "execution_count": 11
        }
      ],
      "source": [
        "import numpy as np\n",
        "data = np.array([[1.5, -0.1, 3], [0, -3, 6.5]])\n",
        "data"
      ]
    },
    {
      "cell_type": "code",
      "source": [
        "matrix = np.array([[1, 2], [3, 4]])\n",
        "print(matrix.T)  # Transpozycja macierzy"
      ],
      "metadata": {
        "colab": {
          "base_uri": "https://localhost:8080/"
        },
        "id": "asSeLdQ3Tvmj",
        "outputId": "afb279b5-8878-4de2-c980-dc0de5ad7d3a"
      },
      "execution_count": 10,
      "outputs": [
        {
          "output_type": "stream",
          "name": "stdout",
          "text": [
            "[[1 3]\n",
            " [2 4]]\n"
          ]
        }
      ]
    },
    {
      "cell_type": "code",
      "source": [
        "# Dodawanie skalaru do tablicy: Broadcasting\n",
        "c = np.array([1, 2, 3])\n",
        "print(c + 10)  # [11 12 13]"
      ],
      "metadata": {
        "colab": {
          "base_uri": "https://localhost:8080/"
        },
        "id": "HCh4niJYT4wc",
        "outputId": "d4499566-1dc9-445d-f1a7-358f5d6ddb66"
      },
      "execution_count": 12,
      "outputs": [
        {
          "output_type": "stream",
          "name": "stdout",
          "text": [
            "[11 12 13]\n"
          ]
        }
      ]
    },
    {
      "cell_type": "code",
      "source": [
        "data * 10"
      ],
      "metadata": {
        "colab": {
          "base_uri": "https://localhost:8080/"
        },
        "id": "2hwi4JPHVYVB",
        "outputId": "6acbd539-a10d-48a3-9fc7-21f0071de0c2"
      },
      "execution_count": 13,
      "outputs": [
        {
          "output_type": "execute_result",
          "data": {
            "text/plain": [
              "array([[ 15.,  -1.,  30.],\n",
              "       [  0., -30.,  65.]])"
            ]
          },
          "metadata": {},
          "execution_count": 13
        }
      ]
    },
    {
      "cell_type": "code",
      "execution_count": 14,
      "metadata": {
        "id": "ZG16bLjZmXnf",
        "colab": {
          "base_uri": "https://localhost:8080/"
        },
        "outputId": "680162b8-a533-4d60-969b-6111f260b8ba"
      },
      "outputs": [
        {
          "output_type": "execute_result",
          "data": {
            "text/plain": [
              "array([[ 3. , -0.2,  6. ],\n",
              "       [ 0. , -6. , 13. ]])"
            ]
          },
          "metadata": {},
          "execution_count": 14
        }
      ],
      "source": [
        "data + data"
      ]
    },
    {
      "cell_type": "code",
      "source": [
        "data.shape"
      ],
      "metadata": {
        "colab": {
          "base_uri": "https://localhost:8080/"
        },
        "id": "Lo_QjYCsVicT",
        "outputId": "bf4fa384-8ee0-40b8-cba0-7bdde6344630"
      },
      "execution_count": 15,
      "outputs": [
        {
          "output_type": "execute_result",
          "data": {
            "text/plain": [
              "(2, 3)"
            ]
          },
          "metadata": {},
          "execution_count": 15
        }
      ]
    },
    {
      "cell_type": "code",
      "execution_count": 16,
      "metadata": {
        "id": "K29pWXyNmXng",
        "colab": {
          "base_uri": "https://localhost:8080/"
        },
        "outputId": "f8debb42-43ac-437b-8bbb-3017d369cb92"
      },
      "outputs": [
        {
          "output_type": "execute_result",
          "data": {
            "text/plain": [
              "dtype('float64')"
            ]
          },
          "metadata": {},
          "execution_count": 16
        }
      ],
      "source": [
        "data.dtype"
      ]
    },
    {
      "cell_type": "code",
      "execution_count": 17,
      "metadata": {
        "id": "DEC394xHmXng",
        "colab": {
          "base_uri": "https://localhost:8080/"
        },
        "outputId": "4dd615d8-8d65-4660-8246-ca72236a8443"
      },
      "outputs": [
        {
          "output_type": "execute_result",
          "data": {
            "text/plain": [
              "array([6. , 7.5, 8. , 0. , 1. ])"
            ]
          },
          "metadata": {},
          "execution_count": 17
        }
      ],
      "source": [
        "data1 = [6, 7.5, 8, 0, 1]\n",
        "arr1 = np.array(data1)\n",
        "arr1"
      ]
    },
    {
      "cell_type": "code",
      "execution_count": 18,
      "metadata": {
        "id": "wq_V9nJtmXng",
        "colab": {
          "base_uri": "https://localhost:8080/"
        },
        "outputId": "9965c530-27d9-4e01-9115-fed685820c27"
      },
      "outputs": [
        {
          "output_type": "execute_result",
          "data": {
            "text/plain": [
              "array([[1, 2, 3, 4],\n",
              "       [5, 6, 7, 8]])"
            ]
          },
          "metadata": {},
          "execution_count": 18
        }
      ],
      "source": [
        "data2 = [[1, 2, 3, 4], [5, 6, 7, 8]]\n",
        "arr2 = np.array(data2)\n",
        "arr2"
      ]
    },
    {
      "cell_type": "code",
      "source": [
        "arr2.ndim"
      ],
      "metadata": {
        "colab": {
          "base_uri": "https://localhost:8080/"
        },
        "id": "_ddYpV5iWvSv",
        "outputId": "5b107c16-761f-4b33-adaa-33859a50ffdf"
      },
      "execution_count": 19,
      "outputs": [
        {
          "output_type": "execute_result",
          "data": {
            "text/plain": [
              "2"
            ]
          },
          "metadata": {},
          "execution_count": 19
        }
      ]
    },
    {
      "cell_type": "markdown",
      "source": [
        "- atrybut .ndim tablicy (array) zwraca liczbę wymiarów danej tablicy."
      ],
      "metadata": {
        "id": "QN0fX2k1XfIs"
      }
    },
    {
      "cell_type": "code",
      "source": [
        "# Tworzenie tablicy 1D\n",
        "arr1 = np.array([1, 2, 3])\n",
        "print(arr1.ndim)  # Wynik: 1\n",
        "\n",
        "# Tworzenie tablicy 2D\n",
        "arr2 = np.array([[1, 2, 3], [4, 5, 6]])\n",
        "print(arr2.ndim)  # Wynik: 2\n",
        "\n",
        "# Tworzenie tablicy 3D\n",
        "arr3 = np.array([[[1, 2], [3, 4]], [[5, 6], [7, 8]]])\n",
        "print(arr3.ndim)  # Wynik: 3"
      ],
      "metadata": {
        "colab": {
          "base_uri": "https://localhost:8080/"
        },
        "id": "hES3l6-_XaNb",
        "outputId": "4ce8204c-02a2-4676-9046-8467be16e63d"
      },
      "execution_count": 20,
      "outputs": [
        {
          "output_type": "stream",
          "name": "stdout",
          "text": [
            "1\n",
            "2\n",
            "3\n"
          ]
        }
      ]
    },
    {
      "cell_type": "code",
      "execution_count": 21,
      "metadata": {
        "id": "x9ncZozPmXnh",
        "colab": {
          "base_uri": "https://localhost:8080/"
        },
        "outputId": "73023deb-1779-47ac-a8c7-9406643f14f3"
      },
      "outputs": [
        {
          "output_type": "execute_result",
          "data": {
            "text/plain": [
              "(2, 3)"
            ]
          },
          "metadata": {},
          "execution_count": 21
        }
      ],
      "source": [
        "arr2.shape"
      ]
    },
    {
      "cell_type": "code",
      "execution_count": 23,
      "metadata": {
        "id": "TzaXXwRimXnh",
        "colab": {
          "base_uri": "https://localhost:8080/"
        },
        "outputId": "49cc5424-ca37-4898-9e29-e2aedd0fd797"
      },
      "outputs": [
        {
          "output_type": "execute_result",
          "data": {
            "text/plain": [
              "dtype('int64')"
            ]
          },
          "metadata": {},
          "execution_count": 23
        }
      ],
      "source": [
        "arr2.dtype # dtype('int64')"
      ]
    },
    {
      "cell_type": "code",
      "source": [
        "np.zeros(10)"
      ],
      "metadata": {
        "colab": {
          "base_uri": "https://localhost:8080/"
        },
        "id": "uvkSWcRYXu6S",
        "outputId": "de650dfb-5350-4830-b365-63f8eafefc00"
      },
      "execution_count": 24,
      "outputs": [
        {
          "output_type": "execute_result",
          "data": {
            "text/plain": [
              "array([0., 0., 0., 0., 0., 0., 0., 0., 0., 0.])"
            ]
          },
          "metadata": {},
          "execution_count": 24
        }
      ]
    },
    {
      "cell_type": "code",
      "source": [
        "np.zeros((3, 6))"
      ],
      "metadata": {
        "colab": {
          "base_uri": "https://localhost:8080/"
        },
        "id": "E4VXhBCWXwmN",
        "outputId": "48b3d2e0-7d55-4b2a-a502-df92a8ba7e7c"
      },
      "execution_count": 26,
      "outputs": [
        {
          "output_type": "execute_result",
          "data": {
            "text/plain": [
              "array([[0., 0., 0., 0., 0., 0.],\n",
              "       [0., 0., 0., 0., 0., 0.],\n",
              "       [0., 0., 0., 0., 0., 0.]])"
            ]
          },
          "metadata": {},
          "execution_count": 26
        }
      ]
    },
    {
      "cell_type": "code",
      "execution_count": 30,
      "metadata": {
        "id": "kvxQ2GdDmXnh",
        "colab": {
          "base_uri": "https://localhost:8080/"
        },
        "outputId": "ef2c7bbe-2414-4708-c3e1-0691b63104de"
      },
      "outputs": [
        {
          "output_type": "execute_result",
          "data": {
            "text/plain": [
              "array([[[-0.25, -0.5 ,  0.  , -0.25],\n",
              "        [ 0.25, -0.5 ,  0.5 , -0.25]],\n",
              "\n",
              "       [[ 0.25,  0.  ,  0.5 ,  0.25],\n",
              "        [ 0.25,  0.5 ,  0.  ,  0.25]],\n",
              "\n",
              "       [[-0.25,  0.5 , -0.5 ,  0.25],\n",
              "        [-0.25,  0.  , -0.5 , -0.25]]])"
            ]
          },
          "metadata": {},
          "execution_count": 30
        }
      ],
      "source": [
        "np.empty((3, 2, 4))"
      ]
    },
    {
      "cell_type": "code",
      "execution_count": 31,
      "metadata": {
        "id": "9a-fxdNnmXnh",
        "colab": {
          "base_uri": "https://localhost:8080/"
        },
        "outputId": "f99e5b6a-07d0-43c8-b1b0-c2ad9bc6f995"
      },
      "outputs": [
        {
          "output_type": "execute_result",
          "data": {
            "text/plain": [
              "array([ 0,  1,  2,  3,  4,  5,  6,  7,  8,  9, 10, 11, 12, 13, 14])"
            ]
          },
          "metadata": {},
          "execution_count": 31
        }
      ],
      "source": [
        "np.arange(15)"
      ]
    },
    {
      "cell_type": "code",
      "source": [
        "arr1 = np.array([1, 2, 3], dtype=np.float64)\n",
        "arr1.dtype"
      ],
      "metadata": {
        "colab": {
          "base_uri": "https://localhost:8080/"
        },
        "id": "7ASgfcwRY_JA",
        "outputId": "9870db6d-6a96-4b4d-89bc-bec3b17aadad"
      },
      "execution_count": 32,
      "outputs": [
        {
          "output_type": "execute_result",
          "data": {
            "text/plain": [
              "dtype('float64')"
            ]
          },
          "metadata": {},
          "execution_count": 32
        }
      ]
    },
    {
      "cell_type": "code",
      "source": [
        "arr1"
      ],
      "metadata": {
        "colab": {
          "base_uri": "https://localhost:8080/"
        },
        "id": "Dvlq_twTZG5S",
        "outputId": "c302a1e6-090d-4c1a-efab-20fa97db2911"
      },
      "execution_count": 33,
      "outputs": [
        {
          "output_type": "execute_result",
          "data": {
            "text/plain": [
              "array([1., 2., 3.])"
            ]
          },
          "metadata": {},
          "execution_count": 33
        }
      ]
    },
    {
      "cell_type": "code",
      "execution_count": 34,
      "metadata": {
        "id": "kkQaijrWmXnh",
        "colab": {
          "base_uri": "https://localhost:8080/"
        },
        "outputId": "c57ff03f-62e1-4d1b-bb10-f854c085875e"
      },
      "outputs": [
        {
          "output_type": "execute_result",
          "data": {
            "text/plain": [
              "dtype('int32')"
            ]
          },
          "metadata": {},
          "execution_count": 34
        }
      ],
      "source": [
        "arr2 = np.array([1, 2, 3], dtype=np.int32)\n",
        "arr2.dtype"
      ]
    },
    {
      "cell_type": "code",
      "source": [
        "arr2"
      ],
      "metadata": {
        "colab": {
          "base_uri": "https://localhost:8080/"
        },
        "id": "Ce2FFdN4ZLms",
        "outputId": "37753f66-4289-419e-ef88-87519c028939"
      },
      "execution_count": 36,
      "outputs": [
        {
          "output_type": "execute_result",
          "data": {
            "text/plain": [
              "array([1, 2, 3], dtype=int32)"
            ]
          },
          "metadata": {},
          "execution_count": 36
        }
      ]
    },
    {
      "cell_type": "markdown",
      "source": [
        "- arr.astype(np.float64)\n",
        "Funkcja astype konwertuje typ danych tablicy. Tutaj konwertujesz arr na typ zmiennoprzecinkowy float64. Nowa tablica zostanie przypisana do zmiennej float_arr."
      ],
      "metadata": {
        "id": "4V0fN9ljaY6A"
      }
    },
    {
      "cell_type": "code",
      "execution_count": 41,
      "metadata": {
        "id": "FM3FlL_HmXnh",
        "colab": {
          "base_uri": "https://localhost:8080/"
        },
        "outputId": "4d7f37d3-2ff7-4812-f1b9-659dfe32c06a"
      },
      "outputs": [
        {
          "output_type": "stream",
          "name": "stdout",
          "text": [
            "[1 2 3 4 5]\n",
            "int64\n",
            "[1. 2. 3. 4. 5.]\n"
          ]
        },
        {
          "output_type": "execute_result",
          "data": {
            "text/plain": [
              "dtype('float64')"
            ]
          },
          "metadata": {},
          "execution_count": 41
        }
      ],
      "source": [
        "arr = np.array([1, 2, 3, 4, 5])\n",
        "print(arr)\n",
        "print(arr.dtype)\n",
        "float_arr = arr.astype(np.float64)\n",
        "print(float_arr)\n",
        "float_arr.dtype"
      ]
    },
    {
      "cell_type": "code",
      "execution_count": 42,
      "metadata": {
        "id": "Q7eM3niwmXni",
        "colab": {
          "base_uri": "https://localhost:8080/"
        },
        "outputId": "2101f322-0bc0-4b48-bf9c-01533cee151c"
      },
      "outputs": [
        {
          "output_type": "stream",
          "name": "stdout",
          "text": [
            "[ 3.7 -1.2 -2.6  0.5 12.9 10.1]\n"
          ]
        },
        {
          "output_type": "execute_result",
          "data": {
            "text/plain": [
              "array([ 3, -1, -2,  0, 12, 10], dtype=int32)"
            ]
          },
          "metadata": {},
          "execution_count": 42
        }
      ],
      "source": [
        "arr = np.array([3.7, -1.2, -2.6, 0.5, 12.9, 10.1])\n",
        "print(arr)\n",
        "arr.astype(np.int32)"
      ]
    },
    {
      "cell_type": "code",
      "execution_count": 45,
      "metadata": {
        "id": "VieZYw8RmXni",
        "colab": {
          "base_uri": "https://localhost:8080/"
        },
        "outputId": "9dcf2a08-8d0a-4887-d879-825f4ee90b0c"
      },
      "outputs": [
        {
          "output_type": "stream",
          "name": "stdout",
          "text": [
            "[b'1.25' b'-9.6' b'42']\n"
          ]
        },
        {
          "output_type": "execute_result",
          "data": {
            "text/plain": [
              "array([ 1.25, -9.6 , 42.  ])"
            ]
          },
          "metadata": {},
          "execution_count": 45
        }
      ],
      "source": [
        "numeric_strings = np.array([\"1.25\", \"-9.6\", \"42\"], dtype=np.string_)\n",
        "print(numeric_strings)\n",
        "numeric_strings.astype(float)"
      ]
    },
    {
      "cell_type": "markdown",
      "source": [
        "- Funkcja astype konwertuje typ danych tablicy int_array na typ danych zgodny z calibers.dtype, czyli float64. Wynik to nowa tablica zawierająca liczby całkowite z int_array, ale jako liczby zmiennoprzecinkowe"
      ],
      "metadata": {
        "id": "A-WWbi2zcgGj"
      }
    },
    {
      "cell_type": "code",
      "execution_count": 47,
      "metadata": {
        "id": "ro5jBqTymXni",
        "colab": {
          "base_uri": "https://localhost:8080/"
        },
        "outputId": "4a1e73a5-5e74-4d5f-8800-d015b248e3cd"
      },
      "outputs": [
        {
          "output_type": "stream",
          "name": "stdout",
          "text": [
            "[0 1 2 3 4 5 6 7 8 9]\n",
            "[0.22  0.27  0.357 0.38  0.44  0.5  ]\n"
          ]
        },
        {
          "output_type": "execute_result",
          "data": {
            "text/plain": [
              "array([0., 1., 2., 3., 4., 5., 6., 7., 8., 9.])"
            ]
          },
          "metadata": {},
          "execution_count": 47
        }
      ],
      "source": [
        "int_array = np.arange(10)\n",
        "print(int_array)\n",
        "\n",
        "calibers = np.array([.22, .270, .357, .380, .44, .50], dtype=np.float64)\n",
        "print(calibers)\n",
        "\n",
        "int_array.astype(calibers.dtype)"
      ]
    },
    {
      "cell_type": "markdown",
      "source": [
        "- `dtype=\"u4\"`: Określa typ danych tablicy jako `uint32`, co oznacza, że każdy element tablicy będzie 32-bitową liczbą całkowitą bez znaku (unsigned). Typ `u4` jest skrótem dla `uint32`."
      ],
      "metadata": {
        "id": "vaJcZ9vq9HGc"
      }
    },
    {
      "cell_type": "code",
      "execution_count": 48,
      "metadata": {
        "id": "aSQX1_F5mXni",
        "colab": {
          "base_uri": "https://localhost:8080/"
        },
        "outputId": "b1ca6ccf-5939-4864-91bc-4c270e2c961f"
      },
      "outputs": [
        {
          "output_type": "execute_result",
          "data": {
            "text/plain": [
              "array([0, 0, 0, 0, 0, 0, 0, 0], dtype=uint32)"
            ]
          },
          "metadata": {},
          "execution_count": 48
        }
      ],
      "source": [
        "zeros_uint32 = np.zeros(8, dtype=\"u4\")\n",
        "zeros_uint32"
      ]
    },
    {
      "cell_type": "code",
      "source": [
        "arr = np.array([[1., 2., 3.], [4., 5., 6.]])\n",
        "arr"
      ],
      "metadata": {
        "colab": {
          "base_uri": "https://localhost:8080/"
        },
        "id": "6tBbBZBS9uBE",
        "outputId": "5653d5b2-4ce9-4bb3-e6a8-2b2555fe780f"
      },
      "execution_count": 49,
      "outputs": [
        {
          "output_type": "execute_result",
          "data": {
            "text/plain": [
              "array([[1., 2., 3.],\n",
              "       [4., 5., 6.]])"
            ]
          },
          "metadata": {},
          "execution_count": 49
        }
      ]
    },
    {
      "cell_type": "code",
      "source": [
        "arr * arr"
      ],
      "metadata": {
        "colab": {
          "base_uri": "https://localhost:8080/"
        },
        "id": "RWuLRyUJ9wiD",
        "outputId": "fa01ceda-13cf-48e0-f73f-bca23f4e7ea9"
      },
      "execution_count": 50,
      "outputs": [
        {
          "output_type": "execute_result",
          "data": {
            "text/plain": [
              "array([[ 1.,  4.,  9.],\n",
              "       [16., 25., 36.]])"
            ]
          },
          "metadata": {},
          "execution_count": 50
        }
      ]
    },
    {
      "cell_type": "code",
      "execution_count": 51,
      "metadata": {
        "id": "s4xix_o1mXni",
        "colab": {
          "base_uri": "https://localhost:8080/"
        },
        "outputId": "210515c8-9bbc-434c-d3c0-55c614dbcd60"
      },
      "outputs": [
        {
          "output_type": "execute_result",
          "data": {
            "text/plain": [
              "array([[0., 0., 0.],\n",
              "       [0., 0., 0.]])"
            ]
          },
          "metadata": {},
          "execution_count": 51
        }
      ],
      "source": [
        "arr - arr"
      ]
    },
    {
      "cell_type": "code",
      "source": [
        "1 / arr"
      ],
      "metadata": {
        "colab": {
          "base_uri": "https://localhost:8080/"
        },
        "id": "9LbY8J6w-X1u",
        "outputId": "7dc7b688-abfb-4558-e940-a291849bdc84"
      },
      "execution_count": 52,
      "outputs": [
        {
          "output_type": "execute_result",
          "data": {
            "text/plain": [
              "array([[1.    , 0.5   , 0.3333],\n",
              "       [0.25  , 0.2   , 0.1667]])"
            ]
          },
          "metadata": {},
          "execution_count": 52
        }
      ]
    },
    {
      "cell_type": "code",
      "execution_count": 53,
      "metadata": {
        "id": "GzphCthFmXni",
        "colab": {
          "base_uri": "https://localhost:8080/"
        },
        "outputId": "4fa71b0e-9749-4565-a324-84398a7c2c08"
      },
      "outputs": [
        {
          "output_type": "execute_result",
          "data": {
            "text/plain": [
              "array([[ 1.,  4.,  9.],\n",
              "       [16., 25., 36.]])"
            ]
          },
          "metadata": {},
          "execution_count": 53
        }
      ],
      "source": [
        "arr ** 2"
      ]
    },
    {
      "cell_type": "code",
      "execution_count": 54,
      "metadata": {
        "id": "bbLc5KlKmXni",
        "colab": {
          "base_uri": "https://localhost:8080/"
        },
        "outputId": "747674f8-3f16-42d2-82b7-dbe4fdfa1f43"
      },
      "outputs": [
        {
          "output_type": "execute_result",
          "data": {
            "text/plain": [
              "array([[False,  True, False],\n",
              "       [ True, False,  True]])"
            ]
          },
          "metadata": {},
          "execution_count": 54
        }
      ],
      "source": [
        "arr2 = np.array([[0., 4., 1.], [7., 2., 12.]])\n",
        "arr2\n",
        "arr2 > arr"
      ]
    },
    {
      "cell_type": "code",
      "source": [
        "arr = np.arange(10)\n",
        "arr"
      ],
      "metadata": {
        "colab": {
          "base_uri": "https://localhost:8080/"
        },
        "id": "loyWjSq2_PZ7",
        "outputId": "59d68dbe-2ab0-4e49-89b5-e854636434e8"
      },
      "execution_count": 55,
      "outputs": [
        {
          "output_type": "execute_result",
          "data": {
            "text/plain": [
              "array([0, 1, 2, 3, 4, 5, 6, 7, 8, 9])"
            ]
          },
          "metadata": {},
          "execution_count": 55
        }
      ]
    },
    {
      "cell_type": "code",
      "source": [
        "arr[5]"
      ],
      "metadata": {
        "colab": {
          "base_uri": "https://localhost:8080/"
        },
        "id": "2PvpH4ys_R2w",
        "outputId": "13c06ae7-9f44-4d7f-da38-86d41b4d7bb9"
      },
      "execution_count": 56,
      "outputs": [
        {
          "output_type": "execute_result",
          "data": {
            "text/plain": [
              "5"
            ]
          },
          "metadata": {},
          "execution_count": 56
        }
      ]
    },
    {
      "cell_type": "code",
      "source": [
        "arr[5:8]"
      ],
      "metadata": {
        "colab": {
          "base_uri": "https://localhost:8080/"
        },
        "id": "yYq7Ji7L_V1d",
        "outputId": "304aa27c-c35e-4ba3-c399-4ef3179a7f02"
      },
      "execution_count": 57,
      "outputs": [
        {
          "output_type": "execute_result",
          "data": {
            "text/plain": [
              "array([5, 6, 7])"
            ]
          },
          "metadata": {},
          "execution_count": 57
        }
      ]
    },
    {
      "cell_type": "code",
      "source": [
        "arr[5:8] = 12\n",
        "arr"
      ],
      "metadata": {
        "colab": {
          "base_uri": "https://localhost:8080/"
        },
        "id": "yH1FJ_gJ_ZzX",
        "outputId": "2f061774-2baf-47c4-ba9f-29eadd9d9411"
      },
      "execution_count": 59,
      "outputs": [
        {
          "output_type": "execute_result",
          "data": {
            "text/plain": [
              "array([ 0,  1,  2,  3,  4, 12, 12, 12,  8,  9])"
            ]
          },
          "metadata": {},
          "execution_count": 59
        }
      ]
    },
    {
      "cell_type": "code",
      "execution_count": 60,
      "metadata": {
        "id": "r6nGme1vmXni",
        "colab": {
          "base_uri": "https://localhost:8080/"
        },
        "outputId": "f96813b3-0305-4454-ddcc-f09d276d4df5"
      },
      "outputs": [
        {
          "output_type": "execute_result",
          "data": {
            "text/plain": [
              "array([12, 12, 12])"
            ]
          },
          "metadata": {},
          "execution_count": 60
        }
      ],
      "source": [
        "arr_slice = arr[5:8]\n",
        "arr_slice"
      ]
    },
    {
      "cell_type": "code",
      "execution_count": 61,
      "metadata": {
        "id": "8EDwjBHHmXni",
        "colab": {
          "base_uri": "https://localhost:8080/"
        },
        "outputId": "73d31199-4a43-444a-a5e8-accda012a85f"
      },
      "outputs": [
        {
          "output_type": "execute_result",
          "data": {
            "text/plain": [
              "array([    0,     1,     2,     3,     4,    12, 12345,    12,     8,\n",
              "           9])"
            ]
          },
          "metadata": {},
          "execution_count": 61
        }
      ],
      "source": [
        "arr_slice[1] = 12345\n",
        "arr"
      ]
    },
    {
      "cell_type": "code",
      "source": [
        "arr_slice"
      ],
      "metadata": {
        "colab": {
          "base_uri": "https://localhost:8080/"
        },
        "id": "_Z6mNjbz_4S6",
        "outputId": "0aeb81e4-5ff9-4948-fd5e-9e451f192a39"
      },
      "execution_count": 62,
      "outputs": [
        {
          "output_type": "execute_result",
          "data": {
            "text/plain": [
              "array([   12, 12345,    12])"
            ]
          },
          "metadata": {},
          "execution_count": 62
        }
      ]
    },
    {
      "cell_type": "code",
      "execution_count": 63,
      "metadata": {
        "id": "m7plyH1gmXni",
        "colab": {
          "base_uri": "https://localhost:8080/"
        },
        "outputId": "ac89b156-2a99-44ce-eb56-b7004744b397"
      },
      "outputs": [
        {
          "output_type": "execute_result",
          "data": {
            "text/plain": [
              "array([ 0,  1,  2,  3,  4, 64, 64, 64,  8,  9])"
            ]
          },
          "metadata": {},
          "execution_count": 63
        }
      ],
      "source": [
        "arr_slice[:] = 64\n",
        "arr"
      ]
    },
    {
      "cell_type": "code",
      "execution_count": 64,
      "metadata": {
        "id": "WPCwPAVtmXni",
        "colab": {
          "base_uri": "https://localhost:8080/"
        },
        "outputId": "6b39fb7c-5b06-42b6-830d-0012b879a0d4"
      },
      "outputs": [
        {
          "output_type": "execute_result",
          "data": {
            "text/plain": [
              "array([7, 8, 9])"
            ]
          },
          "metadata": {},
          "execution_count": 64
        }
      ],
      "source": [
        "arr2d = np.array([[1, 2, 3], [4, 5, 6], [7, 8, 9]])\n",
        "arr2d[2]"
      ]
    },
    {
      "cell_type": "code",
      "source": [
        "arr2d[0][2]"
      ],
      "metadata": {
        "colab": {
          "base_uri": "https://localhost:8080/"
        },
        "id": "DSaviGxKALuE",
        "outputId": "d3a49ae8-d914-4008-a3bd-106ebc77cad2"
      },
      "execution_count": 65,
      "outputs": [
        {
          "output_type": "execute_result",
          "data": {
            "text/plain": [
              "3"
            ]
          },
          "metadata": {},
          "execution_count": 65
        }
      ]
    },
    {
      "cell_type": "code",
      "execution_count": 66,
      "metadata": {
        "id": "pbRVUk3nmXni",
        "colab": {
          "base_uri": "https://localhost:8080/"
        },
        "outputId": "522f22e3-77b0-41a7-c2c8-cb2e0c42db8d"
      },
      "outputs": [
        {
          "output_type": "execute_result",
          "data": {
            "text/plain": [
              "3"
            ]
          },
          "metadata": {},
          "execution_count": 66
        }
      ],
      "source": [
        "arr2d[0, 2]"
      ]
    },
    {
      "cell_type": "code",
      "execution_count": 67,
      "metadata": {
        "id": "LAPHMtZsmXni",
        "colab": {
          "base_uri": "https://localhost:8080/"
        },
        "outputId": "679cd17f-eea6-4a98-f446-13e4fc3f6a63"
      },
      "outputs": [
        {
          "output_type": "execute_result",
          "data": {
            "text/plain": [
              "array([[[ 1,  2,  3],\n",
              "        [ 4,  5,  6]],\n",
              "\n",
              "       [[ 7,  8,  9],\n",
              "        [10, 11, 12]]])"
            ]
          },
          "metadata": {},
          "execution_count": 67
        }
      ],
      "source": [
        "arr3d = np.array([[[1, 2, 3], [4, 5, 6]], [[7, 8, 9], [10, 11, 12]]])\n",
        "arr3d"
      ]
    },
    {
      "cell_type": "code",
      "execution_count": 68,
      "metadata": {
        "id": "OMyDAG8YmXni",
        "colab": {
          "base_uri": "https://localhost:8080/"
        },
        "outputId": "b393a45f-dbf6-4569-8e43-b0c5d52b2153"
      },
      "outputs": [
        {
          "output_type": "execute_result",
          "data": {
            "text/plain": [
              "array([[1, 2, 3],\n",
              "       [4, 5, 6]])"
            ]
          },
          "metadata": {},
          "execution_count": 68
        }
      ],
      "source": [
        "arr3d[0]"
      ]
    },
    {
      "cell_type": "code",
      "source": [
        "old_values = arr3d[0].copy()\n",
        "arr3d[0] = 42\n",
        "arr3d"
      ],
      "metadata": {
        "colab": {
          "base_uri": "https://localhost:8080/"
        },
        "id": "yTbLV1CcKO3C",
        "outputId": "3bdf1e6f-3b2c-4503-dc4f-45d7aa30e526"
      },
      "execution_count": 69,
      "outputs": [
        {
          "output_type": "execute_result",
          "data": {
            "text/plain": [
              "array([[[42, 42, 42],\n",
              "        [42, 42, 42]],\n",
              "\n",
              "       [[ 7,  8,  9],\n",
              "        [10, 11, 12]]])"
            ]
          },
          "metadata": {},
          "execution_count": 69
        }
      ]
    },
    {
      "cell_type": "code",
      "execution_count": 70,
      "metadata": {
        "id": "JTYlMWg7mXnj",
        "colab": {
          "base_uri": "https://localhost:8080/"
        },
        "outputId": "a9e031c0-644e-4529-f1bd-f55327158a80"
      },
      "outputs": [
        {
          "output_type": "execute_result",
          "data": {
            "text/plain": [
              "array([[[ 1,  2,  3],\n",
              "        [ 4,  5,  6]],\n",
              "\n",
              "       [[ 7,  8,  9],\n",
              "        [10, 11, 12]]])"
            ]
          },
          "metadata": {},
          "execution_count": 70
        }
      ],
      "source": [
        "arr3d[0] = old_values\n",
        "arr3d"
      ]
    },
    {
      "cell_type": "code",
      "execution_count": 71,
      "metadata": {
        "id": "SBAESeCZmXnj",
        "colab": {
          "base_uri": "https://localhost:8080/"
        },
        "outputId": "8130496a-f0e5-4515-f279-a46096b04e60"
      },
      "outputs": [
        {
          "output_type": "execute_result",
          "data": {
            "text/plain": [
              "array([7, 8, 9])"
            ]
          },
          "metadata": {},
          "execution_count": 71
        }
      ],
      "source": [
        "arr3d[1, 0]"
      ]
    },
    {
      "cell_type": "code",
      "source": [
        "x = arr3d[1]\n",
        "x"
      ],
      "metadata": {
        "colab": {
          "base_uri": "https://localhost:8080/"
        },
        "id": "V1UySpjtLWSe",
        "outputId": "c3f3bc13-c278-4a19-dbe3-c069c3c4131e"
      },
      "execution_count": 72,
      "outputs": [
        {
          "output_type": "execute_result",
          "data": {
            "text/plain": [
              "array([[ 7,  8,  9],\n",
              "       [10, 11, 12]])"
            ]
          },
          "metadata": {},
          "execution_count": 72
        }
      ]
    },
    {
      "cell_type": "code",
      "execution_count": 73,
      "metadata": {
        "id": "rToOgGRbmXnj",
        "colab": {
          "base_uri": "https://localhost:8080/"
        },
        "outputId": "302064cd-6f4b-4881-fa97-bf4d43ae373f"
      },
      "outputs": [
        {
          "output_type": "execute_result",
          "data": {
            "text/plain": [
              "array([7, 8, 9])"
            ]
          },
          "metadata": {},
          "execution_count": 73
        }
      ],
      "source": [
        "x[0]"
      ]
    },
    {
      "cell_type": "code",
      "source": [
        "arr"
      ],
      "metadata": {
        "colab": {
          "base_uri": "https://localhost:8080/"
        },
        "id": "w8ddTFxCLewN",
        "outputId": "3657d060-a5f3-4493-8658-609c73ff624e"
      },
      "execution_count": 74,
      "outputs": [
        {
          "output_type": "execute_result",
          "data": {
            "text/plain": [
              "array([ 0,  1,  2,  3,  4, 64, 64, 64,  8,  9])"
            ]
          },
          "metadata": {},
          "execution_count": 74
        }
      ]
    },
    {
      "cell_type": "code",
      "execution_count": 75,
      "metadata": {
        "id": "dJF5Gj5vmXnj",
        "colab": {
          "base_uri": "https://localhost:8080/"
        },
        "outputId": "80efd6af-5e3e-41a0-9915-377c2ee98486"
      },
      "outputs": [
        {
          "output_type": "execute_result",
          "data": {
            "text/plain": [
              "array([ 1,  2,  3,  4, 64])"
            ]
          },
          "metadata": {},
          "execution_count": 75
        }
      ],
      "source": [
        "arr[1:6]"
      ]
    },
    {
      "cell_type": "code",
      "source": [
        "arr2d"
      ],
      "metadata": {
        "colab": {
          "base_uri": "https://localhost:8080/"
        },
        "id": "kdSbQlprLqqk",
        "outputId": "cd3892b2-9a56-4561-b3c6-ccf85d2bb5f4"
      },
      "execution_count": 77,
      "outputs": [
        {
          "output_type": "execute_result",
          "data": {
            "text/plain": [
              "array([[1, 2, 3],\n",
              "       [4, 5, 6],\n",
              "       [7, 8, 9]])"
            ]
          },
          "metadata": {},
          "execution_count": 77
        }
      ]
    },
    {
      "cell_type": "code",
      "execution_count": 78,
      "metadata": {
        "id": "dxoLCDyomXnj",
        "colab": {
          "base_uri": "https://localhost:8080/"
        },
        "outputId": "09016a91-5526-46e3-ee8c-c7bd5d6fdf8a"
      },
      "outputs": [
        {
          "output_type": "execute_result",
          "data": {
            "text/plain": [
              "array([[1, 2, 3],\n",
              "       [4, 5, 6]])"
            ]
          },
          "metadata": {},
          "execution_count": 78
        }
      ],
      "source": [
        "arr2d[:2]"
      ]
    },
    {
      "cell_type": "code",
      "execution_count": 79,
      "metadata": {
        "id": "aCWg_6fKmXnj",
        "colab": {
          "base_uri": "https://localhost:8080/"
        },
        "outputId": "63022872-2a4a-4e9f-e5f4-b623d6d6f0aa"
      },
      "outputs": [
        {
          "output_type": "execute_result",
          "data": {
            "text/plain": [
              "array([[2, 3],\n",
              "       [5, 6]])"
            ]
          },
          "metadata": {},
          "execution_count": 79
        }
      ],
      "source": [
        "arr2d[:2, 1:]"
      ]
    },
    {
      "cell_type": "code",
      "execution_count": 80,
      "metadata": {
        "id": "s_E7nP0PmXnj"
      },
      "outputs": [],
      "source": [
        "lower_dim_slice = arr2d[1, :2]"
      ]
    },
    {
      "cell_type": "code",
      "execution_count": 81,
      "metadata": {
        "id": "Vmy0IvAgmXnj",
        "colab": {
          "base_uri": "https://localhost:8080/"
        },
        "outputId": "052a9eae-79f2-4493-a8db-4e81018930aa"
      },
      "outputs": [
        {
          "output_type": "execute_result",
          "data": {
            "text/plain": [
              "(2,)"
            ]
          },
          "metadata": {},
          "execution_count": 81
        }
      ],
      "source": [
        "lower_dim_slice.shape"
      ]
    },
    {
      "cell_type": "code",
      "execution_count": 82,
      "metadata": {
        "id": "TNqb-wJjmXnj",
        "colab": {
          "base_uri": "https://localhost:8080/"
        },
        "outputId": "19658d9a-8be1-4541-98f3-f3eb3472d677"
      },
      "outputs": [
        {
          "output_type": "execute_result",
          "data": {
            "text/plain": [
              "array([3, 6])"
            ]
          },
          "metadata": {},
          "execution_count": 82
        }
      ],
      "source": [
        "arr2d[:2, 2]"
      ]
    },
    {
      "cell_type": "code",
      "execution_count": 83,
      "metadata": {
        "id": "GUXMWtDWmXnj",
        "colab": {
          "base_uri": "https://localhost:8080/"
        },
        "outputId": "82e5d181-ac61-4bc8-a613-5a7bd82cab10"
      },
      "outputs": [
        {
          "output_type": "execute_result",
          "data": {
            "text/plain": [
              "array([[1],\n",
              "       [4],\n",
              "       [7]])"
            ]
          },
          "metadata": {},
          "execution_count": 83
        }
      ],
      "source": [
        "arr2d[:, :1]"
      ]
    },
    {
      "cell_type": "code",
      "execution_count": 84,
      "metadata": {
        "id": "bLREQ6aQmXnn",
        "colab": {
          "base_uri": "https://localhost:8080/"
        },
        "outputId": "a3c9a0be-3b2b-4440-b2e0-037e471bd4ba"
      },
      "outputs": [
        {
          "output_type": "execute_result",
          "data": {
            "text/plain": [
              "array([[1, 0, 0],\n",
              "       [4, 0, 0],\n",
              "       [7, 8, 9]])"
            ]
          },
          "metadata": {},
          "execution_count": 84
        }
      ],
      "source": [
        "arr2d[:2, 1:] = 0\n",
        "arr2d"
      ]
    },
    {
      "cell_type": "code",
      "execution_count": 3,
      "metadata": {
        "id": "-d_qvHdDmXnn",
        "colab": {
          "base_uri": "https://localhost:8080/"
        },
        "outputId": "d684145e-0317-4e75-fd27-80dc55811238"
      },
      "outputs": [
        {
          "output_type": "stream",
          "name": "stdout",
          "text": [
            "['Bob' 'Joe' 'Will' 'Bob' 'Will' 'Joe' 'Joe']\n",
            "[[  4   7]\n",
            " [  0   2]\n",
            " [ -5   6]\n",
            " [  0   0]\n",
            " [  1   2]\n",
            " [-12  -4]\n",
            " [  3   4]]\n"
          ]
        }
      ],
      "source": [
        "names = np.array([\"Bob\", \"Joe\", \"Will\", \"Bob\", \"Will\", \"Joe\", \"Joe\"])\n",
        "data = np.array([[4, 7], [0, 2], [-5, 6], [0, 0], [1, 2],\n",
        "                 [-12, -4], [3, 4]])\n",
        "print(names)\n",
        "print(data)"
      ]
    },
    {
      "cell_type": "code",
      "execution_count": 4,
      "metadata": {
        "id": "d0CmtkfVmXno",
        "colab": {
          "base_uri": "https://localhost:8080/"
        },
        "outputId": "d87531f8-6748-48b2-a4f9-9122dea2663d"
      },
      "outputs": [
        {
          "output_type": "execute_result",
          "data": {
            "text/plain": [
              "array([ True, False, False,  True, False, False, False])"
            ]
          },
          "metadata": {},
          "execution_count": 4
        }
      ],
      "source": [
        "names == \"Bob\""
      ]
    },
    {
      "cell_type": "code",
      "execution_count": 5,
      "metadata": {
        "id": "2KeT7jsOmXno",
        "colab": {
          "base_uri": "https://localhost:8080/"
        },
        "outputId": "d96cce56-2e8e-4bfe-9cfe-94200092669e"
      },
      "outputs": [
        {
          "output_type": "execute_result",
          "data": {
            "text/plain": [
              "array([[4, 7],\n",
              "       [0, 0]])"
            ]
          },
          "metadata": {},
          "execution_count": 5
        }
      ],
      "source": [
        "data[names == \"Bob\"]"
      ]
    },
    {
      "cell_type": "code",
      "execution_count": 6,
      "metadata": {
        "id": "-2SGsx7MmXno",
        "colab": {
          "base_uri": "https://localhost:8080/"
        },
        "outputId": "8eac8787-b210-4de2-9773-883268089f5f"
      },
      "outputs": [
        {
          "output_type": "execute_result",
          "data": {
            "text/plain": [
              "array([7, 0])"
            ]
          },
          "metadata": {},
          "execution_count": 6
        }
      ],
      "source": [
        "data[names == \"Bob\", 1:]\n",
        "data[names == \"Bob\", 1]"
      ]
    },
    {
      "cell_type": "code",
      "source": [
        "names"
      ],
      "metadata": {
        "colab": {
          "base_uri": "https://localhost:8080/"
        },
        "id": "2V0E35o48eK1",
        "outputId": "5155942a-ef9e-42ff-a308-24028cbeaf8a"
      },
      "execution_count": 7,
      "outputs": [
        {
          "output_type": "execute_result",
          "data": {
            "text/plain": [
              "array(['Bob', 'Joe', 'Will', 'Bob', 'Will', 'Joe', 'Joe'], dtype='<U4')"
            ]
          },
          "metadata": {},
          "execution_count": 7
        }
      ]
    },
    {
      "cell_type": "code",
      "source": [
        "names != \"Bob\""
      ],
      "metadata": {
        "colab": {
          "base_uri": "https://localhost:8080/"
        },
        "id": "DZek7gND8fmI",
        "outputId": "6cdabac0-7f21-47a2-d69c-0eaa566d2733"
      },
      "execution_count": 8,
      "outputs": [
        {
          "output_type": "execute_result",
          "data": {
            "text/plain": [
              "array([False,  True,  True, False,  True,  True,  True])"
            ]
          },
          "metadata": {},
          "execution_count": 8
        }
      ]
    },
    {
      "cell_type": "code",
      "source": [
        "~(names == \"Bob\")"
      ],
      "metadata": {
        "colab": {
          "base_uri": "https://localhost:8080/"
        },
        "id": "v6W4XrgO8jbT",
        "outputId": "83708e0a-a73b-403f-bf0f-826602d9b040"
      },
      "execution_count": 9,
      "outputs": [
        {
          "output_type": "execute_result",
          "data": {
            "text/plain": [
              "array([False,  True,  True, False,  True,  True,  True])"
            ]
          },
          "metadata": {},
          "execution_count": 9
        }
      ]
    },
    {
      "cell_type": "code",
      "execution_count": 10,
      "metadata": {
        "id": "gyG_CGPumXno",
        "colab": {
          "base_uri": "https://localhost:8080/"
        },
        "outputId": "4ef88d6e-de58-4f29-e42a-4b57f2c303c6"
      },
      "outputs": [
        {
          "output_type": "execute_result",
          "data": {
            "text/plain": [
              "array([[  0,   2],\n",
              "       [ -5,   6],\n",
              "       [  1,   2],\n",
              "       [-12,  -4],\n",
              "       [  3,   4]])"
            ]
          },
          "metadata": {},
          "execution_count": 10
        }
      ],
      "source": [
        "data[~(names == \"Bob\")]"
      ]
    },
    {
      "cell_type": "code",
      "execution_count": 11,
      "metadata": {
        "id": "-pydUGFDmXno",
        "colab": {
          "base_uri": "https://localhost:8080/"
        },
        "outputId": "7aab0765-6821-41a7-e730-72c5a7f09acd"
      },
      "outputs": [
        {
          "output_type": "execute_result",
          "data": {
            "text/plain": [
              "array([[  0,   2],\n",
              "       [ -5,   6],\n",
              "       [  1,   2],\n",
              "       [-12,  -4],\n",
              "       [  3,   4]])"
            ]
          },
          "metadata": {},
          "execution_count": 11
        }
      ],
      "source": [
        "cond = names == \"Bob\"\n",
        "data[~cond]"
      ]
    },
    {
      "cell_type": "code",
      "execution_count": 12,
      "metadata": {
        "id": "K9IB5WnLmXno",
        "colab": {
          "base_uri": "https://localhost:8080/"
        },
        "outputId": "fb952861-2070-479e-a685-e1f09333c8bf"
      },
      "outputs": [
        {
          "output_type": "execute_result",
          "data": {
            "text/plain": [
              "array([[ 4,  7],\n",
              "       [-5,  6],\n",
              "       [ 0,  0],\n",
              "       [ 1,  2]])"
            ]
          },
          "metadata": {},
          "execution_count": 12
        }
      ],
      "source": [
        "mask = (names == \"Bob\") | (names == \"Will\")\n",
        "mask\n",
        "data[mask]"
      ]
    },
    {
      "cell_type": "code",
      "execution_count": null,
      "metadata": {
        "id": "AxrMFR4imXno"
      },
      "outputs": [],
      "source": [
        "data[data < 0] = 0\n",
        "data"
      ]
    },
    {
      "cell_type": "code",
      "execution_count": null,
      "metadata": {
        "id": "hV_D7ZfpmXno"
      },
      "outputs": [],
      "source": [
        "#! ipython id=25b0df346bec45bcb99bfd2cfcf837d1\n",
        "data[names != \"Joe\"] = 7\n",
        "data"
      ]
    },
    {
      "cell_type": "code",
      "execution_count": null,
      "metadata": {
        "id": "gXug6pSCmXno"
      },
      "outputs": [],
      "source": [
        "#! ipython id=ab1d36f594744a4d80d4f588bf2a8730\n",
        "arr = np.zeros((8, 4))\n",
        "for i in range(8):\n",
        "    arr[i] = i\n",
        "arr"
      ]
    },
    {
      "cell_type": "code",
      "execution_count": null,
      "metadata": {
        "id": "7T1_cOTxmXno"
      },
      "outputs": [],
      "source": [
        "#! ipython id=3446842767e74bf08df8ece4191e228a\n",
        "arr[[4, 3, 0, 6]]"
      ]
    },
    {
      "cell_type": "code",
      "execution_count": null,
      "metadata": {
        "id": "w4RRyKA0mXno"
      },
      "outputs": [],
      "source": [
        "#! ipython id=ef21cf603d014a8890d5f84870a2c87c\n",
        "arr[[-3, -5, -7]]"
      ]
    },
    {
      "cell_type": "code",
      "execution_count": null,
      "metadata": {
        "id": "3t3RMKu-mXno"
      },
      "outputs": [],
      "source": [
        "#! ipython id=068a901c2cae41a79fad9ced9f8ddef7\n",
        "arr = np.arange(32).reshape((8, 4))\n",
        "arr\n",
        "arr[[1, 5, 7, 2], [0, 3, 1, 2]]"
      ]
    },
    {
      "cell_type": "code",
      "execution_count": null,
      "metadata": {
        "id": "GS-gmeyTmXno"
      },
      "outputs": [],
      "source": [
        "#! ipython id=451615d4351f459fb8bf29552a0a4ec2\n",
        "arr[[1, 5, 7, 2]][:, [0, 3, 1, 2]]"
      ]
    },
    {
      "cell_type": "code",
      "execution_count": null,
      "metadata": {
        "id": "4mjmndVlmXno"
      },
      "outputs": [],
      "source": [
        "#! ipython id=6e158e85f5124d059a6e4d778332f650\n",
        "arr[[1, 5, 7, 2], [0, 3, 1, 2]]\n",
        "arr[[1, 5, 7, 2], [0, 3, 1, 2]] = 0\n",
        "arr"
      ]
    },
    {
      "cell_type": "code",
      "execution_count": null,
      "metadata": {
        "id": "dIEmNzH-mXno"
      },
      "outputs": [],
      "source": [
        "#! ipython id=ecf5f6b6a0e04778830c298839b80030\n",
        "arr = np.arange(15).reshape((3, 5))\n",
        "arr\n",
        "arr.T"
      ]
    },
    {
      "cell_type": "code",
      "execution_count": null,
      "metadata": {
        "id": "mIy0uewXmXno"
      },
      "outputs": [],
      "source": [
        "#! ipython id=feeb9a3a39814003849455556ac06226\n",
        "arr = np.array([[0, 1, 0], [1, 2, -2], [6, 3, 2], [-1, 0, -1], [1, 0, 1]])\n",
        "arr\n",
        "np.dot(arr.T, arr)"
      ]
    },
    {
      "cell_type": "code",
      "execution_count": null,
      "metadata": {
        "id": "qztWq8cAmXno"
      },
      "outputs": [],
      "source": [
        "#! ipython id=FD4EF8FA96A844A9843F1AD3757FE1A9\n",
        "arr.T @ arr"
      ]
    },
    {
      "cell_type": "code",
      "execution_count": null,
      "metadata": {
        "id": "NaJbcdbdmXnp"
      },
      "outputs": [],
      "source": [
        "#! ipython id=6deb5a9b3df94092a22d96307ab7d954\n",
        "arr\n",
        "arr.swapaxes(0, 1)"
      ]
    },
    {
      "cell_type": "code",
      "execution_count": null,
      "metadata": {
        "id": "Ewu28l6QmXnp"
      },
      "outputs": [],
      "source": [
        "#! ipython id=46098a5c730449d98a74ac297f64abbc\n",
        "samples = np.random.standard_normal(size=(4, 4))\n",
        "samples"
      ]
    },
    {
      "cell_type": "code",
      "execution_count": null,
      "metadata": {
        "id": "dVIo3wszmXnp"
      },
      "outputs": [],
      "source": [
        "#! ipython id=13e708f90e034b5ead6b0350698c3a18\n",
        "from random import normalvariate\n",
        "N = 1_000_000\n",
        "%timeit samples = [normalvariate(0, 1) for _ in range(N)]\n",
        "%timeit np.random.standard_normal(N)"
      ]
    },
    {
      "cell_type": "code",
      "execution_count": null,
      "metadata": {
        "id": "1RKgjKCdmXnp"
      },
      "outputs": [],
      "source": [
        "#! ipython id=bf957faf233f444796e4334e130b5717\n",
        "rng = np.random.default_rng(seed=12345)\n",
        "data = rng.standard_normal((2, 3))"
      ]
    },
    {
      "cell_type": "code",
      "execution_count": null,
      "metadata": {
        "id": "7zEE7UEYmXnp"
      },
      "outputs": [],
      "source": [
        "#! ipython id=c78d186866fe4cd5a533b5286e29a676\n",
        "type(rng)"
      ]
    },
    {
      "cell_type": "code",
      "execution_count": null,
      "metadata": {
        "id": "EncUMozbmXnp"
      },
      "outputs": [],
      "source": [
        "#! ipython id=a0283c014e304d979bdd777a383f0246\n",
        "arr = np.arange(10)\n",
        "arr\n",
        "np.sqrt(arr)\n",
        "np.exp(arr)"
      ]
    },
    {
      "cell_type": "code",
      "execution_count": null,
      "metadata": {
        "id": "5YaRkIltmXnp"
      },
      "outputs": [],
      "source": [
        "#! ipython id=92e3208042994937bab1a86b422f35d1\n",
        "x = rng.standard_normal(8)\n",
        "y = rng.standard_normal(8)\n",
        "x\n",
        "y\n",
        "np.maximum(x, y)"
      ]
    },
    {
      "cell_type": "code",
      "execution_count": null,
      "metadata": {
        "id": "KX-Ff1jEmXnp"
      },
      "outputs": [],
      "source": [
        "#! ipython id=7fd2522a5f084f76a7460a0c52aacab3\n",
        "arr = rng.standard_normal(7) * 5\n",
        "arr\n",
        "remainder, whole_part = np.modf(arr)\n",
        "remainder\n",
        "whole_part"
      ]
    },
    {
      "cell_type": "code",
      "execution_count": null,
      "metadata": {
        "id": "ywiSvD9ImXnp"
      },
      "outputs": [],
      "source": [
        "#! ipython id=f048d6c61245412cb96ab1b57c13059a\n",
        "arr\n",
        "out = np.zeros_like(arr)\n",
        "np.add(arr, 1)\n",
        "np.add(arr, 1, out=out)\n",
        "out"
      ]
    },
    {
      "cell_type": "code",
      "execution_count": null,
      "metadata": {
        "id": "agEQwLLQmXnp"
      },
      "outputs": [],
      "source": [
        "#! ipython id=02493b7ab002498bb1cb83b74f7d7ac3\n",
        "points = np.arange(-5, 5, 0.01) # 100 equally spaced points\n",
        "xs, ys = np.meshgrid(points, points)\n",
        "ys"
      ]
    },
    {
      "cell_type": "code",
      "execution_count": null,
      "metadata": {
        "id": "USFoBnpLmXnp"
      },
      "outputs": [],
      "source": [
        "#! ipython id=b4da7227c86d45af9d2e317194d8f139\n",
        "z = np.sqrt(xs ** 2 + ys ** 2)\n",
        "z"
      ]
    },
    {
      "cell_type": "code",
      "execution_count": null,
      "metadata": {
        "id": "r-4BZ1BJmXnp"
      },
      "outputs": [],
      "source": [
        "#! ipython id=3147d7f7f73f4007999abb7fa0a86e4c\n",
        "import matplotlib.pyplot as plt\n",
        "plt.imshow(z, cmap=plt.cm.gray, extent=[-5, 5, -5, 5])\n",
        "plt.colorbar()\n",
        "plt.title(\"Wykres funkcji $\\sqrt{x^2 + y^2}$ dla określonych wartości x i y\")"
      ]
    },
    {
      "cell_type": "code",
      "execution_count": null,
      "metadata": {
        "id": "MkE5WgzQmXnp"
      },
      "outputs": [],
      "source": [
        "#! ipython suppress id=74a786384bdb4ce6b12d36550d2692b5\n",
        "#! figure,id=numpy_vectorize_circle,title=\"Wykres funkcji w układzie współrzędnych\",width=3in\n",
        "plt.draw()"
      ]
    },
    {
      "cell_type": "code",
      "execution_count": null,
      "metadata": {
        "id": "xRYvR0eZmXnp"
      },
      "outputs": [],
      "source": [
        "#! ipython id=7600fde54ed649749f998eafcca31012\n",
        "plt.close(\"all\")"
      ]
    },
    {
      "cell_type": "code",
      "execution_count": null,
      "metadata": {
        "id": "pH5Bqk-lmXnp"
      },
      "outputs": [],
      "source": [
        "#! ipython id=e7dd323ea42b4065830c1a6884ddd39b\n",
        "xarr = np.array([1.1, 1.2, 1.3, 1.4, 1.5])\n",
        "yarr = np.array([2.1, 2.2, 2.3, 2.4, 2.5])\n",
        "cond = np.array([True, False, True, True, False])"
      ]
    },
    {
      "cell_type": "code",
      "execution_count": null,
      "metadata": {
        "id": "jvpFLjGNmXnq"
      },
      "outputs": [],
      "source": [
        "#! ipython id=650e5042836c4cc08137e097a40c157d\n",
        "result = [(x if c else y)\n",
        "          for x, y, c in zip(xarr, yarr, cond)]\n",
        "result"
      ]
    },
    {
      "cell_type": "code",
      "execution_count": null,
      "metadata": {
        "id": "iGDxdoiymXnq"
      },
      "outputs": [],
      "source": [
        "#! ipython id=3ca8ca53322f413e8f9314c9856457ee\n",
        "result = np.where(cond, xarr, yarr)\n",
        "result"
      ]
    },
    {
      "cell_type": "code",
      "execution_count": null,
      "metadata": {
        "id": "ojRfTb9gmXnq"
      },
      "outputs": [],
      "source": [
        "#! ipython id=742abaae66da4816a73b6e7219cb05b7\n",
        "arr = rng.standard_normal((4, 4))\n",
        "arr\n",
        "arr > 0\n",
        "np.where(arr > 0, 2, -2)"
      ]
    },
    {
      "cell_type": "code",
      "execution_count": null,
      "metadata": {
        "id": "tATy5-RwmXnq"
      },
      "outputs": [],
      "source": [
        "#! ipython id=24cc9834de534d7fa61d6c2646431e7a\n",
        "np.where(arr > 0, 2, arr) # set only positive values to 2"
      ]
    },
    {
      "cell_type": "code",
      "execution_count": null,
      "metadata": {
        "id": "6_ccJ7dTmXnq"
      },
      "outputs": [],
      "source": [
        "#! ipython id=3fdd850d25954e35bef515ab9c317c6e\n",
        "arr = rng.standard_normal((5, 4))\n",
        "arr\n",
        "arr.mean()\n",
        "np.mean(arr)\n",
        "arr.sum()"
      ]
    },
    {
      "cell_type": "code",
      "execution_count": null,
      "metadata": {
        "id": "s_1Xt-lZmXnq"
      },
      "outputs": [],
      "source": [
        "#! ipython id=f57ab0bb15004b49adf00d9ac3eaafcc\n",
        "arr.mean(axis=1)\n",
        "arr.sum(axis=0)"
      ]
    },
    {
      "cell_type": "code",
      "execution_count": null,
      "metadata": {
        "id": "la3MYx1zmXnq"
      },
      "outputs": [],
      "source": [
        "#! ipython id=d9d2af75bc02480f8ec96ab405e0bfbc\n",
        "arr = np.array([0, 1, 2, 3, 4, 5, 6, 7])\n",
        "arr.cumsum()"
      ]
    },
    {
      "cell_type": "code",
      "execution_count": null,
      "metadata": {
        "id": "tH1p6VgDmXnq"
      },
      "outputs": [],
      "source": [
        "#! ipython id=6325620b7b21486eb341f9bdd26d0592\n",
        "arr = np.array([[0, 1, 2], [3, 4, 5], [6, 7, 8]])\n",
        "arr"
      ]
    },
    {
      "cell_type": "code",
      "execution_count": null,
      "metadata": {
        "id": "3HcIy1nDmXnq"
      },
      "outputs": [],
      "source": [
        "#! ipython id=fee512a8c31e4821b880952d5dcb9871\n",
        "arr.cumsum(axis=0)\n",
        "arr.cumsum(axis=1)"
      ]
    },
    {
      "cell_type": "code",
      "execution_count": null,
      "metadata": {
        "id": "20mDMbEmmXnq"
      },
      "outputs": [],
      "source": [
        "#! ipython id=c9b9d9305fa74033b0e4f8cf592b71ab\n",
        "arr = rng.standard_normal(100)\n",
        "(arr > 0).sum() # Number of positive values\n",
        "(arr <= 0).sum() # Number of non-positive values"
      ]
    },
    {
      "cell_type": "code",
      "execution_count": null,
      "metadata": {
        "id": "M5fZgmsqmXnq"
      },
      "outputs": [],
      "source": [
        "#! ipython id=2509d496877b4d11b4fdabb5203d828a\n",
        "bools = np.array([False, False, True, False])\n",
        "bools.any()\n",
        "bools.all()"
      ]
    },
    {
      "cell_type": "code",
      "execution_count": null,
      "metadata": {
        "id": "juWcso-xmXnq"
      },
      "outputs": [],
      "source": [
        "#! ipython id=d2abca3990204292845fa1773445ed1e\n",
        "arr = rng.standard_normal(6)\n",
        "arr\n",
        "arr.sort()\n",
        "arr"
      ]
    },
    {
      "cell_type": "code",
      "execution_count": null,
      "metadata": {
        "id": "KUew4hS3mXnq"
      },
      "outputs": [],
      "source": [
        "#! ipython id=9706c0664763497abcc763ea917ac005\n",
        "arr = rng.standard_normal((5, 3))\n",
        "arr"
      ]
    },
    {
      "cell_type": "code",
      "execution_count": null,
      "metadata": {
        "id": "wZ29g1T5mXnq"
      },
      "outputs": [],
      "source": [
        "#! ipython id=e5efdd03e40b46ef90fbff8c2bc7cd58\n",
        "arr.sort(axis=0)\n",
        "arr\n",
        "arr.sort(axis=1)\n",
        "arr"
      ]
    },
    {
      "cell_type": "code",
      "execution_count": null,
      "metadata": {
        "id": "wtzZLjUbmXnq"
      },
      "outputs": [],
      "source": [
        "#! ipython id=C0B5AB6E22444377A78BE7A4ADAEC149\n",
        "arr2 = np.array([5, -10, 7, 1, 0, -3])\n",
        "sorted_arr2 = np.sort(arr2)\n",
        "sorted_arr2"
      ]
    },
    {
      "cell_type": "code",
      "execution_count": null,
      "metadata": {
        "id": "Lv41b_CVmXnq"
      },
      "outputs": [],
      "source": [
        "#! ipython id=d0661787b25b463cab49e5707f440dc1\n",
        "names = np.array([\"Bob\", \"Will\", \"Joe\", \"Bob\", \"Will\", \"Joe\", \"Joe\"])\n",
        "np.unique(names)\n",
        "ints = np.array([3, 3, 3, 2, 2, 1, 1, 4, 4])\n",
        "np.unique(ints)"
      ]
    },
    {
      "cell_type": "code",
      "execution_count": null,
      "metadata": {
        "id": "qn-UN_mXmXnq"
      },
      "outputs": [],
      "source": [
        "#! ipython id=defea8216e0c43aa8cac6e8044375f7a\n",
        "sorted(set(names))"
      ]
    },
    {
      "cell_type": "code",
      "execution_count": null,
      "metadata": {
        "id": "yszya1DrmXnq"
      },
      "outputs": [],
      "source": [
        "#! ipython id=0228289e5be043c189e011251dcffdc6\n",
        "values = np.array([6, 0, 0, 3, 2, 5, 6])\n",
        "np.in1d(values, [2, 3, 6])"
      ]
    },
    {
      "cell_type": "code",
      "execution_count": null,
      "metadata": {
        "id": "kIkljhhimXnq"
      },
      "outputs": [],
      "source": [
        "#! ipython id=b3597533081e4753b6074823c3b5674f\n",
        "arr = np.arange(10)\n",
        "np.save(\"some_array\", arr)"
      ]
    },
    {
      "cell_type": "code",
      "execution_count": null,
      "metadata": {
        "id": "g_J1pogjmXnr"
      },
      "outputs": [],
      "source": [
        "#! ipython id=fb53288f306e4de7a7c24f3535bf7114\n",
        "np.load(\"some_array.npy\")"
      ]
    },
    {
      "cell_type": "code",
      "execution_count": null,
      "metadata": {
        "id": "hyu1SUjZmXnr"
      },
      "outputs": [],
      "source": [
        "#! ipython id=d587f08b74b9448eb1e24b7812b8a559\n",
        "np.savez(\"array_archive.npz\", a=arr, b=arr)"
      ]
    },
    {
      "cell_type": "code",
      "execution_count": null,
      "metadata": {
        "id": "lA1AScl2mXnr"
      },
      "outputs": [],
      "source": [
        "#! ipython id=8ba454d47fde4bd082c3eb647ec642f9\n",
        "arch = np.load(\"array_archive.npz\")\n",
        "arch[\"b\"]"
      ]
    },
    {
      "cell_type": "code",
      "execution_count": null,
      "metadata": {
        "id": "sLPT0P36mXnr"
      },
      "outputs": [],
      "source": [
        "#! ipython id=2a2682b4078c49c981d34e9966f55632\n",
        "np.savez_compressed(\"arrays_compressed.npz\", a=arr, b=arr)"
      ]
    },
    {
      "cell_type": "code",
      "execution_count": null,
      "metadata": {
        "id": "BSsjbxcZmXnr"
      },
      "outputs": [],
      "source": [
        "#! ipython suppress id=1d4c714fb55a49fe81a7c3dca0318267\n",
        "!rm some_array.npy\n",
        "!rm array_archive.npz\n",
        "!rm arrays_compressed.npz"
      ]
    },
    {
      "cell_type": "code",
      "execution_count": null,
      "metadata": {
        "id": "qat4naaemXnr"
      },
      "outputs": [],
      "source": [
        "#! ipython id=5ff70f667285496e9853f9ce5c69cac7\n",
        "x = np.array([[1., 2., 3.], [4., 5., 6.]])\n",
        "y = np.array([[6., 23.], [-1, 7], [8, 9]])\n",
        "x\n",
        "y\n",
        "x.dot(y)"
      ]
    },
    {
      "cell_type": "code",
      "execution_count": null,
      "metadata": {
        "id": "Km2EQSvgmXnr"
      },
      "outputs": [],
      "source": [
        "#! ipython id=4a27f60b6ad34c179277e3567556f6ad\n",
        "np.dot(x, y)"
      ]
    },
    {
      "cell_type": "code",
      "execution_count": null,
      "metadata": {
        "id": "rq6lWpMSmXnr"
      },
      "outputs": [],
      "source": [
        "#! ipython id=c604db1abc904450aecf44582381e04e\n",
        "x @ np.ones(3)"
      ]
    },
    {
      "cell_type": "code",
      "execution_count": null,
      "metadata": {
        "id": "qyBbOEGPmXnr"
      },
      "outputs": [],
      "source": [
        "#! ipython id=f6b72d7a1ad443768226bdf5a3aed368\n",
        "from numpy.linalg import inv, qr\n",
        "X = rng.standard_normal((5, 5))\n",
        "mat = X.T @ X\n",
        "inv(mat)\n",
        "mat @ inv(mat)"
      ]
    },
    {
      "cell_type": "code",
      "execution_count": null,
      "metadata": {
        "id": "oOE6I8xSmXnr"
      },
      "outputs": [],
      "source": [
        "#! ipython verbatim id=9060763bcc2b4f5e91a19bb8d8d5d887\n",
        "#! blockstart\n",
        "import random\n",
        "position = 0\n",
        "walk = [position]\n",
        "nsteps = 1000\n",
        "for _ in range(nsteps):\n",
        "    step = 1 if random.randint(0, 1) else -1\n",
        "    position += step\n",
        "    walk.append(position)\n",
        "#! blockend"
      ]
    },
    {
      "cell_type": "code",
      "execution_count": null,
      "metadata": {
        "id": "uzV4Ul7_mXnr"
      },
      "outputs": [],
      "source": [
        "#! ipython suppress id=99ca0670c2f946c6af46c9292c6180fa\n",
        "plt.figure()"
      ]
    },
    {
      "cell_type": "code",
      "execution_count": null,
      "metadata": {
        "id": "z-R7HBbAmXnr"
      },
      "outputs": [],
      "source": [
        "#! ipython id=373f266d65ca4e5c87d443fa4d1e706c\n",
        "#! figure,id=figure_random_walk1,title=\"Proste błądzenie losowe\",width=4in\n",
        "plt.plot(walk[:100])"
      ]
    },
    {
      "cell_type": "code",
      "execution_count": null,
      "metadata": {
        "id": "9d9caw4VmXnr"
      },
      "outputs": [],
      "source": [
        "#! ipython id=90295621e09c479590357865bd506c9a\n",
        "nsteps = 1000\n",
        "rng = np.random.default_rng(seed=12345)  # Nowy generator\n",
        "draws = rng.integers(0, 2, size=nsteps)\n",
        "steps = np.where(draws == 0, 1, -1)\n",
        "walk = steps.cumsum()"
      ]
    },
    {
      "cell_type": "code",
      "execution_count": null,
      "metadata": {
        "id": "Z-mFVG_ymXnr"
      },
      "outputs": [],
      "source": [
        "#! ipython id=0e9f7bf0c3bd41f985b1b0e297b3d4c7\n",
        "walk.min()\n",
        "walk.max()"
      ]
    },
    {
      "cell_type": "code",
      "execution_count": null,
      "metadata": {
        "id": "8rQ5fvFQmXnr"
      },
      "outputs": [],
      "source": [
        "#! ipython id=20c784b0675246eeb99329c5d7394101\n",
        "(np.abs(walk) >= 10).argmax()"
      ]
    },
    {
      "cell_type": "code",
      "execution_count": null,
      "metadata": {
        "id": "x78M9X0cmXnr"
      },
      "outputs": [],
      "source": [
        "#! ipython id=79f63c1dd0b34fe78ac34492f9bfb0a0\n",
        "nwalks = 5000\n",
        "nsteps = 1000\n",
        "draws = rng.integers(0, 2, size=(nwalks, nsteps)) # 0 lub 1\n",
        "steps = np.where(draws > 0, 1, -1)\n",
        "walks = steps.cumsum(axis=1)\n",
        "walks"
      ]
    },
    {
      "cell_type": "code",
      "execution_count": null,
      "metadata": {
        "id": "N6kRhbLFmXnr"
      },
      "outputs": [],
      "source": [
        "#! ipython id=351f44c55f494a9ab09e273bbfc258f5\n",
        "walks.max()\n",
        "walks.min()"
      ]
    },
    {
      "cell_type": "code",
      "execution_count": null,
      "metadata": {
        "id": "NiTR1NIqmXnr"
      },
      "outputs": [],
      "source": [
        "#! ipython id=319266ed7c2c4e749b488168eef3f1c6\n",
        "hits30 = (np.abs(walks) >= 30).any(axis=1)\n",
        "hits30\n",
        "hits30.sum() # Number that hit 30 or -30"
      ]
    },
    {
      "cell_type": "code",
      "execution_count": null,
      "metadata": {
        "id": "NoPoouqPmXns"
      },
      "outputs": [],
      "source": [
        "#! ipython id=50fb5813d360469bb339b7e6de32eae7\n",
        "crossing_times = (np.abs(walks[hits30]) >= 30).argmax(axis=1)\n",
        "crossing_times"
      ]
    },
    {
      "cell_type": "code",
      "execution_count": null,
      "metadata": {
        "id": "S8HpMZTvmXns"
      },
      "outputs": [],
      "source": [
        "#! ipython id=c529b3e238a641c8a5beae0755683656\n",
        "crossing_times.mean()"
      ]
    },
    {
      "cell_type": "code",
      "execution_count": null,
      "metadata": {
        "id": "J7hAcTuqmXns"
      },
      "outputs": [],
      "source": [
        "#! ipython id=9cbb0b66c9e0461ab0149703bfbe8834\n",
        "draws = 0.25 * rng.standard_normal((nwalks, nsteps))"
      ]
    },
    {
      "cell_type": "code",
      "execution_count": null,
      "metadata": {
        "id": "HjY83OC5mXns"
      },
      "outputs": [],
      "source": [
        "#! ipython suppress id=9b38f187f59e46c3bc91061ee6b7f998\n",
        "%popd"
      ]
    }
  ],
  "metadata": {
    "kernelspec": {
      "display_name": "Python 3 (ipykernel)",
      "language": "python",
      "name": "python3"
    },
    "language_info": {
      "codemirror_mode": {
        "name": "ipython",
        "version": 3
      },
      "file_extension": ".py",
      "mimetype": "text/x-python",
      "name": "python",
      "nbconvert_exporter": "python",
      "pygments_lexer": "ipython3",
      "version": "3.11.0"
    },
    "colab": {
      "provenance": [],
      "toc_visible": true
    }
  },
  "nbformat": 4,
  "nbformat_minor": 0
}