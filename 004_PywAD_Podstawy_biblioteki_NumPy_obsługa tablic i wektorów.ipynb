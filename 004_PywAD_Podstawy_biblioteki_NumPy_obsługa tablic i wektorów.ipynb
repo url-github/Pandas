{
  "cells": [
    {
      "cell_type": "code",
      "source": [
        "pwd"
      ],
      "metadata": {
        "colab": {
          "base_uri": "https://localhost:8080/",
          "height": 35
        },
        "id": "WZL8w96Iqm_E",
        "outputId": "ff20950a-a990-4826-9838-c094d8f0ac7b"
      },
      "execution_count": 1,
      "outputs": [
        {
          "output_type": "execute_result",
          "data": {
            "text/plain": [
              "'/content'"
            ],
            "application/vnd.google.colaboratory.intrinsic+json": {
              "type": "string"
            }
          },
          "metadata": {},
          "execution_count": 1
        }
      ]
    },
    {
      "cell_type": "markdown",
      "source": [
        "- `np.set_printoptions()`: Umożliwia konfigurowanie sposobu wyświetlania tablic NumPy.\n",
        "- `precision=4`: Ustawia liczbę miejsc po przecinku na 4.\n",
        "- `suppress=True`: Zapobiega używaniu notacji naukowej dla małych liczb, co sprawia, że liczby są wyświetlane w bardziej czytelny sposób."
      ],
      "metadata": {
        "id": "I5aMUDXFNBQF"
      }
    },
    {
      "cell_type": "code",
      "execution_count": 2,
      "metadata": {
        "id": "FEm57-sVmXne",
        "colab": {
          "base_uri": "https://localhost:8080/"
        },
        "outputId": "588fbe25-cee6-441b-9470-971abed8dffe"
      },
      "outputs": [
        {
          "output_type": "stream",
          "name": "stdout",
          "text": [
            "/content\n"
          ]
        }
      ],
      "source": [
        "%pushd /content\n",
        "import numpy as np\n",
        "np.random.seed(12345)\n",
        "import matplotlib.pyplot as plt\n",
        "plt.rc(\"figure\", figsize=(10, 6))\n",
        "np.set_printoptions(precision=4, suppress=True)"
      ]
    },
    {
      "cell_type": "code",
      "execution_count": 3,
      "metadata": {
        "id": "MSa46raWmXnf",
        "colab": {
          "base_uri": "https://localhost:8080/"
        },
        "outputId": "2f4b1f47-32f2-4c9c-d525-b316382a3178"
      },
      "outputs": [
        {
          "output_type": "execute_result",
          "data": {
            "text/plain": [
              "array([     0,      1,      2, ..., 999997, 999998, 999999])"
            ]
          },
          "metadata": {},
          "execution_count": 3
        }
      ],
      "source": [
        "import numpy as np\n",
        "\n",
        "my_arr = np.arange(1_000_000)\n",
        "my_arr"
      ]
    },
    {
      "cell_type": "code",
      "source": [
        "my_list = list(range(1_000_000))\n",
        "\n",
        "first_four_elements = my_list[:5]\n",
        "first_four_elements"
      ],
      "metadata": {
        "colab": {
          "base_uri": "https://localhost:8080/"
        },
        "id": "6-ZtxJd-NiHa",
        "outputId": "6ae177c7-394c-4224-bfb8-2ce3b165ac09"
      },
      "execution_count": 6,
      "outputs": [
        {
          "output_type": "execute_result",
          "data": {
            "text/plain": [
              "[0, 1, 2, 3, 4]"
            ]
          },
          "metadata": {},
          "execution_count": 6
        }
      ]
    },
    {
      "cell_type": "code",
      "source": [
        "%timeit my_arr2 = my_arr * 2"
      ],
      "metadata": {
        "colab": {
          "base_uri": "https://localhost:8080/"
        },
        "id": "AkRNin--SCGL",
        "outputId": "41ffd1be-0628-42d3-ec8c-8edc99df213a"
      },
      "execution_count": 7,
      "outputs": [
        {
          "output_type": "stream",
          "name": "stdout",
          "text": [
            "1.64 ms ± 240 µs per loop (mean ± std. dev. of 7 runs, 1000 loops each)\n"
          ]
        }
      ]
    },
    {
      "cell_type": "code",
      "execution_count": 8,
      "metadata": {
        "id": "OjrTdNtHmXnf",
        "colab": {
          "base_uri": "https://localhost:8080/"
        },
        "outputId": "9e7f365c-c152-4918-ace4-b65aee9ded48"
      },
      "outputs": [
        {
          "output_type": "stream",
          "name": "stdout",
          "text": [
            "236 ms ± 90.2 ms per loop (mean ± std. dev. of 7 runs, 1 loop each)\n"
          ]
        }
      ],
      "source": [
        "%timeit my_list2 = [x * 2 for x in my_list]"
      ]
    },
    {
      "cell_type": "code",
      "source": [
        "# Python\n",
        "import time\n",
        "size = 1_000_000\n",
        "l1 = list(range(size))\n",
        "l2 = list(range(size))\n",
        "start = time.time()\n",
        "result = [x + y for x, y in zip(l1, l2)]\n",
        "print(\"Python:\", time.time() - start)\n",
        "\n",
        "# NumPy\n",
        "import numpy as np\n",
        "a1 = np.arange(size)\n",
        "a2 = np.arange(size)\n",
        "start = time.time()\n",
        "result = a1 + a2\n",
        "print(\"NumPy:\", time.time() - start)"
      ],
      "metadata": {
        "colab": {
          "base_uri": "https://localhost:8080/"
        },
        "id": "omLCDh0kTBAu",
        "outputId": "36642359-ed1a-461d-b095-e311d09d92f3"
      },
      "execution_count": 9,
      "outputs": [
        {
          "output_type": "stream",
          "name": "stdout",
          "text": [
            "Python: 0.11285996437072754\n",
            "NumPy: 0.020190954208374023\n"
          ]
        }
      ]
    },
    {
      "cell_type": "code",
      "execution_count": 11,
      "metadata": {
        "id": "OC06F-RlmXnf",
        "colab": {
          "base_uri": "https://localhost:8080/"
        },
        "outputId": "819908c4-9f60-4349-b2fc-b4bc00e7f9a7"
      },
      "outputs": [
        {
          "output_type": "execute_result",
          "data": {
            "text/plain": [
              "array([[ 1.5, -0.1,  3. ],\n",
              "       [ 0. , -3. ,  6.5]])"
            ]
          },
          "metadata": {},
          "execution_count": 11
        }
      ],
      "source": [
        "import numpy as np\n",
        "data = np.array([[1.5, -0.1, 3], [0, -3, 6.5]])\n",
        "data"
      ]
    },
    {
      "cell_type": "code",
      "source": [
        "matrix = np.array([[1, 2], [3, 4]])\n",
        "print(matrix.T)  # Transpozycja macierzy"
      ],
      "metadata": {
        "colab": {
          "base_uri": "https://localhost:8080/"
        },
        "id": "asSeLdQ3Tvmj",
        "outputId": "afb279b5-8878-4de2-c980-dc0de5ad7d3a"
      },
      "execution_count": 10,
      "outputs": [
        {
          "output_type": "stream",
          "name": "stdout",
          "text": [
            "[[1 3]\n",
            " [2 4]]\n"
          ]
        }
      ]
    },
    {
      "cell_type": "code",
      "source": [
        "# Dodawanie skalaru do tablicy: Broadcasting\n",
        "c = np.array([1, 2, 3])\n",
        "print(c + 10)  # [11 12 13]"
      ],
      "metadata": {
        "colab": {
          "base_uri": "https://localhost:8080/"
        },
        "id": "HCh4niJYT4wc",
        "outputId": "d4499566-1dc9-445d-f1a7-358f5d6ddb66"
      },
      "execution_count": 12,
      "outputs": [
        {
          "output_type": "stream",
          "name": "stdout",
          "text": [
            "[11 12 13]\n"
          ]
        }
      ]
    },
    {
      "cell_type": "code",
      "source": [
        "data * 10"
      ],
      "metadata": {
        "colab": {
          "base_uri": "https://localhost:8080/"
        },
        "id": "2hwi4JPHVYVB",
        "outputId": "6acbd539-a10d-48a3-9fc7-21f0071de0c2"
      },
      "execution_count": 13,
      "outputs": [
        {
          "output_type": "execute_result",
          "data": {
            "text/plain": [
              "array([[ 15.,  -1.,  30.],\n",
              "       [  0., -30.,  65.]])"
            ]
          },
          "metadata": {},
          "execution_count": 13
        }
      ]
    },
    {
      "cell_type": "code",
      "execution_count": 14,
      "metadata": {
        "id": "ZG16bLjZmXnf",
        "colab": {
          "base_uri": "https://localhost:8080/"
        },
        "outputId": "680162b8-a533-4d60-969b-6111f260b8ba"
      },
      "outputs": [
        {
          "output_type": "execute_result",
          "data": {
            "text/plain": [
              "array([[ 3. , -0.2,  6. ],\n",
              "       [ 0. , -6. , 13. ]])"
            ]
          },
          "metadata": {},
          "execution_count": 14
        }
      ],
      "source": [
        "data + data"
      ]
    },
    {
      "cell_type": "code",
      "source": [
        "data.shape"
      ],
      "metadata": {
        "colab": {
          "base_uri": "https://localhost:8080/"
        },
        "id": "Lo_QjYCsVicT",
        "outputId": "bf4fa384-8ee0-40b8-cba0-7bdde6344630"
      },
      "execution_count": 15,
      "outputs": [
        {
          "output_type": "execute_result",
          "data": {
            "text/plain": [
              "(2, 3)"
            ]
          },
          "metadata": {},
          "execution_count": 15
        }
      ]
    },
    {
      "cell_type": "code",
      "execution_count": 16,
      "metadata": {
        "id": "K29pWXyNmXng",
        "colab": {
          "base_uri": "https://localhost:8080/"
        },
        "outputId": "f8debb42-43ac-437b-8bbb-3017d369cb92"
      },
      "outputs": [
        {
          "output_type": "execute_result",
          "data": {
            "text/plain": [
              "dtype('float64')"
            ]
          },
          "metadata": {},
          "execution_count": 16
        }
      ],
      "source": [
        "data.dtype"
      ]
    },
    {
      "cell_type": "code",
      "execution_count": 17,
      "metadata": {
        "id": "DEC394xHmXng",
        "colab": {
          "base_uri": "https://localhost:8080/"
        },
        "outputId": "4dd615d8-8d65-4660-8246-ca72236a8443"
      },
      "outputs": [
        {
          "output_type": "execute_result",
          "data": {
            "text/plain": [
              "array([6. , 7.5, 8. , 0. , 1. ])"
            ]
          },
          "metadata": {},
          "execution_count": 17
        }
      ],
      "source": [
        "data1 = [6, 7.5, 8, 0, 1]\n",
        "arr1 = np.array(data1)\n",
        "arr1"
      ]
    },
    {
      "cell_type": "code",
      "execution_count": 18,
      "metadata": {
        "id": "wq_V9nJtmXng",
        "colab": {
          "base_uri": "https://localhost:8080/"
        },
        "outputId": "9965c530-27d9-4e01-9115-fed685820c27"
      },
      "outputs": [
        {
          "output_type": "execute_result",
          "data": {
            "text/plain": [
              "array([[1, 2, 3, 4],\n",
              "       [5, 6, 7, 8]])"
            ]
          },
          "metadata": {},
          "execution_count": 18
        }
      ],
      "source": [
        "data2 = [[1, 2, 3, 4], [5, 6, 7, 8]]\n",
        "arr2 = np.array(data2)\n",
        "arr2"
      ]
    },
    {
      "cell_type": "code",
      "source": [
        "arr2.ndim"
      ],
      "metadata": {
        "colab": {
          "base_uri": "https://localhost:8080/"
        },
        "id": "_ddYpV5iWvSv",
        "outputId": "5b107c16-761f-4b33-adaa-33859a50ffdf"
      },
      "execution_count": 19,
      "outputs": [
        {
          "output_type": "execute_result",
          "data": {
            "text/plain": [
              "2"
            ]
          },
          "metadata": {},
          "execution_count": 19
        }
      ]
    },
    {
      "cell_type": "markdown",
      "source": [
        "- atrybut .ndim tablicy (array) zwraca liczbę wymiarów danej tablicy."
      ],
      "metadata": {
        "id": "QN0fX2k1XfIs"
      }
    },
    {
      "cell_type": "code",
      "source": [
        "# Tworzenie tablicy 1D\n",
        "arr1 = np.array([1, 2, 3])\n",
        "print(arr1.ndim)  # Wynik: 1\n",
        "\n",
        "# Tworzenie tablicy 2D\n",
        "arr2 = np.array([[1, 2, 3], [4, 5, 6]])\n",
        "print(arr2.ndim)  # Wynik: 2\n",
        "\n",
        "# Tworzenie tablicy 3D\n",
        "arr3 = np.array([[[1, 2], [3, 4]], [[5, 6], [7, 8]]])\n",
        "print(arr3.ndim)  # Wynik: 3"
      ],
      "metadata": {
        "colab": {
          "base_uri": "https://localhost:8080/"
        },
        "id": "hES3l6-_XaNb",
        "outputId": "4ce8204c-02a2-4676-9046-8467be16e63d"
      },
      "execution_count": 20,
      "outputs": [
        {
          "output_type": "stream",
          "name": "stdout",
          "text": [
            "1\n",
            "2\n",
            "3\n"
          ]
        }
      ]
    },
    {
      "cell_type": "code",
      "execution_count": 21,
      "metadata": {
        "id": "x9ncZozPmXnh",
        "colab": {
          "base_uri": "https://localhost:8080/"
        },
        "outputId": "73023deb-1779-47ac-a8c7-9406643f14f3"
      },
      "outputs": [
        {
          "output_type": "execute_result",
          "data": {
            "text/plain": [
              "(2, 3)"
            ]
          },
          "metadata": {},
          "execution_count": 21
        }
      ],
      "source": [
        "arr2.shape"
      ]
    },
    {
      "cell_type": "code",
      "execution_count": 23,
      "metadata": {
        "id": "TzaXXwRimXnh",
        "colab": {
          "base_uri": "https://localhost:8080/"
        },
        "outputId": "49cc5424-ca37-4898-9e29-e2aedd0fd797"
      },
      "outputs": [
        {
          "output_type": "execute_result",
          "data": {
            "text/plain": [
              "dtype('int64')"
            ]
          },
          "metadata": {},
          "execution_count": 23
        }
      ],
      "source": [
        "arr2.dtype # dtype('int64')"
      ]
    },
    {
      "cell_type": "code",
      "source": [
        "np.zeros(10)"
      ],
      "metadata": {
        "colab": {
          "base_uri": "https://localhost:8080/"
        },
        "id": "uvkSWcRYXu6S",
        "outputId": "de650dfb-5350-4830-b365-63f8eafefc00"
      },
      "execution_count": 24,
      "outputs": [
        {
          "output_type": "execute_result",
          "data": {
            "text/plain": [
              "array([0., 0., 0., 0., 0., 0., 0., 0., 0., 0.])"
            ]
          },
          "metadata": {},
          "execution_count": 24
        }
      ]
    },
    {
      "cell_type": "code",
      "source": [
        "np.zeros((3, 6))"
      ],
      "metadata": {
        "colab": {
          "base_uri": "https://localhost:8080/"
        },
        "id": "E4VXhBCWXwmN",
        "outputId": "48b3d2e0-7d55-4b2a-a502-df92a8ba7e7c"
      },
      "execution_count": 26,
      "outputs": [
        {
          "output_type": "execute_result",
          "data": {
            "text/plain": [
              "array([[0., 0., 0., 0., 0., 0.],\n",
              "       [0., 0., 0., 0., 0., 0.],\n",
              "       [0., 0., 0., 0., 0., 0.]])"
            ]
          },
          "metadata": {},
          "execution_count": 26
        }
      ]
    },
    {
      "cell_type": "code",
      "execution_count": 30,
      "metadata": {
        "id": "kvxQ2GdDmXnh",
        "colab": {
          "base_uri": "https://localhost:8080/"
        },
        "outputId": "ef2c7bbe-2414-4708-c3e1-0691b63104de"
      },
      "outputs": [
        {
          "output_type": "execute_result",
          "data": {
            "text/plain": [
              "array([[[-0.25, -0.5 ,  0.  , -0.25],\n",
              "        [ 0.25, -0.5 ,  0.5 , -0.25]],\n",
              "\n",
              "       [[ 0.25,  0.  ,  0.5 ,  0.25],\n",
              "        [ 0.25,  0.5 ,  0.  ,  0.25]],\n",
              "\n",
              "       [[-0.25,  0.5 , -0.5 ,  0.25],\n",
              "        [-0.25,  0.  , -0.5 , -0.25]]])"
            ]
          },
          "metadata": {},
          "execution_count": 30
        }
      ],
      "source": [
        "np.empty((3, 2, 4))"
      ]
    },
    {
      "cell_type": "code",
      "execution_count": 31,
      "metadata": {
        "id": "9a-fxdNnmXnh",
        "colab": {
          "base_uri": "https://localhost:8080/"
        },
        "outputId": "f99e5b6a-07d0-43c8-b1b0-c2ad9bc6f995"
      },
      "outputs": [
        {
          "output_type": "execute_result",
          "data": {
            "text/plain": [
              "array([ 0,  1,  2,  3,  4,  5,  6,  7,  8,  9, 10, 11, 12, 13, 14])"
            ]
          },
          "metadata": {},
          "execution_count": 31
        }
      ],
      "source": [
        "np.arange(15)"
      ]
    },
    {
      "cell_type": "code",
      "source": [
        "arr1 = np.array([1, 2, 3], dtype=np.float64)\n",
        "arr1.dtype"
      ],
      "metadata": {
        "colab": {
          "base_uri": "https://localhost:8080/"
        },
        "id": "7ASgfcwRY_JA",
        "outputId": "9870db6d-6a96-4b4d-89bc-bec3b17aadad"
      },
      "execution_count": 32,
      "outputs": [
        {
          "output_type": "execute_result",
          "data": {
            "text/plain": [
              "dtype('float64')"
            ]
          },
          "metadata": {},
          "execution_count": 32
        }
      ]
    },
    {
      "cell_type": "code",
      "source": [
        "arr1"
      ],
      "metadata": {
        "colab": {
          "base_uri": "https://localhost:8080/"
        },
        "id": "Dvlq_twTZG5S",
        "outputId": "c302a1e6-090d-4c1a-efab-20fa97db2911"
      },
      "execution_count": 33,
      "outputs": [
        {
          "output_type": "execute_result",
          "data": {
            "text/plain": [
              "array([1., 2., 3.])"
            ]
          },
          "metadata": {},
          "execution_count": 33
        }
      ]
    },
    {
      "cell_type": "code",
      "execution_count": 34,
      "metadata": {
        "id": "kkQaijrWmXnh",
        "colab": {
          "base_uri": "https://localhost:8080/"
        },
        "outputId": "c57ff03f-62e1-4d1b-bb10-f854c085875e"
      },
      "outputs": [
        {
          "output_type": "execute_result",
          "data": {
            "text/plain": [
              "dtype('int32')"
            ]
          },
          "metadata": {},
          "execution_count": 34
        }
      ],
      "source": [
        "arr2 = np.array([1, 2, 3], dtype=np.int32)\n",
        "arr2.dtype"
      ]
    },
    {
      "cell_type": "code",
      "source": [
        "arr2"
      ],
      "metadata": {
        "colab": {
          "base_uri": "https://localhost:8080/"
        },
        "id": "Ce2FFdN4ZLms",
        "outputId": "37753f66-4289-419e-ef88-87519c028939"
      },
      "execution_count": 36,
      "outputs": [
        {
          "output_type": "execute_result",
          "data": {
            "text/plain": [
              "array([1, 2, 3], dtype=int32)"
            ]
          },
          "metadata": {},
          "execution_count": 36
        }
      ]
    },
    {
      "cell_type": "markdown",
      "source": [
        "- arr.astype(np.float64)\n",
        "Funkcja astype konwertuje typ danych tablicy. Tutaj konwertujesz arr na typ zmiennoprzecinkowy float64. Nowa tablica zostanie przypisana do zmiennej float_arr."
      ],
      "metadata": {
        "id": "4V0fN9ljaY6A"
      }
    },
    {
      "cell_type": "code",
      "execution_count": 41,
      "metadata": {
        "id": "FM3FlL_HmXnh",
        "colab": {
          "base_uri": "https://localhost:8080/"
        },
        "outputId": "4d7f37d3-2ff7-4812-f1b9-659dfe32c06a"
      },
      "outputs": [
        {
          "output_type": "stream",
          "name": "stdout",
          "text": [
            "[1 2 3 4 5]\n",
            "int64\n",
            "[1. 2. 3. 4. 5.]\n"
          ]
        },
        {
          "output_type": "execute_result",
          "data": {
            "text/plain": [
              "dtype('float64')"
            ]
          },
          "metadata": {},
          "execution_count": 41
        }
      ],
      "source": [
        "arr = np.array([1, 2, 3, 4, 5])\n",
        "print(arr)\n",
        "print(arr.dtype)\n",
        "float_arr = arr.astype(np.float64)\n",
        "print(float_arr)\n",
        "float_arr.dtype"
      ]
    },
    {
      "cell_type": "code",
      "execution_count": 42,
      "metadata": {
        "id": "Q7eM3niwmXni",
        "colab": {
          "base_uri": "https://localhost:8080/"
        },
        "outputId": "2101f322-0bc0-4b48-bf9c-01533cee151c"
      },
      "outputs": [
        {
          "output_type": "stream",
          "name": "stdout",
          "text": [
            "[ 3.7 -1.2 -2.6  0.5 12.9 10.1]\n"
          ]
        },
        {
          "output_type": "execute_result",
          "data": {
            "text/plain": [
              "array([ 3, -1, -2,  0, 12, 10], dtype=int32)"
            ]
          },
          "metadata": {},
          "execution_count": 42
        }
      ],
      "source": [
        "arr = np.array([3.7, -1.2, -2.6, 0.5, 12.9, 10.1])\n",
        "print(arr)\n",
        "arr.astype(np.int32)"
      ]
    },
    {
      "cell_type": "code",
      "execution_count": 45,
      "metadata": {
        "id": "VieZYw8RmXni",
        "colab": {
          "base_uri": "https://localhost:8080/"
        },
        "outputId": "9dcf2a08-8d0a-4887-d879-825f4ee90b0c"
      },
      "outputs": [
        {
          "output_type": "stream",
          "name": "stdout",
          "text": [
            "[b'1.25' b'-9.6' b'42']\n"
          ]
        },
        {
          "output_type": "execute_result",
          "data": {
            "text/plain": [
              "array([ 1.25, -9.6 , 42.  ])"
            ]
          },
          "metadata": {},
          "execution_count": 45
        }
      ],
      "source": [
        "numeric_strings = np.array([\"1.25\", \"-9.6\", \"42\"], dtype=np.string_)\n",
        "print(numeric_strings)\n",
        "numeric_strings.astype(float)"
      ]
    },
    {
      "cell_type": "markdown",
      "source": [
        "- Funkcja astype konwertuje typ danych tablicy int_array na typ danych zgodny z calibers.dtype, czyli float64. Wynik to nowa tablica zawierająca liczby całkowite z int_array, ale jako liczby zmiennoprzecinkowe"
      ],
      "metadata": {
        "id": "A-WWbi2zcgGj"
      }
    },
    {
      "cell_type": "code",
      "execution_count": 47,
      "metadata": {
        "id": "ro5jBqTymXni",
        "colab": {
          "base_uri": "https://localhost:8080/"
        },
        "outputId": "4a1e73a5-5e74-4d5f-8800-d015b248e3cd"
      },
      "outputs": [
        {
          "output_type": "stream",
          "name": "stdout",
          "text": [
            "[0 1 2 3 4 5 6 7 8 9]\n",
            "[0.22  0.27  0.357 0.38  0.44  0.5  ]\n"
          ]
        },
        {
          "output_type": "execute_result",
          "data": {
            "text/plain": [
              "array([0., 1., 2., 3., 4., 5., 6., 7., 8., 9.])"
            ]
          },
          "metadata": {},
          "execution_count": 47
        }
      ],
      "source": [
        "int_array = np.arange(10)\n",
        "print(int_array)\n",
        "\n",
        "calibers = np.array([.22, .270, .357, .380, .44, .50], dtype=np.float64)\n",
        "print(calibers)\n",
        "\n",
        "int_array.astype(calibers.dtype)"
      ]
    },
    {
      "cell_type": "markdown",
      "source": [
        "- `dtype=\"u4\"`: Określa typ danych tablicy jako `uint32`, co oznacza, że każdy element tablicy będzie 32-bitową liczbą całkowitą bez znaku (unsigned). Typ `u4` jest skrótem dla `uint32`."
      ],
      "metadata": {
        "id": "vaJcZ9vq9HGc"
      }
    },
    {
      "cell_type": "code",
      "execution_count": 48,
      "metadata": {
        "id": "aSQX1_F5mXni",
        "colab": {
          "base_uri": "https://localhost:8080/"
        },
        "outputId": "b1ca6ccf-5939-4864-91bc-4c270e2c961f"
      },
      "outputs": [
        {
          "output_type": "execute_result",
          "data": {
            "text/plain": [
              "array([0, 0, 0, 0, 0, 0, 0, 0], dtype=uint32)"
            ]
          },
          "metadata": {},
          "execution_count": 48
        }
      ],
      "source": [
        "zeros_uint32 = np.zeros(8, dtype=\"u4\")\n",
        "zeros_uint32"
      ]
    },
    {
      "cell_type": "code",
      "source": [
        "arr = np.array([[1., 2., 3.], [4., 5., 6.]])\n",
        "arr"
      ],
      "metadata": {
        "colab": {
          "base_uri": "https://localhost:8080/"
        },
        "id": "6tBbBZBS9uBE",
        "outputId": "5653d5b2-4ce9-4bb3-e6a8-2b2555fe780f"
      },
      "execution_count": 49,
      "outputs": [
        {
          "output_type": "execute_result",
          "data": {
            "text/plain": [
              "array([[1., 2., 3.],\n",
              "       [4., 5., 6.]])"
            ]
          },
          "metadata": {},
          "execution_count": 49
        }
      ]
    },
    {
      "cell_type": "code",
      "source": [
        "arr * arr"
      ],
      "metadata": {
        "colab": {
          "base_uri": "https://localhost:8080/"
        },
        "id": "RWuLRyUJ9wiD",
        "outputId": "fa01ceda-13cf-48e0-f73f-bca23f4e7ea9"
      },
      "execution_count": 50,
      "outputs": [
        {
          "output_type": "execute_result",
          "data": {
            "text/plain": [
              "array([[ 1.,  4.,  9.],\n",
              "       [16., 25., 36.]])"
            ]
          },
          "metadata": {},
          "execution_count": 50
        }
      ]
    },
    {
      "cell_type": "code",
      "execution_count": 51,
      "metadata": {
        "id": "s4xix_o1mXni",
        "colab": {
          "base_uri": "https://localhost:8080/"
        },
        "outputId": "210515c8-9bbc-434c-d3c0-55c614dbcd60"
      },
      "outputs": [
        {
          "output_type": "execute_result",
          "data": {
            "text/plain": [
              "array([[0., 0., 0.],\n",
              "       [0., 0., 0.]])"
            ]
          },
          "metadata": {},
          "execution_count": 51
        }
      ],
      "source": [
        "arr - arr"
      ]
    },
    {
      "cell_type": "code",
      "source": [
        "1 / arr"
      ],
      "metadata": {
        "colab": {
          "base_uri": "https://localhost:8080/"
        },
        "id": "9LbY8J6w-X1u",
        "outputId": "7dc7b688-abfb-4558-e940-a291849bdc84"
      },
      "execution_count": 52,
      "outputs": [
        {
          "output_type": "execute_result",
          "data": {
            "text/plain": [
              "array([[1.    , 0.5   , 0.3333],\n",
              "       [0.25  , 0.2   , 0.1667]])"
            ]
          },
          "metadata": {},
          "execution_count": 52
        }
      ]
    },
    {
      "cell_type": "code",
      "execution_count": 53,
      "metadata": {
        "id": "GzphCthFmXni",
        "colab": {
          "base_uri": "https://localhost:8080/"
        },
        "outputId": "4fa71b0e-9749-4565-a324-84398a7c2c08"
      },
      "outputs": [
        {
          "output_type": "execute_result",
          "data": {
            "text/plain": [
              "array([[ 1.,  4.,  9.],\n",
              "       [16., 25., 36.]])"
            ]
          },
          "metadata": {},
          "execution_count": 53
        }
      ],
      "source": [
        "arr ** 2"
      ]
    },
    {
      "cell_type": "code",
      "execution_count": 54,
      "metadata": {
        "id": "bbLc5KlKmXni",
        "colab": {
          "base_uri": "https://localhost:8080/"
        },
        "outputId": "747674f8-3f16-42d2-82b7-dbe4fdfa1f43"
      },
      "outputs": [
        {
          "output_type": "execute_result",
          "data": {
            "text/plain": [
              "array([[False,  True, False],\n",
              "       [ True, False,  True]])"
            ]
          },
          "metadata": {},
          "execution_count": 54
        }
      ],
      "source": [
        "arr2 = np.array([[0., 4., 1.], [7., 2., 12.]])\n",
        "arr2\n",
        "arr2 > arr"
      ]
    },
    {
      "cell_type": "code",
      "source": [
        "arr = np.arange(10)\n",
        "arr"
      ],
      "metadata": {
        "colab": {
          "base_uri": "https://localhost:8080/"
        },
        "id": "loyWjSq2_PZ7",
        "outputId": "59d68dbe-2ab0-4e49-89b5-e854636434e8"
      },
      "execution_count": 55,
      "outputs": [
        {
          "output_type": "execute_result",
          "data": {
            "text/plain": [
              "array([0, 1, 2, 3, 4, 5, 6, 7, 8, 9])"
            ]
          },
          "metadata": {},
          "execution_count": 55
        }
      ]
    },
    {
      "cell_type": "code",
      "source": [
        "arr[5]"
      ],
      "metadata": {
        "colab": {
          "base_uri": "https://localhost:8080/"
        },
        "id": "2PvpH4ys_R2w",
        "outputId": "13c06ae7-9f44-4d7f-da38-86d41b4d7bb9"
      },
      "execution_count": 56,
      "outputs": [
        {
          "output_type": "execute_result",
          "data": {
            "text/plain": [
              "5"
            ]
          },
          "metadata": {},
          "execution_count": 56
        }
      ]
    },
    {
      "cell_type": "code",
      "source": [
        "arr[5:8]"
      ],
      "metadata": {
        "colab": {
          "base_uri": "https://localhost:8080/"
        },
        "id": "yYq7Ji7L_V1d",
        "outputId": "304aa27c-c35e-4ba3-c399-4ef3179a7f02"
      },
      "execution_count": 57,
      "outputs": [
        {
          "output_type": "execute_result",
          "data": {
            "text/plain": [
              "array([5, 6, 7])"
            ]
          },
          "metadata": {},
          "execution_count": 57
        }
      ]
    },
    {
      "cell_type": "code",
      "source": [
        "arr[5:8] = 12\n",
        "arr"
      ],
      "metadata": {
        "colab": {
          "base_uri": "https://localhost:8080/"
        },
        "id": "yH1FJ_gJ_ZzX",
        "outputId": "2f061774-2baf-47c4-ba9f-29eadd9d9411"
      },
      "execution_count": 59,
      "outputs": [
        {
          "output_type": "execute_result",
          "data": {
            "text/plain": [
              "array([ 0,  1,  2,  3,  4, 12, 12, 12,  8,  9])"
            ]
          },
          "metadata": {},
          "execution_count": 59
        }
      ]
    },
    {
      "cell_type": "code",
      "execution_count": 60,
      "metadata": {
        "id": "r6nGme1vmXni",
        "colab": {
          "base_uri": "https://localhost:8080/"
        },
        "outputId": "f96813b3-0305-4454-ddcc-f09d276d4df5"
      },
      "outputs": [
        {
          "output_type": "execute_result",
          "data": {
            "text/plain": [
              "array([12, 12, 12])"
            ]
          },
          "metadata": {},
          "execution_count": 60
        }
      ],
      "source": [
        "arr_slice = arr[5:8]\n",
        "arr_slice"
      ]
    },
    {
      "cell_type": "code",
      "execution_count": 61,
      "metadata": {
        "id": "8EDwjBHHmXni",
        "colab": {
          "base_uri": "https://localhost:8080/"
        },
        "outputId": "73d31199-4a43-444a-a5e8-accda012a85f"
      },
      "outputs": [
        {
          "output_type": "execute_result",
          "data": {
            "text/plain": [
              "array([    0,     1,     2,     3,     4,    12, 12345,    12,     8,\n",
              "           9])"
            ]
          },
          "metadata": {},
          "execution_count": 61
        }
      ],
      "source": [
        "arr_slice[1] = 12345\n",
        "arr"
      ]
    },
    {
      "cell_type": "code",
      "source": [
        "arr_slice"
      ],
      "metadata": {
        "colab": {
          "base_uri": "https://localhost:8080/"
        },
        "id": "_Z6mNjbz_4S6",
        "outputId": "0aeb81e4-5ff9-4948-fd5e-9e451f192a39"
      },
      "execution_count": 62,
      "outputs": [
        {
          "output_type": "execute_result",
          "data": {
            "text/plain": [
              "array([   12, 12345,    12])"
            ]
          },
          "metadata": {},
          "execution_count": 62
        }
      ]
    },
    {
      "cell_type": "code",
      "execution_count": 63,
      "metadata": {
        "id": "m7plyH1gmXni",
        "colab": {
          "base_uri": "https://localhost:8080/"
        },
        "outputId": "ac89b156-2a99-44ce-eb56-b7004744b397"
      },
      "outputs": [
        {
          "output_type": "execute_result",
          "data": {
            "text/plain": [
              "array([ 0,  1,  2,  3,  4, 64, 64, 64,  8,  9])"
            ]
          },
          "metadata": {},
          "execution_count": 63
        }
      ],
      "source": [
        "arr_slice[:] = 64\n",
        "arr"
      ]
    },
    {
      "cell_type": "code",
      "execution_count": 64,
      "metadata": {
        "id": "WPCwPAVtmXni",
        "colab": {
          "base_uri": "https://localhost:8080/"
        },
        "outputId": "6b39fb7c-5b06-42b6-830d-0012b879a0d4"
      },
      "outputs": [
        {
          "output_type": "execute_result",
          "data": {
            "text/plain": [
              "array([7, 8, 9])"
            ]
          },
          "metadata": {},
          "execution_count": 64
        }
      ],
      "source": [
        "arr2d = np.array([[1, 2, 3], [4, 5, 6], [7, 8, 9]])\n",
        "arr2d[2]"
      ]
    },
    {
      "cell_type": "code",
      "source": [
        "arr2d[0][2]"
      ],
      "metadata": {
        "colab": {
          "base_uri": "https://localhost:8080/"
        },
        "id": "DSaviGxKALuE",
        "outputId": "d3a49ae8-d914-4008-a3bd-106ebc77cad2"
      },
      "execution_count": 65,
      "outputs": [
        {
          "output_type": "execute_result",
          "data": {
            "text/plain": [
              "3"
            ]
          },
          "metadata": {},
          "execution_count": 65
        }
      ]
    },
    {
      "cell_type": "code",
      "execution_count": 66,
      "metadata": {
        "id": "pbRVUk3nmXni",
        "colab": {
          "base_uri": "https://localhost:8080/"
        },
        "outputId": "522f22e3-77b0-41a7-c2c8-cb2e0c42db8d"
      },
      "outputs": [
        {
          "output_type": "execute_result",
          "data": {
            "text/plain": [
              "3"
            ]
          },
          "metadata": {},
          "execution_count": 66
        }
      ],
      "source": [
        "arr2d[0, 2]"
      ]
    },
    {
      "cell_type": "code",
      "execution_count": 67,
      "metadata": {
        "id": "LAPHMtZsmXni",
        "colab": {
          "base_uri": "https://localhost:8080/"
        },
        "outputId": "679cd17f-eea6-4a98-f446-13e4fc3f6a63"
      },
      "outputs": [
        {
          "output_type": "execute_result",
          "data": {
            "text/plain": [
              "array([[[ 1,  2,  3],\n",
              "        [ 4,  5,  6]],\n",
              "\n",
              "       [[ 7,  8,  9],\n",
              "        [10, 11, 12]]])"
            ]
          },
          "metadata": {},
          "execution_count": 67
        }
      ],
      "source": [
        "arr3d = np.array([[[1, 2, 3], [4, 5, 6]], [[7, 8, 9], [10, 11, 12]]])\n",
        "arr3d"
      ]
    },
    {
      "cell_type": "code",
      "execution_count": 68,
      "metadata": {
        "id": "OMyDAG8YmXni",
        "colab": {
          "base_uri": "https://localhost:8080/"
        },
        "outputId": "b393a45f-dbf6-4569-8e43-b0c5d52b2153"
      },
      "outputs": [
        {
          "output_type": "execute_result",
          "data": {
            "text/plain": [
              "array([[1, 2, 3],\n",
              "       [4, 5, 6]])"
            ]
          },
          "metadata": {},
          "execution_count": 68
        }
      ],
      "source": [
        "arr3d[0]"
      ]
    },
    {
      "cell_type": "code",
      "source": [
        "old_values = arr3d[0].copy()\n",
        "arr3d[0] = 42\n",
        "arr3d"
      ],
      "metadata": {
        "colab": {
          "base_uri": "https://localhost:8080/"
        },
        "id": "yTbLV1CcKO3C",
        "outputId": "3bdf1e6f-3b2c-4503-dc4f-45d7aa30e526"
      },
      "execution_count": 69,
      "outputs": [
        {
          "output_type": "execute_result",
          "data": {
            "text/plain": [
              "array([[[42, 42, 42],\n",
              "        [42, 42, 42]],\n",
              "\n",
              "       [[ 7,  8,  9],\n",
              "        [10, 11, 12]]])"
            ]
          },
          "metadata": {},
          "execution_count": 69
        }
      ]
    },
    {
      "cell_type": "code",
      "execution_count": 70,
      "metadata": {
        "id": "JTYlMWg7mXnj",
        "colab": {
          "base_uri": "https://localhost:8080/"
        },
        "outputId": "a9e031c0-644e-4529-f1bd-f55327158a80"
      },
      "outputs": [
        {
          "output_type": "execute_result",
          "data": {
            "text/plain": [
              "array([[[ 1,  2,  3],\n",
              "        [ 4,  5,  6]],\n",
              "\n",
              "       [[ 7,  8,  9],\n",
              "        [10, 11, 12]]])"
            ]
          },
          "metadata": {},
          "execution_count": 70
        }
      ],
      "source": [
        "arr3d[0] = old_values\n",
        "arr3d"
      ]
    },
    {
      "cell_type": "code",
      "execution_count": 71,
      "metadata": {
        "id": "SBAESeCZmXnj",
        "colab": {
          "base_uri": "https://localhost:8080/"
        },
        "outputId": "8130496a-f0e5-4515-f279-a46096b04e60"
      },
      "outputs": [
        {
          "output_type": "execute_result",
          "data": {
            "text/plain": [
              "array([7, 8, 9])"
            ]
          },
          "metadata": {},
          "execution_count": 71
        }
      ],
      "source": [
        "arr3d[1, 0]"
      ]
    },
    {
      "cell_type": "code",
      "source": [
        "x = arr3d[1]\n",
        "x"
      ],
      "metadata": {
        "colab": {
          "base_uri": "https://localhost:8080/"
        },
        "id": "V1UySpjtLWSe",
        "outputId": "c3f3bc13-c278-4a19-dbe3-c069c3c4131e"
      },
      "execution_count": 72,
      "outputs": [
        {
          "output_type": "execute_result",
          "data": {
            "text/plain": [
              "array([[ 7,  8,  9],\n",
              "       [10, 11, 12]])"
            ]
          },
          "metadata": {},
          "execution_count": 72
        }
      ]
    },
    {
      "cell_type": "code",
      "execution_count": 73,
      "metadata": {
        "id": "rToOgGRbmXnj",
        "colab": {
          "base_uri": "https://localhost:8080/"
        },
        "outputId": "302064cd-6f4b-4881-fa97-bf4d43ae373f"
      },
      "outputs": [
        {
          "output_type": "execute_result",
          "data": {
            "text/plain": [
              "array([7, 8, 9])"
            ]
          },
          "metadata": {},
          "execution_count": 73
        }
      ],
      "source": [
        "x[0]"
      ]
    },
    {
      "cell_type": "code",
      "source": [
        "arr"
      ],
      "metadata": {
        "colab": {
          "base_uri": "https://localhost:8080/"
        },
        "id": "w8ddTFxCLewN",
        "outputId": "3657d060-a5f3-4493-8658-609c73ff624e"
      },
      "execution_count": 74,
      "outputs": [
        {
          "output_type": "execute_result",
          "data": {
            "text/plain": [
              "array([ 0,  1,  2,  3,  4, 64, 64, 64,  8,  9])"
            ]
          },
          "metadata": {},
          "execution_count": 74
        }
      ]
    },
    {
      "cell_type": "code",
      "execution_count": 75,
      "metadata": {
        "id": "dJF5Gj5vmXnj",
        "colab": {
          "base_uri": "https://localhost:8080/"
        },
        "outputId": "80efd6af-5e3e-41a0-9915-377c2ee98486"
      },
      "outputs": [
        {
          "output_type": "execute_result",
          "data": {
            "text/plain": [
              "array([ 1,  2,  3,  4, 64])"
            ]
          },
          "metadata": {},
          "execution_count": 75
        }
      ],
      "source": [
        "arr[1:6]"
      ]
    },
    {
      "cell_type": "code",
      "source": [
        "arr2d"
      ],
      "metadata": {
        "colab": {
          "base_uri": "https://localhost:8080/"
        },
        "id": "kdSbQlprLqqk",
        "outputId": "cd3892b2-9a56-4561-b3c6-ccf85d2bb5f4"
      },
      "execution_count": 77,
      "outputs": [
        {
          "output_type": "execute_result",
          "data": {
            "text/plain": [
              "array([[1, 2, 3],\n",
              "       [4, 5, 6],\n",
              "       [7, 8, 9]])"
            ]
          },
          "metadata": {},
          "execution_count": 77
        }
      ]
    },
    {
      "cell_type": "code",
      "execution_count": 78,
      "metadata": {
        "id": "dxoLCDyomXnj",
        "colab": {
          "base_uri": "https://localhost:8080/"
        },
        "outputId": "09016a91-5526-46e3-ee8c-c7bd5d6fdf8a"
      },
      "outputs": [
        {
          "output_type": "execute_result",
          "data": {
            "text/plain": [
              "array([[1, 2, 3],\n",
              "       [4, 5, 6]])"
            ]
          },
          "metadata": {},
          "execution_count": 78
        }
      ],
      "source": [
        "arr2d[:2]"
      ]
    },
    {
      "cell_type": "code",
      "execution_count": 79,
      "metadata": {
        "id": "aCWg_6fKmXnj",
        "colab": {
          "base_uri": "https://localhost:8080/"
        },
        "outputId": "63022872-2a4a-4e9f-e5f4-b623d6d6f0aa"
      },
      "outputs": [
        {
          "output_type": "execute_result",
          "data": {
            "text/plain": [
              "array([[2, 3],\n",
              "       [5, 6]])"
            ]
          },
          "metadata": {},
          "execution_count": 79
        }
      ],
      "source": [
        "arr2d[:2, 1:]"
      ]
    },
    {
      "cell_type": "code",
      "execution_count": 80,
      "metadata": {
        "id": "s_E7nP0PmXnj"
      },
      "outputs": [],
      "source": [
        "lower_dim_slice = arr2d[1, :2]"
      ]
    },
    {
      "cell_type": "code",
      "execution_count": 81,
      "metadata": {
        "id": "Vmy0IvAgmXnj",
        "colab": {
          "base_uri": "https://localhost:8080/"
        },
        "outputId": "052a9eae-79f2-4493-a8db-4e81018930aa"
      },
      "outputs": [
        {
          "output_type": "execute_result",
          "data": {
            "text/plain": [
              "(2,)"
            ]
          },
          "metadata": {},
          "execution_count": 81
        }
      ],
      "source": [
        "lower_dim_slice.shape"
      ]
    },
    {
      "cell_type": "code",
      "execution_count": 82,
      "metadata": {
        "id": "TNqb-wJjmXnj",
        "colab": {
          "base_uri": "https://localhost:8080/"
        },
        "outputId": "19658d9a-8be1-4541-98f3-f3eb3472d677"
      },
      "outputs": [
        {
          "output_type": "execute_result",
          "data": {
            "text/plain": [
              "array([3, 6])"
            ]
          },
          "metadata": {},
          "execution_count": 82
        }
      ],
      "source": [
        "arr2d[:2, 2]"
      ]
    },
    {
      "cell_type": "code",
      "execution_count": 83,
      "metadata": {
        "id": "GUXMWtDWmXnj",
        "colab": {
          "base_uri": "https://localhost:8080/"
        },
        "outputId": "82e5d181-ac61-4bc8-a613-5a7bd82cab10"
      },
      "outputs": [
        {
          "output_type": "execute_result",
          "data": {
            "text/plain": [
              "array([[1],\n",
              "       [4],\n",
              "       [7]])"
            ]
          },
          "metadata": {},
          "execution_count": 83
        }
      ],
      "source": [
        "arr2d[:, :1]"
      ]
    },
    {
      "cell_type": "code",
      "execution_count": 84,
      "metadata": {
        "id": "bLREQ6aQmXnn",
        "colab": {
          "base_uri": "https://localhost:8080/"
        },
        "outputId": "a3c9a0be-3b2b-4440-b2e0-037e471bd4ba"
      },
      "outputs": [
        {
          "output_type": "execute_result",
          "data": {
            "text/plain": [
              "array([[1, 0, 0],\n",
              "       [4, 0, 0],\n",
              "       [7, 8, 9]])"
            ]
          },
          "metadata": {},
          "execution_count": 84
        }
      ],
      "source": [
        "arr2d[:2, 1:] = 0\n",
        "arr2d"
      ]
    },
    {
      "cell_type": "code",
      "execution_count": 3,
      "metadata": {
        "id": "-d_qvHdDmXnn",
        "colab": {
          "base_uri": "https://localhost:8080/"
        },
        "outputId": "d684145e-0317-4e75-fd27-80dc55811238"
      },
      "outputs": [
        {
          "output_type": "stream",
          "name": "stdout",
          "text": [
            "['Bob' 'Joe' 'Will' 'Bob' 'Will' 'Joe' 'Joe']\n",
            "[[  4   7]\n",
            " [  0   2]\n",
            " [ -5   6]\n",
            " [  0   0]\n",
            " [  1   2]\n",
            " [-12  -4]\n",
            " [  3   4]]\n"
          ]
        }
      ],
      "source": [
        "names = np.array([\"Bob\", \"Joe\", \"Will\", \"Bob\", \"Will\", \"Joe\", \"Joe\"])\n",
        "data = np.array([[4, 7], [0, 2], [-5, 6], [0, 0], [1, 2],\n",
        "                 [-12, -4], [3, 4]])\n",
        "print(names)\n",
        "print(data)"
      ]
    },
    {
      "cell_type": "code",
      "execution_count": 4,
      "metadata": {
        "id": "d0CmtkfVmXno",
        "colab": {
          "base_uri": "https://localhost:8080/"
        },
        "outputId": "d87531f8-6748-48b2-a4f9-9122dea2663d"
      },
      "outputs": [
        {
          "output_type": "execute_result",
          "data": {
            "text/plain": [
              "array([ True, False, False,  True, False, False, False])"
            ]
          },
          "metadata": {},
          "execution_count": 4
        }
      ],
      "source": [
        "names == \"Bob\""
      ]
    },
    {
      "cell_type": "code",
      "execution_count": 5,
      "metadata": {
        "id": "2KeT7jsOmXno",
        "colab": {
          "base_uri": "https://localhost:8080/"
        },
        "outputId": "d96cce56-2e8e-4bfe-9cfe-94200092669e"
      },
      "outputs": [
        {
          "output_type": "execute_result",
          "data": {
            "text/plain": [
              "array([[4, 7],\n",
              "       [0, 0]])"
            ]
          },
          "metadata": {},
          "execution_count": 5
        }
      ],
      "source": [
        "data[names == \"Bob\"]"
      ]
    },
    {
      "cell_type": "code",
      "execution_count": 6,
      "metadata": {
        "id": "-2SGsx7MmXno",
        "colab": {
          "base_uri": "https://localhost:8080/"
        },
        "outputId": "8eac8787-b210-4de2-9773-883268089f5f"
      },
      "outputs": [
        {
          "output_type": "execute_result",
          "data": {
            "text/plain": [
              "array([7, 0])"
            ]
          },
          "metadata": {},
          "execution_count": 6
        }
      ],
      "source": [
        "data[names == \"Bob\", 1:]\n",
        "data[names == \"Bob\", 1]"
      ]
    },
    {
      "cell_type": "code",
      "source": [
        "names"
      ],
      "metadata": {
        "colab": {
          "base_uri": "https://localhost:8080/"
        },
        "id": "2V0E35o48eK1",
        "outputId": "5155942a-ef9e-42ff-a308-24028cbeaf8a"
      },
      "execution_count": 7,
      "outputs": [
        {
          "output_type": "execute_result",
          "data": {
            "text/plain": [
              "array(['Bob', 'Joe', 'Will', 'Bob', 'Will', 'Joe', 'Joe'], dtype='<U4')"
            ]
          },
          "metadata": {},
          "execution_count": 7
        }
      ]
    },
    {
      "cell_type": "code",
      "source": [
        "names != \"Bob\""
      ],
      "metadata": {
        "colab": {
          "base_uri": "https://localhost:8080/"
        },
        "id": "DZek7gND8fmI",
        "outputId": "6cdabac0-7f21-47a2-d69c-0eaa566d2733"
      },
      "execution_count": 8,
      "outputs": [
        {
          "output_type": "execute_result",
          "data": {
            "text/plain": [
              "array([False,  True,  True, False,  True,  True,  True])"
            ]
          },
          "metadata": {},
          "execution_count": 8
        }
      ]
    },
    {
      "cell_type": "code",
      "source": [
        "~(names == \"Bob\")"
      ],
      "metadata": {
        "colab": {
          "base_uri": "https://localhost:8080/"
        },
        "id": "v6W4XrgO8jbT",
        "outputId": "83708e0a-a73b-403f-bf0f-826602d9b040"
      },
      "execution_count": 9,
      "outputs": [
        {
          "output_type": "execute_result",
          "data": {
            "text/plain": [
              "array([False,  True,  True, False,  True,  True,  True])"
            ]
          },
          "metadata": {},
          "execution_count": 9
        }
      ]
    },
    {
      "cell_type": "code",
      "execution_count": 10,
      "metadata": {
        "id": "gyG_CGPumXno",
        "colab": {
          "base_uri": "https://localhost:8080/"
        },
        "outputId": "4ef88d6e-de58-4f29-e42a-4b57f2c303c6"
      },
      "outputs": [
        {
          "output_type": "execute_result",
          "data": {
            "text/plain": [
              "array([[  0,   2],\n",
              "       [ -5,   6],\n",
              "       [  1,   2],\n",
              "       [-12,  -4],\n",
              "       [  3,   4]])"
            ]
          },
          "metadata": {},
          "execution_count": 10
        }
      ],
      "source": [
        "data[~(names == \"Bob\")]"
      ]
    },
    {
      "cell_type": "code",
      "execution_count": 11,
      "metadata": {
        "id": "-pydUGFDmXno",
        "colab": {
          "base_uri": "https://localhost:8080/"
        },
        "outputId": "7aab0765-6821-41a7-e730-72c5a7f09acd"
      },
      "outputs": [
        {
          "output_type": "execute_result",
          "data": {
            "text/plain": [
              "array([[  0,   2],\n",
              "       [ -5,   6],\n",
              "       [  1,   2],\n",
              "       [-12,  -4],\n",
              "       [  3,   4]])"
            ]
          },
          "metadata": {},
          "execution_count": 11
        }
      ],
      "source": [
        "cond = names == \"Bob\"\n",
        "data[~cond]"
      ]
    },
    {
      "cell_type": "code",
      "execution_count": 12,
      "metadata": {
        "id": "K9IB5WnLmXno",
        "colab": {
          "base_uri": "https://localhost:8080/"
        },
        "outputId": "fb952861-2070-479e-a685-e1f09333c8bf"
      },
      "outputs": [
        {
          "output_type": "execute_result",
          "data": {
            "text/plain": [
              "array([[ 4,  7],\n",
              "       [-5,  6],\n",
              "       [ 0,  0],\n",
              "       [ 1,  2]])"
            ]
          },
          "metadata": {},
          "execution_count": 12
        }
      ],
      "source": [
        "mask = (names == \"Bob\") | (names == \"Will\")\n",
        "mask\n",
        "data[mask]"
      ]
    },
    {
      "cell_type": "code",
      "execution_count": 13,
      "metadata": {
        "id": "AxrMFR4imXno",
        "colab": {
          "base_uri": "https://localhost:8080/"
        },
        "outputId": "e9b7f5c1-2623-4aa6-eb16-58d155a06298"
      },
      "outputs": [
        {
          "output_type": "execute_result",
          "data": {
            "text/plain": [
              "array([[4, 7],\n",
              "       [0, 2],\n",
              "       [0, 6],\n",
              "       [0, 0],\n",
              "       [1, 2],\n",
              "       [0, 0],\n",
              "       [3, 4]])"
            ]
          },
          "metadata": {},
          "execution_count": 13
        }
      ],
      "source": [
        "data[data < 0] = 0\n",
        "data"
      ]
    },
    {
      "cell_type": "code",
      "execution_count": 14,
      "metadata": {
        "id": "hV_D7ZfpmXno",
        "colab": {
          "base_uri": "https://localhost:8080/"
        },
        "outputId": "20daec70-0869-4b41-f5de-6b41dcb2b26c"
      },
      "outputs": [
        {
          "output_type": "execute_result",
          "data": {
            "text/plain": [
              "array([[7, 7],\n",
              "       [0, 2],\n",
              "       [7, 7],\n",
              "       [7, 7],\n",
              "       [7, 7],\n",
              "       [0, 0],\n",
              "       [3, 4]])"
            ]
          },
          "metadata": {},
          "execution_count": 14
        }
      ],
      "source": [
        "data[names != \"Joe\"] = 7\n",
        "data"
      ]
    },
    {
      "cell_type": "code",
      "execution_count": 16,
      "metadata": {
        "id": "gXug6pSCmXno",
        "colab": {
          "base_uri": "https://localhost:8080/"
        },
        "outputId": "7427c465-f410-48b9-9bff-d78a8c11a8ac"
      },
      "outputs": [
        {
          "output_type": "execute_result",
          "data": {
            "text/plain": [
              "array([[0., 0., 0., 0.],\n",
              "       [1., 1., 1., 1.],\n",
              "       [2., 2., 2., 2.],\n",
              "       [3., 3., 3., 3.],\n",
              "       [4., 4., 4., 4.],\n",
              "       [5., 5., 5., 5.],\n",
              "       [6., 6., 6., 6.],\n",
              "       [7., 7., 7., 7.]])"
            ]
          },
          "metadata": {},
          "execution_count": 16
        }
      ],
      "source": [
        "arr = np.zeros((8, 4))\n",
        "for i in range(8):\n",
        "    arr[i] = i\n",
        "arr"
      ]
    },
    {
      "cell_type": "code",
      "source": [
        "arr = np.zeros((8, 4))\n",
        "arr"
      ],
      "metadata": {
        "colab": {
          "base_uri": "https://localhost:8080/"
        },
        "id": "w-LDudVNAV_Y",
        "outputId": "cae50616-3f1c-4b45-86b9-803c8aef212a"
      },
      "execution_count": 15,
      "outputs": [
        {
          "output_type": "execute_result",
          "data": {
            "text/plain": [
              "array([[0., 0., 0., 0.],\n",
              "       [0., 0., 0., 0.],\n",
              "       [0., 0., 0., 0.],\n",
              "       [0., 0., 0., 0.],\n",
              "       [0., 0., 0., 0.],\n",
              "       [0., 0., 0., 0.],\n",
              "       [0., 0., 0., 0.],\n",
              "       [0., 0., 0., 0.]])"
            ]
          },
          "metadata": {},
          "execution_count": 15
        }
      ]
    },
    {
      "cell_type": "code",
      "execution_count": 17,
      "metadata": {
        "id": "7T1_cOTxmXno",
        "colab": {
          "base_uri": "https://localhost:8080/"
        },
        "outputId": "a997c31e-3a7e-4e70-9496-2f5958fd146a"
      },
      "outputs": [
        {
          "output_type": "execute_result",
          "data": {
            "text/plain": [
              "array([[4., 4., 4., 4.],\n",
              "       [3., 3., 3., 3.],\n",
              "       [0., 0., 0., 0.],\n",
              "       [6., 6., 6., 6.]])"
            ]
          },
          "metadata": {},
          "execution_count": 17
        }
      ],
      "source": [
        "arr[[4, 3, 0, 6]]"
      ]
    },
    {
      "cell_type": "code",
      "execution_count": 19,
      "metadata": {
        "id": "w4RRyKA0mXno",
        "colab": {
          "base_uri": "https://localhost:8080/"
        },
        "outputId": "660f5e57-10e8-431c-805e-a8dd6f4869e0"
      },
      "outputs": [
        {
          "output_type": "execute_result",
          "data": {
            "text/plain": [
              "array([[5., 5., 5., 5.],\n",
              "       [3., 3., 3., 3.],\n",
              "       [1., 1., 1., 1.]])"
            ]
          },
          "metadata": {},
          "execution_count": 19
        }
      ],
      "source": [
        "arr[[-3, -5, -7]]"
      ]
    },
    {
      "cell_type": "code",
      "source": [
        "arr = np.arange(32).reshape((8, 4))\n",
        "arr"
      ],
      "metadata": {
        "colab": {
          "base_uri": "https://localhost:8080/"
        },
        "id": "YY2cEf1NBnCa",
        "outputId": "e31d7477-1249-4b2a-a3fd-0ac62e87fafe"
      },
      "execution_count": 23,
      "outputs": [
        {
          "output_type": "execute_result",
          "data": {
            "text/plain": [
              "array([[ 0,  1,  2,  3],\n",
              "       [ 4,  5,  6,  7],\n",
              "       [ 8,  9, 10, 11],\n",
              "       [12, 13, 14, 15],\n",
              "       [16, 17, 18, 19],\n",
              "       [20, 21, 22, 23],\n",
              "       [24, 25, 26, 27],\n",
              "       [28, 29, 30, 31]])"
            ]
          },
          "metadata": {},
          "execution_count": 23
        }
      ]
    },
    {
      "cell_type": "markdown",
      "source": [
        "- `np.arange(32)`: Tworzy jednowymiarową tablicę z liczbami całkowitymi od 0 do 31.\n",
        "- `.reshape((8, 4))`: Zmienia kształt tej tablicy na dwuwymiarową tablicę o wymiarach 8 wierszy i 4 kolumny.\n",
        "\n",
        "- Na koniec używasz indeksowania zaawansowanego (ang. advanced indexing), aby uzyskać konkretne elementy z tablicy `arr`.\n",
        "    - Pierwsza lista ``: Określa wiersze do wybrania.\n",
        "    - Druga lista ``: Określa kolumny do wybrania."
      ],
      "metadata": {
        "id": "M4h2x8ZVDJKJ"
      }
    },
    {
      "cell_type": "code",
      "execution_count": 20,
      "metadata": {
        "id": "3t3RMKu-mXno",
        "colab": {
          "base_uri": "https://localhost:8080/"
        },
        "outputId": "72cae908-ccd8-4ab7-b3a1-c1845bba7477"
      },
      "outputs": [
        {
          "output_type": "execute_result",
          "data": {
            "text/plain": [
              "array([ 4, 23, 29, 10])"
            ]
          },
          "metadata": {},
          "execution_count": 20
        }
      ],
      "source": [
        "arr = np.arange(32).reshape((8, 4))\n",
        "arr\n",
        "arr[[1, 5, 7, 2], [0, 3, 1, 2]] # Pierwsza lista ``: Określa wiersze do wybrania. / Druga lista ``: Określa kolumny do wybrania."
      ]
    },
    {
      "cell_type": "code",
      "execution_count": 24,
      "metadata": {
        "id": "GS-gmeyTmXno",
        "colab": {
          "base_uri": "https://localhost:8080/"
        },
        "outputId": "c89bb341-a57c-43ff-bfb5-f7f89f802a70"
      },
      "outputs": [
        {
          "output_type": "execute_result",
          "data": {
            "text/plain": [
              "array([[ 4,  7,  5,  6],\n",
              "       [20, 23, 21, 22],\n",
              "       [28, 31, 29, 30],\n",
              "       [ 8, 11,  9, 10]])"
            ]
          },
          "metadata": {},
          "execution_count": 24
        }
      ],
      "source": [
        "arr[[1, 5, 7, 2]][:, [0, 3, 1, 2]]"
      ]
    },
    {
      "cell_type": "code",
      "source": [
        "arr[[1, 5, 7, 2], [0, 3, 1, 2]]"
      ],
      "metadata": {
        "colab": {
          "base_uri": "https://localhost:8080/"
        },
        "id": "g1U2-fxnIpo1",
        "outputId": "2764a48c-be14-4a3c-fa7a-238bdbabe2e0"
      },
      "execution_count": 25,
      "outputs": [
        {
          "output_type": "execute_result",
          "data": {
            "text/plain": [
              "array([ 4, 23, 29, 10])"
            ]
          },
          "metadata": {},
          "execution_count": 25
        }
      ]
    },
    {
      "cell_type": "code",
      "execution_count": 26,
      "metadata": {
        "id": "4mjmndVlmXno",
        "colab": {
          "base_uri": "https://localhost:8080/"
        },
        "outputId": "97ddaaeb-2d64-40b2-8a9e-df2a2ed6999d"
      },
      "outputs": [
        {
          "output_type": "execute_result",
          "data": {
            "text/plain": [
              "array([[ 0,  1,  2,  3],\n",
              "       [ 0,  5,  6,  7],\n",
              "       [ 8,  9,  0, 11],\n",
              "       [12, 13, 14, 15],\n",
              "       [16, 17, 18, 19],\n",
              "       [20, 21, 22,  0],\n",
              "       [24, 25, 26, 27],\n",
              "       [28,  0, 30, 31]])"
            ]
          },
          "metadata": {},
          "execution_count": 26
        }
      ],
      "source": [
        "arr[[1, 5, 7, 2], [0, 3, 1, 2]] = 0\n",
        "arr"
      ]
    },
    {
      "cell_type": "code",
      "execution_count": 27,
      "metadata": {
        "id": "dIEmNzH-mXno",
        "colab": {
          "base_uri": "https://localhost:8080/"
        },
        "outputId": "c09c02cf-dd6c-445b-9adf-d2360389c6c2"
      },
      "outputs": [
        {
          "output_type": "execute_result",
          "data": {
            "text/plain": [
              "array([[ 0,  5, 10],\n",
              "       [ 1,  6, 11],\n",
              "       [ 2,  7, 12],\n",
              "       [ 3,  8, 13],\n",
              "       [ 4,  9, 14]])"
            ]
          },
          "metadata": {},
          "execution_count": 27
        }
      ],
      "source": [
        "arr = np.arange(15).reshape((3, 5))\n",
        "arr\n",
        "arr.T"
      ]
    },
    {
      "cell_type": "code",
      "source": [
        "arr"
      ],
      "metadata": {
        "colab": {
          "base_uri": "https://localhost:8080/"
        },
        "id": "QPyXfCn5I2am",
        "outputId": "a999a161-8271-4d9f-c8cf-b1abf887601e"
      },
      "execution_count": 28,
      "outputs": [
        {
          "output_type": "execute_result",
          "data": {
            "text/plain": [
              "array([[ 0,  1,  2,  3,  4],\n",
              "       [ 5,  6,  7,  8,  9],\n",
              "       [10, 11, 12, 13, 14]])"
            ]
          },
          "metadata": {},
          "execution_count": 28
        }
      ]
    },
    {
      "cell_type": "code",
      "source": [
        "arr = np.array([[0, 1, 0], [1, 2, -2], [6, 3, 2], [-1, 0, -1], [1, 0, 1]])\n",
        "arr"
      ],
      "metadata": {
        "colab": {
          "base_uri": "https://localhost:8080/"
        },
        "id": "X_r-oi7wJdiE",
        "outputId": "84e3c067-86ba-4f46-c1bd-a1b8580f6dd2"
      },
      "execution_count": 32,
      "outputs": [
        {
          "output_type": "execute_result",
          "data": {
            "text/plain": [
              "array([[ 0,  1,  0],\n",
              "       [ 1,  2, -2],\n",
              "       [ 6,  3,  2],\n",
              "       [-1,  0, -1],\n",
              "       [ 1,  0,  1]])"
            ]
          },
          "metadata": {},
          "execution_count": 32
        }
      ]
    },
    {
      "cell_type": "markdown",
      "source": [
        "- arr.T`: To transpozycja macierzy `arr`. Transpozycja polega na zamianie wierszy z kolumnami.\n",
        "\n",
        "- `np.dot(arr.T, arr)`: Funkcja `np.dot()` oblicza iloczyn macierzy. W tym przypadku mnożysz transponowaną macierz `arr` przez oryginalną macierz `arr`. Iloczyn macierzy jest obliczany jako suma iloczynów odpowiednich elementów."
      ],
      "metadata": {
        "id": "P_HBuWGQJ5zd"
      }
    },
    {
      "cell_type": "code",
      "execution_count": 33,
      "metadata": {
        "id": "mIy0uewXmXno",
        "colab": {
          "base_uri": "https://localhost:8080/"
        },
        "outputId": "ad0f1a12-9375-49be-ecbe-b79285cc07ed"
      },
      "outputs": [
        {
          "output_type": "execute_result",
          "data": {
            "text/plain": [
              "array([[39, 20, 12],\n",
              "       [20, 14,  2],\n",
              "       [12,  2, 10]])"
            ]
          },
          "metadata": {},
          "execution_count": 33
        }
      ],
      "source": [
        "arr = np.array([[0, 1, 0], [1, 2, -2], [6, 3, 2], [-1, 0, -1], [1, 0, 1]])\n",
        "arr\n",
        "np.dot(arr.T, arr)"
      ]
    },
    {
      "cell_type": "code",
      "execution_count": 34,
      "metadata": {
        "id": "qztWq8cAmXno",
        "colab": {
          "base_uri": "https://localhost:8080/"
        },
        "outputId": "43a80170-bc05-4889-afeb-1523e58d0bbc"
      },
      "outputs": [
        {
          "output_type": "execute_result",
          "data": {
            "text/plain": [
              "array([[39, 20, 12],\n",
              "       [20, 14,  2],\n",
              "       [12,  2, 10]])"
            ]
          },
          "metadata": {},
          "execution_count": 34
        }
      ],
      "source": [
        "arr.T @ arr"
      ]
    },
    {
      "cell_type": "code",
      "source": [
        "arr"
      ],
      "metadata": {
        "colab": {
          "base_uri": "https://localhost:8080/"
        },
        "id": "szZe7eBLLC1x",
        "outputId": "c0c74598-3f23-4a95-81f5-a1eff3d32bf1"
      },
      "execution_count": 35,
      "outputs": [
        {
          "output_type": "execute_result",
          "data": {
            "text/plain": [
              "array([[ 0,  1,  0],\n",
              "       [ 1,  2, -2],\n",
              "       [ 6,  3,  2],\n",
              "       [-1,  0, -1],\n",
              "       [ 1,  0,  1]])"
            ]
          },
          "metadata": {},
          "execution_count": 35
        }
      ]
    },
    {
      "cell_type": "markdown",
      "source": [
        "- `arr.swapaxes(0, 1)`: Ta metoda zamienia miejscami osie o indeksach 0 i 1 w tablicy `arr`. W przypadku dwuwymiarowej tablicy (macierzy), oznacza to, że wiersze staną się kolumnami i odwrotnie."
      ],
      "metadata": {
        "id": "S-KswxN4Li69"
      }
    },
    {
      "cell_type": "code",
      "execution_count": 36,
      "metadata": {
        "id": "NaJbcdbdmXnp",
        "colab": {
          "base_uri": "https://localhost:8080/"
        },
        "outputId": "43edb9af-09af-429f-eb1e-3558b755b2c1"
      },
      "outputs": [
        {
          "output_type": "execute_result",
          "data": {
            "text/plain": [
              "array([[ 0,  1,  6, -1,  1],\n",
              "       [ 1,  2,  3,  0,  0],\n",
              "       [ 0, -2,  2, -1,  1]])"
            ]
          },
          "metadata": {},
          "execution_count": 36
        }
      ],
      "source": [
        "arr\n",
        "arr.swapaxes(0, 1)"
      ]
    },
    {
      "cell_type": "code",
      "execution_count": 37,
      "metadata": {
        "id": "Ewu28l6QmXnp",
        "colab": {
          "base_uri": "https://localhost:8080/"
        },
        "outputId": "591452df-c427-480e-b4c5-0543f405db3f"
      },
      "outputs": [
        {
          "output_type": "execute_result",
          "data": {
            "text/plain": [
              "array([[-0.2047,  0.4789, -0.5194, -0.5557],\n",
              "       [ 1.9658,  1.3934,  0.0929,  0.2817],\n",
              "       [ 0.769 ,  1.2464,  1.0072, -1.2962],\n",
              "       [ 0.275 ,  0.2289,  1.3529,  0.8864]])"
            ]
          },
          "metadata": {},
          "execution_count": 37
        }
      ],
      "source": [
        "samples = np.random.standard_normal(size=(4, 4))\n",
        "samples"
      ]
    },
    {
      "cell_type": "markdown",
      "source": [
        "- Możemy podsumować różnice w wydajności między generowaniem próbek z rozkładu normalnego przy użyciu standardowej biblioteki `random` a NumPy.\n",
        "\n",
        "- Użycie `normalvariate(0, 1)` z biblioteki `random` jest znacznie wolniejsze w porównaniu do `np.random.standard_normal()`."
      ],
      "metadata": {
        "id": "S-j9IEl_MWzd"
      }
    },
    {
      "cell_type": "code",
      "execution_count": 38,
      "metadata": {
        "id": "dVIo3wszmXnp",
        "colab": {
          "base_uri": "https://localhost:8080/"
        },
        "outputId": "c7c819ec-bcd7-42d0-bbb9-e98e9b471ccf"
      },
      "outputs": [
        {
          "output_type": "stream",
          "name": "stdout",
          "text": [
            "808 ms ± 12.1 ms per loop (mean ± std. dev. of 7 runs, 1 loop each)\n",
            "28.8 ms ± 510 µs per loop (mean ± std. dev. of 7 runs, 10 loops each)\n"
          ]
        }
      ],
      "source": [
        "from random import normalvariate\n",
        "N = 1_000_000\n",
        "%timeit samples = [normalvariate(0, 1) for _ in range(N)]\n",
        "%timeit np.random.standard_normal(N)"
      ]
    },
    {
      "cell_type": "markdown",
      "source": [
        "- Kod tworzy dwuwymiarową tablicę (numpy.ndarray) o wymiarach 2x3, wypełnioną wartościami losowymi z rozkładu normalnego standardowego (średnia = 0, odchylenie standardowe = 1)"
      ],
      "metadata": {
        "id": "nNXo8BDkOhvH"
      }
    },
    {
      "cell_type": "code",
      "execution_count": null,
      "metadata": {
        "id": "1RKgjKCdmXnp"
      },
      "outputs": [],
      "source": [
        "rng = np.random.default_rng(seed=12345)\n",
        "data = rng.standard_normal((2, 3))"
      ]
    },
    {
      "cell_type": "code",
      "execution_count": 41,
      "metadata": {
        "id": "7zEE7UEYmXnp",
        "colab": {
          "base_uri": "https://localhost:8080/"
        },
        "outputId": "b06c224d-590b-4b3e-e4ba-61473c08f106"
      },
      "outputs": [
        {
          "output_type": "execute_result",
          "data": {
            "text/plain": [
              "numpy.random._generator.Generator"
            ]
          },
          "metadata": {},
          "execution_count": 41
        }
      ],
      "source": [
        "type(rng)"
      ]
    },
    {
      "cell_type": "code",
      "source": [
        "arr = np.arange(10)\n",
        "arr"
      ],
      "metadata": {
        "colab": {
          "base_uri": "https://localhost:8080/"
        },
        "id": "griZmi93ayHL",
        "outputId": "9705953f-0f60-44ec-b88d-2b66d0ca6284"
      },
      "execution_count": 42,
      "outputs": [
        {
          "output_type": "execute_result",
          "data": {
            "text/plain": [
              "array([0, 1, 2, 3, 4, 5, 6, 7, 8, 9])"
            ]
          },
          "metadata": {},
          "execution_count": 42
        }
      ]
    },
    {
      "cell_type": "markdown",
      "source": [
        "- `np.sqrt()`: Funkcja ta zwraca nową tablicę, w której każdy element jest pierwiastkiem kwadratowym odpowiadającego mu elementu w oryginalnej tablicy."
      ],
      "metadata": {
        "id": "zpBOo8xIbBYQ"
      }
    },
    {
      "cell_type": "code",
      "source": [
        "np.sqrt(arr)"
      ],
      "metadata": {
        "colab": {
          "base_uri": "https://localhost:8080/"
        },
        "id": "Ud8pceIDa4d9",
        "outputId": "25635828-0f05-43b1-ae0a-13ba8949ee29"
      },
      "execution_count": 43,
      "outputs": [
        {
          "output_type": "execute_result",
          "data": {
            "text/plain": [
              "array([0.    , 1.    , 1.4142, 1.7321, 2.    , 2.2361, 2.4495, 2.6458,\n",
              "       2.8284, 3.    ])"
            ]
          },
          "metadata": {},
          "execution_count": 43
        }
      ]
    },
    {
      "cell_type": "markdown",
      "source": [
        "- Funkcja `np.exp()` jest prostym i efektywnym sposobem na obliczanie wartości wykładniczej dla każdego elementu w tablicy NumPy. Umożliwia to łatwe wykonywanie obliczeń matematycznych na dużych zbiorach danych."
      ],
      "metadata": {
        "id": "aO_Y73KnbUHT"
      }
    },
    {
      "cell_type": "code",
      "execution_count": 44,
      "metadata": {
        "id": "EncUMozbmXnp",
        "colab": {
          "base_uri": "https://localhost:8080/"
        },
        "outputId": "e967bc52-6a86-4840-d324-2d884e34baae"
      },
      "outputs": [
        {
          "output_type": "execute_result",
          "data": {
            "text/plain": [
              "array([   1.    ,    2.7183,    7.3891,   20.0855,   54.5982,  148.4132,\n",
              "        403.4288, 1096.6332, 2980.958 , 8103.0839])"
            ]
          },
          "metadata": {},
          "execution_count": 44
        }
      ],
      "source": [
        "np.exp(arr)"
      ]
    },
    {
      "cell_type": "code",
      "source": [
        "x = rng.standard_normal(8)\n",
        "y = rng.standard_normal(8)\n",
        "print(x)\n",
        "print(y)"
      ],
      "metadata": {
        "colab": {
          "base_uri": "https://localhost:8080/"
        },
        "id": "VD6_AZS1b15C",
        "outputId": "23980ea1-ac06-4474-ee92-45824e66c4ae"
      },
      "execution_count": 46,
      "outputs": [
        {
          "output_type": "stream",
          "name": "stdout",
          "text": [
            "[-1.3981  0.6567 -0.8396 -1.8976 -1.6961  0.6152  0.747  -0.4014]\n",
            "[-0.3267  0.363  -0.3447 -2.5487 -0.9097 -0.1508  0.2579 -0.2794]\n"
          ]
        }
      ]
    },
    {
      "cell_type": "code",
      "execution_count": 47,
      "metadata": {
        "id": "5YaRkIltmXnp",
        "colab": {
          "base_uri": "https://localhost:8080/"
        },
        "outputId": "94d4d6f9-54c7-489d-f162-ea549301b36d"
      },
      "outputs": [
        {
          "output_type": "execute_result",
          "data": {
            "text/plain": [
              "array([-0.3267,  0.6567, -0.3447, -1.8976, -0.9097,  0.6152,  0.747 ,\n",
              "       -0.2794])"
            ]
          },
          "metadata": {},
          "execution_count": 47
        }
      ],
      "source": [
        "np.maximum(x, y)"
      ]
    },
    {
      "cell_type": "markdown",
      "source": [
        "- np.modf(arr)\n",
        "    - Funkcja np.modf dzieli każdą wartość w tablicy arr na:\n",
        "    - Część ułamkową (remainder).\n",
        "    - Część całkowitą (whole_part)."
      ],
      "metadata": {
        "id": "2UKM-uzHcs9y"
      }
    },
    {
      "cell_type": "code",
      "execution_count": 49,
      "metadata": {
        "id": "KX-Ff1jEmXnp",
        "colab": {
          "base_uri": "https://localhost:8080/"
        },
        "outputId": "64c8a298-1f28-4bd6-f9f9-1bc670349a4d"
      },
      "outputs": [
        {
          "output_type": "stream",
          "name": "stdout",
          "text": [
            "arr: [ 2.1566 -7.835   2.9356 -3.6365 -8.2111  2.583  -6.3192]\n",
            "remainder: [ 0.1566 -0.835   0.9356 -0.6365 -0.2111  0.583  -0.3192]\n",
            "whole_part: [ 2. -7.  2. -3. -8.  2. -6.]\n"
          ]
        }
      ],
      "source": [
        "arr = rng.standard_normal(7) * 5\n",
        "print('arr:', arr)\n",
        "remainder, whole_part = np.modf(arr)\n",
        "print('remainder:', remainder)\n",
        "print('whole_part:', whole_part)"
      ]
    },
    {
      "cell_type": "code",
      "source": [
        "arr"
      ],
      "metadata": {
        "colab": {
          "base_uri": "https://localhost:8080/"
        },
        "id": "2zEtE-FEdPOL",
        "outputId": "f9b585b1-2ceb-4c60-db33-4349d76a092b"
      },
      "execution_count": 50,
      "outputs": [
        {
          "output_type": "execute_result",
          "data": {
            "text/plain": [
              "array([ 2.1566, -7.835 ,  2.9356, -3.6365, -8.2111,  2.583 , -6.3192])"
            ]
          },
          "metadata": {},
          "execution_count": 50
        }
      ]
    },
    {
      "cell_type": "markdown",
      "source": [
        "- `np.zeros_like(arr)`: Ta funkcja tworzy nową tablicę o tym samym kształcie i typie danych co `arr`, ale wypełnioną zerami. W tym przypadku `out` będzie miała ten sam kształt co `arr`, czyli `(3, 3)`."
      ],
      "metadata": {
        "id": "NEGdoaNud500"
      }
    },
    {
      "cell_type": "code",
      "source": [
        "out = np.zeros_like(arr)\n",
        "out"
      ],
      "metadata": {
        "colab": {
          "base_uri": "https://localhost:8080/"
        },
        "id": "9W6aaW7BdSG9",
        "outputId": "5af1c226-352d-4874-b055-3c233260861d"
      },
      "execution_count": 52,
      "outputs": [
        {
          "output_type": "execute_result",
          "data": {
            "text/plain": [
              "array([0., 0., 0., 0., 0., 0., 0.])"
            ]
          },
          "metadata": {},
          "execution_count": 52
        }
      ]
    },
    {
      "cell_type": "markdown",
      "source": [
        "- Ta linia dodaje `1` do każdego elementu w `arr`, ale wynik nie jest zapisywany ani wyświetlany, ponieważ nie przypisujesz go do żadnej zmiennej."
      ],
      "metadata": {
        "id": "-QoxlA7leJ1C"
      }
    },
    {
      "cell_type": "code",
      "source": [
        "np.add(arr, 1)\n",
        "arr"
      ],
      "metadata": {
        "colab": {
          "base_uri": "https://localhost:8080/"
        },
        "id": "at79xjLqdb20",
        "outputId": "4659c0d9-25d4-4ce8-9725-dca2be7aabe6"
      },
      "execution_count": 53,
      "outputs": [
        {
          "output_type": "execute_result",
          "data": {
            "text/plain": [
              "array([ 2.1566, -7.835 ,  2.9356, -3.6365, -8.2111,  2.583 , -6.3192])"
            ]
          },
          "metadata": {},
          "execution_count": 53
        }
      ]
    },
    {
      "cell_type": "markdown",
      "source": [
        "- W tej linii dodajesz `1` do każdego elementu w `arr`, a wynik jest zapisywany bezpośrednio w tablicy `out`. Dzięki temu możesz uniknąć tworzenia dodatkowej tablicy i oszczędzić pamięć."
      ],
      "metadata": {
        "id": "CZDrlOm5efrW"
      }
    },
    {
      "cell_type": "code",
      "source": [
        "np.add(arr, 1, out=out)\n",
        "arr"
      ],
      "metadata": {
        "colab": {
          "base_uri": "https://localhost:8080/"
        },
        "id": "DIzZClgddhyp",
        "outputId": "7efe5f31-a6fa-410f-8936-f174449128d4"
      },
      "execution_count": 56,
      "outputs": [
        {
          "output_type": "execute_result",
          "data": {
            "text/plain": [
              "array([ 2.1566, -7.835 ,  2.9356, -3.6365, -8.2111,  2.583 , -6.3192])"
            ]
          },
          "metadata": {},
          "execution_count": 56
        }
      ]
    },
    {
      "cell_type": "code",
      "source": [
        "out"
      ],
      "metadata": {
        "colab": {
          "base_uri": "https://localhost:8080/"
        },
        "id": "YwyyNJjZdkjs",
        "outputId": "83d62347-3aec-4826-fd9a-075027dfec94"
      },
      "execution_count": 55,
      "outputs": [
        {
          "output_type": "execute_result",
          "data": {
            "text/plain": [
              "array([ 3.1566, -6.835 ,  3.9356, -2.6365, -7.2111,  3.583 , -5.3192])"
            ]
          },
          "metadata": {},
          "execution_count": 55
        }
      ]
    },
    {
      "cell_type": "code",
      "execution_count": 51,
      "metadata": {
        "id": "ywiSvD9ImXnp",
        "colab": {
          "base_uri": "https://localhost:8080/"
        },
        "outputId": "03067d42-bfb7-470a-ebb0-3531a176aea5"
      },
      "outputs": [
        {
          "output_type": "execute_result",
          "data": {
            "text/plain": [
              "array([ 3.1566, -6.835 ,  3.9356, -2.6365, -7.2111,  3.583 , -5.3192])"
            ]
          },
          "metadata": {},
          "execution_count": 51
        }
      ],
      "source": [
        "arr\n",
        "out = np.zeros_like(arr)\n",
        "np.add(arr, 1)\n",
        "np.add(arr, 1, out=out)\n",
        "out"
      ]
    },
    {
      "cell_type": "markdown",
      "source": [
        "- `np.arange(-5, 5, 0.01)`: Ta funkcja generuje tablicę liczb od -5 do 5 (nie włączając 5) z krokiem 0.01. W rezultacie otrzymasz 1001 punktów (w tym -5 i wartości bliskie 5).\n",
        "\n",
        "- `np.meshgrid(points, points)`: Ta funkcja tworzy dwie dwuwymiarowe tablice (siatkę), które zawierają współrzędne x i y dla wszystkich kombinacji punktów. W wyniku działania tej funkcji:\n",
        "    - `xs` będzie zawierać wartości x dla każdego punktu w siatce.\n",
        "    - `ys` będzie zawierać wartości y dla każdego punktu w siatce."
      ],
      "metadata": {
        "id": "NVJ34lesfCwR"
      }
    },
    {
      "cell_type": "code",
      "execution_count": 58,
      "metadata": {
        "id": "agEQwLLQmXnp",
        "colab": {
          "base_uri": "https://localhost:8080/"
        },
        "outputId": "e3bf0a35-703e-41e0-db94-8e4351ca140a"
      },
      "outputs": [
        {
          "output_type": "execute_result",
          "data": {
            "text/plain": [
              "array([[-5.  , -5.  , -5.  , ..., -5.  , -5.  , -5.  ],\n",
              "       [-4.99, -4.99, -4.99, ..., -4.99, -4.99, -4.99],\n",
              "       [-4.98, -4.98, -4.98, ..., -4.98, -4.98, -4.98],\n",
              "       ...,\n",
              "       [ 4.97,  4.97,  4.97, ...,  4.97,  4.97,  4.97],\n",
              "       [ 4.98,  4.98,  4.98, ...,  4.98,  4.98,  4.98],\n",
              "       [ 4.99,  4.99,  4.99, ...,  4.99,  4.99,  4.99]])"
            ]
          },
          "metadata": {},
          "execution_count": 58
        }
      ],
      "source": [
        "points = np.arange(-5, 5, 0.01)\n",
        "xs, ys = np.meshgrid(points, points)\n",
        "ys"
      ]
    },
    {
      "cell_type": "code",
      "source": [
        "xs"
      ],
      "metadata": {
        "colab": {
          "base_uri": "https://localhost:8080/"
        },
        "id": "dr_GwZiq4CfW",
        "outputId": "845fd1d1-4759-405a-9bca-2d7f91e657cf"
      },
      "execution_count": 59,
      "outputs": [
        {
          "output_type": "execute_result",
          "data": {
            "text/plain": [
              "array([[-5.  , -4.99, -4.98, ...,  4.97,  4.98,  4.99],\n",
              "       [-5.  , -4.99, -4.98, ...,  4.97,  4.98,  4.99],\n",
              "       [-5.  , -4.99, -4.98, ...,  4.97,  4.98,  4.99],\n",
              "       ...,\n",
              "       [-5.  , -4.99, -4.98, ...,  4.97,  4.98,  4.99],\n",
              "       [-5.  , -4.99, -4.98, ...,  4.97,  4.98,  4.99],\n",
              "       [-5.  , -4.99, -4.98, ...,  4.97,  4.98,  4.99]])"
            ]
          },
          "metadata": {},
          "execution_count": 59
        }
      ]
    },
    {
      "cell_type": "code",
      "execution_count": 60,
      "metadata": {
        "id": "USFoBnpLmXnp",
        "colab": {
          "base_uri": "https://localhost:8080/"
        },
        "outputId": "1e8599b0-c0a5-4ff3-9378-995b15ddad42"
      },
      "outputs": [
        {
          "output_type": "execute_result",
          "data": {
            "text/plain": [
              "array([[7.0711, 7.064 , 7.0569, ..., 7.0499, 7.0569, 7.064 ],\n",
              "       [7.064 , 7.0569, 7.0499, ..., 7.0428, 7.0499, 7.0569],\n",
              "       [7.0569, 7.0499, 7.0428, ..., 7.0357, 7.0428, 7.0499],\n",
              "       ...,\n",
              "       [7.0499, 7.0428, 7.0357, ..., 7.0286, 7.0357, 7.0428],\n",
              "       [7.0569, 7.0499, 7.0428, ..., 7.0357, 7.0428, 7.0499],\n",
              "       [7.064 , 7.0569, 7.0499, ..., 7.0428, 7.0499, 7.0569]])"
            ]
          },
          "metadata": {},
          "execution_count": 60
        }
      ],
      "source": [
        "z = np.sqrt(xs ** 2 + ys ** 2)\n",
        "z"
      ]
    },
    {
      "cell_type": "code",
      "execution_count": 61,
      "metadata": {
        "id": "r-4BZ1BJmXnp",
        "colab": {
          "base_uri": "https://localhost:8080/",
          "height": 573
        },
        "outputId": "63302fc5-58e8-4295-810a-afcbbc0758a2"
      },
      "outputs": [
        {
          "output_type": "execute_result",
          "data": {
            "text/plain": [
              "Text(0.5, 1.0, 'Wykres funkcji $\\\\sqrt{x^2 + y^2}$ dla określonych wartości x i y')"
            ]
          },
          "metadata": {},
          "execution_count": 61
        },
        {
          "output_type": "display_data",
          "data": {
            "text/plain": [
              "<Figure size 1000x600 with 2 Axes>"
            ],
            "image/png": "[encoded data removed]"
          },
          "metadata": {}
        }
      ],
      "source": [
        "import matplotlib.pyplot as plt\n",
        "plt.imshow(z, cmap=plt.cm.gray, extent=[-5, 5, -5, 5])\n",
        "plt.colorbar()\n",
        "plt.title(\"Wykres funkcji $\\sqrt{x^2 + y^2}$ dla określonych wartości x i y\")"
      ]
    },
    {
      "cell_type": "code",
      "execution_count": 62,
      "metadata": {
        "id": "MkE5WgzQmXnp",
        "colab": {
          "base_uri": "https://localhost:8080/",
          "height": 35
        },
        "outputId": "2266b056-f7cc-4220-a665-c807eecd97a9"
      },
      "outputs": [
        {
          "output_type": "display_data",
          "data": {
            "text/plain": [
              "<Figure size 1000x600 with 0 Axes>"
            ]
          },
          "metadata": {}
        }
      ],
      "source": [
        "plt.draw()"
      ]
    },
    {
      "cell_type": "code",
      "execution_count": 63,
      "metadata": {
        "id": "xRYvR0eZmXnp"
      },
      "outputs": [],
      "source": [
        "plt.close(\"all\")"
      ]
    },
    {
      "cell_type": "code",
      "execution_count": 64,
      "metadata": {
        "id": "pH5Bqk-lmXnp"
      },
      "outputs": [],
      "source": [
        "xarr = np.array([1.1, 1.2, 1.3, 1.4, 1.5])\n",
        "yarr = np.array([2.1, 2.2, 2.3, 2.4, 2.5])\n",
        "cond = np.array([True, False, True, True, False])"
      ]
    },
    {
      "cell_type": "code",
      "execution_count": 65,
      "metadata": {
        "id": "jvpFLjGNmXnq",
        "colab": {
          "base_uri": "https://localhost:8080/"
        },
        "outputId": "e1d51bec-1ec8-4d52-a59c-0a1a61909a60"
      },
      "outputs": [
        {
          "output_type": "execute_result",
          "data": {
            "text/plain": [
              "[1.1, 2.2, 1.3, 1.4, 2.5]"
            ]
          },
          "metadata": {},
          "execution_count": 65
        }
      ],
      "source": [
        "result = [(x if c else y)\n",
        "          for x, y, c in zip(xarr, yarr, cond)]\n",
        "result"
      ]
    },
    {
      "cell_type": "code",
      "execution_count": 66,
      "metadata": {
        "id": "iGDxdoiymXnq",
        "colab": {
          "base_uri": "https://localhost:8080/"
        },
        "outputId": "541b0f8c-41c7-41d5-81ce-703b28800815"
      },
      "outputs": [
        {
          "output_type": "execute_result",
          "data": {
            "text/plain": [
              "array([1.1, 2.2, 1.3, 1.4, 2.5])"
            ]
          },
          "metadata": {},
          "execution_count": 66
        }
      ],
      "source": [
        "result = np.where(cond, xarr, yarr)\n",
        "result"
      ]
    },
    {
      "cell_type": "code",
      "source": [
        "arr = rng.standard_normal((4, 4))\n",
        "arr"
      ],
      "metadata": {
        "colab": {
          "base_uri": "https://localhost:8080/"
        },
        "id": "oV_a5VHQ9QMT",
        "outputId": "1bdf883c-f957-4ace-9007-5261d611a56d"
      },
      "execution_count": 67,
      "outputs": [
        {
          "output_type": "execute_result",
          "data": {
            "text/plain": [
              "array([[-0.1183,  0.9953, -2.1566,  0.5537],\n",
              "       [ 0.7655,  1.0277, -0.7349, -0.589 ],\n",
              "       [ 0.4298,  0.0919, -1.393 ,  0.5063],\n",
              "       [-0.2703, -0.7642,  0.5228, -1.2076]])"
            ]
          },
          "metadata": {},
          "execution_count": 67
        }
      ]
    },
    {
      "cell_type": "code",
      "source": [
        "arr > 0"
      ],
      "metadata": {
        "colab": {
          "base_uri": "https://localhost:8080/"
        },
        "id": "co3emp549S51",
        "outputId": "2513f025-8744-40c4-8979-274f99157f16"
      },
      "execution_count": 68,
      "outputs": [
        {
          "output_type": "execute_result",
          "data": {
            "text/plain": [
              "array([[False,  True, False,  True],\n",
              "       [ True,  True, False, False],\n",
              "       [ True,  True, False,  True],\n",
              "       [False, False,  True, False]])"
            ]
          },
          "metadata": {},
          "execution_count": 68
        }
      ]
    },
    {
      "cell_type": "code",
      "execution_count": 69,
      "metadata": {
        "id": "ojRfTb9gmXnq",
        "colab": {
          "base_uri": "https://localhost:8080/"
        },
        "outputId": "1a0ea788-2405-43ff-e7d2-6969d96a634c"
      },
      "outputs": [
        {
          "output_type": "execute_result",
          "data": {
            "text/plain": [
              "array([[-2,  2, -2,  2],\n",
              "       [ 2,  2, -2, -2],\n",
              "       [ 2,  2, -2,  2],\n",
              "       [-2, -2,  2, -2]])"
            ]
          },
          "metadata": {},
          "execution_count": 69
        }
      ],
      "source": [
        "np.where(arr > 0, 2, -2)"
      ]
    },
    {
      "cell_type": "code",
      "execution_count": 70,
      "metadata": {
        "id": "tATy5-RwmXnq",
        "colab": {
          "base_uri": "https://localhost:8080/"
        },
        "outputId": "2aeff813-650f-46de-88bc-e384fc99666b"
      },
      "outputs": [
        {
          "output_type": "execute_result",
          "data": {
            "text/plain": [
              "array([[-0.1183,  2.    , -2.1566,  2.    ],\n",
              "       [ 2.    ,  2.    , -0.7349, -0.589 ],\n",
              "       [ 2.    ,  2.    , -1.393 ,  2.    ],\n",
              "       [-0.2703, -0.7642,  2.    , -1.2076]])"
            ]
          },
          "metadata": {},
          "execution_count": 70
        }
      ],
      "source": [
        "np.where(arr > 0, 2, arr)"
      ]
    },
    {
      "cell_type": "code",
      "source": [
        "arr = rng.standard_normal((5, 4))\n",
        "arr"
      ],
      "metadata": {
        "colab": {
          "base_uri": "https://localhost:8080/"
        },
        "id": "UWv2vT0D9f8m",
        "outputId": "13bdeadc-95b0-4750-fc02-c1918697b3b4"
      },
      "execution_count": 71,
      "outputs": [
        {
          "output_type": "execute_result",
          "data": {
            "text/plain": [
              "array([[-0.8485,  1.2657, -1.9384,  0.9601],\n",
              "       [ 1.3372, -1.4572, -1.1662,  0.7413],\n",
              "       [-0.2966,  0.9815,  1.2592, -0.822 ],\n",
              "       [ 1.174 ,  0.3292,  1.7361, -0.3574],\n",
              "       [ 0.7323,  1.3352, -0.6013, -1.6747]])"
            ]
          },
          "metadata": {},
          "execution_count": 71
        }
      ]
    },
    {
      "cell_type": "code",
      "source": [
        "arr.mean()"
      ],
      "metadata": {
        "colab": {
          "base_uri": "https://localhost:8080/"
        },
        "id": "JDtmnUCN9iPk",
        "outputId": "c5772791-a8c0-4fc9-b1a1-f749ea0ee299"
      },
      "execution_count": 72,
      "outputs": [
        {
          "output_type": "execute_result",
          "data": {
            "text/plain": [
              "0.13448599311657547"
            ]
          },
          "metadata": {},
          "execution_count": 72
        }
      ]
    },
    {
      "cell_type": "code",
      "source": [
        "np.mean(arr)"
      ],
      "metadata": {
        "colab": {
          "base_uri": "https://localhost:8080/"
        },
        "id": "iNSRJ-Mt9kwz",
        "outputId": "39d0074d-2baf-4761-a4ac-1c648a890d76"
      },
      "execution_count": 73,
      "outputs": [
        {
          "output_type": "execute_result",
          "data": {
            "text/plain": [
              "0.13448599311657547"
            ]
          },
          "metadata": {},
          "execution_count": 73
        }
      ]
    },
    {
      "cell_type": "code",
      "execution_count": 74,
      "metadata": {
        "id": "6_ccJ7dTmXnq",
        "colab": {
          "base_uri": "https://localhost:8080/"
        },
        "outputId": "d24fc694-e321-4ba5-bbdf-d7ccbfdd7373"
      },
      "outputs": [
        {
          "output_type": "execute_result",
          "data": {
            "text/plain": [
              "2.6897198623315095"
            ]
          },
          "metadata": {},
          "execution_count": 74
        }
      ],
      "source": [
        "arr.sum()"
      ]
    },
    {
      "cell_type": "markdown",
      "source": [
        "- `axis=1`: Oznacza, że średnia będzie obliczana wzdłuż osi 1, co odpowiada wierszom. W efekcie dla każdego wiersza zostanie obliczona średnia jego elementów."
      ],
      "metadata": {
        "id": "yPu_TO8N998A"
      }
    },
    {
      "cell_type": "code",
      "source": [
        "arr.mean(axis=1)"
      ],
      "metadata": {
        "colab": {
          "base_uri": "https://localhost:8080/"
        },
        "id": "XkP-OnQT9yQh",
        "outputId": "9663109d-c3ed-4fa5-8286-a6ae1d0482aa"
      },
      "execution_count": 75,
      "outputs": [
        {
          "output_type": "execute_result",
          "data": {
            "text/plain": [
              "array([-0.1403, -0.1362,  0.2805,  0.7205, -0.0521])"
            ]
          },
          "metadata": {},
          "execution_count": 75
        }
      ]
    },
    {
      "cell_type": "markdown",
      "source": [
        "- `axis=0`: Oznacza, że suma będzie obliczana wzdłuż osi 0, co odpowiada kolumnom. W efekcie dla każdej kolumny zostanie obliczona suma jej elementów."
      ],
      "metadata": {
        "id": "cBcYHvAl-ItL"
      }
    },
    {
      "cell_type": "code",
      "execution_count": 76,
      "metadata": {
        "id": "s_1Xt-lZmXnq",
        "colab": {
          "base_uri": "https://localhost:8080/"
        },
        "outputId": "62483bd4-3948-45c0-919b-33da3981e600"
      },
      "outputs": [
        {
          "output_type": "execute_result",
          "data": {
            "text/plain": [
              "array([ 2.0985,  2.4545, -0.7105, -1.1527])"
            ]
          },
          "metadata": {},
          "execution_count": 76
        }
      ],
      "source": [
        "arr.sum(axis=0)"
      ]
    },
    {
      "cell_type": "code",
      "execution_count": 77,
      "metadata": {
        "id": "la3MYx1zmXnq",
        "colab": {
          "base_uri": "https://localhost:8080/"
        },
        "outputId": "30039101-6ac5-4d42-d0c3-e8c74d282afc"
      },
      "outputs": [
        {
          "output_type": "execute_result",
          "data": {
            "text/plain": [
              "array([ 0,  1,  3,  6, 10, 15, 21, 28])"
            ]
          },
          "metadata": {},
          "execution_count": 77
        }
      ],
      "source": [
        "arr = np.array([0, 1, 2, 3, 4, 5, 6, 7])\n",
        "arr.cumsum()"
      ]
    },
    {
      "cell_type": "code",
      "execution_count": 78,
      "metadata": {
        "id": "tH1p6VgDmXnq",
        "colab": {
          "base_uri": "https://localhost:8080/"
        },
        "outputId": "27ee14a3-63d4-4d87-887a-077eca5b2af1"
      },
      "outputs": [
        {
          "output_type": "execute_result",
          "data": {
            "text/plain": [
              "array([[0, 1, 2],\n",
              "       [3, 4, 5],\n",
              "       [6, 7, 8]])"
            ]
          },
          "metadata": {},
          "execution_count": 78
        }
      ],
      "source": [
        "arr = np.array([[0, 1, 2], [3, 4, 5], [6, 7, 8]])\n",
        "arr"
      ]
    },
    {
      "cell_type": "code",
      "source": [
        "arr.cumsum(axis=0)"
      ],
      "metadata": {
        "colab": {
          "base_uri": "https://localhost:8080/"
        },
        "id": "lkjgfYIV-Y1h",
        "outputId": "4d4ee3bb-e0c7-4ac7-cdd4-d9db66b151b2"
      },
      "execution_count": 80,
      "outputs": [
        {
          "output_type": "execute_result",
          "data": {
            "text/plain": [
              "array([[ 0,  1,  2],\n",
              "       [ 3,  5,  7],\n",
              "       [ 9, 12, 15]])"
            ]
          },
          "metadata": {},
          "execution_count": 80
        }
      ]
    },
    {
      "cell_type": "code",
      "execution_count": 81,
      "metadata": {
        "id": "3HcIy1nDmXnq",
        "colab": {
          "base_uri": "https://localhost:8080/"
        },
        "outputId": "2ba1bea1-f1fd-4a06-fb05-8c4995056883"
      },
      "outputs": [
        {
          "output_type": "execute_result",
          "data": {
            "text/plain": [
              "array([[ 0,  1,  3],\n",
              "       [ 3,  7, 12],\n",
              "       [ 6, 13, 21]])"
            ]
          },
          "metadata": {},
          "execution_count": 81
        }
      ],
      "source": [
        "arr.cumsum(axis=1)"
      ]
    },
    {
      "cell_type": "code",
      "source": [
        "arr = rng.standard_normal(100)\n",
        "arr"
      ],
      "metadata": {
        "colab": {
          "base_uri": "https://localhost:8080/"
        },
        "id": "6ozrUw_4-jJl",
        "outputId": "958629d7-8358-40fd-db94-5a3cd8c6e0c6"
      },
      "execution_count": 82,
      "outputs": [
        {
          "output_type": "execute_result",
          "data": {
            "text/plain": [
              "array([-0.3188,  0.6554, -0.0733, -1.325 , -0.5916,  3.1386,  0.7737,\n",
              "       -0.2103,  0.5847, -1.1872,  0.0196, -1.2839, -1.6091, -1.4527,\n",
              "       -0.5483, -2.0724,  0.1209,  0.6719,  0.0791,  0.1683,  0.9761,\n",
              "       -0.3099, -0.6812,  0.8017,  1.4133,  0.6138,  0.315 , -0.7911,\n",
              "        0.5214,  0.8102, -1.3285,  0.3205,  1.0943, -1.929 ,  0.9965,\n",
              "        0.851 , -0.7488,  1.3458, -1.1329,  0.8031,  1.0422, -0.8417,\n",
              "        0.6459, -0.531 ,  2.129 ,  0.7187, -1.7818, -0.7456, -0.1357,\n",
              "       -1.966 , -0.8817, -0.6314, -0.151 ,  0.3075, -2.1393,  0.0043,\n",
              "       -0.269 , -0.2558, -0.431 ,  0.7397,  0.0945,  0.867 , -0.9574,\n",
              "       -0.3063,  1.5531,  0.076 ,  0.6159,  0.5358, -0.7341,  1.7038,\n",
              "        0.4284,  1.5055, -1.9832,  1.2635, -0.5736,  1.3928, -0.5182,\n",
              "        1.4253, -0.1878, -0.3064, -0.4883, -0.1315, -1.1116, -1.0768,\n",
              "       -1.3433, -0.0058, -0.0781,  1.4787,  0.9589, -0.8968,  0.2336,\n",
              "        1.8049,  0.8954, -0.5086, -1.3916, -0.7002,  0.252 ,  0.0524,\n",
              "        0.0749,  0.666 ])"
            ]
          },
          "metadata": {},
          "execution_count": 82
        }
      ]
    },
    {
      "cell_type": "code",
      "source": [
        "(arr > 0).sum()"
      ],
      "metadata": {
        "colab": {
          "base_uri": "https://localhost:8080/"
        },
        "id": "Z7mWT1D5-oep",
        "outputId": "63d225e6-b512-4f0e-e069-3bbace0ea432"
      },
      "execution_count": 83,
      "outputs": [
        {
          "output_type": "execute_result",
          "data": {
            "text/plain": [
              "50"
            ]
          },
          "metadata": {},
          "execution_count": 83
        }
      ]
    },
    {
      "cell_type": "code",
      "execution_count": 84,
      "metadata": {
        "id": "20mDMbEmmXnq",
        "colab": {
          "base_uri": "https://localhost:8080/"
        },
        "outputId": "60bca21c-9ff4-4678-aec3-2f23ce21f293"
      },
      "outputs": [
        {
          "output_type": "execute_result",
          "data": {
            "text/plain": [
              "50"
            ]
          },
          "metadata": {},
          "execution_count": 84
        }
      ],
      "source": [
        "(arr <= 0).sum()"
      ]
    },
    {
      "cell_type": "code",
      "source": [
        "bools = np.array([False, False, True, False])\n",
        "bools.any()"
      ],
      "metadata": {
        "colab": {
          "base_uri": "https://localhost:8080/"
        },
        "id": "T72hPQd8-xzK",
        "outputId": "d18933bf-4039-4dd2-fa56-f96c46a77793"
      },
      "execution_count": 85,
      "outputs": [
        {
          "output_type": "execute_result",
          "data": {
            "text/plain": [
              "True"
            ]
          },
          "metadata": {},
          "execution_count": 85
        }
      ]
    },
    {
      "cell_type": "code",
      "execution_count": 86,
      "metadata": {
        "id": "M5fZgmsqmXnq",
        "colab": {
          "base_uri": "https://localhost:8080/"
        },
        "outputId": "0bd52604-e00d-47bf-fb4c-1e1a64997713"
      },
      "outputs": [
        {
          "output_type": "execute_result",
          "data": {
            "text/plain": [
              "False"
            ]
          },
          "metadata": {},
          "execution_count": 86
        }
      ],
      "source": [
        "bools.all()"
      ]
    },
    {
      "cell_type": "code",
      "source": [
        "arr = rng.standard_normal(6)\n",
        "arr"
      ],
      "metadata": {
        "colab": {
          "base_uri": "https://localhost:8080/"
        },
        "id": "VKc7Xkdp-2GM",
        "outputId": "428d9af1-5c2c-4cf5-d5e7-b88bac708bde"
      },
      "execution_count": 87,
      "outputs": [
        {
          "output_type": "execute_result",
          "data": {
            "text/plain": [
              "array([-0.1027,  1.5578,  1.1011, -1.2839,  0.7724,  0.9207])"
            ]
          },
          "metadata": {},
          "execution_count": 87
        }
      ]
    },
    {
      "cell_type": "code",
      "execution_count": 88,
      "metadata": {
        "id": "juWcso-xmXnq",
        "colab": {
          "base_uri": "https://localhost:8080/"
        },
        "outputId": "90348757-ee95-4938-c88d-f600c2152f47"
      },
      "outputs": [
        {
          "output_type": "execute_result",
          "data": {
            "text/plain": [
              "array([-1.2839, -0.1027,  0.7724,  0.9207,  1.1011,  1.5578])"
            ]
          },
          "metadata": {},
          "execution_count": 88
        }
      ],
      "source": [
        "arr.sort()\n",
        "arr"
      ]
    },
    {
      "cell_type": "code",
      "execution_count": null,
      "metadata": {
        "id": "KUew4hS3mXnq"
      },
      "outputs": [],
      "source": [
        "#! ipython id=9706c0664763497abcc763ea917ac005\n",
        "arr = rng.standard_normal((5, 3))\n",
        "arr"
      ]
    },
    {
      "cell_type": "code",
      "execution_count": null,
      "metadata": {
        "id": "wZ29g1T5mXnq"
      },
      "outputs": [],
      "source": [
        "#! ipython id=e5efdd03e40b46ef90fbff8c2bc7cd58\n",
        "arr.sort(axis=0)\n",
        "arr\n",
        "arr.sort(axis=1)\n",
        "arr"
      ]
    },
    {
      "cell_type": "code",
      "execution_count": null,
      "metadata": {
        "id": "wtzZLjUbmXnq"
      },
      "outputs": [],
      "source": [
        "#! ipython id=C0B5AB6E22444377A78BE7A4ADAEC149\n",
        "arr2 = np.array([5, -10, 7, 1, 0, -3])\n",
        "sorted_arr2 = np.sort(arr2)\n",
        "sorted_arr2"
      ]
    },
    {
      "cell_type": "code",
      "execution_count": null,
      "metadata": {
        "id": "Lv41b_CVmXnq"
      },
      "outputs": [],
      "source": [
        "#! ipython id=d0661787b25b463cab49e5707f440dc1\n",
        "names = np.array([\"Bob\", \"Will\", \"Joe\", \"Bob\", \"Will\", \"Joe\", \"Joe\"])\n",
        "np.unique(names)\n",
        "ints = np.array([3, 3, 3, 2, 2, 1, 1, 4, 4])\n",
        "np.unique(ints)"
      ]
    },
    {
      "cell_type": "code",
      "execution_count": null,
      "metadata": {
        "id": "qn-UN_mXmXnq"
      },
      "outputs": [],
      "source": [
        "#! ipython id=defea8216e0c43aa8cac6e8044375f7a\n",
        "sorted(set(names))"
      ]
    },
    {
      "cell_type": "code",
      "execution_count": null,
      "metadata": {
        "id": "yszya1DrmXnq"
      },
      "outputs": [],
      "source": [
        "#! ipython id=0228289e5be043c189e011251dcffdc6\n",
        "values = np.array([6, 0, 0, 3, 2, 5, 6])\n",
        "np.in1d(values, [2, 3, 6])"
      ]
    },
    {
      "cell_type": "code",
      "execution_count": null,
      "metadata": {
        "id": "kIkljhhimXnq"
      },
      "outputs": [],
      "source": [
        "#! ipython id=b3597533081e4753b6074823c3b5674f\n",
        "arr = np.arange(10)\n",
        "np.save(\"some_array\", arr)"
      ]
    },
    {
      "cell_type": "code",
      "execution_count": null,
      "metadata": {
        "id": "g_J1pogjmXnr"
      },
      "outputs": [],
      "source": [
        "#! ipython id=fb53288f306e4de7a7c24f3535bf7114\n",
        "np.load(\"some_array.npy\")"
      ]
    },
    {
      "cell_type": "code",
      "execution_count": null,
      "metadata": {
        "id": "hyu1SUjZmXnr"
      },
      "outputs": [],
      "source": [
        "#! ipython id=d587f08b74b9448eb1e24b7812b8a559\n",
        "np.savez(\"array_archive.npz\", a=arr, b=arr)"
      ]
    },
    {
      "cell_type": "code",
      "execution_count": null,
      "metadata": {
        "id": "lA1AScl2mXnr"
      },
      "outputs": [],
      "source": [
        "#! ipython id=8ba454d47fde4bd082c3eb647ec642f9\n",
        "arch = np.load(\"array_archive.npz\")\n",
        "arch[\"b\"]"
      ]
    },
    {
      "cell_type": "code",
      "execution_count": null,
      "metadata": {
        "id": "sLPT0P36mXnr"
      },
      "outputs": [],
      "source": [
        "#! ipython id=2a2682b4078c49c981d34e9966f55632\n",
        "np.savez_compressed(\"arrays_compressed.npz\", a=arr, b=arr)"
      ]
    },
    {
      "cell_type": "code",
      "execution_count": null,
      "metadata": {
        "id": "BSsjbxcZmXnr"
      },
      "outputs": [],
      "source": [
        "#! ipython suppress id=1d4c714fb55a49fe81a7c3dca0318267\n",
        "!rm some_array.npy\n",
        "!rm array_archive.npz\n",
        "!rm arrays_compressed.npz"
      ]
    },
    {
      "cell_type": "code",
      "execution_count": null,
      "metadata": {
        "id": "qat4naaemXnr"
      },
      "outputs": [],
      "source": [
        "#! ipython id=5ff70f667285496e9853f9ce5c69cac7\n",
        "x = np.array([[1., 2., 3.], [4., 5., 6.]])\n",
        "y = np.array([[6., 23.], [-1, 7], [8, 9]])\n",
        "x\n",
        "y\n",
        "x.dot(y)"
      ]
    },
    {
      "cell_type": "code",
      "execution_count": null,
      "metadata": {
        "id": "Km2EQSvgmXnr"
      },
      "outputs": [],
      "source": [
        "#! ipython id=4a27f60b6ad34c179277e3567556f6ad\n",
        "np.dot(x, y)"
      ]
    },
    {
      "cell_type": "code",
      "execution_count": null,
      "metadata": {
        "id": "rq6lWpMSmXnr"
      },
      "outputs": [],
      "source": [
        "#! ipython id=c604db1abc904450aecf44582381e04e\n",
        "x @ np.ones(3)"
      ]
    },
    {
      "cell_type": "code",
      "execution_count": null,
      "metadata": {
        "id": "qyBbOEGPmXnr"
      },
      "outputs": [],
      "source": [
        "#! ipython id=f6b72d7a1ad443768226bdf5a3aed368\n",
        "from numpy.linalg import inv, qr\n",
        "X = rng.standard_normal((5, 5))\n",
        "mat = X.T @ X\n",
        "inv(mat)\n",
        "mat @ inv(mat)"
      ]
    },
    {
      "cell_type": "code",
      "execution_count": null,
      "metadata": {
        "id": "oOE6I8xSmXnr"
      },
      "outputs": [],
      "source": [
        "#! ipython verbatim id=9060763bcc2b4f5e91a19bb8d8d5d887\n",
        "#! blockstart\n",
        "import random\n",
        "position = 0\n",
        "walk = [position]\n",
        "nsteps = 1000\n",
        "for _ in range(nsteps):\n",
        "    step = 1 if random.randint(0, 1) else -1\n",
        "    position += step\n",
        "    walk.append(position)\n",
        "#! blockend"
      ]
    },
    {
      "cell_type": "code",
      "execution_count": null,
      "metadata": {
        "id": "uzV4Ul7_mXnr"
      },
      "outputs": [],
      "source": [
        "#! ipython suppress id=99ca0670c2f946c6af46c9292c6180fa\n",
        "plt.figure()"
      ]
    },
    {
      "cell_type": "code",
      "execution_count": null,
      "metadata": {
        "id": "z-R7HBbAmXnr"
      },
      "outputs": [],
      "source": [
        "#! ipython id=373f266d65ca4e5c87d443fa4d1e706c\n",
        "#! figure,id=figure_random_walk1,title=\"Proste błądzenie losowe\",width=4in\n",
        "plt.plot(walk[:100])"
      ]
    },
    {
      "cell_type": "code",
      "execution_count": null,
      "metadata": {
        "id": "9d9caw4VmXnr"
      },
      "outputs": [],
      "source": [
        "#! ipython id=90295621e09c479590357865bd506c9a\n",
        "nsteps = 1000\n",
        "rng = np.random.default_rng(seed=12345)  # Nowy generator\n",
        "draws = rng.integers(0, 2, size=nsteps)\n",
        "steps = np.where(draws == 0, 1, -1)\n",
        "walk = steps.cumsum()"
      ]
    },
    {
      "cell_type": "code",
      "execution_count": null,
      "metadata": {
        "id": "Z-mFVG_ymXnr"
      },
      "outputs": [],
      "source": [
        "#! ipython id=0e9f7bf0c3bd41f985b1b0e297b3d4c7\n",
        "walk.min()\n",
        "walk.max()"
      ]
    },
    {
      "cell_type": "code",
      "execution_count": null,
      "metadata": {
        "id": "8rQ5fvFQmXnr"
      },
      "outputs": [],
      "source": [
        "#! ipython id=20c784b0675246eeb99329c5d7394101\n",
        "(np.abs(walk) >= 10).argmax()"
      ]
    },
    {
      "cell_type": "code",
      "execution_count": null,
      "metadata": {
        "id": "x78M9X0cmXnr"
      },
      "outputs": [],
      "source": [
        "#! ipython id=79f63c1dd0b34fe78ac34492f9bfb0a0\n",
        "nwalks = 5000\n",
        "nsteps = 1000\n",
        "draws = rng.integers(0, 2, size=(nwalks, nsteps)) # 0 lub 1\n",
        "steps = np.where(draws > 0, 1, -1)\n",
        "walks = steps.cumsum(axis=1)\n",
        "walks"
      ]
    },
    {
      "cell_type": "code",
      "execution_count": null,
      "metadata": {
        "id": "N6kRhbLFmXnr"
      },
      "outputs": [],
      "source": [
        "#! ipython id=351f44c55f494a9ab09e273bbfc258f5\n",
        "walks.max()\n",
        "walks.min()"
      ]
    },
    {
      "cell_type": "code",
      "execution_count": null,
      "metadata": {
        "id": "NiTR1NIqmXnr"
      },
      "outputs": [],
      "source": [
        "#! ipython id=319266ed7c2c4e749b488168eef3f1c6\n",
        "hits30 = (np.abs(walks) >= 30).any(axis=1)\n",
        "hits30\n",
        "hits30.sum() # Number that hit 30 or -30"
      ]
    },
    {
      "cell_type": "code",
      "execution_count": null,
      "metadata": {
        "id": "NoPoouqPmXns"
      },
      "outputs": [],
      "source": [
        "#! ipython id=50fb5813d360469bb339b7e6de32eae7\n",
        "crossing_times = (np.abs(walks[hits30]) >= 30).argmax(axis=1)\n",
        "crossing_times"
      ]
    },
    {
      "cell_type": "code",
      "execution_count": null,
      "metadata": {
        "id": "S8HpMZTvmXns"
      },
      "outputs": [],
      "source": [
        "#! ipython id=c529b3e238a641c8a5beae0755683656\n",
        "crossing_times.mean()"
      ]
    },
    {
      "cell_type": "code",
      "execution_count": null,
      "metadata": {
        "id": "J7hAcTuqmXns"
      },
      "outputs": [],
      "source": [
        "#! ipython id=9cbb0b66c9e0461ab0149703bfbe8834\n",
        "draws = 0.25 * rng.standard_normal((nwalks, nsteps))"
      ]
    },
    {
      "cell_type": "code",
      "execution_count": null,
      "metadata": {
        "id": "HjY83OC5mXns"
      },
      "outputs": [],
      "source": [
        "#! ipython suppress id=9b38f187f59e46c3bc91061ee6b7f998\n",
        "%popd"
      ]
    }
  ],
  "metadata": {
    "kernelspec": {
      "display_name": "Python 3 (ipykernel)",
      "language": "python",
      "name": "python3"
    },
    "language_info": {
      "codemirror_mode": {
        "name": "ipython",
        "version": 3
      },
      "file_extension": ".py",
      "mimetype": "text/x-python",
      "name": "python",
      "nbconvert_exporter": "python",
      "pygments_lexer": "ipython3",
      "version": "3.11.0"
    },
    "colab": {
      "provenance": [],
      "toc_visible": true
    }
  },
  "nbformat": 4,
  "nbformat_minor": 0
}